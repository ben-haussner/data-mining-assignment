{
 "cells": [
  {
   "cell_type": "markdown",
   "metadata": {},
   "source": [
    "![title](./media/walmart_christmas.jpg)"
   ]
  },
  {
   "cell_type": "markdown",
   "metadata": {},
   "source": [
    "# Walmart: Weihnachtsgeschäft Just in Time"
   ]
  },
  {
   "cell_type": "markdown",
   "metadata": {},
   "source": [
    "Modulprojekt für die Vorlesung __Data-Mining-Process__\n",
    "\n",
    "_Dozent:_ Prof. Dr. Johannes Maucher  \n",
    "_Studenten:_ Stephanie Flohr, Benedikt Haußner, Robert Masendorf"
   ]
  },
  {
   "cell_type": "markdown",
   "metadata": {},
   "source": [
    "Für unser Projekt analysiseren wir Verkaufsdaten der amerikanischen Supermarktkette _Walmart_."
   ]
  },
  {
   "cell_type": "markdown",
   "metadata": {},
   "source": [
    "**ToDo:** Vorgehensmodell CRISP-DM kurz erläutern (Grafik)"
   ]
  },
  {
   "cell_type": "markdown",
   "metadata": {},
   "source": [
    "## BUSINESS UNDERSTANDING: Ursprung und grober Inhalt des Datensatzes"
   ]
  },
  {
   "cell_type": "markdown",
   "metadata": {},
   "source": [
    "### Was ist Walmart?\n",
    "Walmart ist der wertvollste Einzelhändler der Welt mit einer Marktkapitalisierung von 246,2 Mrd. US-Dollar. Weitere Fakten:\n",
    "+ Anzahl Filialen weltweit: ca 11.600\n",
    "+ Jahresumsatz 2017: 50,3 Mrd. US-Dollar\n",
    "+ Gewinn 2017: 9,9 Mrd. US-Dollar\n",
    "+ Anzahl der Mitarbeiter weltweit: ca 2 Millionen\n",
    "\n",
    "Quelle: [Wikipedia](https://de.wikipedia.org/wiki/Walmart)\n",
    "\n",
    "### _Just in Time_ bei Walmart\n",
    "[Wikipedia](https://de.wikipedia.org/wiki/Walmart)\n",
    "\n",
    "Walmarts Strategie beruht auf ein Konzept aus geringen Preisen und gewinnmargen begleitet durch geringe Lohn- und Gehaltzahlungen trotz hohem Profit. Ein wichtiger Baustein in diesem Konzept ist auch die Produktion nach Just in Time. Walmart unterhält keine Warenlager, sondern entwickelte eine ausgefeilte Logistik, durch die die Produkte direkt aus der Produktion zu den Logistzentren geliefert werden. Dadurch sind keine Zwischenlager mehr notwendig. Um dieses Konzept weltweit umsetzen zu können, beschäftigt Walmart 2000 Analysten. \n",
    "\n",
    "### Wettbewerb auf Kaggle\n",
    "[Walmart - Nähere Informationen zur Competition](https://www.kaggle.com/c/walmart-recruiting-store-sales-forecasting).\n",
    "\n",
    "Walmart stellt den genutzen Datensatz auf Kaggle für einen Bewerberwettbewerb zur Verfügung. Mit dem Wettbewerb möchte Waltmart die besten Kandidaten für zukünftige Mitarbeiter herausfiltern. Den Bewerbern gibt diese Competition die Möglichkeit, ihr Können vorzuzeigen. \n",
    "\n",
    "Der Datensatz beinhaltet historische Verkaufdaten von 45 Walmart Märkten an unterschiedlichen Standorten. Diese sind widerum in sich in unterschiedliche Abteilungen unterteilt. Es gilt je Bereich eine Analyse der Salesdaten zu entwickeln und damit vorhersagen, welcher Bereich am effektivsten arbeitet.\n",
    "\n",
    "Dieses Assignment hat nicht das Ziel, an dem Wettbewerb mitteilzunehmen. Wir möchten uns als Ziel setzen, aus dem Daten zum Vorweihnachtsgescheftsmonaten aus 2010 das für 2011 vorhersagen zu können.\n",
    "\n",
    "\n",
    "### Ziel unserer Arbeit\n",
    "__TODO:__ Ausführlicher Beschreiben Es ist unser Ziel, aus Daten der Jahre 2010 und 2011 eine Prognose für die Verkaufszahlen des Jahres 2011 zu ermitteln.\n",
    "+ schaut mal ein Kapitel drüber, ich glaube, dass habe ich schon fertig"
   ]
  },
  {
   "cell_type": "markdown",
   "metadata": {},
   "source": [
    "## DATA UNDERSTANDING: Was wissen wir und was wollen wir wissen?"
   ]
  },
  {
   "cell_type": "markdown",
   "metadata": {},
   "source": [
    "In der zweiten Phase des CRISP-VGMs betrachten wir die uns zur Verfügung stehenden Daten.  \n",
    "Dabei beantworten wir folgende Fragen:\n",
    "+ Was sind die Quellen unserer Daten?\n",
    "+ Wie sind die uns zur Verfügung stehenden Dateien aufgebaut?\n",
    "+ Welche Wertbereiche umfassen die Daten und welche Verteilungen sind zu erkennen?\n",
    "    + Gibt es dabei Dinge, die wir so nicht erwartet hätten?\n",
    "+ Genügt die Qualität der Daten, um in die Phase der Data Preparation übertreten zu können?"
   ]
  },
  {
   "cell_type": "markdown",
   "metadata": {},
   "source": [
    "### Initiale Datensammlung"
   ]
  },
  {
   "cell_type": "code",
   "execution_count": 107,
   "metadata": {
    "scrolled": true
   },
   "outputs": [],
   "source": [
    "import pandas as pd\n",
    "import numpy as np\n",
    "from matplotlib import pyplot as plt\n",
    "import seaborn as sns\n",
    "from datetime import date\n",
    "from sklearn.preprocessing import StandardScaler\n",
    "from sklearn.model_selection import train_test_split\n",
    "\n",
    "from keras import layers\n",
    "from keras.models import Sequential\n",
    "#from keras.layers.wrappers import TimeDistributed\n",
    "from keras.layers.core import Dense, Activation, Dropout\n",
    "from keras.optimizers import RMSprop"
   ]
  },
  {
   "cell_type": "markdown",
   "metadata": {},
   "source": [
    "Das von Walmart zur Verfügung gestellte Datenpaket beinhaltet drei für uns relevante csv-Dateien:\n",
    "+ ```train.csv```\n",
    "+ ```features.csv```\n",
    "+ ```stores.csv```\n",
    "\n",
    "Die beiden Dateien ```test.csv``` und ```sampleSubmission.csv``` sind nur für den Wettbewerb interessant und werden daher hier nicht behandelt.  \n",
    "Weitere Informationen zu den einzelen Datasets: [Walmart - Data](https://www.kaggle.com/c/walmart-recruiting-store-sales-forecasting/data)"
   ]
  },
  {
   "cell_type": "markdown",
   "metadata": {},
   "source": [
    "### Beschreibung der Daten"
   ]
  },
  {
   "cell_type": "markdown",
   "metadata": {},
   "source": [
    "Im Folgenden werden die Attribute der einzelnen csv-Dateien kurz dargestellt."
   ]
  },
  {
   "cell_type": "markdown",
   "metadata": {},
   "source": [
    "#### train.csv"
   ]
  },
  {
   "cell_type": "code",
   "execution_count": 2,
   "metadata": {
    "scrolled": false
   },
   "outputs": [
    {
     "data": {
      "text/html": [
       "<div>\n",
       "<style scoped>\n",
       "    .dataframe tbody tr th:only-of-type {\n",
       "        vertical-align: middle;\n",
       "    }\n",
       "\n",
       "    .dataframe tbody tr th {\n",
       "        vertical-align: top;\n",
       "    }\n",
       "\n",
       "    .dataframe thead th {\n",
       "        text-align: right;\n",
       "    }\n",
       "</style>\n",
       "<table border=\"1\" class=\"dataframe\">\n",
       "  <thead>\n",
       "    <tr style=\"text-align: right;\">\n",
       "      <th></th>\n",
       "      <th>Store</th>\n",
       "      <th>Dept</th>\n",
       "      <th>Date</th>\n",
       "      <th>Weekly_Sales</th>\n",
       "      <th>IsHoliday</th>\n",
       "    </tr>\n",
       "  </thead>\n",
       "  <tbody>\n",
       "    <tr>\n",
       "      <th>0</th>\n",
       "      <td>1</td>\n",
       "      <td>1</td>\n",
       "      <td>2010-02-05</td>\n",
       "      <td>24924.50</td>\n",
       "      <td>False</td>\n",
       "    </tr>\n",
       "    <tr>\n",
       "      <th>1</th>\n",
       "      <td>1</td>\n",
       "      <td>1</td>\n",
       "      <td>2010-02-12</td>\n",
       "      <td>46039.49</td>\n",
       "      <td>True</td>\n",
       "    </tr>\n",
       "    <tr>\n",
       "      <th>2</th>\n",
       "      <td>1</td>\n",
       "      <td>1</td>\n",
       "      <td>2010-02-19</td>\n",
       "      <td>41595.55</td>\n",
       "      <td>False</td>\n",
       "    </tr>\n",
       "    <tr>\n",
       "      <th>3</th>\n",
       "      <td>1</td>\n",
       "      <td>1</td>\n",
       "      <td>2010-02-26</td>\n",
       "      <td>19403.54</td>\n",
       "      <td>False</td>\n",
       "    </tr>\n",
       "    <tr>\n",
       "      <th>4</th>\n",
       "      <td>1</td>\n",
       "      <td>1</td>\n",
       "      <td>2010-03-05</td>\n",
       "      <td>21827.90</td>\n",
       "      <td>False</td>\n",
       "    </tr>\n",
       "  </tbody>\n",
       "</table>\n",
       "</div>"
      ],
      "text/plain": [
       "   Store  Dept        Date  Weekly_Sales  IsHoliday\n",
       "0      1     1  2010-02-05      24924.50      False\n",
       "1      1     1  2010-02-12      46039.49       True\n",
       "2      1     1  2010-02-19      41595.55      False\n",
       "3      1     1  2010-02-26      19403.54      False\n",
       "4      1     1  2010-03-05      21827.90      False"
      ]
     },
     "metadata": {},
     "output_type": "display_data"
    }
   ],
   "source": [
    "data_df = pd.read_csv('./data/train.csv')\n",
    "display(data_df.head())"
   ]
  },
  {
   "cell_type": "markdown",
   "metadata": {},
   "source": [
    "Die Attribute ```Store```, ```Dept```und ```Date``` sind zusammen der Primärschlüssel der Tabelle."
   ]
  },
  {
   "cell_type": "markdown",
   "metadata": {},
   "source": [
    "+ ```Store```: eindeutige Filial-ID\n",
    "+ ```Dept```: pro Filiale eindeutige Abteilungs-ID\n",
    "+ ```Date```: Enddatum der Woche, für die die Verkäufe summiert wurden\n",
    "+ ```Weekly_Sales```: Wochenumsatz pro Abteilung und Filiale\n",
    "+ ```IsHoliday```: Feiertagsanzeiger\n",
    "    + ```True```, falls in der vergangenen Woche ein Feiertag lag"
   ]
  },
  {
   "cell_type": "markdown",
   "metadata": {},
   "source": [
    "#### features.csv"
   ]
  },
  {
   "cell_type": "code",
   "execution_count": 3,
   "metadata": {
    "scrolled": true
   },
   "outputs": [
    {
     "data": {
      "text/html": [
       "<div>\n",
       "<style scoped>\n",
       "    .dataframe tbody tr th:only-of-type {\n",
       "        vertical-align: middle;\n",
       "    }\n",
       "\n",
       "    .dataframe tbody tr th {\n",
       "        vertical-align: top;\n",
       "    }\n",
       "\n",
       "    .dataframe thead th {\n",
       "        text-align: right;\n",
       "    }\n",
       "</style>\n",
       "<table border=\"1\" class=\"dataframe\">\n",
       "  <thead>\n",
       "    <tr style=\"text-align: right;\">\n",
       "      <th></th>\n",
       "      <th>Store</th>\n",
       "      <th>Date</th>\n",
       "      <th>Temperature</th>\n",
       "      <th>Fuel_Price</th>\n",
       "      <th>MarkDown1</th>\n",
       "      <th>MarkDown2</th>\n",
       "      <th>MarkDown3</th>\n",
       "      <th>MarkDown4</th>\n",
       "      <th>MarkDown5</th>\n",
       "      <th>CPI</th>\n",
       "      <th>Unemployment</th>\n",
       "      <th>IsHoliday</th>\n",
       "    </tr>\n",
       "  </thead>\n",
       "  <tbody>\n",
       "    <tr>\n",
       "      <th>0</th>\n",
       "      <td>1</td>\n",
       "      <td>2010-02-05</td>\n",
       "      <td>42.31</td>\n",
       "      <td>2.572</td>\n",
       "      <td>NaN</td>\n",
       "      <td>NaN</td>\n",
       "      <td>NaN</td>\n",
       "      <td>NaN</td>\n",
       "      <td>NaN</td>\n",
       "      <td>211.096358</td>\n",
       "      <td>8.106</td>\n",
       "      <td>False</td>\n",
       "    </tr>\n",
       "    <tr>\n",
       "      <th>1</th>\n",
       "      <td>1</td>\n",
       "      <td>2010-02-12</td>\n",
       "      <td>38.51</td>\n",
       "      <td>2.548</td>\n",
       "      <td>NaN</td>\n",
       "      <td>NaN</td>\n",
       "      <td>NaN</td>\n",
       "      <td>NaN</td>\n",
       "      <td>NaN</td>\n",
       "      <td>211.242170</td>\n",
       "      <td>8.106</td>\n",
       "      <td>True</td>\n",
       "    </tr>\n",
       "    <tr>\n",
       "      <th>2</th>\n",
       "      <td>1</td>\n",
       "      <td>2010-02-19</td>\n",
       "      <td>39.93</td>\n",
       "      <td>2.514</td>\n",
       "      <td>NaN</td>\n",
       "      <td>NaN</td>\n",
       "      <td>NaN</td>\n",
       "      <td>NaN</td>\n",
       "      <td>NaN</td>\n",
       "      <td>211.289143</td>\n",
       "      <td>8.106</td>\n",
       "      <td>False</td>\n",
       "    </tr>\n",
       "    <tr>\n",
       "      <th>3</th>\n",
       "      <td>1</td>\n",
       "      <td>2010-02-26</td>\n",
       "      <td>46.63</td>\n",
       "      <td>2.561</td>\n",
       "      <td>NaN</td>\n",
       "      <td>NaN</td>\n",
       "      <td>NaN</td>\n",
       "      <td>NaN</td>\n",
       "      <td>NaN</td>\n",
       "      <td>211.319643</td>\n",
       "      <td>8.106</td>\n",
       "      <td>False</td>\n",
       "    </tr>\n",
       "    <tr>\n",
       "      <th>4</th>\n",
       "      <td>1</td>\n",
       "      <td>2010-03-05</td>\n",
       "      <td>46.50</td>\n",
       "      <td>2.625</td>\n",
       "      <td>NaN</td>\n",
       "      <td>NaN</td>\n",
       "      <td>NaN</td>\n",
       "      <td>NaN</td>\n",
       "      <td>NaN</td>\n",
       "      <td>211.350143</td>\n",
       "      <td>8.106</td>\n",
       "      <td>False</td>\n",
       "    </tr>\n",
       "  </tbody>\n",
       "</table>\n",
       "</div>"
      ],
      "text/plain": [
       "   Store        Date  Temperature  Fuel_Price  MarkDown1  MarkDown2  \\\n",
       "0      1  2010-02-05        42.31       2.572        NaN        NaN   \n",
       "1      1  2010-02-12        38.51       2.548        NaN        NaN   \n",
       "2      1  2010-02-19        39.93       2.514        NaN        NaN   \n",
       "3      1  2010-02-26        46.63       2.561        NaN        NaN   \n",
       "4      1  2010-03-05        46.50       2.625        NaN        NaN   \n",
       "\n",
       "   MarkDown3  MarkDown4  MarkDown5         CPI  Unemployment  IsHoliday  \n",
       "0        NaN        NaN        NaN  211.096358         8.106      False  \n",
       "1        NaN        NaN        NaN  211.242170         8.106       True  \n",
       "2        NaN        NaN        NaN  211.289143         8.106      False  \n",
       "3        NaN        NaN        NaN  211.319643         8.106      False  \n",
       "4        NaN        NaN        NaN  211.350143         8.106      False  "
      ]
     },
     "metadata": {},
     "output_type": "display_data"
    }
   ],
   "source": [
    "features_df = pd.read_csv('./data/features.csv')\n",
    "display(features_df.head())"
   ]
  },
  {
   "cell_type": "markdown",
   "metadata": {},
   "source": [
    "Die Attribute ```Store``` und ```Date``` sind zusammen der Primärschlüssel der Tabelle."
   ]
  },
  {
   "cell_type": "markdown",
   "metadata": {},
   "source": [
    "+ ```Store```: eindeutige Filial-ID\n",
    "+ ```Date```: Enddatum der Woche\n",
    "+ ```Temperature```: gemittelte Temperatur der Woche\n",
    "+ ```Fuel_Price```: gemittelter Benzinpreis der Woche\n",
    "+ ```MarkDown 1-5```: Metriken, die Auskunft über spezielle Werbeangebote der Woche geben\n",
    "+ ```CPI```: Verbraucherpreisindex der Woche\n",
    "+ ```Unemployment```: Arbeitslosenquote der Woche\n",
    "+ ```IsHoliday```: Feiertagsanzeiger\n",
    "    + ```True```, falls in der vergangenen Woche ein Feiertag lag\n",
    "    + Duplikat des Attributs selbigen Namens in der Datei ```train.csv```"
   ]
  },
  {
   "cell_type": "markdown",
   "metadata": {},
   "source": [
    "#### stores.csv"
   ]
  },
  {
   "cell_type": "code",
   "execution_count": 4,
   "metadata": {},
   "outputs": [
    {
     "data": {
      "text/html": [
       "<div>\n",
       "<style scoped>\n",
       "    .dataframe tbody tr th:only-of-type {\n",
       "        vertical-align: middle;\n",
       "    }\n",
       "\n",
       "    .dataframe tbody tr th {\n",
       "        vertical-align: top;\n",
       "    }\n",
       "\n",
       "    .dataframe thead th {\n",
       "        text-align: right;\n",
       "    }\n",
       "</style>\n",
       "<table border=\"1\" class=\"dataframe\">\n",
       "  <thead>\n",
       "    <tr style=\"text-align: right;\">\n",
       "      <th></th>\n",
       "      <th>Store</th>\n",
       "      <th>Type</th>\n",
       "      <th>Size</th>\n",
       "    </tr>\n",
       "  </thead>\n",
       "  <tbody>\n",
       "    <tr>\n",
       "      <th>0</th>\n",
       "      <td>1</td>\n",
       "      <td>A</td>\n",
       "      <td>151315</td>\n",
       "    </tr>\n",
       "    <tr>\n",
       "      <th>1</th>\n",
       "      <td>2</td>\n",
       "      <td>A</td>\n",
       "      <td>202307</td>\n",
       "    </tr>\n",
       "    <tr>\n",
       "      <th>2</th>\n",
       "      <td>3</td>\n",
       "      <td>B</td>\n",
       "      <td>37392</td>\n",
       "    </tr>\n",
       "    <tr>\n",
       "      <th>3</th>\n",
       "      <td>4</td>\n",
       "      <td>A</td>\n",
       "      <td>205863</td>\n",
       "    </tr>\n",
       "    <tr>\n",
       "      <th>4</th>\n",
       "      <td>5</td>\n",
       "      <td>B</td>\n",
       "      <td>34875</td>\n",
       "    </tr>\n",
       "  </tbody>\n",
       "</table>\n",
       "</div>"
      ],
      "text/plain": [
       "   Store Type    Size\n",
       "0      1    A  151315\n",
       "1      2    A  202307\n",
       "2      3    B   37392\n",
       "3      4    A  205863\n",
       "4      5    B   34875"
      ]
     },
     "metadata": {},
     "output_type": "display_data"
    }
   ],
   "source": [
    "stores_df = pd.read_csv('./data/stores.csv')\n",
    "display(stores_df.head())"
   ]
  },
  {
   "cell_type": "markdown",
   "metadata": {},
   "source": [
    "+ ```Store```: eindeutige Filial-ID\n",
    "+ ```Type```: Typ der Filiale (wobei die drei Klassen ```A```, ```B```und ```C``` vorhanden sind)\n",
    "+ ```Size```: Größe der Filiale\n",
    "    + Nachdem die Daten anonymisiert sind, sind die Angaben nicht in m<sup>2</sup> oder ft<sup>2</sup> , sondern abstrahiert zu verstehen."
   ]
  },
  {
   "cell_type": "markdown",
   "metadata": {},
   "source": [
    "### Datenexploration"
   ]
  },
  {
   "cell_type": "markdown",
   "metadata": {},
   "source": [
    "Im Folgenden sollen die einzelnen Datensätze getrennt voneinander untersucht werden.  \n",
    "Von besonderem Interesse sind Wertebereiche, Extremwerte und fehlende Werte."
   ]
  },
  {
   "cell_type": "markdown",
   "metadata": {},
   "source": [
    "#### Train - Datensatz"
   ]
  },
  {
   "cell_type": "markdown",
   "metadata": {},
   "source": [
    "Der Datensatz ```train.csv``` enthält die Attribute ```Store```, ```Dept```, ```Date```, ```Weekly_Sales``` und ```IsHoliday```.\n",
    "\n",
    "Im Folgenden untersuchen wir die einzelnen Attribute, wobei wir uns auf einzelne, interessante Fragestellungen beschränken, anstatt komplette univariate Analysen auszugeben.  \n",
    "\n",
    "Das Attribut ```IsHoliday``` wird hier auch von der Anzahl der Abteilungen beeinflusst.  \n",
    "Nachdem das Attribut auch im Datensatz ```features.csv``` vorkommt, wird es dort betrachtet."
   ]
  },
  {
   "cell_type": "markdown",
   "metadata": {},
   "source": [
    "##### Store"
   ]
  },
  {
   "cell_type": "markdown",
   "metadata": {
    "variables": {
     "data_df.Store.nunique()": "45"
    }
   },
   "source": [
    "Der Datensatz umfasst __{{data_df.Store.nunique()}} einzelne Stores__."
   ]
  },
  {
   "cell_type": "markdown",
   "metadata": {},
   "source": [
    "##### Dept"
   ]
  },
  {
   "cell_type": "markdown",
   "metadata": {
    "variables": {
     "data_df.Dept.max()": "99",
     "data_df.Dept.min()": "1",
     "data_df.Dept.nunique()": "81"
    }
   },
   "source": [
    "Es gibt insgesamt __{{data_df.Dept.nunique()}} verschiedene Abteilungen__.  \n",
    "Die IDs der Abteilungen reichen dabei von __{{data_df.Dept.min()}}__ bis __{{data_df.Dept.max()}}__."
   ]
  },
  {
   "cell_type": "markdown",
   "metadata": {},
   "source": [
    "Fraglich ist, ob jeder Store auch tatsächlich jede Abteilung beherbergt:"
   ]
  },
  {
   "cell_type": "markdown",
   "metadata": {},
   "source": [
    "__TODO__: Wie viele Abteilungen und Departments gibts es? Macht es Sinn, die Darstellung auf eine \"Top 10\" zu beschränken?"
   ]
  },
  {
   "cell_type": "code",
   "execution_count": 5,
   "metadata": {},
   "outputs": [
    {
     "data": {
      "image/png": "[encoded data removed]",
      "text/plain": [
       "<matplotlib.figure.Figure at 0x1a24386a20>"
      ]
     },
     "metadata": {},
     "output_type": "display_data"
    }
   ],
   "source": [
    "data_df.groupby('Store')['Dept'].nunique().plot(figsize=(20, 5), kind='bar', rot=0).set_ylabel('Anzahl an Abteilungen')\n",
    "plt.axhline(data_df.Dept.nunique(), color='red')\n",
    "plt.ylim(60, data_df.Dept.nunique() + 5)\n",
    "plt.show()"
   ]
  },
  {
   "cell_type": "markdown",
   "metadata": {
    "variables": {
     "data_df.groupby('Store')['Dept'].nunique().max()": "79",
     "data_df.groupby('Store')['Dept'].nunique().min()": "61"
    }
   },
   "source": [
    "Wir können beobachten, dass es nicht einen einzigen Store gibt, der alle Abteilungen unter einem Dach vereint.  \n",
    "__Der kleinste Store umfasst dabei {{data_df.groupby('Store')['Dept'].nunique().min()}} Abteilungen, der größte {{data_df.groupby('Store')['Dept'].nunique().max()}} Abteilungen__."
   ]
  },
  {
   "cell_type": "markdown",
   "metadata": {},
   "source": [
    "Weiterhin ist von Interesse, ob es Abteilungen gibt, die in jedem Store vorhanden sind oder eben nicht:"
   ]
  },
  {
   "cell_type": "code",
   "execution_count": 6,
   "metadata": {
    "scrolled": false
   },
   "outputs": [
    {
     "data": {
      "image/png": "[encoded data removed]",
      "text/plain": [
       "<matplotlib.figure.Figure at 0x1a24386710>"
      ]
     },
     "metadata": {},
     "output_type": "display_data"
    }
   ],
   "source": [
    "dept_in_stores_series = data_df.groupby('Dept')['Store'].nunique()\n",
    "dept_in_stores_series.plot(figsize=(20, 5), kind='bar', rot=0).set_ylabel('Anzahl an Abteilungen')\n",
    "plt.show()"
   ]
  },
  {
   "cell_type": "markdown",
   "metadata": {
    "variables": {
     "dept_in_stores_series.value_counts()[45]": "54",
     "dept_in_stores_series[dept_in_stores_series==1].index.values[0]": "65",
     "int(dept_in_stores_series.value_counts(normalize=True)[45]*100)": "66"
    }
   },
   "source": [
    "Insgesamt gibt es __{{dept_in_stores_series.value_counts()[45]}} Abteilungen, die in jedem Store vertreten sind__, das sind ca {{int(dept_in_stores_series.value_counts(normalize=True)[45]*100)}} Prozent aller Abteilungen.  \n",
    "__Abteilung {{dept_in_stores_series[dept_in_stores_series==1].index.values[0]}} gibt es nur in einem einzigen Store__. Sie ist dabei die einzige Abteilung, die in nur einem Store existiert."
   ]
  },
  {
   "cell_type": "markdown",
   "metadata": {},
   "source": [
    "##### Date"
   ]
  },
  {
   "cell_type": "markdown",
   "metadata": {
    "variables": {
     "data_df.Date.max()": "2012-10-26",
     "data_df.Date.min()": "2010-02-05",
     "data_df.Date.nunique()": "143"
    }
   },
   "source": [
    "Der älteste Messwert ist vom ```{{data_df.Date.min()}}```, der jüngste Messwert ist vom ```{{data_df.Date.max()}}```.  \n",
    "Insgesamt wurde an {{data_df.Date.nunique()}} Tagen gemessen."
   ]
  },
  {
   "cell_type": "markdown",
   "metadata": {},
   "source": [
    "##### Weekly Sales"
   ]
  },
  {
   "cell_type": "code",
   "execution_count": 7,
   "metadata": {},
   "outputs": [
    {
     "name": "stdout",
     "output_type": "stream",
     "text": [
      "Anzahl Messpunkte:\t421570\n",
      "Kleinster Betrag:\t-4988.94\n",
      "Median:\t\t\t7612.03\n",
      "Durchschnitt:\t\t15981.26\n",
      "Größter Betrag:\t\t693099.36\n"
     ]
    },
    {
     "data": {
      "image/png": "[encoded data removed]",
      "text/plain": [
       "<matplotlib.figure.Figure at 0x1a25663080>"
      ]
     },
     "metadata": {},
     "output_type": "display_data"
    }
   ],
   "source": [
    "print(\"Anzahl Messpunkte:\\t{}\".format(data_df.Weekly_Sales.count()))\n",
    "print(\"Kleinster Betrag:\\t{}\".format(data_df.Weekly_Sales.min()))\n",
    "print(\"Median:\\t\\t\\t{}\".format(data_df.Weekly_Sales.median()))\n",
    "print(\"Durchschnitt:\\t\\t{0:.2f}\".format(data_df.Weekly_Sales.mean()))\n",
    "print(\"Größter Betrag:\\t\\t{}\".format(data_df.Weekly_Sales.max()))\n",
    "\n",
    "pd.DataFrame(data_df.Weekly_Sales).boxplot(figsize=(20,1), vert=False)\n",
    "plt.show()"
   ]
  },
  {
   "cell_type": "markdown",
   "metadata": {},
   "source": [
    "__Interessant:__ es sind auch negative Werte für den Umsatz enthalten und das nicht zu knapp:  \n",
    "Dieses Verhalten kann in  1285 Einzelmessungen beobachtet werden, es tritt in allen Stores und Wochen auf.  \n",
    "Wie es dazu kommt wird [hier](https://www.kaggle.com/c/walmart-recruiting-store-sales-forecasting/discussion/7152) erklärt, es wurden in der Periode Waren für mehr Wert retourniert als gekauft."
   ]
  },
  {
   "cell_type": "markdown",
   "metadata": {},
   "source": [
    "#### Features - Datensatz"
   ]
  },
  {
   "cell_type": "markdown",
   "metadata": {},
   "source": [
    "Der Datensatz ```features.csv``` enthält die Attribute ```Store```, ```Date```, ```Temperature```, ```Fuel_Price```, ```Markdown 1-5```, ```CPI```, ```Unemployment``` und ```IsHoliday```."
   ]
  },
  {
   "cell_type": "markdown",
   "metadata": {},
   "source": [
    "##### Store und Date"
   ]
  },
  {
   "cell_type": "markdown",
   "metadata": {},
   "source": [
    "Nachdem die Datensätze ```train.csv``` und ```features.csv``` in einem späteren Schritt über die Attribute ```Store``` und ```Date``` gejoined werden sollen, wird hier überprüft, ob ein Inner Join ohne Verluste möglich ist:"
   ]
  },
  {
   "cell_type": "code",
   "execution_count": 8,
   "metadata": {},
   "outputs": [
    {
     "name": "stdout",
     "output_type": "stream",
     "text": [
      "Es wurden für 0 Zeilen keine Join-Partner gefunden.\n"
     ]
    }
   ],
   "source": [
    "data_join_df = data_df[['Store', 'Date']]\n",
    "\n",
    "features_join_df = features_df[['Store', 'Date']]\n",
    "features_join_df = features_join_df[features_join_df.Date <= data_join_df.Date.max()]\n",
    "\n",
    "cnt_rows_without_partner = len(pd.concat([data_join_df, features_join_df]).drop_duplicates(keep=False))\n",
    "print(\"Es wurden für {} Zeilen keine Join-Partner gefunden.\".format(cnt_rows_without_partner))"
   ]
  },
  {
   "cell_type": "markdown",
   "metadata": {},
   "source": [
    "Ein Join ist also ohne Verluste machbar."
   ]
  },
  {
   "cell_type": "markdown",
   "metadata": {},
   "source": [
    "##### Temperature"
   ]
  },
  {
   "cell_type": "code",
   "execution_count": 9,
   "metadata": {},
   "outputs": [
    {
     "name": "stdout",
     "output_type": "stream",
     "text": [
      "Die niedrigste gemessene Temperatur:\t-7.29\n",
      "Die höchste gemessene Temperatur:\t101.95\n",
      "Median der Temperatur:\t\t\t60.71\n"
     ]
    }
   ],
   "source": [
    "print(\"Die niedrigste gemessene Temperatur:\\t{}\".format(features_df.Temperature.min()))\n",
    "print(\"Die höchste gemessene Temperatur:\\t{}\".format(features_df.Temperature.max()))\n",
    "print(\"Median der Temperatur:\\t\\t\\t{}\".format(features_df.Temperature.median()))"
   ]
  },
  {
   "cell_type": "markdown",
   "metadata": {},
   "source": [
    "Nachdem Nachrichten über gekochte Amerikaner auch uns in Europa erreicht hätten, gehen wir davon aus, dass die Temperatur in Fahrenheit vorliegt.  \n",
    "In einem ersten Schritt wollen wir diese umrechnen:"
   ]
  },
  {
   "cell_type": "code",
   "execution_count": 10,
   "metadata": {},
   "outputs": [],
   "source": [
    "def fahr_to_celsius(temp_fahr):\n",
    "    return round((temp_fahr - 32) * 5 / 9, 2)\n",
    "\n",
    "features_df['Temperature_F'] = features_df.Temperature\n",
    "features_df['Temperature_C'] = features_df.Temperature.apply(lambda tmp_fahr: fahr_to_celsius(tmp_fahr))\n",
    "features_df.drop(columns=['Temperature'], inplace=True)"
   ]
  },
  {
   "cell_type": "code",
   "execution_count": 11,
   "metadata": {},
   "outputs": [
    {
     "name": "stdout",
     "output_type": "stream",
     "text": [
      "Die niedrigste gemessene Temperatur:\t-21.83\n",
      "Die höchste gemessene Temperatur:\t38.86\n",
      "Median der Temperatur:\t\t\t15.95\n"
     ]
    }
   ],
   "source": [
    "print(\"Die niedrigste gemessene Temperatur:\\t{}\".format(features_df.Temperature_C.min()))\n",
    "print(\"Die höchste gemessene Temperatur:\\t{}\".format(features_df.Temperature_C.max()))\n",
    "print(\"Median der Temperatur:\\t\\t\\t{}\".format(features_df.Temperature_C.median()))"
   ]
  },
  {
   "cell_type": "markdown",
   "metadata": {},
   "source": [
    "Diese Ergebnisse ergeben durchaus mehr Sinn aus der europäischen Perspektive."
   ]
  },
  {
   "cell_type": "code",
   "execution_count": 12,
   "metadata": {},
   "outputs": [
    {
     "data": {
      "image/png": "[encoded data removed]",
      "text/plain": [
       "<matplotlib.figure.Figure at 0x1a27933828>"
      ]
     },
     "metadata": {},
     "output_type": "display_data"
    }
   ],
   "source": [
    "list_of_stores = features_df[features_df.Temperature_C == features_df.Temperature_C.min()].Store.tolist() + features_df[features_df.Temperature_C == features_df.Temperature_C.max()].Store.tolist()\n",
    "temperature_store_df = pd.DataFrame()\n",
    "\n",
    "for store in list_of_stores:\n",
    "    temperature_store_df[store] = features_df.Temperature_C[features_df.Store == store].tolist()\n",
    "    temperature_store_df.reset_index(drop=True, inplace=True)\n",
    "    \n",
    "temperature_store_df.boxplot(figsize=(20,5), vert=False)\n",
    "plt.xlabel(\"Temperatur\")\n",
    "plt.ylabel(\"Store\")\n",
    "plt.show()"
   ]
  },
  {
   "cell_type": "markdown",
   "metadata": {},
   "source": [
    "##### Fuel_Price"
   ]
  },
  {
   "cell_type": "code",
   "execution_count": 13,
   "metadata": {},
   "outputs": [
    {
     "name": "stdout",
     "output_type": "stream",
     "text": [
      "Der niedrigste Preis pro Gallone Sprit:\t\t2.472\n",
      "Der höchste Preis pro Gallone Sprit:\t\t4.468\n",
      "Median des Spritpreises pro Gallone:\t\t3.513\n"
     ]
    },
    {
     "data": {
      "image/png": "[encoded data removed]",
      "text/plain": [
       "<matplotlib.figure.Figure at 0x1a2566b2e8>"
      ]
     },
     "metadata": {},
     "output_type": "display_data"
    }
   ],
   "source": [
    "print(\"Der niedrigste Preis pro Gallone Sprit:\\t\\t{}\".format(features_df.Fuel_Price.min()))\n",
    "print(\"Der höchste Preis pro Gallone Sprit:\\t\\t{}\".format(features_df.Fuel_Price.max()))\n",
    "print(\"Median des Spritpreises pro Gallone:\\t\\t{}\".format(features_df.Fuel_Price.median()))\n",
    "\n",
    "pd.DataFrame(features_df.Fuel_Price).boxplot(figsize=(20,1), vert=False)\n",
    "plt.show()"
   ]
  },
  {
   "cell_type": "markdown",
   "metadata": {},
   "source": [
    "##### MarkDown 1-5"
   ]
  },
  {
   "cell_type": "markdown",
   "metadata": {},
   "source": [
    "Der Beschreibung auf [Kaggle](https://www.kaggle.com/c/walmart-recruiting-store-sales-forecasting/data) entnehmen wir, dass die Werte für die Marketingaktionen erst ab November 2010 verfügbar sind. Zudem fehlen angeblich Daten für weitere Wochen.  \n",
    "Nachdem wir die Werte ab September 2010 für die Prognose nutzen wollen, könnte es sein, dass die Attribute für uns wertlos sind.\n",
    "\n",
    "Auf jeden Fall soll an dieser Stelle untersucht werden, wie es sich mit fehlenden Werten im Datensatz generell verhält:"
   ]
  },
  {
   "cell_type": "code",
   "execution_count": 14,
   "metadata": {},
   "outputs": [
    {
     "data": {
      "text/html": [
       "<div>\n",
       "<style scoped>\n",
       "    .dataframe tbody tr th:only-of-type {\n",
       "        vertical-align: middle;\n",
       "    }\n",
       "\n",
       "    .dataframe tbody tr th {\n",
       "        vertical-align: top;\n",
       "    }\n",
       "\n",
       "    .dataframe thead th {\n",
       "        text-align: right;\n",
       "    }\n",
       "</style>\n",
       "<table border=\"1\" class=\"dataframe\">\n",
       "  <thead>\n",
       "    <tr style=\"text-align: right;\">\n",
       "      <th></th>\n",
       "      <th>0</th>\n",
       "    </tr>\n",
       "  </thead>\n",
       "  <tbody>\n",
       "    <tr>\n",
       "      <th>Store</th>\n",
       "      <td>0</td>\n",
       "    </tr>\n",
       "    <tr>\n",
       "      <th>Date</th>\n",
       "      <td>0</td>\n",
       "    </tr>\n",
       "    <tr>\n",
       "      <th>Fuel_Price</th>\n",
       "      <td>0</td>\n",
       "    </tr>\n",
       "    <tr>\n",
       "      <th>MarkDown1</th>\n",
       "      <td>4158</td>\n",
       "    </tr>\n",
       "    <tr>\n",
       "      <th>MarkDown2</th>\n",
       "      <td>5269</td>\n",
       "    </tr>\n",
       "    <tr>\n",
       "      <th>MarkDown3</th>\n",
       "      <td>4577</td>\n",
       "    </tr>\n",
       "    <tr>\n",
       "      <th>MarkDown4</th>\n",
       "      <td>4726</td>\n",
       "    </tr>\n",
       "    <tr>\n",
       "      <th>MarkDown5</th>\n",
       "      <td>4140</td>\n",
       "    </tr>\n",
       "    <tr>\n",
       "      <th>CPI</th>\n",
       "      <td>585</td>\n",
       "    </tr>\n",
       "    <tr>\n",
       "      <th>Unemployment</th>\n",
       "      <td>585</td>\n",
       "    </tr>\n",
       "    <tr>\n",
       "      <th>IsHoliday</th>\n",
       "      <td>0</td>\n",
       "    </tr>\n",
       "    <tr>\n",
       "      <th>Temperature_F</th>\n",
       "      <td>0</td>\n",
       "    </tr>\n",
       "    <tr>\n",
       "      <th>Temperature_C</th>\n",
       "      <td>0</td>\n",
       "    </tr>\n",
       "  </tbody>\n",
       "</table>\n",
       "</div>"
      ],
      "text/plain": [
       "                  0\n",
       "Store             0\n",
       "Date              0\n",
       "Fuel_Price        0\n",
       "MarkDown1      4158\n",
       "MarkDown2      5269\n",
       "MarkDown3      4577\n",
       "MarkDown4      4726\n",
       "MarkDown5      4140\n",
       "CPI             585\n",
       "Unemployment    585\n",
       "IsHoliday         0\n",
       "Temperature_F     0\n",
       "Temperature_C     0"
      ]
     },
     "execution_count": 14,
     "metadata": {},
     "output_type": "execute_result"
    }
   ],
   "source": [
    "pd.DataFrame(features_df.isnull().sum())"
   ]
  },
  {
   "cell_type": "markdown",
   "metadata": {},
   "source": [
    "Wir wollen wissen, für welchen Zeitraum tatsächlich Daten der Attribute ```MarkDown 1-5``` vorhanden sind:"
   ]
  },
  {
   "cell_type": "code",
   "execution_count": 15,
   "metadata": {},
   "outputs": [
    {
     "name": "stdout",
     "output_type": "stream",
     "text": [
      "Erstes Datum mit allen Werten für MarkDown:\t2011-11-11\n",
      "Letztes Datum mit allen Werten für MarkDown:\t2013-07-26\n"
     ]
    }
   ],
   "source": [
    "print(\"Erstes Datum mit allen Werten für MarkDown:\\t{}\".format(features_df[['Date', 'MarkDown1', 'MarkDown2', 'MarkDown3', 'MarkDown4', 'MarkDown5']].dropna().Date.min()))\n",
    "print(\"Letztes Datum mit allen Werten für MarkDown:\\t{}\".format(features_df[['Date', 'MarkDown1', 'MarkDown2', 'MarkDown3', 'MarkDown4', 'MarkDown5']].dropna().Date.max()))"
   ]
  },
  {
   "cell_type": "markdown",
   "metadata": {},
   "source": [
    "Nachdem wir aus den Daten von 2010 für das Weihnachtsgeschäft von 2011 lernen wollen, sind die Attribute ```MarkDown 1-5``` für uns wertlos und werden in der Phase der __Data Preparation__ entfernt."
   ]
  },
  {
   "cell_type": "markdown",
   "metadata": {},
   "source": [
    "##### CPI"
   ]
  },
  {
   "cell_type": "markdown",
   "metadata": {},
   "source": [
    "Der Verbrauchspreisindex zeigt die Steigerung (oder Minderung) der Lebenshaltungskosten an.  \n",
    "Dabei existieren verschiedene CPIs - mit welchem genau wir es zu tun haben und welches das Basisjahr ist, konnten wir nicht ermitteln.  \n",
    "In den USA basiert der Index häufig auf den Jahren 1982 bis 1984, was für die vorliegenden Werte allerdings nicht stichhaltig aussieht."
   ]
  },
  {
   "cell_type": "code",
   "execution_count": 16,
   "metadata": {},
   "outputs": [
    {
     "name": "stdout",
     "output_type": "stream",
     "text": [
      "Der niedrigste Wert des CPI:\t126.064\n",
      "Der höchste Wert des CPI:\t228.9764563\n",
      "Median des CPI:\t\t\t182.7640032\n"
     ]
    },
    {
     "data": {
      "image/png": "[encoded data removed]",
      "text/plain": [
       "<matplotlib.figure.Figure at 0x1a27b09278>"
      ]
     },
     "metadata": {},
     "output_type": "display_data"
    }
   ],
   "source": [
    "print(\"Der niedrigste Wert des CPI:\\t{}\".format(features_df.CPI.min()))\n",
    "print(\"Der höchste Wert des CPI:\\t{}\".format(features_df.CPI.max()))\n",
    "print(\"Median des CPI:\\t\\t\\t{}\".format(features_df.CPI.median()))\n",
    "\n",
    "pd.DataFrame(features_df.CPI).boxplot(figsize=(20,1), vert=False)\n",
    "plt.show()"
   ]
  },
  {
   "cell_type": "markdown",
   "metadata": {},
   "source": [
    "Wie soeben in der Auswertung der ```MarkDown```-Attribute gesehen, fehlen auch hier Werte.  \n",
    "Diese fehlenden Werte müssen, falls nötig, in der Phase der __Data Preparation__ nachberechnet werden."
   ]
  },
  {
   "cell_type": "code",
   "execution_count": 17,
   "metadata": {},
   "outputs": [
    {
     "data": {
      "image/png": "[encoded data removed]",
      "text/plain": [
       "<matplotlib.figure.Figure at 0x1a319392e8>"
      ]
     },
     "metadata": {},
     "output_type": "display_data"
    }
   ],
   "source": [
    "cpi_df = features_df.set_index(keys=['Store', 'Date'])['CPI'].unstack(level='Store')\n",
    "cpi_df.index = pd.to_datetime(cpi_df.index)\n",
    "cpi_df.plot(figsize=(20,13))\n",
    "plt.xlabel('Datum')\n",
    "plt.ylabel('CPI')\n",
    "plt.show()"
   ]
  },
  {
   "cell_type": "markdown",
   "metadata": {
    "variables": {
     "features_df.CPI.max()": "228.9764563",
     "features_df.CPI.min()": "126.064"
    }
   },
   "source": [
    "__Dieses Finding ist interessant:__  \n",
    "Warum gibt es Regionen, in denen der CPI den minimalen Wert von ```{{features_df.CPI.min()}}``` hat, im Gegensatz zu Regionen, bei denen der maximale Wert ```{{features_df.CPI.max()}}```, also fast das Doppelte, beträgt?  \n",
    "Zumindest in Deutschland ließe sich ein derartiger Unterschied im Einzelhandel nicht regional beurteilen.  \n",
    "Wir werden dieses Thema später eventuell nochmals aufgreifen."
   ]
  },
  {
   "cell_type": "markdown",
   "metadata": {},
   "source": [
    "##### Unemployment"
   ]
  },
  {
   "cell_type": "code",
   "execution_count": 18,
   "metadata": {},
   "outputs": [
    {
     "name": "stdout",
     "output_type": "stream",
     "text": [
      "Der niedrigste Wert des Unemployment:\t3.6839999999999997\n",
      "Der höchste Wert des Unemployment:\t14.312999999999999\n",
      "Median des Unemployment:\t\t7.806\n"
     ]
    },
    {
     "data": {
      "image/png": "[encoded data removed]",
      "text/plain": [
       "<matplotlib.figure.Figure at 0x1a31aa31d0>"
      ]
     },
     "metadata": {},
     "output_type": "display_data"
    }
   ],
   "source": [
    "print(\"Der niedrigste Wert des Unemployment:\\t{}\".format(features_df.Unemployment.min()))\n",
    "print(\"Der höchste Wert des Unemployment:\\t{}\".format(features_df.Unemployment.max()))\n",
    "print(\"Median des Unemployment:\\t\\t{}\".format(features_df.Unemployment.median()))\n",
    "\n",
    "mean_umempl_usa_201011 = (8.9 + 8.1) / 2\n",
    "\n",
    "pd.DataFrame(features_df.Unemployment).boxplot(figsize=(20,1), vert=False)\n",
    "plt.axvline(x=mean_umempl_usa_201011, color='red')\n",
    "plt.show()"
   ]
  },
  {
   "cell_type": "markdown",
   "metadata": {
    "variables": {
     "mean_umempl_usa_201011": "8.5"
    }
   },
   "source": [
    "Wir haben die Daten des Datensatzes mit der durchschnittlichen Arbeitslosenquote der Vereinigten Staaten aus den Jahren 2011 und 2012 (Quelle: [Wikipedia](https://de.wikipedia.org/wiki/Arbeitsmarktstatistik_der_Vereinigten_Staaten#2011_bis_2018)) in Höhe von ```{{mean_umempl_usa_201011}}``` verglichen.\n",
    "\n",
    "Dabei zeigt sich, dass die Daten in Walmarts erhoben wurden, die potentiell eher in Regionen mit niedrigerer Arbeitslosenquote angesiedelt sind.  \n",
    "Dieses zeigt sich auch in den Ausreißern: während in Q1 und Q2 die Daten eher dicht gepackt sind, streut Q3 und vor allem Q4 stark."
   ]
  },
  {
   "cell_type": "markdown",
   "metadata": {},
   "source": [
    "##### IsHoliday"
   ]
  },
  {
   "cell_type": "code",
   "execution_count": 19,
   "metadata": {},
   "outputs": [
    {
     "data": {
      "image/png": "[encoded data removed]",
      "text/plain": [
       "<matplotlib.figure.Figure at 0x1a249750f0>"
      ]
     },
     "metadata": {},
     "output_type": "display_data"
    }
   ],
   "source": [
    "pd.DataFrame(features_df.IsHoliday).apply(pd.value_counts).plot.pie(figsize=(5,5), y='IsHoliday', autopct='%.2f')\n",
    "plt.show()"
   ]
  },
  {
   "cell_type": "markdown",
   "metadata": {},
   "source": [
    "Wie in der Grafik zu sehen, sind in ```7.14%``` der betrachteten Datensätze Feiertage zu verzeichnen.  \n",
    "In diesem Zeitraum liegen unter anderem:\n",
    "+ Super Bowl\n",
    "+ Labor Day\n",
    "+ Thanksgiving\n",
    "+ Black Friday\n",
    "+ Weihnachten"
   ]
  },
  {
   "cell_type": "markdown",
   "metadata": {},
   "source": [
    "#### Stores - Datensatz"
   ]
  },
  {
   "cell_type": "markdown",
   "metadata": {},
   "source": [
    "Der Datensatz ```stores.csv``` enthält die Attribute ```Store```, ```Type``` und ```Size```."
   ]
  },
  {
   "cell_type": "markdown",
   "metadata": {
    "variables": {
     "stores_df.Store.max()": "45",
     "stores_df.Store.min()": "1"
    }
   },
   "source": [
    "##### Store\n",
    "```Store``` stellt für die Datei den Primärschlüssel, dabei sind alle Stores von ID ```{{stores_df.Store.min()}}``` bis ID ```{{stores_df.Store.max()}}``` enthalten."
   ]
  },
  {
   "cell_type": "markdown",
   "metadata": {},
   "source": [
    "##### Type"
   ]
  },
  {
   "cell_type": "markdown",
   "metadata": {
    "variables": {
     "stores_df.Type.unique()[0]": "A",
     "stores_df.Type.unique()[1]": "B",
     "stores_df.Type.unique()[2]": "C"
    }
   },
   "source": [
    "Das Attribut ```Type``` enthält die Werte ```{{stores_df.Type.unique()[0]}}```, ```{{stores_df.Type.unique()[1]}}``` und ```{{stores_df.Type.unique()[2]}}```.  \n",
    "Es gibt folgende unterschiedliche Typen von Märkten (Quelle: [Walmart Store Locator](https://corporate.walmart.com/our-story/our-business)), wobei wir uns nicht sicher sind, inwieweit dies gemapped werden kann:\n",
    "+ Walmart Supercenter\n",
    "+ Walmart Discount Store\n",
    "+ Walmart Neighbourhood Market\n",
    "\n",
    "Die Verteilung der Store-Typen gestaltet sich wie folgt:"
   ]
  },
  {
   "cell_type": "code",
   "execution_count": 20,
   "metadata": {},
   "outputs": [
    {
     "data": {
      "image/png": "[encoded data removed]",
      "text/plain": [
       "<matplotlib.figure.Figure at 0x1a31a98c18>"
      ]
     },
     "metadata": {},
     "output_type": "display_data"
    }
   ],
   "source": [
    "stores_df.groupby('Type')['Type'].count().plot(kind='bar', rot=0)\n",
    "plt.ylabel(\"Anzahl\")\n",
    "plt.show()"
   ]
  },
  {
   "cell_type": "markdown",
   "metadata": {
    "variables": {
     "stores_df.Size.max()": "219622",
     "stores_df.Size.min()": "34875"
    }
   },
   "source": [
    "##### Size\n",
    "Nachdem die Daten anonymisiert sind, kann keine definitive Aussage darüber getroffen werden, in welcher Einheit die gegebenen Werte im Bereich von ```{{stores_df.Size.min()}}``` bis ```{{stores_df.Size.max()}}``` vorliegen.  \n",
    "Allerdings entsprechen die Durchschnittswerte für die einzelnen Typen ziemlich exakt den Typen von Walmarts, die im letzten Punkt angesprochen worden waren:"
   ]
  },
  {
   "cell_type": "markdown",
   "metadata": {},
   "source": [
    "<img src=\"./media/walmart_types.jpg\" width=\"800\"/>"
   ]
  },
  {
   "cell_type": "code",
   "execution_count": 21,
   "metadata": {},
   "outputs": [
    {
     "data": {
      "image/png": "[encoded data removed]",
      "text/plain": [
       "<matplotlib.figure.Figure at 0x1a31ac6978>"
      ]
     },
     "metadata": {},
     "output_type": "display_data"
    }
   ],
   "source": [
    "size_a_type = 182000\n",
    "size_b_type = 106000\n",
    "size_c_type = 38000\n",
    "\n",
    "stores_df.boxplot(column='Size', by='Type', vert=False, figsize=(20,5))\n",
    "plt.axvline(x=size_a_type, color='red')\n",
    "plt.axvline(x=size_b_type, color='red')\n",
    "plt.axvline(x=size_c_type, color='red')\n",
    "\n",
    "plt.suptitle('')\n",
    "plt.title('')\n",
    "plt.xlabel('Size')\n",
    "plt.ylabel('Type')\n",
    "plt.show()"
   ]
  },
  {
   "cell_type": "markdown",
   "metadata": {},
   "source": [
    "#### Erste Hypothesen\n",
    "Um erste Hypothesen aufstellen zu können, die über unsere bisherigen Betrachtungen (beispielsweise zur Arbeitslosenquote) hinausgehen, müssen wir die Datensätze miteinander verbinden. Hierfür verweisen wir auf die Phase der __Data Preparation__."
   ]
  },
  {
   "cell_type": "markdown",
   "metadata": {},
   "source": [
    "### Betrachtung der Datenqualität\n",
    "Die mangelnde Qualität der Features ```MarkDown 1-5``` wurde bereits angesprochen.  \n",
    "Darüber hinausgehende Aussagen können erst in der Phase der __Data Preparation__ getroffen werden.\n",
    "\n",
    "Auf den ersten Blick sieht es so aus, als würden die zur Verfügung stehenden Daten ausreichen, um erste Modelle zu bauen. Sie enthalten vorerst alle wichtigen Informationen. Falls die Qualität der Modelle nicht zufriedenstellend ist, ist die Struktur geeignet, um durch weitere Daten erweitert zu werden. "
   ]
  },
  {
   "cell_type": "markdown",
   "metadata": {},
   "source": [
    "## DATA PREPARATION: was wollen wir verwenden und wie?"
   ]
  },
  {
   "cell_type": "markdown",
   "metadata": {},
   "source": [
    "### zeitlicher Zuschnitt der Daten auf das Projektziel"
   ]
  },
  {
   "cell_type": "code",
   "execution_count": 22,
   "metadata": {},
   "outputs": [],
   "source": [
    "data_df.Date = pd.to_datetime(data_df.Date)"
   ]
  },
  {
   "cell_type": "code",
   "execution_count": 23,
   "metadata": {
    "scrolled": true
   },
   "outputs": [],
   "source": [
    "xmas_data_df = data_df[((data_df.Date >= '2010-02-05') & (data_df.Date <= '2011-12-31'))]\n",
    "xmas_data_df.reset_index(inplace=True, drop=True)"
   ]
  },
  {
   "cell_type": "code",
   "execution_count": 24,
   "metadata": {},
   "outputs": [
    {
     "data": {
      "text/html": [
       "<div>\n",
       "<style scoped>\n",
       "    .dataframe tbody tr th:only-of-type {\n",
       "        vertical-align: middle;\n",
       "    }\n",
       "\n",
       "    .dataframe tbody tr th {\n",
       "        vertical-align: top;\n",
       "    }\n",
       "\n",
       "    .dataframe thead th {\n",
       "        text-align: right;\n",
       "    }\n",
       "</style>\n",
       "<table border=\"1\" class=\"dataframe\">\n",
       "  <thead>\n",
       "    <tr style=\"text-align: right;\">\n",
       "      <th></th>\n",
       "      <th>Store</th>\n",
       "      <th>Dept</th>\n",
       "      <th>Date</th>\n",
       "      <th>Weekly_Sales</th>\n",
       "      <th>IsHoliday</th>\n",
       "    </tr>\n",
       "  </thead>\n",
       "  <tbody>\n",
       "    <tr>\n",
       "      <th>0</th>\n",
       "      <td>1</td>\n",
       "      <td>1</td>\n",
       "      <td>2010-02-05</td>\n",
       "      <td>24924.50</td>\n",
       "      <td>False</td>\n",
       "    </tr>\n",
       "    <tr>\n",
       "      <th>1</th>\n",
       "      <td>1</td>\n",
       "      <td>1</td>\n",
       "      <td>2010-02-12</td>\n",
       "      <td>46039.49</td>\n",
       "      <td>True</td>\n",
       "    </tr>\n",
       "  </tbody>\n",
       "</table>\n",
       "</div>"
      ],
      "text/plain": [
       "   Store  Dept       Date  Weekly_Sales  IsHoliday\n",
       "0      1     1 2010-02-05      24924.50      False\n",
       "1      1     1 2010-02-12      46039.49       True"
      ]
     },
     "metadata": {},
     "output_type": "display_data"
    },
    {
     "data": {
      "text/html": [
       "<div>\n",
       "<style scoped>\n",
       "    .dataframe tbody tr th:only-of-type {\n",
       "        vertical-align: middle;\n",
       "    }\n",
       "\n",
       "    .dataframe tbody tr th {\n",
       "        vertical-align: top;\n",
       "    }\n",
       "\n",
       "    .dataframe thead th {\n",
       "        text-align: right;\n",
       "    }\n",
       "</style>\n",
       "<table border=\"1\" class=\"dataframe\">\n",
       "  <thead>\n",
       "    <tr style=\"text-align: right;\">\n",
       "      <th></th>\n",
       "      <th>Store</th>\n",
       "      <th>Dept</th>\n",
       "      <th>Date</th>\n",
       "      <th>Weekly_Sales</th>\n",
       "      <th>IsHoliday</th>\n",
       "    </tr>\n",
       "  </thead>\n",
       "  <tbody>\n",
       "    <tr>\n",
       "      <th>98</th>\n",
       "      <td>1</td>\n",
       "      <td>1</td>\n",
       "      <td>2011-12-23</td>\n",
       "      <td>46788.75</td>\n",
       "      <td>False</td>\n",
       "    </tr>\n",
       "    <tr>\n",
       "      <th>99</th>\n",
       "      <td>1</td>\n",
       "      <td>1</td>\n",
       "      <td>2011-12-30</td>\n",
       "      <td>23350.88</td>\n",
       "      <td>True</td>\n",
       "    </tr>\n",
       "  </tbody>\n",
       "</table>\n",
       "</div>"
      ],
      "text/plain": [
       "    Store  Dept       Date  Weekly_Sales  IsHoliday\n",
       "98      1     1 2011-12-23      46788.75      False\n",
       "99      1     1 2011-12-30      23350.88       True"
      ]
     },
     "metadata": {},
     "output_type": "display_data"
    },
    {
     "name": "stdout",
     "output_type": "stream",
     "text": [
      "\n",
      "Wir betrachten insgesamt Daten von 100 Wochen.\n"
     ]
    }
   ],
   "source": [
    "display(xmas_data_df.loc[(xmas_data_df['Store'] == 1) & (xmas_data_df['Dept'] ==1)].head(2))\n",
    "display(xmas_data_df.loc[(xmas_data_df['Store'] == 1) & (xmas_data_df['Dept'] ==1)].tail(2))\n",
    "print(\"\\nWir betrachten insgesamt Daten von {} Wochen.\".format(xmas_data_df.Date.nunique()))"
   ]
  },
  {
   "cell_type": "code",
   "execution_count": 25,
   "metadata": {},
   "outputs": [
    {
     "data": {
      "image/png": "[encoded data removed]",
      "text/plain": [
       "<matplotlib.figure.Figure at 0x1a319215f8>"
      ]
     },
     "metadata": {},
     "output_type": "display_data"
    }
   ],
   "source": [
    "xmas_data_df.groupby('Date').agg(['sum']).reset_index().plot(x='Date', y='Weekly_Sales',kind=\"bar\", figsize=(20,7)).set_ylabel(\"Weekly Sales in 10 mio.\")\n",
    "plt.axhline(y=xmas_data_df['Weekly_Sales'][xmas_data_df.Date == '2010-11-26'].agg(['sum'])[0], color='black')\n",
    "plt.axhline(y=xmas_data_df['Weekly_Sales'][xmas_data_df.Date == '2010-12-03'].agg(['sum'])[0], color='grey')\n",
    "plt.axhline(y=xmas_data_df['Weekly_Sales'][xmas_data_df.Date == '2010-12-10'].agg(['sum'])[0], color='green')\n",
    "plt.axhline(y=xmas_data_df['Weekly_Sales'][xmas_data_df.Date == '2010-12-17'].agg(['sum'])[0], color='yellow')\n",
    "plt.axhline(y=xmas_data_df['Weekly_Sales'][xmas_data_df.Date == '2010-12-24'].agg(['sum'])[0], color='red')\n",
    "# Anpassung y-Achse über min- und max-Werte mit Faktor 0.1\n",
    "plt.ylim(xmas_data_df.groupby('Date').agg(['sum']).Weekly_Sales.min()[0] * 0.9, xmas_data_df.groupby('Date').agg(['sum']).Weekly_Sales.max()[0] * 1.1)\n",
    "plt.show()"
   ]
  },
  {
   "cell_type": "markdown",
   "metadata": {},
   "source": [
    "In dieser Grafik lässt sich ein Muster des Verlaufs der Verkaufszahlen in der Weihnachstzeit erkennen, weshalb wir erhoffen, gute Prognosen aus den Daten ableiten zu können."
   ]
  },
  {
   "cell_type": "markdown",
   "metadata": {},
   "source": [
    "### Feature Engineering"
   ]
  },
  {
   "cell_type": "markdown",
   "metadata": {},
   "source": [
    "__Neues Feature next_week__  \n",
    "Weil die Feiertage so wichtig bla"
   ]
  },
  {
   "cell_type": "code",
   "execution_count": 26,
   "metadata": {},
   "outputs": [
    {
     "name": "stderr",
     "output_type": "stream",
     "text": [
      "/Users/studium/anaconda3/lib/python3.6/site-packages/pandas/core/indexing.py:357: SettingWithCopyWarning: \n",
      "A value is trying to be set on a copy of a slice from a DataFrame.\n",
      "Try using .loc[row_indexer,col_indexer] = value instead\n",
      "\n",
      "See the caveats in the documentation: http://pandas.pydata.org/pandas-docs/stable/indexing.html#indexing-view-versus-copy\n",
      "  self.obj[key] = _infer_fill_value(value)\n",
      "/Users/studium/anaconda3/lib/python3.6/site-packages/pandas/core/indexing.py:537: SettingWithCopyWarning: \n",
      "A value is trying to be set on a copy of a slice from a DataFrame.\n",
      "Try using .loc[row_indexer,col_indexer] = value instead\n",
      "\n",
      "See the caveats in the documentation: http://pandas.pydata.org/pandas-docs/stable/indexing.html#indexing-view-versus-copy\n",
      "  self.obj[item] = s\n"
     ]
    }
   ],
   "source": [
    "xmas_data_df.loc[xmas_data_df.Date == '2010-11-19', 'next_week'] = 'black_friday'\n",
    "xmas_data_df.loc[xmas_data_df.Date == '2010-11-26', 'next_week'] = 'xmas_1st_week'\n",
    "xmas_data_df.loc[xmas_data_df.Date == '2010-12-03', 'next_week'] = 'xmas_2nd_week'\n",
    "xmas_data_df.loc[xmas_data_df.Date == '2010-12-10', 'next_week'] = 'xmas_3rd_week'\n",
    "xmas_data_df.loc[xmas_data_df.Date == '2010-12-17', 'next_week'] = 'xmas_4th_week'\n",
    "xmas_data_df.loc[xmas_data_df.Date == '2010-12-24', 'next_week'] = 'new_year'\n",
    "\n",
    "xmas_data_df.loc[xmas_data_df.Date == '2011-11-18', 'next_week'] = 'black_friday'\n",
    "xmas_data_df.loc[xmas_data_df.Date == '2011-11-25', 'next_week'] = 'xmas_1st_week'\n",
    "xmas_data_df.loc[xmas_data_df.Date == '2011-12-02', 'next_week'] = 'xmas_2nd_week'\n",
    "xmas_data_df.loc[xmas_data_df.Date == '2011-12-09', 'next_week'] = 'xmas_3rd_week'\n",
    "xmas_data_df.loc[xmas_data_df.Date == '2011-12-16', 'next_week'] = 'xmas_4th_week'\n",
    "xmas_data_df.loc[xmas_data_df.Date == '2011-12-23', 'next_week'] = 'new_year'"
   ]
  },
  {
   "cell_type": "markdown",
   "metadata": {},
   "source": [
    "Jetzt one hhot"
   ]
  },
  {
   "cell_type": "code",
   "execution_count": 27,
   "metadata": {
    "scrolled": false
   },
   "outputs": [],
   "source": [
    "xmas_data_df = pd.get_dummies(data=xmas_data_df, columns=['next_week'], prefix='nw')"
   ]
  },
  {
   "cell_type": "code",
   "execution_count": 28,
   "metadata": {},
   "outputs": [
    {
     "data": {
      "text/html": [
       "<div>\n",
       "<style scoped>\n",
       "    .dataframe tbody tr th:only-of-type {\n",
       "        vertical-align: middle;\n",
       "    }\n",
       "\n",
       "    .dataframe tbody tr th {\n",
       "        vertical-align: top;\n",
       "    }\n",
       "\n",
       "    .dataframe thead th {\n",
       "        text-align: right;\n",
       "    }\n",
       "</style>\n",
       "<table border=\"1\" class=\"dataframe\">\n",
       "  <thead>\n",
       "    <tr style=\"text-align: right;\">\n",
       "      <th></th>\n",
       "      <th>Store</th>\n",
       "      <th>Dept</th>\n",
       "      <th>Date</th>\n",
       "      <th>Weekly_Sales</th>\n",
       "      <th>IsHoliday</th>\n",
       "      <th>nw_black_friday</th>\n",
       "      <th>nw_new_year</th>\n",
       "      <th>nw_xmas_1st_week</th>\n",
       "      <th>nw_xmas_2nd_week</th>\n",
       "      <th>nw_xmas_3rd_week</th>\n",
       "      <th>nw_xmas_4th_week</th>\n",
       "    </tr>\n",
       "  </thead>\n",
       "  <tbody>\n",
       "    <tr>\n",
       "      <th>19</th>\n",
       "      <td>1</td>\n",
       "      <td>1</td>\n",
       "      <td>2010-06-18</td>\n",
       "      <td>16216.27</td>\n",
       "      <td>False</td>\n",
       "      <td>0</td>\n",
       "      <td>0</td>\n",
       "      <td>0</td>\n",
       "      <td>0</td>\n",
       "      <td>0</td>\n",
       "      <td>0</td>\n",
       "    </tr>\n",
       "    <tr>\n",
       "      <th>20</th>\n",
       "      <td>1</td>\n",
       "      <td>1</td>\n",
       "      <td>2010-06-25</td>\n",
       "      <td>16328.72</td>\n",
       "      <td>False</td>\n",
       "      <td>0</td>\n",
       "      <td>0</td>\n",
       "      <td>0</td>\n",
       "      <td>0</td>\n",
       "      <td>0</td>\n",
       "      <td>0</td>\n",
       "    </tr>\n",
       "    <tr>\n",
       "      <th>21</th>\n",
       "      <td>1</td>\n",
       "      <td>1</td>\n",
       "      <td>2010-07-02</td>\n",
       "      <td>16333.14</td>\n",
       "      <td>False</td>\n",
       "      <td>0</td>\n",
       "      <td>0</td>\n",
       "      <td>0</td>\n",
       "      <td>0</td>\n",
       "      <td>0</td>\n",
       "      <td>0</td>\n",
       "    </tr>\n",
       "    <tr>\n",
       "      <th>22</th>\n",
       "      <td>1</td>\n",
       "      <td>1</td>\n",
       "      <td>2010-07-09</td>\n",
       "      <td>17688.76</td>\n",
       "      <td>False</td>\n",
       "      <td>0</td>\n",
       "      <td>0</td>\n",
       "      <td>0</td>\n",
       "      <td>0</td>\n",
       "      <td>0</td>\n",
       "      <td>0</td>\n",
       "    </tr>\n",
       "    <tr>\n",
       "      <th>23</th>\n",
       "      <td>1</td>\n",
       "      <td>1</td>\n",
       "      <td>2010-07-16</td>\n",
       "      <td>17150.84</td>\n",
       "      <td>False</td>\n",
       "      <td>0</td>\n",
       "      <td>0</td>\n",
       "      <td>0</td>\n",
       "      <td>0</td>\n",
       "      <td>0</td>\n",
       "      <td>0</td>\n",
       "    </tr>\n",
       "    <tr>\n",
       "      <th>24</th>\n",
       "      <td>1</td>\n",
       "      <td>1</td>\n",
       "      <td>2010-07-23</td>\n",
       "      <td>15360.45</td>\n",
       "      <td>False</td>\n",
       "      <td>0</td>\n",
       "      <td>0</td>\n",
       "      <td>0</td>\n",
       "      <td>0</td>\n",
       "      <td>0</td>\n",
       "      <td>0</td>\n",
       "    </tr>\n",
       "    <tr>\n",
       "      <th>25</th>\n",
       "      <td>1</td>\n",
       "      <td>1</td>\n",
       "      <td>2010-07-30</td>\n",
       "      <td>15381.82</td>\n",
       "      <td>False</td>\n",
       "      <td>0</td>\n",
       "      <td>0</td>\n",
       "      <td>0</td>\n",
       "      <td>0</td>\n",
       "      <td>0</td>\n",
       "      <td>0</td>\n",
       "    </tr>\n",
       "    <tr>\n",
       "      <th>26</th>\n",
       "      <td>1</td>\n",
       "      <td>1</td>\n",
       "      <td>2010-08-06</td>\n",
       "      <td>17508.41</td>\n",
       "      <td>False</td>\n",
       "      <td>0</td>\n",
       "      <td>0</td>\n",
       "      <td>0</td>\n",
       "      <td>0</td>\n",
       "      <td>0</td>\n",
       "      <td>0</td>\n",
       "    </tr>\n",
       "  </tbody>\n",
       "</table>\n",
       "</div>"
      ],
      "text/plain": [
       "    Store  Dept       Date  Weekly_Sales  IsHoliday  nw_black_friday  \\\n",
       "19      1     1 2010-06-18      16216.27      False                0   \n",
       "20      1     1 2010-06-25      16328.72      False                0   \n",
       "21      1     1 2010-07-02      16333.14      False                0   \n",
       "22      1     1 2010-07-09      17688.76      False                0   \n",
       "23      1     1 2010-07-16      17150.84      False                0   \n",
       "24      1     1 2010-07-23      15360.45      False                0   \n",
       "25      1     1 2010-07-30      15381.82      False                0   \n",
       "26      1     1 2010-08-06      17508.41      False                0   \n",
       "\n",
       "    nw_new_year  nw_xmas_1st_week  nw_xmas_2nd_week  nw_xmas_3rd_week  \\\n",
       "19            0                 0                 0                 0   \n",
       "20            0                 0                 0                 0   \n",
       "21            0                 0                 0                 0   \n",
       "22            0                 0                 0                 0   \n",
       "23            0                 0                 0                 0   \n",
       "24            0                 0                 0                 0   \n",
       "25            0                 0                 0                 0   \n",
       "26            0                 0                 0                 0   \n",
       "\n",
       "    nw_xmas_4th_week  \n",
       "19                 0  \n",
       "20                 0  \n",
       "21                 0  \n",
       "22                 0  \n",
       "23                 0  \n",
       "24                 0  \n",
       "25                 0  \n",
       "26                 0  "
      ]
     },
     "execution_count": 28,
     "metadata": {},
     "output_type": "execute_result"
    }
   ],
   "source": [
    "xmas_data_df.iloc[19:27]"
   ]
  },
  {
   "cell_type": "markdown",
   "metadata": {},
   "source": [
    "__Neues Feature days_to_christmas__  \n",
    "Um zeitlichen Verlauf abzubilden"
   ]
  },
  {
   "cell_type": "code",
   "execution_count": 29,
   "metadata": {
    "scrolled": true
   },
   "outputs": [
    {
     "data": {
      "text/html": [
       "<div>\n",
       "<style scoped>\n",
       "    .dataframe tbody tr th:only-of-type {\n",
       "        vertical-align: middle;\n",
       "    }\n",
       "\n",
       "    .dataframe tbody tr th {\n",
       "        vertical-align: top;\n",
       "    }\n",
       "\n",
       "    .dataframe thead th {\n",
       "        text-align: right;\n",
       "    }\n",
       "</style>\n",
       "<table border=\"1\" class=\"dataframe\">\n",
       "  <thead>\n",
       "    <tr style=\"text-align: right;\">\n",
       "      <th></th>\n",
       "      <th>Date</th>\n",
       "      <th>days_2_xmas</th>\n",
       "    </tr>\n",
       "  </thead>\n",
       "  <tbody>\n",
       "    <tr>\n",
       "      <th>0</th>\n",
       "      <td>2010-02-05</td>\n",
       "      <td>323</td>\n",
       "    </tr>\n",
       "    <tr>\n",
       "      <th>1</th>\n",
       "      <td>2010-02-12</td>\n",
       "      <td>316</td>\n",
       "    </tr>\n",
       "    <tr>\n",
       "      <th>2</th>\n",
       "      <td>2010-02-19</td>\n",
       "      <td>309</td>\n",
       "    </tr>\n",
       "    <tr>\n",
       "      <th>3</th>\n",
       "      <td>2010-02-26</td>\n",
       "      <td>302</td>\n",
       "    </tr>\n",
       "    <tr>\n",
       "      <th>4</th>\n",
       "      <td>2010-03-05</td>\n",
       "      <td>295</td>\n",
       "    </tr>\n",
       "  </tbody>\n",
       "</table>\n",
       "</div>"
      ],
      "text/plain": [
       "        Date  days_2_xmas\n",
       "0 2010-02-05          323\n",
       "1 2010-02-12          316\n",
       "2 2010-02-19          309\n",
       "3 2010-02-26          302\n",
       "4 2010-03-05          295"
      ]
     },
     "execution_count": 29,
     "metadata": {},
     "output_type": "execute_result"
    }
   ],
   "source": [
    "xmas_data_df['days_2_xmas'] = xmas_data_df.Date.apply(lambda x: (date(x.year,12,25) - x.date()).days)\n",
    "xmas_data_df[['Date', 'days_2_xmas']].head()"
   ]
  },
  {
   "cell_type": "markdown",
   "metadata": {},
   "source": [
    "Auch OHE für store type"
   ]
  },
  {
   "cell_type": "code",
   "execution_count": 30,
   "metadata": {},
   "outputs": [
    {
     "data": {
      "text/html": [
       "<div>\n",
       "<style scoped>\n",
       "    .dataframe tbody tr th:only-of-type {\n",
       "        vertical-align: middle;\n",
       "    }\n",
       "\n",
       "    .dataframe tbody tr th {\n",
       "        vertical-align: top;\n",
       "    }\n",
       "\n",
       "    .dataframe thead th {\n",
       "        text-align: right;\n",
       "    }\n",
       "</style>\n",
       "<table border=\"1\" class=\"dataframe\">\n",
       "  <thead>\n",
       "    <tr style=\"text-align: right;\">\n",
       "      <th></th>\n",
       "      <th>Store</th>\n",
       "      <th>Size</th>\n",
       "      <th>type_A</th>\n",
       "      <th>type_B</th>\n",
       "      <th>type_C</th>\n",
       "    </tr>\n",
       "  </thead>\n",
       "  <tbody>\n",
       "    <tr>\n",
       "      <th>0</th>\n",
       "      <td>1</td>\n",
       "      <td>151315</td>\n",
       "      <td>1</td>\n",
       "      <td>0</td>\n",
       "      <td>0</td>\n",
       "    </tr>\n",
       "    <tr>\n",
       "      <th>1</th>\n",
       "      <td>2</td>\n",
       "      <td>202307</td>\n",
       "      <td>1</td>\n",
       "      <td>0</td>\n",
       "      <td>0</td>\n",
       "    </tr>\n",
       "    <tr>\n",
       "      <th>2</th>\n",
       "      <td>3</td>\n",
       "      <td>37392</td>\n",
       "      <td>0</td>\n",
       "      <td>1</td>\n",
       "      <td>0</td>\n",
       "    </tr>\n",
       "    <tr>\n",
       "      <th>3</th>\n",
       "      <td>4</td>\n",
       "      <td>205863</td>\n",
       "      <td>1</td>\n",
       "      <td>0</td>\n",
       "      <td>0</td>\n",
       "    </tr>\n",
       "    <tr>\n",
       "      <th>4</th>\n",
       "      <td>5</td>\n",
       "      <td>34875</td>\n",
       "      <td>0</td>\n",
       "      <td>1</td>\n",
       "      <td>0</td>\n",
       "    </tr>\n",
       "  </tbody>\n",
       "</table>\n",
       "</div>"
      ],
      "text/plain": [
       "   Store    Size  type_A  type_B  type_C\n",
       "0      1  151315       1       0       0\n",
       "1      2  202307       1       0       0\n",
       "2      3   37392       0       1       0\n",
       "3      4  205863       1       0       0\n",
       "4      5   34875       0       1       0"
      ]
     },
     "execution_count": 30,
     "metadata": {},
     "output_type": "execute_result"
    }
   ],
   "source": [
    "if 'Type' in stores_df.columns:\n",
    "    stores_df = pd.get_dummies(data=stores_df, columns=['Type'], prefix='type')\n",
    "stores_df.head()"
   ]
  },
  {
   "cell_type": "markdown",
   "metadata": {},
   "source": [
    "für IsHoliday nicht nötig, weil sch boolean in int casten lässt:"
   ]
  },
  {
   "cell_type": "code",
   "execution_count": 31,
   "metadata": {},
   "outputs": [
    {
     "data": {
      "text/html": [
       "<div>\n",
       "<style scoped>\n",
       "    .dataframe tbody tr th:only-of-type {\n",
       "        vertical-align: middle;\n",
       "    }\n",
       "\n",
       "    .dataframe tbody tr th {\n",
       "        vertical-align: top;\n",
       "    }\n",
       "\n",
       "    .dataframe thead th {\n",
       "        text-align: right;\n",
       "    }\n",
       "</style>\n",
       "<table border=\"1\" class=\"dataframe\">\n",
       "  <thead>\n",
       "    <tr style=\"text-align: right;\">\n",
       "      <th></th>\n",
       "      <th>Store</th>\n",
       "      <th>Date</th>\n",
       "      <th>Fuel_Price</th>\n",
       "      <th>MarkDown1</th>\n",
       "      <th>MarkDown2</th>\n",
       "      <th>MarkDown3</th>\n",
       "      <th>MarkDown4</th>\n",
       "      <th>MarkDown5</th>\n",
       "      <th>CPI</th>\n",
       "      <th>Unemployment</th>\n",
       "      <th>IsHoliday</th>\n",
       "      <th>Temperature_F</th>\n",
       "      <th>Temperature_C</th>\n",
       "    </tr>\n",
       "  </thead>\n",
       "  <tbody>\n",
       "    <tr>\n",
       "      <th>0</th>\n",
       "      <td>1</td>\n",
       "      <td>2010-02-05</td>\n",
       "      <td>2.572</td>\n",
       "      <td>NaN</td>\n",
       "      <td>NaN</td>\n",
       "      <td>NaN</td>\n",
       "      <td>NaN</td>\n",
       "      <td>NaN</td>\n",
       "      <td>211.096358</td>\n",
       "      <td>8.106</td>\n",
       "      <td>0</td>\n",
       "      <td>42.31</td>\n",
       "      <td>5.73</td>\n",
       "    </tr>\n",
       "    <tr>\n",
       "      <th>1</th>\n",
       "      <td>1</td>\n",
       "      <td>2010-02-12</td>\n",
       "      <td>2.548</td>\n",
       "      <td>NaN</td>\n",
       "      <td>NaN</td>\n",
       "      <td>NaN</td>\n",
       "      <td>NaN</td>\n",
       "      <td>NaN</td>\n",
       "      <td>211.242170</td>\n",
       "      <td>8.106</td>\n",
       "      <td>1</td>\n",
       "      <td>38.51</td>\n",
       "      <td>3.62</td>\n",
       "    </tr>\n",
       "    <tr>\n",
       "      <th>2</th>\n",
       "      <td>1</td>\n",
       "      <td>2010-02-19</td>\n",
       "      <td>2.514</td>\n",
       "      <td>NaN</td>\n",
       "      <td>NaN</td>\n",
       "      <td>NaN</td>\n",
       "      <td>NaN</td>\n",
       "      <td>NaN</td>\n",
       "      <td>211.289143</td>\n",
       "      <td>8.106</td>\n",
       "      <td>0</td>\n",
       "      <td>39.93</td>\n",
       "      <td>4.41</td>\n",
       "    </tr>\n",
       "    <tr>\n",
       "      <th>3</th>\n",
       "      <td>1</td>\n",
       "      <td>2010-02-26</td>\n",
       "      <td>2.561</td>\n",
       "      <td>NaN</td>\n",
       "      <td>NaN</td>\n",
       "      <td>NaN</td>\n",
       "      <td>NaN</td>\n",
       "      <td>NaN</td>\n",
       "      <td>211.319643</td>\n",
       "      <td>8.106</td>\n",
       "      <td>0</td>\n",
       "      <td>46.63</td>\n",
       "      <td>8.13</td>\n",
       "    </tr>\n",
       "    <tr>\n",
       "      <th>4</th>\n",
       "      <td>1</td>\n",
       "      <td>2010-03-05</td>\n",
       "      <td>2.625</td>\n",
       "      <td>NaN</td>\n",
       "      <td>NaN</td>\n",
       "      <td>NaN</td>\n",
       "      <td>NaN</td>\n",
       "      <td>NaN</td>\n",
       "      <td>211.350143</td>\n",
       "      <td>8.106</td>\n",
       "      <td>0</td>\n",
       "      <td>46.50</td>\n",
       "      <td>8.06</td>\n",
       "    </tr>\n",
       "  </tbody>\n",
       "</table>\n",
       "</div>"
      ],
      "text/plain": [
       "   Store        Date  Fuel_Price  MarkDown1  MarkDown2  MarkDown3  MarkDown4  \\\n",
       "0      1  2010-02-05       2.572        NaN        NaN        NaN        NaN   \n",
       "1      1  2010-02-12       2.548        NaN        NaN        NaN        NaN   \n",
       "2      1  2010-02-19       2.514        NaN        NaN        NaN        NaN   \n",
       "3      1  2010-02-26       2.561        NaN        NaN        NaN        NaN   \n",
       "4      1  2010-03-05       2.625        NaN        NaN        NaN        NaN   \n",
       "\n",
       "   MarkDown5         CPI  Unemployment  IsHoliday  Temperature_F  \\\n",
       "0        NaN  211.096358         8.106          0          42.31   \n",
       "1        NaN  211.242170         8.106          1          38.51   \n",
       "2        NaN  211.289143         8.106          0          39.93   \n",
       "3        NaN  211.319643         8.106          0          46.63   \n",
       "4        NaN  211.350143         8.106          0          46.50   \n",
       "\n",
       "   Temperature_C  \n",
       "0           5.73  \n",
       "1           3.62  \n",
       "2           4.41  \n",
       "3           8.13  \n",
       "4           8.06  "
      ]
     },
     "execution_count": 31,
     "metadata": {},
     "output_type": "execute_result"
    }
   ],
   "source": [
    "features_df.IsHoliday = features_df.IsHoliday.astype(int)\n",
    "features_df.head()"
   ]
  },
  {
   "cell_type": "markdown",
   "metadata": {},
   "source": [
    "### Merge Datasets"
   ]
  },
  {
   "cell_type": "markdown",
   "metadata": {},
   "source": [
    "Hier werden die Datensets ```features_df``` und ```stores_df``` mit ```xmas_data_df``` gemerged."
   ]
  },
  {
   "cell_type": "code",
   "execution_count": 32,
   "metadata": {
    "scrolled": true
   },
   "outputs": [
    {
     "data": {
      "text/html": [
       "<div>\n",
       "<style scoped>\n",
       "    .dataframe tbody tr th:only-of-type {\n",
       "        vertical-align: middle;\n",
       "    }\n",
       "\n",
       "    .dataframe tbody tr th {\n",
       "        vertical-align: top;\n",
       "    }\n",
       "\n",
       "    .dataframe thead th {\n",
       "        text-align: right;\n",
       "    }\n",
       "</style>\n",
       "<table border=\"1\" class=\"dataframe\">\n",
       "  <thead>\n",
       "    <tr style=\"text-align: right;\">\n",
       "      <th></th>\n",
       "      <th>Store</th>\n",
       "      <th>Dept</th>\n",
       "      <th>Date</th>\n",
       "      <th>Weekly_Sales</th>\n",
       "      <th>IsHoliday</th>\n",
       "      <th>nw_black_friday</th>\n",
       "      <th>nw_new_year</th>\n",
       "      <th>nw_xmas_1st_week</th>\n",
       "      <th>nw_xmas_2nd_week</th>\n",
       "      <th>nw_xmas_3rd_week</th>\n",
       "      <th>nw_xmas_4th_week</th>\n",
       "      <th>days_2_xmas</th>\n",
       "    </tr>\n",
       "  </thead>\n",
       "  <tbody>\n",
       "    <tr>\n",
       "      <th>0</th>\n",
       "      <td>1</td>\n",
       "      <td>1</td>\n",
       "      <td>2010-02-05</td>\n",
       "      <td>24924.50</td>\n",
       "      <td>False</td>\n",
       "      <td>0</td>\n",
       "      <td>0</td>\n",
       "      <td>0</td>\n",
       "      <td>0</td>\n",
       "      <td>0</td>\n",
       "      <td>0</td>\n",
       "      <td>323</td>\n",
       "    </tr>\n",
       "    <tr>\n",
       "      <th>1</th>\n",
       "      <td>1</td>\n",
       "      <td>1</td>\n",
       "      <td>2010-02-12</td>\n",
       "      <td>46039.49</td>\n",
       "      <td>True</td>\n",
       "      <td>0</td>\n",
       "      <td>0</td>\n",
       "      <td>0</td>\n",
       "      <td>0</td>\n",
       "      <td>0</td>\n",
       "      <td>0</td>\n",
       "      <td>316</td>\n",
       "    </tr>\n",
       "    <tr>\n",
       "      <th>2</th>\n",
       "      <td>1</td>\n",
       "      <td>1</td>\n",
       "      <td>2010-02-19</td>\n",
       "      <td>41595.55</td>\n",
       "      <td>False</td>\n",
       "      <td>0</td>\n",
       "      <td>0</td>\n",
       "      <td>0</td>\n",
       "      <td>0</td>\n",
       "      <td>0</td>\n",
       "      <td>0</td>\n",
       "      <td>309</td>\n",
       "    </tr>\n",
       "    <tr>\n",
       "      <th>3</th>\n",
       "      <td>1</td>\n",
       "      <td>1</td>\n",
       "      <td>2010-02-26</td>\n",
       "      <td>19403.54</td>\n",
       "      <td>False</td>\n",
       "      <td>0</td>\n",
       "      <td>0</td>\n",
       "      <td>0</td>\n",
       "      <td>0</td>\n",
       "      <td>0</td>\n",
       "      <td>0</td>\n",
       "      <td>302</td>\n",
       "    </tr>\n",
       "    <tr>\n",
       "      <th>4</th>\n",
       "      <td>1</td>\n",
       "      <td>1</td>\n",
       "      <td>2010-03-05</td>\n",
       "      <td>21827.90</td>\n",
       "      <td>False</td>\n",
       "      <td>0</td>\n",
       "      <td>0</td>\n",
       "      <td>0</td>\n",
       "      <td>0</td>\n",
       "      <td>0</td>\n",
       "      <td>0</td>\n",
       "      <td>295</td>\n",
       "    </tr>\n",
       "  </tbody>\n",
       "</table>\n",
       "</div>"
      ],
      "text/plain": [
       "   Store  Dept       Date  Weekly_Sales  IsHoliday  nw_black_friday  \\\n",
       "0      1     1 2010-02-05      24924.50      False                0   \n",
       "1      1     1 2010-02-12      46039.49       True                0   \n",
       "2      1     1 2010-02-19      41595.55      False                0   \n",
       "3      1     1 2010-02-26      19403.54      False                0   \n",
       "4      1     1 2010-03-05      21827.90      False                0   \n",
       "\n",
       "   nw_new_year  nw_xmas_1st_week  nw_xmas_2nd_week  nw_xmas_3rd_week  \\\n",
       "0            0                 0                 0                 0   \n",
       "1            0                 0                 0                 0   \n",
       "2            0                 0                 0                 0   \n",
       "3            0                 0                 0                 0   \n",
       "4            0                 0                 0                 0   \n",
       "\n",
       "   nw_xmas_4th_week  days_2_xmas  \n",
       "0                 0          323  \n",
       "1                 0          316  \n",
       "2                 0          309  \n",
       "3                 0          302  \n",
       "4                 0          295  "
      ]
     },
     "execution_count": 32,
     "metadata": {},
     "output_type": "execute_result"
    }
   ],
   "source": [
    "xmas_data_df.head(5)"
   ]
  },
  {
   "cell_type": "code",
   "execution_count": 33,
   "metadata": {},
   "outputs": [],
   "source": [
    "features_df.Date = pd.to_datetime(features_df.Date)\n",
    "if 'IsHoliday' in xmas_data_df.columns:\n",
    "    xmas_data_df.drop(columns=['IsHoliday'],inplace=True)"
   ]
  },
  {
   "cell_type": "code",
   "execution_count": 34,
   "metadata": {},
   "outputs": [
    {
     "data": {
      "text/html": [
       "<div>\n",
       "<style scoped>\n",
       "    .dataframe tbody tr th:only-of-type {\n",
       "        vertical-align: middle;\n",
       "    }\n",
       "\n",
       "    .dataframe tbody tr th {\n",
       "        vertical-align: top;\n",
       "    }\n",
       "\n",
       "    .dataframe thead th {\n",
       "        text-align: right;\n",
       "    }\n",
       "</style>\n",
       "<table border=\"1\" class=\"dataframe\">\n",
       "  <thead>\n",
       "    <tr style=\"text-align: right;\">\n",
       "      <th></th>\n",
       "      <th>Store</th>\n",
       "      <th>Dept</th>\n",
       "      <th>Date</th>\n",
       "      <th>Weekly_Sales</th>\n",
       "      <th>nw_black_friday</th>\n",
       "      <th>nw_new_year</th>\n",
       "      <th>nw_xmas_1st_week</th>\n",
       "      <th>nw_xmas_2nd_week</th>\n",
       "      <th>nw_xmas_3rd_week</th>\n",
       "      <th>nw_xmas_4th_week</th>\n",
       "      <th>...</th>\n",
       "      <th>MarkDown5</th>\n",
       "      <th>CPI</th>\n",
       "      <th>Unemployment</th>\n",
       "      <th>IsHoliday</th>\n",
       "      <th>Temperature_F</th>\n",
       "      <th>Temperature_C</th>\n",
       "      <th>Size</th>\n",
       "      <th>type_A</th>\n",
       "      <th>type_B</th>\n",
       "      <th>type_C</th>\n",
       "    </tr>\n",
       "  </thead>\n",
       "  <tbody>\n",
       "    <tr>\n",
       "      <th>0</th>\n",
       "      <td>1</td>\n",
       "      <td>1</td>\n",
       "      <td>2010-02-05</td>\n",
       "      <td>24924.50</td>\n",
       "      <td>0</td>\n",
       "      <td>0</td>\n",
       "      <td>0</td>\n",
       "      <td>0</td>\n",
       "      <td>0</td>\n",
       "      <td>0</td>\n",
       "      <td>...</td>\n",
       "      <td>NaN</td>\n",
       "      <td>211.096358</td>\n",
       "      <td>8.106</td>\n",
       "      <td>0</td>\n",
       "      <td>42.31</td>\n",
       "      <td>5.73</td>\n",
       "      <td>151315</td>\n",
       "      <td>1</td>\n",
       "      <td>0</td>\n",
       "      <td>0</td>\n",
       "    </tr>\n",
       "    <tr>\n",
       "      <th>1</th>\n",
       "      <td>1</td>\n",
       "      <td>2</td>\n",
       "      <td>2010-02-05</td>\n",
       "      <td>50605.27</td>\n",
       "      <td>0</td>\n",
       "      <td>0</td>\n",
       "      <td>0</td>\n",
       "      <td>0</td>\n",
       "      <td>0</td>\n",
       "      <td>0</td>\n",
       "      <td>...</td>\n",
       "      <td>NaN</td>\n",
       "      <td>211.096358</td>\n",
       "      <td>8.106</td>\n",
       "      <td>0</td>\n",
       "      <td>42.31</td>\n",
       "      <td>5.73</td>\n",
       "      <td>151315</td>\n",
       "      <td>1</td>\n",
       "      <td>0</td>\n",
       "      <td>0</td>\n",
       "    </tr>\n",
       "    <tr>\n",
       "      <th>2</th>\n",
       "      <td>1</td>\n",
       "      <td>3</td>\n",
       "      <td>2010-02-05</td>\n",
       "      <td>13740.12</td>\n",
       "      <td>0</td>\n",
       "      <td>0</td>\n",
       "      <td>0</td>\n",
       "      <td>0</td>\n",
       "      <td>0</td>\n",
       "      <td>0</td>\n",
       "      <td>...</td>\n",
       "      <td>NaN</td>\n",
       "      <td>211.096358</td>\n",
       "      <td>8.106</td>\n",
       "      <td>0</td>\n",
       "      <td>42.31</td>\n",
       "      <td>5.73</td>\n",
       "      <td>151315</td>\n",
       "      <td>1</td>\n",
       "      <td>0</td>\n",
       "      <td>0</td>\n",
       "    </tr>\n",
       "    <tr>\n",
       "      <th>3</th>\n",
       "      <td>1</td>\n",
       "      <td>4</td>\n",
       "      <td>2010-02-05</td>\n",
       "      <td>39954.04</td>\n",
       "      <td>0</td>\n",
       "      <td>0</td>\n",
       "      <td>0</td>\n",
       "      <td>0</td>\n",
       "      <td>0</td>\n",
       "      <td>0</td>\n",
       "      <td>...</td>\n",
       "      <td>NaN</td>\n",
       "      <td>211.096358</td>\n",
       "      <td>8.106</td>\n",
       "      <td>0</td>\n",
       "      <td>42.31</td>\n",
       "      <td>5.73</td>\n",
       "      <td>151315</td>\n",
       "      <td>1</td>\n",
       "      <td>0</td>\n",
       "      <td>0</td>\n",
       "    </tr>\n",
       "    <tr>\n",
       "      <th>4</th>\n",
       "      <td>1</td>\n",
       "      <td>5</td>\n",
       "      <td>2010-02-05</td>\n",
       "      <td>32229.38</td>\n",
       "      <td>0</td>\n",
       "      <td>0</td>\n",
       "      <td>0</td>\n",
       "      <td>0</td>\n",
       "      <td>0</td>\n",
       "      <td>0</td>\n",
       "      <td>...</td>\n",
       "      <td>NaN</td>\n",
       "      <td>211.096358</td>\n",
       "      <td>8.106</td>\n",
       "      <td>0</td>\n",
       "      <td>42.31</td>\n",
       "      <td>5.73</td>\n",
       "      <td>151315</td>\n",
       "      <td>1</td>\n",
       "      <td>0</td>\n",
       "      <td>0</td>\n",
       "    </tr>\n",
       "  </tbody>\n",
       "</table>\n",
       "<p>5 rows × 26 columns</p>\n",
       "</div>"
      ],
      "text/plain": [
       "   Store  Dept       Date  Weekly_Sales  nw_black_friday  nw_new_year  \\\n",
       "0      1     1 2010-02-05      24924.50                0            0   \n",
       "1      1     2 2010-02-05      50605.27                0            0   \n",
       "2      1     3 2010-02-05      13740.12                0            0   \n",
       "3      1     4 2010-02-05      39954.04                0            0   \n",
       "4      1     5 2010-02-05      32229.38                0            0   \n",
       "\n",
       "   nw_xmas_1st_week  nw_xmas_2nd_week  nw_xmas_3rd_week  nw_xmas_4th_week  \\\n",
       "0                 0                 0                 0                 0   \n",
       "1                 0                 0                 0                 0   \n",
       "2                 0                 0                 0                 0   \n",
       "3                 0                 0                 0                 0   \n",
       "4                 0                 0                 0                 0   \n",
       "\n",
       "    ...    MarkDown5         CPI  Unemployment  IsHoliday  Temperature_F  \\\n",
       "0   ...          NaN  211.096358         8.106          0          42.31   \n",
       "1   ...          NaN  211.096358         8.106          0          42.31   \n",
       "2   ...          NaN  211.096358         8.106          0          42.31   \n",
       "3   ...          NaN  211.096358         8.106          0          42.31   \n",
       "4   ...          NaN  211.096358         8.106          0          42.31   \n",
       "\n",
       "   Temperature_C    Size  type_A  type_B  type_C  \n",
       "0           5.73  151315       1       0       0  \n",
       "1           5.73  151315       1       0       0  \n",
       "2           5.73  151315       1       0       0  \n",
       "3           5.73  151315       1       0       0  \n",
       "4           5.73  151315       1       0       0  \n",
       "\n",
       "[5 rows x 26 columns]"
      ]
     },
     "execution_count": 34,
     "metadata": {},
     "output_type": "execute_result"
    }
   ],
   "source": [
    "merged_df = pd.merge(xmas_data_df,features_df,on=['Store','Date'])\n",
    "merged_all_df = pd.merge(merged_df,stores_df,on='Store')\n",
    "merged_all_df.head()"
   ]
  },
  {
   "cell_type": "markdown",
   "metadata": {},
   "source": [
    "### Clean Data"
   ]
  },
  {
   "cell_type": "code",
   "execution_count": 35,
   "metadata": {},
   "outputs": [],
   "source": [
    "merged_all_df.drop(columns=['MarkDown1','MarkDown2','MarkDown3','MarkDown4','MarkDown5'],inplace=True)"
   ]
  },
  {
   "cell_type": "code",
   "execution_count": 36,
   "metadata": {},
   "outputs": [
    {
     "data": {
      "text/html": [
       "<div>\n",
       "<style scoped>\n",
       "    .dataframe tbody tr th:only-of-type {\n",
       "        vertical-align: middle;\n",
       "    }\n",
       "\n",
       "    .dataframe tbody tr th {\n",
       "        vertical-align: top;\n",
       "    }\n",
       "\n",
       "    .dataframe thead th {\n",
       "        text-align: right;\n",
       "    }\n",
       "</style>\n",
       "<table border=\"1\" class=\"dataframe\">\n",
       "  <thead>\n",
       "    <tr style=\"text-align: right;\">\n",
       "      <th></th>\n",
       "      <th>Store</th>\n",
       "      <th>Dept</th>\n",
       "      <th>Date</th>\n",
       "      <th>Weekly_Sales</th>\n",
       "      <th>nw_black_friday</th>\n",
       "      <th>nw_new_year</th>\n",
       "      <th>nw_xmas_1st_week</th>\n",
       "      <th>nw_xmas_2nd_week</th>\n",
       "      <th>nw_xmas_3rd_week</th>\n",
       "      <th>nw_xmas_4th_week</th>\n",
       "      <th>...</th>\n",
       "      <th>Fuel_Price</th>\n",
       "      <th>CPI</th>\n",
       "      <th>Unemployment</th>\n",
       "      <th>IsHoliday</th>\n",
       "      <th>Temperature_F</th>\n",
       "      <th>Temperature_C</th>\n",
       "      <th>Size</th>\n",
       "      <th>type_A</th>\n",
       "      <th>type_B</th>\n",
       "      <th>type_C</th>\n",
       "    </tr>\n",
       "  </thead>\n",
       "  <tbody>\n",
       "    <tr>\n",
       "      <th>0</th>\n",
       "      <td>1</td>\n",
       "      <td>1</td>\n",
       "      <td>2010-02-05</td>\n",
       "      <td>24924.50</td>\n",
       "      <td>0</td>\n",
       "      <td>0</td>\n",
       "      <td>0</td>\n",
       "      <td>0</td>\n",
       "      <td>0</td>\n",
       "      <td>0</td>\n",
       "      <td>...</td>\n",
       "      <td>2.572</td>\n",
       "      <td>211.096358</td>\n",
       "      <td>8.106</td>\n",
       "      <td>0</td>\n",
       "      <td>42.31</td>\n",
       "      <td>5.73</td>\n",
       "      <td>151315</td>\n",
       "      <td>1</td>\n",
       "      <td>0</td>\n",
       "      <td>0</td>\n",
       "    </tr>\n",
       "    <tr>\n",
       "      <th>1</th>\n",
       "      <td>1</td>\n",
       "      <td>2</td>\n",
       "      <td>2010-02-05</td>\n",
       "      <td>50605.27</td>\n",
       "      <td>0</td>\n",
       "      <td>0</td>\n",
       "      <td>0</td>\n",
       "      <td>0</td>\n",
       "      <td>0</td>\n",
       "      <td>0</td>\n",
       "      <td>...</td>\n",
       "      <td>2.572</td>\n",
       "      <td>211.096358</td>\n",
       "      <td>8.106</td>\n",
       "      <td>0</td>\n",
       "      <td>42.31</td>\n",
       "      <td>5.73</td>\n",
       "      <td>151315</td>\n",
       "      <td>1</td>\n",
       "      <td>0</td>\n",
       "      <td>0</td>\n",
       "    </tr>\n",
       "    <tr>\n",
       "      <th>2</th>\n",
       "      <td>1</td>\n",
       "      <td>3</td>\n",
       "      <td>2010-02-05</td>\n",
       "      <td>13740.12</td>\n",
       "      <td>0</td>\n",
       "      <td>0</td>\n",
       "      <td>0</td>\n",
       "      <td>0</td>\n",
       "      <td>0</td>\n",
       "      <td>0</td>\n",
       "      <td>...</td>\n",
       "      <td>2.572</td>\n",
       "      <td>211.096358</td>\n",
       "      <td>8.106</td>\n",
       "      <td>0</td>\n",
       "      <td>42.31</td>\n",
       "      <td>5.73</td>\n",
       "      <td>151315</td>\n",
       "      <td>1</td>\n",
       "      <td>0</td>\n",
       "      <td>0</td>\n",
       "    </tr>\n",
       "    <tr>\n",
       "      <th>3</th>\n",
       "      <td>1</td>\n",
       "      <td>4</td>\n",
       "      <td>2010-02-05</td>\n",
       "      <td>39954.04</td>\n",
       "      <td>0</td>\n",
       "      <td>0</td>\n",
       "      <td>0</td>\n",
       "      <td>0</td>\n",
       "      <td>0</td>\n",
       "      <td>0</td>\n",
       "      <td>...</td>\n",
       "      <td>2.572</td>\n",
       "      <td>211.096358</td>\n",
       "      <td>8.106</td>\n",
       "      <td>0</td>\n",
       "      <td>42.31</td>\n",
       "      <td>5.73</td>\n",
       "      <td>151315</td>\n",
       "      <td>1</td>\n",
       "      <td>0</td>\n",
       "      <td>0</td>\n",
       "    </tr>\n",
       "    <tr>\n",
       "      <th>4</th>\n",
       "      <td>1</td>\n",
       "      <td>5</td>\n",
       "      <td>2010-02-05</td>\n",
       "      <td>32229.38</td>\n",
       "      <td>0</td>\n",
       "      <td>0</td>\n",
       "      <td>0</td>\n",
       "      <td>0</td>\n",
       "      <td>0</td>\n",
       "      <td>0</td>\n",
       "      <td>...</td>\n",
       "      <td>2.572</td>\n",
       "      <td>211.096358</td>\n",
       "      <td>8.106</td>\n",
       "      <td>0</td>\n",
       "      <td>42.31</td>\n",
       "      <td>5.73</td>\n",
       "      <td>151315</td>\n",
       "      <td>1</td>\n",
       "      <td>0</td>\n",
       "      <td>0</td>\n",
       "    </tr>\n",
       "  </tbody>\n",
       "</table>\n",
       "<p>5 rows × 21 columns</p>\n",
       "</div>"
      ],
      "text/plain": [
       "   Store  Dept       Date  Weekly_Sales  nw_black_friday  nw_new_year  \\\n",
       "0      1     1 2010-02-05      24924.50                0            0   \n",
       "1      1     2 2010-02-05      50605.27                0            0   \n",
       "2      1     3 2010-02-05      13740.12                0            0   \n",
       "3      1     4 2010-02-05      39954.04                0            0   \n",
       "4      1     5 2010-02-05      32229.38                0            0   \n",
       "\n",
       "   nw_xmas_1st_week  nw_xmas_2nd_week  nw_xmas_3rd_week  nw_xmas_4th_week  \\\n",
       "0                 0                 0                 0                 0   \n",
       "1                 0                 0                 0                 0   \n",
       "2                 0                 0                 0                 0   \n",
       "3                 0                 0                 0                 0   \n",
       "4                 0                 0                 0                 0   \n",
       "\n",
       "    ...    Fuel_Price         CPI  Unemployment  IsHoliday  Temperature_F  \\\n",
       "0   ...         2.572  211.096358         8.106          0          42.31   \n",
       "1   ...         2.572  211.096358         8.106          0          42.31   \n",
       "2   ...         2.572  211.096358         8.106          0          42.31   \n",
       "3   ...         2.572  211.096358         8.106          0          42.31   \n",
       "4   ...         2.572  211.096358         8.106          0          42.31   \n",
       "\n",
       "   Temperature_C    Size  type_A  type_B  type_C  \n",
       "0           5.73  151315       1       0       0  \n",
       "1           5.73  151315       1       0       0  \n",
       "2           5.73  151315       1       0       0  \n",
       "3           5.73  151315       1       0       0  \n",
       "4           5.73  151315       1       0       0  \n",
       "\n",
       "[5 rows x 21 columns]"
      ]
     },
     "execution_count": 36,
     "metadata": {},
     "output_type": "execute_result"
    }
   ],
   "source": [
    "merged_all_df.head()"
   ]
  },
  {
   "cell_type": "code",
   "execution_count": 37,
   "metadata": {},
   "outputs": [
    {
     "data": {
      "text/plain": [
       "Store               0\n",
       "Dept                0\n",
       "Date                0\n",
       "Weekly_Sales        0\n",
       "nw_black_friday     0\n",
       "nw_new_year         0\n",
       "nw_xmas_1st_week    0\n",
       "nw_xmas_2nd_week    0\n",
       "nw_xmas_3rd_week    0\n",
       "nw_xmas_4th_week    0\n",
       "days_2_xmas         0\n",
       "Fuel_Price          0\n",
       "CPI                 0\n",
       "Unemployment        0\n",
       "IsHoliday           0\n",
       "Temperature_F       0\n",
       "Temperature_C       0\n",
       "Size                0\n",
       "type_A              0\n",
       "type_B              0\n",
       "type_C              0\n",
       "dtype: int64"
      ]
     },
     "execution_count": 37,
     "metadata": {},
     "output_type": "execute_result"
    }
   ],
   "source": [
    "merged_all_df.isnull().sum()"
   ]
  },
  {
   "cell_type": "code",
   "execution_count": 38,
   "metadata": {},
   "outputs": [
    {
     "data": {
      "text/plain": [
       "<matplotlib.axes._subplots.AxesSubplot at 0x1a24c79e10>"
      ]
     },
     "execution_count": 38,
     "metadata": {},
     "output_type": "execute_result"
    },
    {
     "data": {
      "image/png": "[encoded data removed]",
      "text/plain": [
       "<matplotlib.figure.Figure at 0x1a24c79ba8>"
      ]
     },
     "metadata": {},
     "output_type": "display_data"
    }
   ],
   "source": [
    "corr = merged_all_df.iloc[:,3:].corr()\n",
    "\n",
    "# Generate a mask for the upper triangle\n",
    "mask = np.zeros_like(corr, dtype=np.bool)\n",
    "mask[np.triu_indices_from(mask)] = True\n",
    "\n",
    "# Set up the matplotlib figure\n",
    "f, ax = plt.subplots(figsize=(11, 9))\n",
    "\n",
    "# Generate a custom diverging colormap\n",
    "cmap = sns.diverging_palette(220, 10, as_cmap=True)\n",
    "\n",
    "# Draw the heatmap with the mask and correct aspect ratio\n",
    "sns.heatmap(corr, mask=mask, cmap=cmap, center=0,\n",
    "            square=True, linewidths=.5, cbar_kws={\"shrink\": .5})"
   ]
  },
  {
   "cell_type": "markdown",
   "metadata": {},
   "source": [
    "Begründung warum keine Korrelation zwischen nw_new_year und IsHoliday, aber schon zwischen nw_xmas_1st_week und IsHoliday"
   ]
  },
  {
   "cell_type": "markdown",
   "metadata": {},
   "source": [
    "Begründung drop temp Fahrenheit wegen 100% Kokain"
   ]
  },
  {
   "cell_type": "code",
   "execution_count": 39,
   "metadata": {},
   "outputs": [],
   "source": [
    "if 'Temperature_F' in merged_all_df.columns:\n",
    "    merged_all_df.drop(columns='Temperature_F',inplace=True)"
   ]
  },
  {
   "cell_type": "markdown",
   "metadata": {},
   "source": [
    "__Fertig Vorbereitung:__\n",
    "Wir haben eine Datensatz mit x Messpunkten und y Zeilen"
   ]
  },
  {
   "cell_type": "code",
   "execution_count": 40,
   "metadata": {},
   "outputs": [
    {
     "data": {
      "text/plain": [
       "(294132, 20)"
      ]
     },
     "metadata": {},
     "output_type": "display_data"
    }
   ],
   "source": [
    "display(merged_all_df.shape)"
   ]
  },
  {
   "cell_type": "markdown",
   "metadata": {},
   "source": [
    "### Normalize Data"
   ]
  },
  {
   "cell_type": "markdown",
   "metadata": {},
   "source": [
    "Die Normalisierung wird innerhalb des Generators erfolgen."
   ]
  },
  {
   "cell_type": "markdown",
   "metadata": {},
   "source": [
    "### Rolling / Windowing"
   ]
  },
  {
   "cell_type": "code",
   "execution_count": 41,
   "metadata": {},
   "outputs": [],
   "source": [
    "#merged_all_df['smooth_weekly_sales'] = merged_all_df['Weekly_Sales'].rolling(window=5,center=False).mean()\n",
    "#display(merged_all_df[['Weekly_Sales','smooth_weekly_sales']])"
   ]
  },
  {
   "cell_type": "markdown",
   "metadata": {},
   "source": [
    "### Dictionary bauen: Neural Network Approach"
   ]
  },
  {
   "cell_type": "markdown",
   "metadata": {},
   "source": [
    "Danke an [Kevin Palmer](https://github.com/kevinpalm/walmart_sales_forecast/blob/master/final_model.py)."
   ]
  },
  {
   "cell_type": "code",
   "execution_count": 42,
   "metadata": {},
   "outputs": [],
   "source": [
    "multi_dict = {}"
   ]
  },
  {
   "cell_type": "markdown",
   "metadata": {},
   "source": [
    "Alle Store-Dept-IDs generieren"
   ]
  },
  {
   "cell_type": "code",
   "execution_count": 43,
   "metadata": {},
   "outputs": [
    {
     "name": "stdout",
     "output_type": "stream",
     "text": [
      "3302\n"
     ]
    }
   ],
   "source": [
    "merged_all_df['Store_Dept'] = merged_all_df.Store.astype(str) + '_' + merged_all_df.Dept.astype(str)\n",
    "print(merged_all_df.Store_Dept.nunique())"
   ]
  },
  {
   "cell_type": "markdown",
   "metadata": {},
   "source": [
    "Die Schlüssel für die erste Ebene anlegen  \n",
    "__HIER IST DIE WEICHE FÜR STORE_DEPT-Kombos__"
   ]
  },
  {
   "cell_type": "raw",
   "metadata": {},
   "source": [
    "for store_dept in set(merged_all_df.Store_Dept.tolist()):\n",
    "    multi_dict[store_dept] = {}\n",
    "print(len(multi_dict))"
   ]
  },
  {
   "cell_type": "markdown",
   "metadata": {},
   "source": [
    "Damit die Prüfungen im weitern Verlauf alle funktionieren, __MUSS__ die Store-Department-Kombination ```1_1``` __IMMER__ enthalten sein!"
   ]
  },
  {
   "cell_type": "code",
   "execution_count": 44,
   "metadata": {},
   "outputs": [
    {
     "name": "stdout",
     "output_type": "stream",
     "text": [
      "2\n"
     ]
    }
   ],
   "source": [
    "store_dept_subgroup = ['1_1', '2_1']\n",
    "\n",
    "for store_dept in store_dept_subgroup:\n",
    "    multi_dict[store_dept] = {}\n",
    "print(len(multi_dict))"
   ]
  },
  {
   "cell_type": "markdown",
   "metadata": {},
   "source": [
    "### Split Datasets"
   ]
  },
  {
   "cell_type": "markdown",
   "metadata": {},
   "source": [
    "#### Validation je Store und Depatment"
   ]
  },
  {
   "cell_type": "markdown",
   "metadata": {},
   "source": [
    "__Abspalten Validation:__"
   ]
  },
  {
   "cell_type": "markdown",
   "metadata": {},
   "source": [
    "<img src=\"./media/calendar.jpg\" width=\"500\"/>"
   ]
  },
  {
   "cell_type": "markdown",
   "metadata": {},
   "source": [
    "Dir rote Woche wegschneiden"
   ]
  },
  {
   "cell_type": "code",
   "execution_count": 45,
   "metadata": {},
   "outputs": [
    {
     "name": "stdout",
     "output_type": "stream",
     "text": [
      "2011-12-23 00:00:00\n"
     ]
    }
   ],
   "source": [
    "date_cutoff = date(2011,12,30)\n",
    "merged_all_df.drop(merged_all_df[(merged_all_df.Date >= date_cutoff)].index, inplace=True)\n",
    "print(merged_all_df.Date.max())"
   ]
  },
  {
   "cell_type": "markdown",
   "metadata": {},
   "source": [
    "__Erklärung:__  \n",
    "Sehr hässlich, allerdings nachträglich notwendig geworden für Data Preparation für Bäume."
   ]
  },
  {
   "cell_type": "code",
   "execution_count": 46,
   "metadata": {},
   "outputs": [],
   "source": [
    "merged_all_for_tree_df = merged_all_df.copy()"
   ]
  },
  {
   "cell_type": "markdown",
   "metadata": {},
   "source": [
    "Die einzelnen val_dfs für store-dept erzeugen und ins dict speichern"
   ]
  },
  {
   "cell_type": "code",
   "execution_count": 47,
   "metadata": {
    "scrolled": true
   },
   "outputs": [],
   "source": [
    "date_start_windowing = date(2011,11,25)\n",
    "date_validation_week = date(2011,12,23)\n",
    "\n",
    "if date_validation_week in merged_all_df.Date.dt.date.values:\n",
    "    for store_dept in multi_dict.keys():\n",
    "        multi_dict[store_dept]['val_data_df'] = merged_all_df[(merged_all_df.Date >= date_start_windowing)&(merged_all_df.Store_Dept == store_dept)].reset_index(drop=True)"
   ]
  },
  {
   "cell_type": "code",
   "execution_count": 48,
   "metadata": {},
   "outputs": [
    {
     "data": {
      "text/plain": [
       "dict_keys(['val_data_df'])"
      ]
     },
     "execution_count": 48,
     "metadata": {},
     "output_type": "execute_result"
    }
   ],
   "source": [
    "multi_dict['1_1'].keys()"
   ]
  },
  {
   "cell_type": "code",
   "execution_count": 49,
   "metadata": {},
   "outputs": [
    {
     "data": {
      "text/html": [
       "<div>\n",
       "<style scoped>\n",
       "    .dataframe tbody tr th:only-of-type {\n",
       "        vertical-align: middle;\n",
       "    }\n",
       "\n",
       "    .dataframe tbody tr th {\n",
       "        vertical-align: top;\n",
       "    }\n",
       "\n",
       "    .dataframe thead th {\n",
       "        text-align: right;\n",
       "    }\n",
       "</style>\n",
       "<table border=\"1\" class=\"dataframe\">\n",
       "  <thead>\n",
       "    <tr style=\"text-align: right;\">\n",
       "      <th></th>\n",
       "      <th>Store</th>\n",
       "      <th>Dept</th>\n",
       "      <th>Date</th>\n",
       "      <th>Weekly_Sales</th>\n",
       "    </tr>\n",
       "  </thead>\n",
       "  <tbody>\n",
       "    <tr>\n",
       "      <th>0</th>\n",
       "      <td>1</td>\n",
       "      <td>1</td>\n",
       "      <td>2011-11-25</td>\n",
       "      <td>20911.25</td>\n",
       "    </tr>\n",
       "    <tr>\n",
       "      <th>1</th>\n",
       "      <td>1</td>\n",
       "      <td>1</td>\n",
       "      <td>2011-12-02</td>\n",
       "      <td>25293.49</td>\n",
       "    </tr>\n",
       "    <tr>\n",
       "      <th>2</th>\n",
       "      <td>1</td>\n",
       "      <td>1</td>\n",
       "      <td>2011-12-09</td>\n",
       "      <td>33305.92</td>\n",
       "    </tr>\n",
       "    <tr>\n",
       "      <th>3</th>\n",
       "      <td>1</td>\n",
       "      <td>1</td>\n",
       "      <td>2011-12-16</td>\n",
       "      <td>45773.03</td>\n",
       "    </tr>\n",
       "    <tr>\n",
       "      <th>4</th>\n",
       "      <td>1</td>\n",
       "      <td>1</td>\n",
       "      <td>2011-12-23</td>\n",
       "      <td>46788.75</td>\n",
       "    </tr>\n",
       "  </tbody>\n",
       "</table>\n",
       "</div>"
      ],
      "text/plain": [
       "   Store  Dept       Date  Weekly_Sales\n",
       "0      1     1 2011-11-25      20911.25\n",
       "1      1     1 2011-12-02      25293.49\n",
       "2      1     1 2011-12-09      33305.92\n",
       "3      1     1 2011-12-16      45773.03\n",
       "4      1     1 2011-12-23      46788.75"
      ]
     },
     "execution_count": 49,
     "metadata": {},
     "output_type": "execute_result"
    }
   ],
   "source": [
    "multi_dict['1_1']['val_data_df'][['Store', 'Dept', 'Date', 'Weekly_Sales']]"
   ]
  },
  {
   "cell_type": "markdown",
   "metadata": {},
   "source": [
    "Die Validation Week aus dem Datensatz nehmen"
   ]
  },
  {
   "cell_type": "code",
   "execution_count": 50,
   "metadata": {},
   "outputs": [
    {
     "name": "stdout",
     "output_type": "stream",
     "text": [
      "2011-12-16 00:00:00\n"
     ]
    }
   ],
   "source": [
    "merged_all_df.drop(merged_all_df[(merged_all_df.Date == date_validation_week)].index, inplace=True)\n",
    "print(merged_all_df.Date.max())"
   ]
  },
  {
   "cell_type": "markdown",
   "metadata": {},
   "source": [
    "Die Validierungs-Woche ist also nicht mehr enthalten:"
   ]
  },
  {
   "cell_type": "code",
   "execution_count": 51,
   "metadata": {},
   "outputs": [
    {
     "data": {
      "text/html": [
       "<div>\n",
       "<style scoped>\n",
       "    .dataframe tbody tr th:only-of-type {\n",
       "        vertical-align: middle;\n",
       "    }\n",
       "\n",
       "    .dataframe tbody tr th {\n",
       "        vertical-align: top;\n",
       "    }\n",
       "\n",
       "    .dataframe thead th {\n",
       "        text-align: right;\n",
       "    }\n",
       "</style>\n",
       "<table border=\"1\" class=\"dataframe\">\n",
       "  <thead>\n",
       "    <tr style=\"text-align: right;\">\n",
       "      <th></th>\n",
       "      <th>Store</th>\n",
       "      <th>Dept</th>\n",
       "      <th>Date</th>\n",
       "      <th>Weekly_Sales</th>\n",
       "    </tr>\n",
       "  </thead>\n",
       "  <tbody>\n",
       "    <tr>\n",
       "      <th>0</th>\n",
       "      <td>1</td>\n",
       "      <td>1</td>\n",
       "      <td>2011-11-25</td>\n",
       "      <td>20911.25</td>\n",
       "    </tr>\n",
       "    <tr>\n",
       "      <th>1</th>\n",
       "      <td>1</td>\n",
       "      <td>1</td>\n",
       "      <td>2011-12-02</td>\n",
       "      <td>25293.49</td>\n",
       "    </tr>\n",
       "    <tr>\n",
       "      <th>2</th>\n",
       "      <td>1</td>\n",
       "      <td>1</td>\n",
       "      <td>2011-12-09</td>\n",
       "      <td>33305.92</td>\n",
       "    </tr>\n",
       "    <tr>\n",
       "      <th>3</th>\n",
       "      <td>1</td>\n",
       "      <td>1</td>\n",
       "      <td>2011-12-16</td>\n",
       "      <td>45773.03</td>\n",
       "    </tr>\n",
       "  </tbody>\n",
       "</table>\n",
       "</div>"
      ],
      "text/plain": [
       "   Store  Dept       Date  Weekly_Sales\n",
       "0      1     1 2011-11-25      20911.25\n",
       "1      1     1 2011-12-02      25293.49\n",
       "2      1     1 2011-12-09      33305.92\n",
       "3      1     1 2011-12-16      45773.03"
      ]
     },
     "execution_count": 51,
     "metadata": {},
     "output_type": "execute_result"
    }
   ],
   "source": [
    "merged_all_df[(merged_all_df.Date >= date_start_windowing)&(merged_all_df.Store_Dept == '1_1')][['Store', 'Dept', 'Date', 'Weekly_Sales']].reset_index(drop=True)"
   ]
  },
  {
   "cell_type": "markdown",
   "metadata": {},
   "source": [
    "#### Train-Test-Daten je Store und Department"
   ]
  },
  {
   "cell_type": "markdown",
   "metadata": {},
   "source": [
    "Alle Dataframes nach Store-Dept abspeichern"
   ]
  },
  {
   "cell_type": "code",
   "execution_count": 52,
   "metadata": {},
   "outputs": [],
   "source": [
    "def restructure_df_for_target_variable(df):\n",
    "    return df[['Date',\n",
    "       'nw_black_friday', 'nw_new_year', 'nw_xmas_1st_week', 'nw_xmas_2nd_week',\n",
    "       'nw_xmas_3rd_week', 'nw_xmas_4th_week', 'days_2_xmas', 'Fuel_Price',\n",
    "       'CPI', 'Unemployment', 'IsHoliday', 'Temperature_C', 'Size', 'type_A',\n",
    "       'type_B', 'type_C', 'Weekly_Sales']].reset_index(drop=True)"
   ]
  },
  {
   "cell_type": "code",
   "execution_count": 53,
   "metadata": {},
   "outputs": [],
   "source": [
    "for store_dept in multi_dict.keys():\n",
    "    multi_dict[store_dept]['train_test_df'] = restructure_df_for_target_variable(merged_all_df[(merged_all_df.Store_Dept == store_dept)])"
   ]
  },
  {
   "cell_type": "code",
   "execution_count": 54,
   "metadata": {},
   "outputs": [
    {
     "data": {
      "text/plain": [
       "dict_keys(['val_data_df', 'train_test_df'])"
      ]
     },
     "execution_count": 54,
     "metadata": {},
     "output_type": "execute_result"
    }
   ],
   "source": [
    "multi_dict['1_1'].keys()"
   ]
  },
  {
   "cell_type": "code",
   "execution_count": 55,
   "metadata": {},
   "outputs": [
    {
     "data": {
      "text/html": [
       "<div>\n",
       "<style scoped>\n",
       "    .dataframe tbody tr th:only-of-type {\n",
       "        vertical-align: middle;\n",
       "    }\n",
       "\n",
       "    .dataframe tbody tr th {\n",
       "        vertical-align: top;\n",
       "    }\n",
       "\n",
       "    .dataframe thead th {\n",
       "        text-align: right;\n",
       "    }\n",
       "</style>\n",
       "<table border=\"1\" class=\"dataframe\">\n",
       "  <thead>\n",
       "    <tr style=\"text-align: right;\">\n",
       "      <th></th>\n",
       "      <th>Date</th>\n",
       "      <th>nw_black_friday</th>\n",
       "      <th>nw_new_year</th>\n",
       "      <th>nw_xmas_1st_week</th>\n",
       "      <th>nw_xmas_2nd_week</th>\n",
       "      <th>nw_xmas_3rd_week</th>\n",
       "      <th>nw_xmas_4th_week</th>\n",
       "      <th>days_2_xmas</th>\n",
       "      <th>Fuel_Price</th>\n",
       "      <th>CPI</th>\n",
       "      <th>Unemployment</th>\n",
       "      <th>IsHoliday</th>\n",
       "      <th>Temperature_C</th>\n",
       "      <th>Size</th>\n",
       "      <th>type_A</th>\n",
       "      <th>type_B</th>\n",
       "      <th>type_C</th>\n",
       "      <th>Weekly_Sales</th>\n",
       "    </tr>\n",
       "  </thead>\n",
       "  <tbody>\n",
       "    <tr>\n",
       "      <th>0</th>\n",
       "      <td>2010-02-05</td>\n",
       "      <td>0</td>\n",
       "      <td>0</td>\n",
       "      <td>0</td>\n",
       "      <td>0</td>\n",
       "      <td>0</td>\n",
       "      <td>0</td>\n",
       "      <td>323</td>\n",
       "      <td>2.572</td>\n",
       "      <td>211.096358</td>\n",
       "      <td>8.106</td>\n",
       "      <td>0</td>\n",
       "      <td>5.73</td>\n",
       "      <td>151315</td>\n",
       "      <td>1</td>\n",
       "      <td>0</td>\n",
       "      <td>0</td>\n",
       "      <td>24924.50</td>\n",
       "    </tr>\n",
       "    <tr>\n",
       "      <th>1</th>\n",
       "      <td>2010-02-12</td>\n",
       "      <td>0</td>\n",
       "      <td>0</td>\n",
       "      <td>0</td>\n",
       "      <td>0</td>\n",
       "      <td>0</td>\n",
       "      <td>0</td>\n",
       "      <td>316</td>\n",
       "      <td>2.548</td>\n",
       "      <td>211.242170</td>\n",
       "      <td>8.106</td>\n",
       "      <td>1</td>\n",
       "      <td>3.62</td>\n",
       "      <td>151315</td>\n",
       "      <td>1</td>\n",
       "      <td>0</td>\n",
       "      <td>0</td>\n",
       "      <td>46039.49</td>\n",
       "    </tr>\n",
       "    <tr>\n",
       "      <th>2</th>\n",
       "      <td>2010-02-19</td>\n",
       "      <td>0</td>\n",
       "      <td>0</td>\n",
       "      <td>0</td>\n",
       "      <td>0</td>\n",
       "      <td>0</td>\n",
       "      <td>0</td>\n",
       "      <td>309</td>\n",
       "      <td>2.514</td>\n",
       "      <td>211.289143</td>\n",
       "      <td>8.106</td>\n",
       "      <td>0</td>\n",
       "      <td>4.41</td>\n",
       "      <td>151315</td>\n",
       "      <td>1</td>\n",
       "      <td>0</td>\n",
       "      <td>0</td>\n",
       "      <td>41595.55</td>\n",
       "    </tr>\n",
       "    <tr>\n",
       "      <th>3</th>\n",
       "      <td>2010-02-26</td>\n",
       "      <td>0</td>\n",
       "      <td>0</td>\n",
       "      <td>0</td>\n",
       "      <td>0</td>\n",
       "      <td>0</td>\n",
       "      <td>0</td>\n",
       "      <td>302</td>\n",
       "      <td>2.561</td>\n",
       "      <td>211.319643</td>\n",
       "      <td>8.106</td>\n",
       "      <td>0</td>\n",
       "      <td>8.13</td>\n",
       "      <td>151315</td>\n",
       "      <td>1</td>\n",
       "      <td>0</td>\n",
       "      <td>0</td>\n",
       "      <td>19403.54</td>\n",
       "    </tr>\n",
       "    <tr>\n",
       "      <th>4</th>\n",
       "      <td>2010-03-05</td>\n",
       "      <td>0</td>\n",
       "      <td>0</td>\n",
       "      <td>0</td>\n",
       "      <td>0</td>\n",
       "      <td>0</td>\n",
       "      <td>0</td>\n",
       "      <td>295</td>\n",
       "      <td>2.625</td>\n",
       "      <td>211.350143</td>\n",
       "      <td>8.106</td>\n",
       "      <td>0</td>\n",
       "      <td>8.06</td>\n",
       "      <td>151315</td>\n",
       "      <td>1</td>\n",
       "      <td>0</td>\n",
       "      <td>0</td>\n",
       "      <td>21827.90</td>\n",
       "    </tr>\n",
       "  </tbody>\n",
       "</table>\n",
       "</div>"
      ],
      "text/plain": [
       "        Date  nw_black_friday  nw_new_year  nw_xmas_1st_week  \\\n",
       "0 2010-02-05                0            0                 0   \n",
       "1 2010-02-12                0            0                 0   \n",
       "2 2010-02-19                0            0                 0   \n",
       "3 2010-02-26                0            0                 0   \n",
       "4 2010-03-05                0            0                 0   \n",
       "\n",
       "   nw_xmas_2nd_week  nw_xmas_3rd_week  nw_xmas_4th_week  days_2_xmas  \\\n",
       "0                 0                 0                 0          323   \n",
       "1                 0                 0                 0          316   \n",
       "2                 0                 0                 0          309   \n",
       "3                 0                 0                 0          302   \n",
       "4                 0                 0                 0          295   \n",
       "\n",
       "   Fuel_Price         CPI  Unemployment  IsHoliday  Temperature_C    Size  \\\n",
       "0       2.572  211.096358         8.106          0           5.73  151315   \n",
       "1       2.548  211.242170         8.106          1           3.62  151315   \n",
       "2       2.514  211.289143         8.106          0           4.41  151315   \n",
       "3       2.561  211.319643         8.106          0           8.13  151315   \n",
       "4       2.625  211.350143         8.106          0           8.06  151315   \n",
       "\n",
       "   type_A  type_B  type_C  Weekly_Sales  \n",
       "0       1       0       0      24924.50  \n",
       "1       1       0       0      46039.49  \n",
       "2       1       0       0      41595.55  \n",
       "3       1       0       0      19403.54  \n",
       "4       1       0       0      21827.90  "
      ]
     },
     "execution_count": 55,
     "metadata": {},
     "output_type": "execute_result"
    }
   ],
   "source": [
    "multi_dict['1_1']['train_test_df'].head()"
   ]
  },
  {
   "cell_type": "markdown",
   "metadata": {},
   "source": [
    "#### Train-Test-Split"
   ]
  },
  {
   "cell_type": "code",
   "execution_count": 56,
   "metadata": {},
   "outputs": [],
   "source": [
    "def scale_data(data_np, scaler=None):\n",
    "    if not scaler:\n",
    "        scaler = StandardScaler().fit(data_np)\n",
    "    return scaler.transform(data_np), scaler"
   ]
  },
  {
   "cell_type": "code",
   "execution_count": 57,
   "metadata": {},
   "outputs": [],
   "source": [
    "def get_X_y_scalers(data_df):\n",
    "    data_np = data_df.drop(columns='Date').values\n",
    "    X_scaler = StandardScaler().fit(data_np[:,:-1])\n",
    "    y_scaler = StandardScaler().fit(data_np[:,-1].reshape(-1, 1))\n",
    "    return X_scaler, y_scaler"
   ]
  },
  {
   "cell_type": "code",
   "execution_count": 58,
   "metadata": {},
   "outputs": [],
   "source": [
    "def X_y_split(data_df, lookback, delay, X_y_scaler=None):\n",
    "    data_np = data_df.drop(columns='Date').values\n",
    "    data_rows = np.arange(lookback, data_np.shape[0] - delay)\n",
    "    \n",
    "    scaled_data_np, X_y_scaler = scale_data(data_np, X_y_scaler)\n",
    "\n",
    "    X_np = np.zeros((len(data_rows), lookback, scaled_data_np.shape[1]-1))\n",
    "    y_np = np.zeros((len(data_rows),))\n",
    "    \n",
    "    for i, row in enumerate(data_rows):\n",
    "        indices = range(row - lookback, row)\n",
    "        X_np[i] = scaled_data_np[indices,:-1]\n",
    "        y_np[i] = scaled_data_np[row + delay][-1]\n",
    "    \n",
    "    return X_np, y_np, X_y_scaler"
   ]
  },
  {
   "cell_type": "code",
   "execution_count": 59,
   "metadata": {},
   "outputs": [],
   "source": [
    "def split_data(data, lookback, delay, cutoff_date):\n",
    "    train_samples, train_targets, X_y_scaler = X_y_split(data[data.Date <= cutoff_date], lookback, delay)\n",
    "    test_samples, test_targets, X_y_scaler = X_y_split(data[data.Date > cutoff_date], lookback, delay, X_y_scaler)\n",
    "    return train_samples, train_targets, test_samples, test_targets, X_y_scaler"
   ]
  },
  {
   "cell_type": "markdown",
   "metadata": {},
   "source": [
    "Definiere Split-Attribute"
   ]
  },
  {
   "cell_type": "code",
   "execution_count": 60,
   "metadata": {},
   "outputs": [],
   "source": [
    "lookback = 4\n",
    "delay = 0\n",
    "cutoff_date = '2011-05-01'"
   ]
  },
  {
   "cell_type": "markdown",
   "metadata": {},
   "source": [
    "Hole X- und y-scaler"
   ]
  },
  {
   "cell_type": "code",
   "execution_count": 61,
   "metadata": {},
   "outputs": [],
   "source": [
    "for store_dept in multi_dict.keys():\n",
    "    df = multi_dict[store_dept]['train_test_df']\n",
    "    X_scaler, y_scaler = get_X_y_scalers(df[df.Date <= cutoff_date])\n",
    "    multi_dict[store_dept]['X_scaler'] = X_scaler\n",
    "    multi_dict[store_dept]['y_scaler'] = y_scaler"
   ]
  },
  {
   "cell_type": "code",
   "execution_count": 62,
   "metadata": {},
   "outputs": [
    {
     "data": {
      "text/plain": [
       "dict_keys(['val_data_df', 'train_test_df', 'X_scaler', 'y_scaler'])"
      ]
     },
     "execution_count": 62,
     "metadata": {},
     "output_type": "execute_result"
    }
   ],
   "source": [
    "multi_dict['1_1'].keys()"
   ]
  },
  {
   "cell_type": "markdown",
   "metadata": {},
   "source": [
    "Hole Trainings- und Test-daten"
   ]
  },
  {
   "cell_type": "code",
   "execution_count": 63,
   "metadata": {},
   "outputs": [],
   "source": [
    "for store_dept in multi_dict.keys():\n",
    "    X_train, y_train, X_test, y_test, X_y_scaler = split_data(multi_dict[store_dept]['train_test_df'], lookback, delay, cutoff_date)\n",
    "    multi_dict[store_dept]['X_train'] = X_train\n",
    "    multi_dict[store_dept]['y_train'] = y_train\n",
    "    multi_dict[store_dept]['X_test'] = X_test\n",
    "    multi_dict[store_dept]['y_test'] = y_test\n",
    "    multi_dict[store_dept]['X_y_scaler'] = X_y_scaler"
   ]
  },
  {
   "cell_type": "code",
   "execution_count": 64,
   "metadata": {},
   "outputs": [
    {
     "data": {
      "text/plain": [
       "dict_keys(['val_data_df', 'train_test_df', 'X_scaler', 'y_scaler', 'X_train', 'y_train', 'X_test', 'y_test', 'X_y_scaler'])"
      ]
     },
     "execution_count": 64,
     "metadata": {},
     "output_type": "execute_result"
    }
   ],
   "source": [
    "multi_dict['1_1'].keys()"
   ]
  },
  {
   "cell_type": "markdown",
   "metadata": {},
   "source": [
    "__Zu prüfen:__\n",
    "Wurden wirklich die korrekten Werte für die Examples verarbeitet? Dazu vergleiche ich den ersten Messpunkt:"
   ]
  },
  {
   "cell_type": "code",
   "execution_count": 65,
   "metadata": {},
   "outputs": [
    {
     "data": {
      "text/plain": [
       "array([-0.125     , -0.125     , -0.125     , -0.125     , -0.125     ,\n",
       "       -0.125     ,  1.23097872, -0.88158673, -0.63212245,  2.46911839,\n",
       "       -0.28867513, -1.50046034,  0.        ,  0.        ,  0.        ,\n",
       "        0.        ])"
      ]
     },
     "execution_count": 65,
     "metadata": {},
     "output_type": "execute_result"
    }
   ],
   "source": [
    "multi_dict['1_1']['X_train'][0][0]"
   ]
  },
  {
   "cell_type": "code",
   "execution_count": 66,
   "metadata": {},
   "outputs": [
    {
     "data": {
      "text/plain": [
       "array([0.00000000e+00, 0.00000000e+00, 0.00000000e+00, 0.00000000e+00,\n",
       "       0.00000000e+00, 0.00000000e+00, 3.23000000e+02, 2.57200000e+00,\n",
       "       2.11096358e+02, 8.10600000e+00, 0.00000000e+00, 5.73000000e+00,\n",
       "       1.51315000e+05, 1.00000000e+00, 0.00000000e+00, 0.00000000e+00])"
      ]
     },
     "execution_count": 66,
     "metadata": {},
     "output_type": "execute_result"
    }
   ],
   "source": [
    "multi_dict['1_1']['X_scaler'].inverse_transform(multi_dict['1_1']['X_train'][0][0])"
   ]
  },
  {
   "cell_type": "code",
   "execution_count": 67,
   "metadata": {},
   "outputs": [
    {
     "data": {
      "text/plain": [
       "Date                2010-02-05 00:00:00\n",
       "nw_black_friday                       0\n",
       "nw_new_year                           0\n",
       "nw_xmas_1st_week                      0\n",
       "nw_xmas_2nd_week                      0\n",
       "nw_xmas_3rd_week                      0\n",
       "nw_xmas_4th_week                      0\n",
       "days_2_xmas                         323\n",
       "Fuel_Price                        2.572\n",
       "CPI                             211.096\n",
       "Unemployment                      8.106\n",
       "IsHoliday                             0\n",
       "Temperature_C                      5.73\n",
       "Size                             151315\n",
       "type_A                                1\n",
       "type_B                                0\n",
       "type_C                                0\n",
       "Weekly_Sales                    24924.5\n",
       "Name: 0, dtype: object"
      ]
     },
     "execution_count": 67,
     "metadata": {},
     "output_type": "execute_result"
    }
   ],
   "source": [
    "multi_dict['1_1']['train_test_df'].iloc[0]"
   ]
  },
  {
   "cell_type": "markdown",
   "metadata": {},
   "source": [
    "> Das sieht soweit ganz gut aus!"
   ]
  },
  {
   "cell_type": "markdown",
   "metadata": {},
   "source": [
    "__Zu prüfen:__\n",
    "Wurden wirklich die korrekten Werte für die Zielvariable verarbeitet?"
   ]
  },
  {
   "cell_type": "code",
   "execution_count": 68,
   "metadata": {},
   "outputs": [
    {
     "data": {
      "text/plain": [
       "-0.21441960395189766"
      ]
     },
     "execution_count": 68,
     "metadata": {},
     "output_type": "execute_result"
    }
   ],
   "source": [
    "multi_dict['1_1']['y_train'][0]"
   ]
  },
  {
   "cell_type": "code",
   "execution_count": 69,
   "metadata": {},
   "outputs": [
    {
     "data": {
      "text/plain": [
       "array([[21827.9]])"
      ]
     },
     "execution_count": 69,
     "metadata": {},
     "output_type": "execute_result"
    }
   ],
   "source": [
    "multi_dict['1_1']['y_scaler'].inverse_transform(multi_dict['1_1']['y_train'][0].reshape(-1, 1))"
   ]
  },
  {
   "cell_type": "code",
   "execution_count": 70,
   "metadata": {},
   "outputs": [
    {
     "data": {
      "text/plain": [
       "21827.9"
      ]
     },
     "execution_count": 70,
     "metadata": {},
     "output_type": "execute_result"
    }
   ],
   "source": [
    "multi_dict['1_1']['train_test_df'].Weekly_Sales.iloc[lookback + delay]"
   ]
  },
  {
   "cell_type": "markdown",
   "metadata": {},
   "source": [
    "#### Validation to np"
   ]
  },
  {
   "cell_type": "markdown",
   "metadata": {},
   "source": [
    "Jetzt brauchen wir die Val-Data nicht mehr komplett, sondern auch al np-Array:"
   ]
  },
  {
   "cell_type": "code",
   "execution_count": 71,
   "metadata": {},
   "outputs": [],
   "source": [
    "for store_dept in multi_dict.keys():\n",
    "    multi_dict[store_dept]['val_data_df'] = restructure_df_for_target_variable(multi_dict[store_dept]['val_data_df'])"
   ]
  },
  {
   "cell_type": "code",
   "execution_count": 72,
   "metadata": {},
   "outputs": [
    {
     "data": {
      "text/plain": [
       "dict_keys(['val_data_df', 'train_test_df', 'X_scaler', 'y_scaler', 'X_train', 'y_train', 'X_test', 'y_test', 'X_y_scaler', 'X_val', 'y_val'])"
      ]
     },
     "execution_count": 72,
     "metadata": {},
     "output_type": "execute_result"
    }
   ],
   "source": [
    "for store_dept in multi_dict.keys():\n",
    "    X_np, y_np, foo = X_y_split(multi_dict[store_dept]['val_data_df'], lookback, delay, multi_dict[store_dept]['X_y_scaler'])\n",
    "    multi_dict[store_dept]['X_val'] = X_np\n",
    "    multi_dict[store_dept]['y_val'] = y_np\n",
    "multi_dict['1_1'].keys()"
   ]
  },
  {
   "cell_type": "markdown",
   "metadata": {},
   "source": [
    "## MODELING: Neural Network Approach"
   ]
  },
  {
   "cell_type": "markdown",
   "metadata": {},
   "source": [
    "### Baseline"
   ]
  },
  {
   "cell_type": "markdown",
   "metadata": {},
   "source": [
    "Der Einfachheit halber nur für Store-Department-Kombination ```1_1```."
   ]
  },
  {
   "cell_type": "code",
   "execution_count": 73,
   "metadata": {},
   "outputs": [],
   "source": [
    "for store_dept in multi_dict.keys():\n",
    "    multi_dict[store_dept]['prediction_goal'] = multi_dict[store_dept]['val_data_df'].iloc[-1].Weekly_Sales"
   ]
  },
  {
   "cell_type": "code",
   "execution_count": 74,
   "metadata": {},
   "outputs": [],
   "source": [
    "def get_baseline_prediction_values(df):\n",
    "    prognose_sales = df.iloc[-2].Weekly_Sales\n",
    "    actual_sales = df.iloc[-1].Weekly_Sales\n",
    "    return [prognose_sales, actual_sales, actual_sales - prognose_sales]"
   ]
  },
  {
   "cell_type": "code",
   "execution_count": 75,
   "metadata": {},
   "outputs": [
    {
     "name": "stdout",
     "output_type": "stream",
     "text": [
      "Baseline Prognose:\t45773.03\n",
      "Tatsächliche Sales:\t46788.75\n",
      "Absoluter Fehler:\t1015.7200000000012\n"
     ]
    }
   ],
   "source": [
    "baseline_prediction_values = get_baseline_prediction_values(multi_dict['1_1']['val_data_df'])\n",
    "print(\"Baseline Prognose:\\t{}\".format(baseline_prediction_values[0]))\n",
    "print(\"Tatsächliche Sales:\\t{}\".format(multi_dict['1_1']['prediction_goal']))\n",
    "print(\"Absoluter Fehler:\\t{}\".format(baseline_prediction_values[2]))"
   ]
  },
  {
   "cell_type": "markdown",
   "metadata": {},
   "source": [
    "### 2-layer Multi-Layer-Perceptron"
   ]
  },
  {
   "cell_type": "code",
   "execution_count": 76,
   "metadata": {},
   "outputs": [
    {
     "name": "stdout",
     "output_type": "stream",
     "text": [
      "_________________________________________________________________\n",
      "Layer (type)                 Output Shape              Param #   \n",
      "=================================================================\n",
      "flatten_1 (Flatten)          (None, 64)                0         \n",
      "_________________________________________________________________\n",
      "dense_1 (Dense)              (None, 32)                2080      \n",
      "_________________________________________________________________\n",
      "dense_2 (Dense)              (None, 1)                 33        \n",
      "=================================================================\n",
      "Total params: 2,113\n",
      "Trainable params: 2,113\n",
      "Non-trainable params: 0\n",
      "_________________________________________________________________\n",
      "None\n",
      "Train on 61 samples, validate on 29 samples\n",
      "Epoch 1/20\n",
      "61/61 [==============================] - 0s 5ms/step - loss: 0.8900 - val_loss: 0.9426\n",
      "Epoch 2/20\n",
      "61/61 [==============================] - 0s 145us/step - loss: 0.7718 - val_loss: 0.9229\n",
      "Epoch 3/20\n",
      "61/61 [==============================] - 0s 240us/step - loss: 0.7049 - val_loss: 0.9135\n",
      "Epoch 4/20\n",
      "61/61 [==============================] - 0s 206us/step - loss: 0.6483 - val_loss: 0.9053\n",
      "Epoch 5/20\n",
      "61/61 [==============================] - 0s 318us/step - loss: 0.6062 - val_loss: 0.9188\n",
      "Epoch 6/20\n",
      "61/61 [==============================] - 0s 196us/step - loss: 0.5732 - val_loss: 0.9482\n",
      "Epoch 7/20\n",
      "61/61 [==============================] - 0s 307us/step - loss: 0.5509 - val_loss: 0.9801\n",
      "Epoch 8/20\n",
      "61/61 [==============================] - 0s 190us/step - loss: 0.5243 - val_loss: 0.9334\n",
      "Epoch 9/20\n",
      "61/61 [==============================] - 0s 297us/step - loss: 0.5100 - val_loss: 0.9658\n",
      "Epoch 10/20\n",
      "61/61 [==============================] - 0s 170us/step - loss: 0.4894 - val_loss: 0.9685\n",
      "Epoch 11/20\n",
      "61/61 [==============================] - 0s 186us/step - loss: 0.4692 - val_loss: 0.9635\n",
      "Epoch 12/20\n",
      "61/61 [==============================] - 0s 148us/step - loss: 0.4554 - val_loss: 0.9753\n",
      "Epoch 13/20\n",
      "61/61 [==============================] - 0s 203us/step - loss: 0.4387 - val_loss: 1.0215\n",
      "Epoch 14/20\n",
      "61/61 [==============================] - 0s 226us/step - loss: 0.4315 - val_loss: 0.9812\n",
      "Epoch 15/20\n",
      "61/61 [==============================] - 0s 103us/step - loss: 0.4209 - val_loss: 0.9811\n",
      "Epoch 16/20\n",
      "61/61 [==============================] - 0s 252us/step - loss: 0.4087 - val_loss: 0.9883\n",
      "Epoch 17/20\n",
      "61/61 [==============================] - 0s 74us/step - loss: 0.4040 - val_loss: 1.0189\n",
      "Epoch 18/20\n",
      "61/61 [==============================] - 0s 137us/step - loss: 0.4001 - val_loss: 0.9958\n",
      "Epoch 19/20\n",
      "61/61 [==============================] - 0s 94us/step - loss: 0.3913 - val_loss: 1.0386\n",
      "Epoch 20/20\n",
      "61/61 [==============================] - 0s 208us/step - loss: 0.3867 - val_loss: 1.0025\n",
      "1/1 [==============================] - 0s 540us/step\n",
      "_________________________________________________________________\n",
      "Layer (type)                 Output Shape              Param #   \n",
      "=================================================================\n",
      "flatten_2 (Flatten)          (None, 64)                0         \n",
      "_________________________________________________________________\n",
      "dense_3 (Dense)              (None, 32)                2080      \n",
      "_________________________________________________________________\n",
      "dense_4 (Dense)              (None, 1)                 33        \n",
      "=================================================================\n",
      "Total params: 2,113\n",
      "Trainable params: 2,113\n",
      "Non-trainable params: 0\n",
      "_________________________________________________________________\n",
      "None\n",
      "Train on 61 samples, validate on 29 samples\n",
      "Epoch 1/20\n",
      "61/61 [==============================] - 0s 6ms/step - loss: 0.9166 - val_loss: 1.7753\n",
      "Epoch 2/20\n",
      "61/61 [==============================] - 0s 160us/step - loss: 0.7934 - val_loss: 1.7548\n",
      "Epoch 3/20\n",
      "61/61 [==============================] - 0s 158us/step - loss: 0.7159 - val_loss: 1.7414\n",
      "Epoch 4/20\n",
      "61/61 [==============================] - 0s 91us/step - loss: 0.6470 - val_loss: 1.7268\n",
      "Epoch 5/20\n",
      "61/61 [==============================] - 0s 214us/step - loss: 0.6075 - val_loss: 1.6251\n",
      "Epoch 6/20\n",
      "61/61 [==============================] - 0s 171us/step - loss: 0.5813 - val_loss: 1.5542\n",
      "Epoch 7/20\n",
      "61/61 [==============================] - 0s 193us/step - loss: 0.5726 - val_loss: 1.5237\n",
      "Epoch 8/20\n",
      "61/61 [==============================] - 0s 187us/step - loss: 0.5446 - val_loss: 1.4909\n",
      "Epoch 9/20\n",
      "61/61 [==============================] - 0s 100us/step - loss: 0.5308 - val_loss: 1.4506\n",
      "Epoch 10/20\n",
      "61/61 [==============================] - 0s 179us/step - loss: 0.5171 - val_loss: 1.4297\n",
      "Epoch 11/20\n",
      "61/61 [==============================] - 0s 170us/step - loss: 0.4993 - val_loss: 1.3935\n",
      "Epoch 12/20\n",
      "61/61 [==============================] - 0s 140us/step - loss: 0.4928 - val_loss: 1.3592\n",
      "Epoch 13/20\n",
      "61/61 [==============================] - 0s 289us/step - loss: 0.4753 - val_loss: 1.3265\n",
      "Epoch 14/20\n",
      "61/61 [==============================] - 0s 154us/step - loss: 0.4711 - val_loss: 1.2884\n",
      "Epoch 15/20\n",
      "61/61 [==============================] - 0s 94us/step - loss: 0.4605 - val_loss: 1.2559\n",
      "Epoch 16/20\n",
      "61/61 [==============================] - 0s 291us/step - loss: 0.4499 - val_loss: 1.2341\n",
      "Epoch 17/20\n",
      "61/61 [==============================] - 0s 128us/step - loss: 0.4358 - val_loss: 1.1933\n",
      "Epoch 18/20\n",
      "61/61 [==============================] - 0s 221us/step - loss: 0.4283 - val_loss: 1.1681\n",
      "Epoch 19/20\n",
      "61/61 [==============================] - 0s 89us/step - loss: 0.4175 - val_loss: 1.1453\n",
      "Epoch 20/20\n",
      "61/61 [==============================] - 0s 138us/step - loss: 0.4208 - val_loss: 1.1211\n",
      "1/1 [==============================] - 0s 1ms/step\n"
     ]
    }
   ],
   "source": [
    "for store_dept in multi_dict.keys():\n",
    "    model = Sequential()\n",
    "    model.add(layers.Flatten(input_shape=(lookback, multi_dict[store_dept]['X_train'].shape[-1])))\n",
    "    model.add(layers.Dense(32, activation='relu'))\n",
    "    model.add(layers.Dense(1))\n",
    "    print(model.summary())\n",
    "    model.compile(optimizer=RMSprop(), loss='mae')\n",
    "    history = model.fit(multi_dict[store_dept]['X_train'],\n",
    "                        multi_dict[store_dept]['y_train'],\n",
    "                        epochs=20,\n",
    "                        validation_data=(multi_dict[store_dept]['X_test'], multi_dict[store_dept]['y_test']))\n",
    "    multi_dict[store_dept]['2MLP'] = {}\n",
    "    multi_dict[store_dept]['2MLP']['model'] = model\n",
    "    multi_dict[store_dept]['2MLP']['history'] = history\n",
    "    multi_dict[store_dept]['2MLP']['score'] = model.evaluate(multi_dict[store_dept]['X_val'], multi_dict[store_dept]['y_val'])\n",
    "    multi_dict[store_dept]['2MLP']['prediction'] = multi_dict[store_dept]['y_scaler'].inverse_transform(model.predict(multi_dict[store_dept]['X_val']).reshape(-1, 1))[0][0]"
   ]
  },
  {
   "cell_type": "markdown",
   "metadata": {},
   "source": [
    "### Simple GRU Model"
   ]
  },
  {
   "cell_type": "code",
   "execution_count": 77,
   "metadata": {},
   "outputs": [
    {
     "name": "stdout",
     "output_type": "stream",
     "text": [
      "_________________________________________________________________\n",
      "Layer (type)                 Output Shape              Param #   \n",
      "=================================================================\n",
      "gru_1 (GRU)                  (None, 32)                4704      \n",
      "_________________________________________________________________\n",
      "dense_5 (Dense)              (None, 1)                 33        \n",
      "=================================================================\n",
      "Total params: 4,737\n",
      "Trainable params: 4,737\n",
      "Non-trainable params: 0\n",
      "_________________________________________________________________\n",
      "None\n",
      "Train on 61 samples, validate on 29 samples\n",
      "Epoch 1/20\n",
      "61/61 [==============================] - 2s 33ms/step - loss: 0.6202 - val_loss: 0.8066\n",
      "Epoch 2/20\n",
      "61/61 [==============================] - 0s 465us/step - loss: 0.5397 - val_loss: 0.8715\n",
      "Epoch 3/20\n",
      "61/61 [==============================] - 0s 427us/step - loss: 0.5007 - val_loss: 0.9387\n",
      "Epoch 4/20\n",
      "61/61 [==============================] - 0s 371us/step - loss: 0.4717 - val_loss: 0.9815\n",
      "Epoch 5/20\n",
      "61/61 [==============================] - 0s 255us/step - loss: 0.4547 - val_loss: 0.9805\n",
      "Epoch 6/20\n",
      "61/61 [==============================] - 0s 354us/step - loss: 0.4451 - val_loss: 0.9835\n",
      "Epoch 7/20\n",
      "61/61 [==============================] - 0s 647us/step - loss: 0.4453 - val_loss: 0.9548\n",
      "Epoch 8/20\n",
      "61/61 [==============================] - 0s 769us/step - loss: 0.4405 - val_loss: 0.9365\n",
      "Epoch 9/20\n",
      "61/61 [==============================] - 0s 258us/step - loss: 0.4290 - val_loss: 0.9349\n",
      "Epoch 10/20\n",
      "61/61 [==============================] - 0s 467us/step - loss: 0.4298 - val_loss: 0.9699\n",
      "Epoch 11/20\n",
      "61/61 [==============================] - 0s 667us/step - loss: 0.4235 - val_loss: 0.9344\n",
      "Epoch 12/20\n",
      "61/61 [==============================] - 0s 393us/step - loss: 0.4209 - val_loss: 0.9962\n",
      "Epoch 13/20\n",
      "61/61 [==============================] - 0s 453us/step - loss: 0.4181 - val_loss: 0.9663\n",
      "Epoch 14/20\n",
      "61/61 [==============================] - 0s 652us/step - loss: 0.4132 - val_loss: 0.9758\n",
      "Epoch 15/20\n",
      "61/61 [==============================] - 0s 422us/step - loss: 0.4159 - val_loss: 0.9941\n",
      "Epoch 16/20\n",
      "61/61 [==============================] - 0s 426us/step - loss: 0.4101 - val_loss: 0.9849\n",
      "Epoch 17/20\n",
      "61/61 [==============================] - 0s 479us/step - loss: 0.4092 - val_loss: 0.9631\n",
      "Epoch 18/20\n",
      "61/61 [==============================] - 0s 456us/step - loss: 0.4036 - val_loss: 0.9652\n",
      "Epoch 19/20\n",
      "61/61 [==============================] - 0s 349us/step - loss: 0.4021 - val_loss: 0.9782\n",
      "Epoch 20/20\n",
      "61/61 [==============================] - 0s 317us/step - loss: 0.3986 - val_loss: 0.9651\n",
      "1/1 [==============================] - 0s 5ms/step\n",
      "_________________________________________________________________\n",
      "Layer (type)                 Output Shape              Param #   \n",
      "=================================================================\n",
      "gru_2 (GRU)                  (None, 32)                4704      \n",
      "_________________________________________________________________\n",
      "dense_6 (Dense)              (None, 1)                 33        \n",
      "=================================================================\n",
      "Total params: 4,737\n",
      "Trainable params: 4,737\n",
      "Non-trainable params: 0\n",
      "_________________________________________________________________\n",
      "None\n",
      "Train on 61 samples, validate on 29 samples\n",
      "Epoch 1/20\n",
      "61/61 [==============================] - 2s 27ms/step - loss: 0.6721 - val_loss: 1.2518\n",
      "Epoch 2/20\n",
      "61/61 [==============================] - 0s 393us/step - loss: 0.6104 - val_loss: 1.2265\n",
      "Epoch 3/20\n",
      "61/61 [==============================] - 0s 620us/step - loss: 0.5833 - val_loss: 1.1480\n",
      "Epoch 4/20\n",
      "61/61 [==============================] - 0s 569us/step - loss: 0.5614 - val_loss: 1.0577\n",
      "Epoch 5/20\n",
      "61/61 [==============================] - 0s 417us/step - loss: 0.5463 - val_loss: 1.0062\n",
      "Epoch 6/20\n",
      "61/61 [==============================] - 0s 518us/step - loss: 0.5294 - val_loss: 0.9251\n",
      "Epoch 7/20\n",
      "61/61 [==============================] - 0s 832us/step - loss: 0.5139 - val_loss: 0.8932\n",
      "Epoch 8/20\n",
      "61/61 [==============================] - 0s 689us/step - loss: 0.5013 - val_loss: 0.8155\n",
      "Epoch 9/20\n",
      "61/61 [==============================] - 0s 510us/step - loss: 0.4885 - val_loss: 0.8439\n",
      "Epoch 10/20\n",
      "61/61 [==============================] - 0s 429us/step - loss: 0.4821 - val_loss: 0.8210\n",
      "Epoch 11/20\n",
      "61/61 [==============================] - 0s 377us/step - loss: 0.4746 - val_loss: 0.7498\n",
      "Epoch 12/20\n",
      "61/61 [==============================] - 0s 632us/step - loss: 0.4703 - val_loss: 0.7594\n",
      "Epoch 13/20\n",
      "61/61 [==============================] - 0s 566us/step - loss: 0.4608 - val_loss: 0.7349\n",
      "Epoch 14/20\n",
      "61/61 [==============================] - 0s 494us/step - loss: 0.4533 - val_loss: 0.7361\n",
      "Epoch 15/20\n",
      "61/61 [==============================] - 0s 564us/step - loss: 0.4503 - val_loss: 0.7001\n",
      "Epoch 16/20\n",
      "61/61 [==============================] - 0s 557us/step - loss: 0.4473 - val_loss: 0.6861\n",
      "Epoch 17/20\n",
      "61/61 [==============================] - 0s 516us/step - loss: 0.4406 - val_loss: 0.6722\n",
      "Epoch 18/20\n",
      "61/61 [==============================] - 0s 543us/step - loss: 0.4380 - val_loss: 0.6662\n",
      "Epoch 19/20\n",
      "61/61 [==============================] - 0s 427us/step - loss: 0.4387 - val_loss: 0.6409\n",
      "Epoch 20/20\n",
      "61/61 [==============================] - 0s 873us/step - loss: 0.4334 - val_loss: 0.6570\n",
      "1/1 [==============================] - 0s 4ms/step\n"
     ]
    }
   ],
   "source": [
    "for store_dept in multi_dict.keys():\n",
    "    model = Sequential()\n",
    "    model.add(layers.GRU(32, input_shape=(None, multi_dict[store_dept]['X_train'].shape[-1])))\n",
    "    model.add(layers.Dense(1))\n",
    "    print(model.summary())\n",
    "    model.compile(optimizer=RMSprop(), loss='mae')\n",
    "    history = model.fit(multi_dict[store_dept]['X_train'],\n",
    "                        multi_dict[store_dept]['y_train'],\n",
    "                        epochs=20,\n",
    "                        validation_data=(multi_dict[store_dept]['X_test'], multi_dict[store_dept]['y_test']))\n",
    "    multi_dict[store_dept]['GRU'] = {}\n",
    "    multi_dict[store_dept]['GRU']['model'] = model\n",
    "    multi_dict[store_dept]['GRU']['history'] = history\n",
    "    multi_dict[store_dept]['GRU']['score'] = model.evaluate(multi_dict[store_dept]['X_val'], multi_dict[store_dept]['y_val'])\n",
    "    multi_dict[store_dept]['GRU']['prediction'] = multi_dict[store_dept]['y_scaler'].inverse_transform(model.predict(multi_dict[store_dept]['X_val']).reshape(-1, 1))[0][0]"
   ]
  },
  {
   "cell_type": "markdown",
   "metadata": {},
   "source": [
    "### Evaluation der Modelle"
   ]
  },
  {
   "cell_type": "code",
   "execution_count": 78,
   "metadata": {},
   "outputs": [],
   "source": [
    "def plot_model_results(model_results):  \n",
    "    loss = model_results['history'].history['loss']\n",
    "    val_loss = model_results['history'].history['val_loss']\n",
    "    min_val_loss=np.min(val_loss)\n",
    "    epochs = range(1, len(loss) + 1)\n",
    "    plt.figure()\n",
    "    plt.plot(epochs[1:], loss[1:], 'bo', label='Training loss')\n",
    "    plt.plot(epochs[1:], val_loss[1:], 'b', label='Validation loss')\n",
    "    plt.title('Training and validation loss')\n",
    "    plt.legend()\n",
    "    plt.show()\n",
    "    print('Minimun loss on validation data: ', min_val_loss)\n",
    "    print('Model score:{}'.format(model_results['score']))\n",
    "    print('Prediction result:{}'.format(model_results['prediction']))"
   ]
  },
  {
   "cell_type": "code",
   "execution_count": 79,
   "metadata": {},
   "outputs": [
    {
     "data": {
      "image/png": "[encoded data removed]",
      "text/plain": [
       "<matplotlib.figure.Figure at 0x1a399c2a20>"
      ]
     },
     "metadata": {},
     "output_type": "display_data"
    },
    {
     "name": "stdout",
     "output_type": "stream",
     "text": [
      "Minimun loss on validation data:  0.9052802920341492\n",
      "Model score:2.013871669769287\n",
      "Prediction result:68509.9765625\n"
     ]
    }
   ],
   "source": [
    "plot_model_results(multi_dict['1_1']['2MLP'])"
   ]
  },
  {
   "cell_type": "code",
   "execution_count": 80,
   "metadata": {},
   "outputs": [
    {
     "data": {
      "image/png": "[encoded data removed]",
      "text/plain": [
       "<matplotlib.figure.Figure at 0x1a3f0f5b38>"
      ]
     },
     "metadata": {},
     "output_type": "display_data"
    },
    {
     "name": "stdout",
     "output_type": "stream",
     "text": [
      "Minimun loss on validation data:  0.8066404461860657\n",
      "Model score:0.10782742500305176\n",
      "Prediction result:45625.7421875\n"
     ]
    }
   ],
   "source": [
    "plot_model_results(multi_dict['1_1']['GRU'])"
   ]
  },
  {
   "cell_type": "markdown",
   "metadata": {},
   "source": [
    "__TODO:__ \n",
    "+ alles scheiße\n",
    "+ Ergebnisse wegen zu wenig Daten nicht reproduzierbar\n",
    "    + wenn sie gut sind, dann nur durch Zufall\n",
    "+ rückschritt zu data preparation für baum (2-D ohne Windowing)"
   ]
  },
  {
   "cell_type": "markdown",
   "metadata": {},
   "source": [
    "## DATA PREPARATION: Tree Approach"
   ]
  },
  {
   "cell_type": "markdown",
   "metadata": {},
   "source": [
    "### Dictionary bauen"
   ]
  },
  {
   "cell_type": "code",
   "execution_count": 81,
   "metadata": {},
   "outputs": [],
   "source": [
    "tree_dict = {}"
   ]
  },
  {
   "cell_type": "markdown",
   "metadata": {},
   "source": [
    "Die Schlüssel für die erste Ebene anlegen  \n",
    "__HIER IST DIE WEICHE FÜR STORE_DEPT-Kombos__"
   ]
  },
  {
   "cell_type": "raw",
   "metadata": {},
   "source": [
    "for store_dept in set(merged_all_df.Store_Dept.tolist()):\n",
    "    tree_dict[store_dept] = {}\n",
    "print(len(tree_dict))"
   ]
  },
  {
   "cell_type": "markdown",
   "metadata": {},
   "source": [
    "Damit die Prüfungen im weitern Verlauf alle funktionieren, __MUSS__ die Store-Department-Kombination ```1_1``` __IMMER__ enthalten sein!"
   ]
  },
  {
   "cell_type": "code",
   "execution_count": 113,
   "metadata": {},
   "outputs": [
    {
     "name": "stdout",
     "output_type": "stream",
     "text": [
      "2\n"
     ]
    }
   ],
   "source": [
    "store_dept_subgroup = ['1_1']\n",
    "\n",
    "for store_dept in store_dept_subgroup:\n",
    "    tree_dict[store_dept] = {}\n",
    "print(len(tree_dict))"
   ]
  },
  {
   "cell_type": "markdown",
   "metadata": {},
   "source": [
    "### Split Datasets"
   ]
  },
  {
   "cell_type": "markdown",
   "metadata": {},
   "source": [
    "#### Validation je Store und Department"
   ]
  },
  {
   "cell_type": "markdown",
   "metadata": {},
   "source": [
    "<img src=\"./media/calendar_tree.jpg\" width=\"500\"/>"
   ]
  },
  {
   "cell_type": "code",
   "execution_count": 84,
   "metadata": {},
   "outputs": [
    {
     "data": {
      "text/plain": [
       "Timestamp('2011-12-23 00:00:00')"
      ]
     },
     "execution_count": 84,
     "metadata": {},
     "output_type": "execute_result"
    }
   ],
   "source": [
    "merged_all_for_tree_df.Date.max()"
   ]
  },
  {
   "cell_type": "code",
   "execution_count": 96,
   "metadata": {},
   "outputs": [
    {
     "data": {
      "text/plain": [
       "Store                                 1\n",
       "Dept                                  1\n",
       "Date                2011-12-16 00:00:00\n",
       "Weekly_Sales                    46788.8\n",
       "nw_black_friday                       0\n",
       "nw_new_year                           0\n",
       "nw_xmas_1st_week                      0\n",
       "nw_xmas_2nd_week                      0\n",
       "nw_xmas_3rd_week                      0\n",
       "nw_xmas_4th_week                      1\n",
       "days_2_xmas                           9\n",
       "Fuel_Price                        3.159\n",
       "CPI                             219.179\n",
       "Unemployment                      7.866\n",
       "IsHoliday                             0\n",
       "Temperature_C                     10.91\n",
       "Size                             151315\n",
       "type_A                                1\n",
       "type_B                                0\n",
       "type_C                                0\n",
       "Store_Dept                          1_1\n",
       "Name: 6950, dtype: object"
      ]
     },
     "execution_count": 96,
     "metadata": {},
     "output_type": "execute_result"
    }
   ],
   "source": [
    "for store_dept in tree_dict.keys():\n",
    "    tmp = merged_all_for_tree_df[merged_all_for_tree_df.Store_Dept == store_dept].iloc[-2:]\n",
    "    tmp.Weekly_Sales = tmp.Weekly_Sales.shift(periods=-1)\n",
    "    tree_dict[store_dept]['val_data_df'] = tmp.iloc[0]\n",
    "    \n",
    "tree_dict['1_1']['val_data_df']"
   ]
  },
  {
   "cell_type": "markdown",
   "metadata": {},
   "source": [
    "#### Train-Test-Daten je Store und Department"
   ]
  },
  {
   "cell_type": "code",
   "execution_count": 103,
   "metadata": {},
   "outputs": [],
   "source": [
    "for store_dept in tree_dict.keys():\n",
    "    tmp = restructure_df_for_target_variable(merged_all_for_tree_df[(merged_all_for_tree_df.Store_Dept == store_dept)])\n",
    "    tmp.Weekly_Sales = tmp.Weekly_Sales.shift(periods=-1)\n",
    "    tree_dict[store_dept]['train_test_df'] = tmp.iloc[:-2]"
   ]
  },
  {
   "cell_type": "code",
   "execution_count": 105,
   "metadata": {},
   "outputs": [
    {
     "data": {
      "text/plain": [
       "dict_keys(['val_data_df', 'train_test_df'])"
      ]
     },
     "execution_count": 105,
     "metadata": {},
     "output_type": "execute_result"
    }
   ],
   "source": [
    "tree_dict['1_1'].keys()"
   ]
  },
  {
   "cell_type": "code",
   "execution_count": 106,
   "metadata": {},
   "outputs": [
    {
     "data": {
      "text/html": [
       "<div>\n",
       "<style scoped>\n",
       "    .dataframe tbody tr th:only-of-type {\n",
       "        vertical-align: middle;\n",
       "    }\n",
       "\n",
       "    .dataframe tbody tr th {\n",
       "        vertical-align: top;\n",
       "    }\n",
       "\n",
       "    .dataframe thead th {\n",
       "        text-align: right;\n",
       "    }\n",
       "</style>\n",
       "<table border=\"1\" class=\"dataframe\">\n",
       "  <thead>\n",
       "    <tr style=\"text-align: right;\">\n",
       "      <th></th>\n",
       "      <th>Date</th>\n",
       "      <th>nw_black_friday</th>\n",
       "      <th>nw_new_year</th>\n",
       "      <th>nw_xmas_1st_week</th>\n",
       "      <th>nw_xmas_2nd_week</th>\n",
       "      <th>nw_xmas_3rd_week</th>\n",
       "      <th>nw_xmas_4th_week</th>\n",
       "      <th>days_2_xmas</th>\n",
       "      <th>Fuel_Price</th>\n",
       "      <th>CPI</th>\n",
       "      <th>Unemployment</th>\n",
       "      <th>IsHoliday</th>\n",
       "      <th>Temperature_C</th>\n",
       "      <th>Size</th>\n",
       "      <th>type_A</th>\n",
       "      <th>type_B</th>\n",
       "      <th>type_C</th>\n",
       "      <th>Weekly_Sales</th>\n",
       "    </tr>\n",
       "  </thead>\n",
       "  <tbody>\n",
       "    <tr>\n",
       "      <th>92</th>\n",
       "      <td>2011-11-11</td>\n",
       "      <td>0</td>\n",
       "      <td>0</td>\n",
       "      <td>0</td>\n",
       "      <td>0</td>\n",
       "      <td>0</td>\n",
       "      <td>0</td>\n",
       "      <td>44</td>\n",
       "      <td>3.297</td>\n",
       "      <td>217.998085</td>\n",
       "      <td>7.866</td>\n",
       "      <td>0</td>\n",
       "      <td>15.06</td>\n",
       "      <td>151315</td>\n",
       "      <td>1</td>\n",
       "      <td>0</td>\n",
       "      <td>0</td>\n",
       "      <td>19050.66</td>\n",
       "    </tr>\n",
       "    <tr>\n",
       "      <th>93</th>\n",
       "      <td>2011-11-18</td>\n",
       "      <td>1</td>\n",
       "      <td>0</td>\n",
       "      <td>0</td>\n",
       "      <td>0</td>\n",
       "      <td>0</td>\n",
       "      <td>0</td>\n",
       "      <td>37</td>\n",
       "      <td>3.308</td>\n",
       "      <td>218.220509</td>\n",
       "      <td>7.866</td>\n",
       "      <td>0</td>\n",
       "      <td>16.81</td>\n",
       "      <td>151315</td>\n",
       "      <td>1</td>\n",
       "      <td>0</td>\n",
       "      <td>0</td>\n",
       "      <td>20911.25</td>\n",
       "    </tr>\n",
       "    <tr>\n",
       "      <th>94</th>\n",
       "      <td>2011-11-25</td>\n",
       "      <td>0</td>\n",
       "      <td>0</td>\n",
       "      <td>1</td>\n",
       "      <td>0</td>\n",
       "      <td>0</td>\n",
       "      <td>0</td>\n",
       "      <td>30</td>\n",
       "      <td>3.236</td>\n",
       "      <td>218.467621</td>\n",
       "      <td>7.866</td>\n",
       "      <td>1</td>\n",
       "      <td>15.63</td>\n",
       "      <td>151315</td>\n",
       "      <td>1</td>\n",
       "      <td>0</td>\n",
       "      <td>0</td>\n",
       "      <td>25293.49</td>\n",
       "    </tr>\n",
       "    <tr>\n",
       "      <th>95</th>\n",
       "      <td>2011-12-02</td>\n",
       "      <td>0</td>\n",
       "      <td>0</td>\n",
       "      <td>0</td>\n",
       "      <td>1</td>\n",
       "      <td>0</td>\n",
       "      <td>0</td>\n",
       "      <td>23</td>\n",
       "      <td>3.172</td>\n",
       "      <td>218.714733</td>\n",
       "      <td>7.866</td>\n",
       "      <td>0</td>\n",
       "      <td>9.39</td>\n",
       "      <td>151315</td>\n",
       "      <td>1</td>\n",
       "      <td>0</td>\n",
       "      <td>0</td>\n",
       "      <td>33305.92</td>\n",
       "    </tr>\n",
       "    <tr>\n",
       "      <th>96</th>\n",
       "      <td>2011-12-09</td>\n",
       "      <td>0</td>\n",
       "      <td>0</td>\n",
       "      <td>0</td>\n",
       "      <td>0</td>\n",
       "      <td>1</td>\n",
       "      <td>0</td>\n",
       "      <td>16</td>\n",
       "      <td>3.158</td>\n",
       "      <td>218.961846</td>\n",
       "      <td>7.866</td>\n",
       "      <td>0</td>\n",
       "      <td>6.63</td>\n",
       "      <td>151315</td>\n",
       "      <td>1</td>\n",
       "      <td>0</td>\n",
       "      <td>0</td>\n",
       "      <td>45773.03</td>\n",
       "    </tr>\n",
       "  </tbody>\n",
       "</table>\n",
       "</div>"
      ],
      "text/plain": [
       "         Date  nw_black_friday  nw_new_year  nw_xmas_1st_week  \\\n",
       "92 2011-11-11                0            0                 0   \n",
       "93 2011-11-18                1            0                 0   \n",
       "94 2011-11-25                0            0                 1   \n",
       "95 2011-12-02                0            0                 0   \n",
       "96 2011-12-09                0            0                 0   \n",
       "\n",
       "    nw_xmas_2nd_week  nw_xmas_3rd_week  nw_xmas_4th_week  days_2_xmas  \\\n",
       "92                 0                 0                 0           44   \n",
       "93                 0                 0                 0           37   \n",
       "94                 0                 0                 0           30   \n",
       "95                 1                 0                 0           23   \n",
       "96                 0                 1                 0           16   \n",
       "\n",
       "    Fuel_Price         CPI  Unemployment  IsHoliday  Temperature_C    Size  \\\n",
       "92       3.297  217.998085         7.866          0          15.06  151315   \n",
       "93       3.308  218.220509         7.866          0          16.81  151315   \n",
       "94       3.236  218.467621         7.866          1          15.63  151315   \n",
       "95       3.172  218.714733         7.866          0           9.39  151315   \n",
       "96       3.158  218.961846         7.866          0           6.63  151315   \n",
       "\n",
       "    type_A  type_B  type_C  Weekly_Sales  \n",
       "92       1       0       0      19050.66  \n",
       "93       1       0       0      20911.25  \n",
       "94       1       0       0      25293.49  \n",
       "95       1       0       0      33305.92  \n",
       "96       1       0       0      45773.03  "
      ]
     },
     "execution_count": 106,
     "metadata": {},
     "output_type": "execute_result"
    }
   ],
   "source": [
    "tree_dict['1_1']['train_test_df'].tail()"
   ]
  },
  {
   "cell_type": "markdown",
   "metadata": {},
   "source": [
    "#### Train-Test-Split"
   ]
  },
  {
   "cell_type": "code",
   "execution_count": 112,
   "metadata": {},
   "outputs": [
    {
     "name": "stdout",
     "output_type": "stream",
     "text": [
      "(29, 17)\n",
      "(29, 17)\n"
     ]
    }
   ],
   "source": [
    "for store_dept in tree_dict.keys():\n",
    "    X = tree_dict[store_dept]['train_test_df'].iloc[:,:-1]\n",
    "    y = tree_dict[store_dept]['train_test_df'].iloc[:,-1]\n",
    "    X_train, X_test, y_train, y_test = train_test_split(X, y, test_size=0.7, random_state=1)\n",
    "    print(X_train.shape)\n",
    "    #print(y_train.shape)\n",
    "    #print(X_test.shape)\n",
    "    #print(y_test.shape)"
   ]
  },
  {
   "cell_type": "code",
   "execution_count": null,
   "metadata": {},
   "outputs": [],
   "source": []
  },
  {
   "cell_type": "code",
   "execution_count": null,
   "metadata": {},
   "outputs": [],
   "source": []
  },
  {
   "cell_type": "markdown",
   "metadata": {},
   "source": [
    "## MODELING: Tree Approach"
   ]
  },
  {
   "cell_type": "code",
   "execution_count": null,
   "metadata": {},
   "outputs": [],
   "source": []
  },
  {
   "cell_type": "markdown",
   "metadata": {},
   "source": [
    "## EVALUATION: Gegenüberstellung NN und Tree"
   ]
  },
  {
   "cell_type": "code",
   "execution_count": null,
   "metadata": {},
   "outputs": [],
   "source": []
  },
  {
   "cell_type": "code",
   "execution_count": null,
   "metadata": {},
   "outputs": [],
   "source": []
  },
  {
   "cell_type": "code",
   "execution_count": null,
   "metadata": {},
   "outputs": [],
   "source": []
  },
  {
   "cell_type": "markdown",
   "metadata": {},
   "source": [
    "## DEPLOYMENT / Lessons Learned"
   ]
  },
  {
   "cell_type": "markdown",
   "metadata": {},
   "source": [
    "__TODO:__ \n",
    "+ brauchen wir den schritt überhaupt?\n",
    "+ evtl stattdessen einfach: __LESSONS LEARNED__ und __IDEEN FÜR DIE ZUKUNFT__ machen oder so"
   ]
  },
  {
   "cell_type": "markdown",
   "metadata": {},
   "source": [
    "# Deanonymisierung"
   ]
  },
  {
   "cell_type": "markdown",
   "metadata": {},
   "source": [
    "https://en.wikipedia.org/wiki/User:Michael_J/County_table"
   ]
  },
  {
   "cell_type": "markdown",
   "metadata": {},
   "source": [
    "Neben Wetterdaten auch die A-lo-Quote nutzen?"
   ]
  },
  {
   "cell_type": "markdown",
   "metadata": {},
   "source": [
    "Hilfe evtl bei Kreditkarten-Analyse"
   ]
  },
  {
   "cell_type": "code",
   "execution_count": null,
   "metadata": {},
   "outputs": [],
   "source": []
  },
  {
   "cell_type": "markdown",
   "metadata": {},
   "source": [
    "__TODO:__ \n",
    "+ Hier wollen wir sowohl mit Baum, als auch mit Netz arbeiten. \n",
    "+ Wir sollten mit der Grafik von scikit-learn begründen, warum wir welche Technik nutzen [hatten wir schonmal](http://scikit-learn.org/stable/tutorial/machine_learning_map/index.html)\n",
    "Zusätzliche Informationen: https://data-science-blog.com/blog/2016/04/26/machine-learning-mit-python-tutorial-minimalbeispiel/"
   ]
  },
  {
   "cell_type": "markdown",
   "metadata": {},
   "source": [
    "Fragen zur Begründung:\n",
    "+ wieviele Examples haben wir?\n"
   ]
  },
  {
   "cell_type": "raw",
   "metadata": {},
   "source": [
    "#DecisionTreeClassifier\n",
    "clf = tree.DecisionTreeClassifier(criterion=\"entropy\", min_samples_split=2)\n",
    "featImp=clf.feature_importance_\n",
    "#Comparing feature importance od dt with other feature importance metrics\n",
    "chi2_all,p_all=chi2(X,y)\n",
    "f_all,p_all=f_classif(X,y)\n",
    "mi_all=mutual_info_classif(X,y,discrete_features=True)\n",
    "impdf=pd.DataFrame(index=catFeatureList,columns=['DecTree','chi2','F classif','Pval','Mutual Inf'])\n",
    "impdf['DecTree']=clf.feature_importances_\n",
    "impdf['chi2']=chi2_all\n",
    "impdf['F classif']=f_all\n",
    "impdf['Pval']=p_all\n",
    "impdf['Mutual Inf']=mi_all\n",
    "display(impdf)"
   ]
  },
  {
   "cell_type": "raw",
   "metadata": {},
   "source": [
    "#DecisionTreeRegression\n",
    "dt_model = DecisionTreeRegressor(random_state=0)\n",
    "dt_model.fit(X_train, y_train)\n",
    "predTree = dt_model.predict(X_test)\n",
    "predTree[0:5]\n",
    "#Model\n",
    "#The model\n",
    "plt.scatter(y_test, predTree)\n",
    "print(\"Accuracy Score: \", dt_model.score(X_test, y_test))"
   ]
  },
  {
   "cell_type": "markdown",
   "metadata": {},
   "source": [
    "__TODO:__ Ich würde hier vielleicht vergleichen, inwiefern ein GradientBoostingRegressor weiterführen kann. => Addtional Feature"
   ]
  },
  {
   "cell_type": "markdown",
   "metadata": {},
   "source": [
    "__TODO:__ Unterschiede herausarbeiten und darstellen => Welche Kennzahlen sind hier am ausschlaggebenden?"
   ]
  },
  {
   "cell_type": "code",
   "execution_count": null,
   "metadata": {},
   "outputs": [],
   "source": [
    "#Neuronales Netz"
   ]
  },
  {
   "cell_type": "code",
   "execution_count": null,
   "metadata": {},
   "outputs": [],
   "source": []
  },
  {
   "cell_type": "code",
   "execution_count": null,
   "metadata": {},
   "outputs": [],
   "source": []
  }
 ],
 "metadata": {
  "kernelspec": {
   "display_name": "Python 3",
   "language": "python",
   "name": "python3"
  },
  "language_info": {
   "codemirror_mode": {
    "name": "ipython",
    "version": 3
   },
   "file_extension": ".py",
   "mimetype": "text/x-python",
   "name": "python",
   "nbconvert_exporter": "python",
   "pygments_lexer": "ipython3",
   "version": "3.6.4"
  },
  "toc": {
   "base_numbering": 1,
   "nav_menu": {},
   "number_sections": true,
   "sideBar": true,
   "skip_h1_title": true,
   "title_cell": "",
   "title_sidebar": "Contents",
   "toc_cell": false,
   "toc_position": {
    "height": "calc(100% - 180px)",
    "left": "10px",
    "top": "150px",
    "width": "348px"
   },
   "toc_section_display": true,
   "toc_window_display": true
  }
 },
 "nbformat": 4,
 "nbformat_minor": 2
}
