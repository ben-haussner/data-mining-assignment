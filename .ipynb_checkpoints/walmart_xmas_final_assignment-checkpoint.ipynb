{
 "cells": [
  {
   "cell_type": "markdown",
   "metadata": {},
   "source": [
    "![title](./media/walmart_christmas.jpg)"
   ]
  },
  {
   "cell_type": "markdown",
   "metadata": {},
   "source": [
    "# Walmart: Weihnachtsgeschäft Just in Time"
   ]
  },
  {
   "cell_type": "markdown",
   "metadata": {},
   "source": [
    "Modulprojekt für die Vorlesung __Data-Mining-Process__\n",
    "\n",
    "_Dozent:_ Prof. Dr. Johannes Maucher  \n",
    "_Studenten:_ Stephanie Flohr, Benedikt Haußner, Robert Masendorf"
   ]
  },
  {
   "cell_type": "markdown",
   "metadata": {},
   "source": [
    "**Hinweis:** Zu korrekten Darstellung der Ergebnisse in den MarkDowns muss die Nbextension ```Python Markdown``` aktiviert sein. Zusätzlich muss ein ```Trusted```Kernel verwendet werden."
   ]
  },
  {
   "cell_type": "markdown",
   "metadata": {},
   "source": [
    "Für unser Projekt analysiseren wir Verkaufsdaten der amerikanischen Supermarktkette _Walmart_."
   ]
  },
  {
   "cell_type": "markdown",
   "metadata": {},
   "source": [
    "**Vorgehensmodell:** CRISP-DM"
   ]
  },
  {
   "cell_type": "markdown",
   "metadata": {},
   "source": [
    "<img align=\"left\" src=\"https://upload.wikimedia.org/wikipedia/commons/b/b9/CRISP-DM_Process_Diagram.png\" width=\"400\"/>"
   ]
  },
  {
   "cell_type": "markdown",
   "metadata": {},
   "source": [
    "## BUSINESS UNDERSTANDING: Ursprung und grober Inhalt des Datensatzes"
   ]
  },
  {
   "cell_type": "markdown",
   "metadata": {},
   "source": [
    "### Was ist Walmart?\n",
    "Walmart ist der wertvollste Einzelhändler der Welt mit einer Marktkapitalisierung von 246,2 Mrd. US-Dollar. Weitere Fakten:\n",
    "+ Anzahl Filialen weltweit: ca 11.600\n",
    "+ Jahresumsatz 2017: 50,3 Mrd. US-Dollar\n",
    "+ Gewinn 2017: 9,9 Mrd. US-Dollar\n",
    "+ Anzahl der Mitarbeiter weltweit: ca 2 Millionen\n",
    "\n",
    "Quelle: [Wikipedia](https://de.wikipedia.org/wiki/Walmart)\n",
    "\n",
    "### _Just in Time_ bei Walmart\n",
    "[Wikipedia](https://de.wikipedia.org/wiki/Walmart)\n",
    "\n",
    "Walmarts Strategie beruht auf ein Konzept aus geringen Preisen und gewinnmargen begleitet durch geringe Lohn- und Gehaltzahlungen trotz hohem Profit. Ein wichtiger Baustein in diesem Konzept ist auch die Produktion nach Just in Time. Walmart unterhält keine Warenlager, sondern entwickelte eine ausgefeilte Logistik, durch die die Produkte direkt aus der Produktion zu den Logistzentren geliefert werden. Dadurch sind keine Zwischenlager mehr notwendig. Um dieses Konzept weltweit umsetzen zu können, beschäftigt Walmart 2000 Analysten. \n",
    "\n",
    "### Wettbewerb auf Kaggle\n",
    "[Walmart - Nähere Informationen zur Competition](https://www.kaggle.com/c/walmart-recruiting-store-sales-forecasting).\n",
    "\n",
    "Walmart stellt den genutzen Datensatz auf Kaggle für einen Bewerberwettbewerb zur Verfügung. Mit dem Wettbewerb möchte Waltmart die besten Kandidaten für zukünftige Mitarbeiter herausfiltern. Den Bewerbern gibt diese Competition die Möglichkeit, ihr Können vorzuzeigen. \n",
    "\n",
    "Der Datensatz beinhaltet historische Verkaufdaten von 45 Walmart Märkten an unterschiedlichen Standorten. Diese sind widerum in sich in unterschiedliche Abteilungen unterteilt. Es gilt je Bereich eine Analyse der Salesdaten zu entwickeln und damit vorhersagen, welcher Bereich am effektivsten arbeitet.\n",
    "\n",
    "### Ziel unserer Arbeit\n",
    "Dieses Assignment hat nicht das Ziel, an dem Wettbewerb mitteilzunehmen. Wir haben uns als Ziel gesetzt, aus dem Daten zum Vorweihnachtsgeschäft aus 2010 das Vorweihnachtsgeschäft für 2011 vorhersagen zu können. "
   ]
  },
  {
   "cell_type": "markdown",
   "metadata": {},
   "source": [
    "## DATA UNDERSTANDING: Was wissen wir und was wollen wir wissen?"
   ]
  },
  {
   "cell_type": "markdown",
   "metadata": {},
   "source": [
    "In der zweiten Phase des CRISP-VGMs betrachten wir die uns zur Verfügung stehenden Daten.  \n",
    "Dabei beantworten wir folgende Fragen:\n",
    "+ Was sind die Quellen unserer Daten?\n",
    "+ Wie sind die uns zur Verfügung stehenden Dateien aufgebaut?\n",
    "+ Welche Wertbereiche umfassen die Daten und welche Verteilungen sind zu erkennen?\n",
    "    + Gibt es dabei Dinge, die wir so nicht erwartet hätten?\n",
    "+ Genügt die Qualität der Daten, um in die Phase der Data Preparation übertreten zu können?"
   ]
  },
  {
   "cell_type": "markdown",
   "metadata": {},
   "source": [
    "### Initiale Datensammlung"
   ]
  },
  {
   "cell_type": "code",
   "execution_count": 1,
   "metadata": {},
   "outputs": [],
   "source": [
    "#import sys\n",
    "#if not sys.warnoptions:\n",
    "import warnings\n",
    "warnings.simplefilter(\"ignore\")"
   ]
  },
  {
   "cell_type": "code",
   "execution_count": 2,
   "metadata": {
    "scrolled": true
   },
   "outputs": [
    {
     "name": "stderr",
     "output_type": "stream",
     "text": [
      "Using TensorFlow backend.\n"
     ]
    }
   ],
   "source": [
    "import pandas as pd\n",
    "import numpy as np\n",
    "from matplotlib import pyplot as plt\n",
    "import seaborn as sns\n",
    "from datetime import date\n",
    "from sklearn.preprocessing import StandardScaler\n",
    "from sklearn.model_selection import train_test_split\n",
    "\n",
    "from keras import layers\n",
    "from keras.models import Sequential\n",
    "from keras.layers.core import Dense, Activation, Dropout\n",
    "from keras.optimizers import RMSprop\n",
    "from sklearn.ensemble import GradientBoostingRegressor, RandomForestRegressor\n",
    "from sklearn.tree import DecisionTreeRegressor\n",
    "from sklearn.metrics import mean_absolute_error"
   ]
  },
  {
   "cell_type": "markdown",
   "metadata": {},
   "source": [
    "Das von Walmart zur Verfügung gestellte Datenpaket beinhaltet drei für uns relevante csv-Dateien:\n",
    "+ ```train.csv```\n",
    "+ ```features.csv```\n",
    "+ ```stores.csv```\n",
    "\n",
    "Die beiden Dateien ```test.csv``` und ```sampleSubmission.csv``` sind nur für den Wettbewerb interessant und werden daher hier nicht behandelt.  \n",
    "Weitere Informationen zu den einzelen Datasets: [Walmart - Data](https://www.kaggle.com/c/walmart-recruiting-store-sales-forecasting/data)"
   ]
  },
  {
   "cell_type": "markdown",
   "metadata": {},
   "source": [
    "### Beschreibung der Daten"
   ]
  },
  {
   "cell_type": "markdown",
   "metadata": {},
   "source": [
    "Im Folgenden werden die Attribute der einzelnen csv-Dateien kurz dargestellt."
   ]
  },
  {
   "cell_type": "markdown",
   "metadata": {},
   "source": [
    "#### train.csv"
   ]
  },
  {
   "cell_type": "code",
   "execution_count": 3,
   "metadata": {
    "scrolled": false
   },
   "outputs": [
    {
     "data": {
      "text/html": [
       "<div>\n",
       "<style scoped>\n",
       "    .dataframe tbody tr th:only-of-type {\n",
       "        vertical-align: middle;\n",
       "    }\n",
       "\n",
       "    .dataframe tbody tr th {\n",
       "        vertical-align: top;\n",
       "    }\n",
       "\n",
       "    .dataframe thead th {\n",
       "        text-align: right;\n",
       "    }\n",
       "</style>\n",
       "<table border=\"1\" class=\"dataframe\">\n",
       "  <thead>\n",
       "    <tr style=\"text-align: right;\">\n",
       "      <th></th>\n",
       "      <th>Store</th>\n",
       "      <th>Dept</th>\n",
       "      <th>Date</th>\n",
       "      <th>Weekly_Sales</th>\n",
       "      <th>IsHoliday</th>\n",
       "    </tr>\n",
       "  </thead>\n",
       "  <tbody>\n",
       "    <tr>\n",
       "      <th>0</th>\n",
       "      <td>1</td>\n",
       "      <td>1</td>\n",
       "      <td>2010-02-05</td>\n",
       "      <td>24924.50</td>\n",
       "      <td>False</td>\n",
       "    </tr>\n",
       "    <tr>\n",
       "      <th>1</th>\n",
       "      <td>1</td>\n",
       "      <td>1</td>\n",
       "      <td>2010-02-12</td>\n",
       "      <td>46039.49</td>\n",
       "      <td>True</td>\n",
       "    </tr>\n",
       "    <tr>\n",
       "      <th>2</th>\n",
       "      <td>1</td>\n",
       "      <td>1</td>\n",
       "      <td>2010-02-19</td>\n",
       "      <td>41595.55</td>\n",
       "      <td>False</td>\n",
       "    </tr>\n",
       "    <tr>\n",
       "      <th>3</th>\n",
       "      <td>1</td>\n",
       "      <td>1</td>\n",
       "      <td>2010-02-26</td>\n",
       "      <td>19403.54</td>\n",
       "      <td>False</td>\n",
       "    </tr>\n",
       "    <tr>\n",
       "      <th>4</th>\n",
       "      <td>1</td>\n",
       "      <td>1</td>\n",
       "      <td>2010-03-05</td>\n",
       "      <td>21827.90</td>\n",
       "      <td>False</td>\n",
       "    </tr>\n",
       "  </tbody>\n",
       "</table>\n",
       "</div>"
      ],
      "text/plain": [
       "   Store  Dept        Date  Weekly_Sales  IsHoliday\n",
       "0      1     1  2010-02-05      24924.50      False\n",
       "1      1     1  2010-02-12      46039.49       True\n",
       "2      1     1  2010-02-19      41595.55      False\n",
       "3      1     1  2010-02-26      19403.54      False\n",
       "4      1     1  2010-03-05      21827.90      False"
      ]
     },
     "metadata": {},
     "output_type": "display_data"
    }
   ],
   "source": [
    "data_df = pd.read_csv('./data/train.csv')\n",
    "display(data_df.head())"
   ]
  },
  {
   "cell_type": "markdown",
   "metadata": {},
   "source": [
    "Die Attribute ```Store```, ```Dept```und ```Date``` sind zusammen der Primärschlüssel der Tabelle."
   ]
  },
  {
   "cell_type": "markdown",
   "metadata": {},
   "source": [
    "+ ```Store```: eindeutige Filial-ID\n",
    "+ ```Dept```: pro Filiale eindeutige Abteilungs-ID\n",
    "+ ```Date```: Enddatum der Woche, für die die Verkäufe summiert wurden\n",
    "+ ```Weekly_Sales```: Wochenumsatz pro Abteilung und Filiale\n",
    "+ ```IsHoliday```: Feiertagsanzeiger\n",
    "    + ```True```, falls in der vergangenen Woche ein Feiertag lag"
   ]
  },
  {
   "cell_type": "markdown",
   "metadata": {},
   "source": [
    "#### features.csv"
   ]
  },
  {
   "cell_type": "code",
   "execution_count": 4,
   "metadata": {
    "scrolled": true
   },
   "outputs": [
    {
     "data": {
      "text/html": [
       "<div>\n",
       "<style scoped>\n",
       "    .dataframe tbody tr th:only-of-type {\n",
       "        vertical-align: middle;\n",
       "    }\n",
       "\n",
       "    .dataframe tbody tr th {\n",
       "        vertical-align: top;\n",
       "    }\n",
       "\n",
       "    .dataframe thead th {\n",
       "        text-align: right;\n",
       "    }\n",
       "</style>\n",
       "<table border=\"1\" class=\"dataframe\">\n",
       "  <thead>\n",
       "    <tr style=\"text-align: right;\">\n",
       "      <th></th>\n",
       "      <th>Store</th>\n",
       "      <th>Date</th>\n",
       "      <th>Temperature</th>\n",
       "      <th>Fuel_Price</th>\n",
       "      <th>MarkDown1</th>\n",
       "      <th>MarkDown2</th>\n",
       "      <th>MarkDown3</th>\n",
       "      <th>MarkDown4</th>\n",
       "      <th>MarkDown5</th>\n",
       "      <th>CPI</th>\n",
       "      <th>Unemployment</th>\n",
       "      <th>IsHoliday</th>\n",
       "    </tr>\n",
       "  </thead>\n",
       "  <tbody>\n",
       "    <tr>\n",
       "      <th>0</th>\n",
       "      <td>1</td>\n",
       "      <td>2010-02-05</td>\n",
       "      <td>42.31</td>\n",
       "      <td>2.572</td>\n",
       "      <td>NaN</td>\n",
       "      <td>NaN</td>\n",
       "      <td>NaN</td>\n",
       "      <td>NaN</td>\n",
       "      <td>NaN</td>\n",
       "      <td>211.096358</td>\n",
       "      <td>8.106</td>\n",
       "      <td>False</td>\n",
       "    </tr>\n",
       "    <tr>\n",
       "      <th>1</th>\n",
       "      <td>1</td>\n",
       "      <td>2010-02-12</td>\n",
       "      <td>38.51</td>\n",
       "      <td>2.548</td>\n",
       "      <td>NaN</td>\n",
       "      <td>NaN</td>\n",
       "      <td>NaN</td>\n",
       "      <td>NaN</td>\n",
       "      <td>NaN</td>\n",
       "      <td>211.242170</td>\n",
       "      <td>8.106</td>\n",
       "      <td>True</td>\n",
       "    </tr>\n",
       "    <tr>\n",
       "      <th>2</th>\n",
       "      <td>1</td>\n",
       "      <td>2010-02-19</td>\n",
       "      <td>39.93</td>\n",
       "      <td>2.514</td>\n",
       "      <td>NaN</td>\n",
       "      <td>NaN</td>\n",
       "      <td>NaN</td>\n",
       "      <td>NaN</td>\n",
       "      <td>NaN</td>\n",
       "      <td>211.289143</td>\n",
       "      <td>8.106</td>\n",
       "      <td>False</td>\n",
       "    </tr>\n",
       "    <tr>\n",
       "      <th>3</th>\n",
       "      <td>1</td>\n",
       "      <td>2010-02-26</td>\n",
       "      <td>46.63</td>\n",
       "      <td>2.561</td>\n",
       "      <td>NaN</td>\n",
       "      <td>NaN</td>\n",
       "      <td>NaN</td>\n",
       "      <td>NaN</td>\n",
       "      <td>NaN</td>\n",
       "      <td>211.319643</td>\n",
       "      <td>8.106</td>\n",
       "      <td>False</td>\n",
       "    </tr>\n",
       "    <tr>\n",
       "      <th>4</th>\n",
       "      <td>1</td>\n",
       "      <td>2010-03-05</td>\n",
       "      <td>46.50</td>\n",
       "      <td>2.625</td>\n",
       "      <td>NaN</td>\n",
       "      <td>NaN</td>\n",
       "      <td>NaN</td>\n",
       "      <td>NaN</td>\n",
       "      <td>NaN</td>\n",
       "      <td>211.350143</td>\n",
       "      <td>8.106</td>\n",
       "      <td>False</td>\n",
       "    </tr>\n",
       "  </tbody>\n",
       "</table>\n",
       "</div>"
      ],
      "text/plain": [
       "   Store        Date  Temperature  Fuel_Price  MarkDown1  MarkDown2  \\\n",
       "0      1  2010-02-05        42.31       2.572        NaN        NaN   \n",
       "1      1  2010-02-12        38.51       2.548        NaN        NaN   \n",
       "2      1  2010-02-19        39.93       2.514        NaN        NaN   \n",
       "3      1  2010-02-26        46.63       2.561        NaN        NaN   \n",
       "4      1  2010-03-05        46.50       2.625        NaN        NaN   \n",
       "\n",
       "   MarkDown3  MarkDown4  MarkDown5         CPI  Unemployment  IsHoliday  \n",
       "0        NaN        NaN        NaN  211.096358         8.106      False  \n",
       "1        NaN        NaN        NaN  211.242170         8.106       True  \n",
       "2        NaN        NaN        NaN  211.289143         8.106      False  \n",
       "3        NaN        NaN        NaN  211.319643         8.106      False  \n",
       "4        NaN        NaN        NaN  211.350143         8.106      False  "
      ]
     },
     "metadata": {},
     "output_type": "display_data"
    }
   ],
   "source": [
    "features_df = pd.read_csv('./data/features.csv')\n",
    "display(features_df.head())"
   ]
  },
  {
   "cell_type": "markdown",
   "metadata": {},
   "source": [
    "Die Attribute ```Store``` und ```Date``` sind zusammen der Primärschlüssel der Tabelle."
   ]
  },
  {
   "cell_type": "markdown",
   "metadata": {},
   "source": [
    "+ ```Store```: eindeutige Filial-ID\n",
    "+ ```Date```: Enddatum der Woche\n",
    "+ ```Temperature```: gemittelte Temperatur der Woche\n",
    "+ ```Fuel_Price```: gemittelter Benzinpreis der Woche\n",
    "+ ```MarkDown 1-5```: Metriken, die Auskunft über spezielle Werbeangebote der Woche geben\n",
    "+ ```CPI```: Verbraucherpreisindex der Woche\n",
    "+ ```Unemployment```: Arbeitslosenquote der Woche\n",
    "+ ```IsHoliday```: Feiertagsanzeiger\n",
    "    + ```True```, falls in der vergangenen Woche ein Feiertag lag\n",
    "    + Duplikat des Attributs selbigen Namens in der Datei ```train.csv```"
   ]
  },
  {
   "cell_type": "markdown",
   "metadata": {},
   "source": [
    "#### stores.csv"
   ]
  },
  {
   "cell_type": "code",
   "execution_count": 5,
   "metadata": {},
   "outputs": [
    {
     "data": {
      "text/html": [
       "<div>\n",
       "<style scoped>\n",
       "    .dataframe tbody tr th:only-of-type {\n",
       "        vertical-align: middle;\n",
       "    }\n",
       "\n",
       "    .dataframe tbody tr th {\n",
       "        vertical-align: top;\n",
       "    }\n",
       "\n",
       "    .dataframe thead th {\n",
       "        text-align: right;\n",
       "    }\n",
       "</style>\n",
       "<table border=\"1\" class=\"dataframe\">\n",
       "  <thead>\n",
       "    <tr style=\"text-align: right;\">\n",
       "      <th></th>\n",
       "      <th>Store</th>\n",
       "      <th>Type</th>\n",
       "      <th>Size</th>\n",
       "    </tr>\n",
       "  </thead>\n",
       "  <tbody>\n",
       "    <tr>\n",
       "      <th>0</th>\n",
       "      <td>1</td>\n",
       "      <td>A</td>\n",
       "      <td>151315</td>\n",
       "    </tr>\n",
       "    <tr>\n",
       "      <th>1</th>\n",
       "      <td>2</td>\n",
       "      <td>A</td>\n",
       "      <td>202307</td>\n",
       "    </tr>\n",
       "    <tr>\n",
       "      <th>2</th>\n",
       "      <td>3</td>\n",
       "      <td>B</td>\n",
       "      <td>37392</td>\n",
       "    </tr>\n",
       "    <tr>\n",
       "      <th>3</th>\n",
       "      <td>4</td>\n",
       "      <td>A</td>\n",
       "      <td>205863</td>\n",
       "    </tr>\n",
       "    <tr>\n",
       "      <th>4</th>\n",
       "      <td>5</td>\n",
       "      <td>B</td>\n",
       "      <td>34875</td>\n",
       "    </tr>\n",
       "  </tbody>\n",
       "</table>\n",
       "</div>"
      ],
      "text/plain": [
       "   Store Type    Size\n",
       "0      1    A  151315\n",
       "1      2    A  202307\n",
       "2      3    B   37392\n",
       "3      4    A  205863\n",
       "4      5    B   34875"
      ]
     },
     "metadata": {},
     "output_type": "display_data"
    }
   ],
   "source": [
    "stores_df = pd.read_csv('./data/stores.csv')\n",
    "display(stores_df.head())"
   ]
  },
  {
   "cell_type": "markdown",
   "metadata": {},
   "source": [
    "+ ```Store```: eindeutige Filial-ID\n",
    "+ ```Type```: Typ der Filiale (wobei die drei Klassen ```A```, ```B```und ```C``` vorhanden sind)\n",
    "+ ```Size```: Größe der Filiale\n",
    "    + Nachdem die Daten anonymisiert sind, sind die Angaben nicht in m<sup>2</sup> oder ft<sup>2</sup> , sondern abstrahiert zu verstehen."
   ]
  },
  {
   "cell_type": "markdown",
   "metadata": {},
   "source": [
    "### Datenexploration"
   ]
  },
  {
   "cell_type": "markdown",
   "metadata": {},
   "source": [
    "Im Folgenden sollen die einzelnen Datensätze getrennt voneinander untersucht werden.  \n",
    "Von besonderem Interesse sind Wertebereiche, Extremwerte und fehlende Werte."
   ]
  },
  {
   "cell_type": "markdown",
   "metadata": {},
   "source": [
    "#### Train - Datensatz"
   ]
  },
  {
   "cell_type": "markdown",
   "metadata": {},
   "source": [
    "Der Datensatz ```train.csv``` enthält die Attribute ```Store```, ```Dept```, ```Date```, ```Weekly_Sales``` und ```IsHoliday```.\n",
    "\n",
    "Im Folgenden untersuchen wir die einzelnen Attribute, wobei wir uns auf einzelne, interessante Fragestellungen beschränken, anstatt komplette univariate Analysen auszugeben.  \n",
    "\n",
    "Das Attribut ```IsHoliday``` wird hier auch von der Anzahl der Abteilungen beeinflusst.  \n",
    "Nachdem das Attribut auch im Datensatz ```features.csv``` vorkommt, wird es dort betrachtet."
   ]
  },
  {
   "cell_type": "markdown",
   "metadata": {},
   "source": [
    "__Store__"
   ]
  },
  {
   "cell_type": "markdown",
   "metadata": {
    "variables": {
     "data_df.Store.nunique()": "45"
    }
   },
   "source": [
    "Der Datensatz umfasst __{{data_df.Store.nunique()}} einzelne Stores__."
   ]
  },
  {
   "cell_type": "markdown",
   "metadata": {},
   "source": [
    "__Dept__"
   ]
  },
  {
   "cell_type": "markdown",
   "metadata": {
    "variables": {
     "data_df.Dept.max()": "99",
     "data_df.Dept.min()": "1",
     "data_df.Dept.nunique()": "81"
    }
   },
   "source": [
    "Es gibt insgesamt __{{data_df.Dept.nunique()}} verschiedene Abteilungen__.  \n",
    "Die IDs der Abteilungen reichen dabei von __{{data_df.Dept.min()}}__ bis __{{data_df.Dept.max()}}__."
   ]
  },
  {
   "cell_type": "markdown",
   "metadata": {},
   "source": [
    "Fraglich ist, ob jeder Store auch tatsächlich jede Abteilung beherbergt:"
   ]
  },
  {
   "cell_type": "code",
   "execution_count": 6,
   "metadata": {},
   "outputs": [
    {
     "data": {
      "image/png": "[encoded data removed]",
      "text/plain": [
       "<matplotlib.figure.Figure at 0x115ad6320>"
      ]
     },
     "metadata": {},
     "output_type": "display_data"
    }
   ],
   "source": [
    "data_df.groupby('Store')['Dept'].nunique().plot(figsize=(20, 5), kind='bar', rot=0).set_ylabel('Anzahl an Abteilungen')\n",
    "plt.axhline(data_df.Dept.nunique(), color='red')\n",
    "plt.ylim(60, data_df.Dept.nunique() + 5)\n",
    "plt.show()"
   ]
  },
  {
   "cell_type": "markdown",
   "metadata": {
    "variables": {
     "data_df.groupby('Store')['Dept'].nunique().max()": "79",
     "data_df.groupby('Store')['Dept'].nunique().min()": "61"
    }
   },
   "source": [
    "Wir können beobachten, dass es nicht einen einzigen Store gibt, der alle Abteilungen unter einem Dach vereint.  \n",
    "__Der kleinste Store umfasst dabei {{data_df.groupby('Store')['Dept'].nunique().min()}} Abteilungen, der größte {{data_df.groupby('Store')['Dept'].nunique().max()}} Abteilungen__."
   ]
  },
  {
   "cell_type": "markdown",
   "metadata": {},
   "source": [
    "Weiterhin ist von Interesse, ob es Abteilungen gibt, die in jedem Store vorhanden sind oder eben nicht:"
   ]
  },
  {
   "cell_type": "code",
   "execution_count": 7,
   "metadata": {
    "scrolled": false
   },
   "outputs": [
    {
     "data": {
      "image/png": "[encoded data removed]",
      "text/plain": [
       "<matplotlib.figure.Figure at 0x115ab06d8>"
      ]
     },
     "metadata": {},
     "output_type": "display_data"
    }
   ],
   "source": [
    "dept_in_stores_series = data_df.groupby('Dept')['Store'].nunique()\n",
    "dept_in_stores_series.plot(figsize=(20, 5), kind='bar', rot=0).set_ylabel('Anzahl an Abteilungen')\n",
    "plt.show()"
   ]
  },
  {
   "cell_type": "markdown",
   "metadata": {
    "variables": {
     "dept_in_stores_series.value_counts()[45]": "54",
     "dept_in_stores_series[dept_in_stores_series==1].index.values[0]": "65",
     "int(dept_in_stores_series.value_counts(normalize=True)[45]*100)": "66"
    }
   },
   "source": [
    "Insgesamt gibt es __{{dept_in_stores_series.value_counts()[45]}} Abteilungen, die in jedem Store vertreten sind__, das sind ca {{int(dept_in_stores_series.value_counts(normalize=True)[45]*100)}} Prozent aller Abteilungen.  \n",
    "__Abteilung {{dept_in_stores_series[dept_in_stores_series==1].index.values[0]}} gibt es nur in einem einzigen Store__. Sie ist dabei die einzige Abteilung, die in nur einem Store existiert."
   ]
  },
  {
   "cell_type": "markdown",
   "metadata": {},
   "source": [
    "__Date__"
   ]
  },
  {
   "cell_type": "markdown",
   "metadata": {
    "variables": {
     "data_df.Date.max()": "2012-10-26",
     "data_df.Date.min()": "2010-02-05",
     "data_df.Date.nunique()": "143"
    }
   },
   "source": [
    "Der älteste Messwert ist vom ```{{data_df.Date.min()}}```, der jüngste Messwert ist vom ```{{data_df.Date.max()}}```.  \n",
    "Insgesamt wurde an {{data_df.Date.nunique()}} Tagen gemessen."
   ]
  },
  {
   "cell_type": "markdown",
   "metadata": {},
   "source": [
    "__Weekly Sales__"
   ]
  },
  {
   "cell_type": "code",
   "execution_count": 8,
   "metadata": {},
   "outputs": [
    {
     "name": "stdout",
     "output_type": "stream",
     "text": [
      "Anzahl Messpunkte:\t421570\n",
      "Kleinster Betrag:\t-4988.94\n",
      "Median:\t\t\t7612.03\n",
      "Durchschnitt:\t\t15981.26\n",
      "Größter Betrag:\t\t693099.36\n"
     ]
    },
    {
     "data": {
      "image/png": "[encoded data removed]",
      "text/plain": [
       "<matplotlib.figure.Figure at 0x116f96710>"
      ]
     },
     "metadata": {},
     "output_type": "display_data"
    }
   ],
   "source": [
    "print(\"Anzahl Messpunkte:\\t{}\".format(data_df.Weekly_Sales.count()))\n",
    "print(\"Kleinster Betrag:\\t{}\".format(data_df.Weekly_Sales.min()))\n",
    "print(\"Median:\\t\\t\\t{}\".format(data_df.Weekly_Sales.median()))\n",
    "print(\"Durchschnitt:\\t\\t{0:.2f}\".format(data_df.Weekly_Sales.mean()))\n",
    "print(\"Größter Betrag:\\t\\t{}\".format(data_df.Weekly_Sales.max()))\n",
    "\n",
    "pd.DataFrame(data_df.Weekly_Sales).boxplot(figsize=(20,1), vert=False)\n",
    "plt.show()"
   ]
  },
  {
   "cell_type": "markdown",
   "metadata": {},
   "source": [
    "__Interessant:__ es sind auch negative Werte für den Umsatz enthalten und das nicht zu knapp:  \n",
    "Dieses Verhalten kann in  1285 Einzelmessungen beobachtet werden, es tritt in allen Stores und Wochen auf.  \n",
    "Wie es dazu kommt wird [hier](https://www.kaggle.com/c/walmart-recruiting-store-sales-forecasting/discussion/7152) erklärt, es wurden in der Periode Waren für mehr Wert retourniert als gekauft."
   ]
  },
  {
   "cell_type": "markdown",
   "metadata": {},
   "source": [
    "#### Features - Datensatz"
   ]
  },
  {
   "cell_type": "markdown",
   "metadata": {},
   "source": [
    "Der Datensatz ```features.csv``` enthält die Attribute ```Store```, ```Date```, ```Temperature```, ```Fuel_Price```, ```Markdown 1-5```, ```CPI```, ```Unemployment``` und ```IsHoliday```."
   ]
  },
  {
   "cell_type": "markdown",
   "metadata": {},
   "source": [
    "__Store und Date__"
   ]
  },
  {
   "cell_type": "markdown",
   "metadata": {},
   "source": [
    "Nachdem die Datensätze ```train.csv``` und ```features.csv``` in einem späteren Schritt über die Attribute ```Store``` und ```Date``` gejoined werden sollen, wird hier überprüft, ob ein Inner Join ohne Verluste möglich ist:"
   ]
  },
  {
   "cell_type": "code",
   "execution_count": 9,
   "metadata": {},
   "outputs": [
    {
     "name": "stdout",
     "output_type": "stream",
     "text": [
      "Es wurden für 0 Zeilen keine Join-Partner gefunden.\n"
     ]
    }
   ],
   "source": [
    "data_join_df = data_df[['Store', 'Date']]\n",
    "\n",
    "features_join_df = features_df[['Store', 'Date']]\n",
    "features_join_df = features_join_df[features_join_df.Date <= data_join_df.Date.max()]\n",
    "\n",
    "cnt_rows_without_partner = len(pd.concat([data_join_df, features_join_df]).drop_duplicates(keep=False))\n",
    "print(\"Es wurden für {} Zeilen keine Join-Partner gefunden.\".format(cnt_rows_without_partner))"
   ]
  },
  {
   "cell_type": "markdown",
   "metadata": {},
   "source": [
    "Ein Join ist also ohne Verluste machbar."
   ]
  },
  {
   "cell_type": "markdown",
   "metadata": {},
   "source": [
    "__Temperature__"
   ]
  },
  {
   "cell_type": "code",
   "execution_count": 10,
   "metadata": {},
   "outputs": [
    {
     "name": "stdout",
     "output_type": "stream",
     "text": [
      "Die niedrigste gemessene Temperatur:\t-7.29\n",
      "Die höchste gemessene Temperatur:\t101.95\n",
      "Median der Temperatur:\t\t\t60.71\n"
     ]
    }
   ],
   "source": [
    "print(\"Die niedrigste gemessene Temperatur:\\t{}\".format(features_df.Temperature.min()))\n",
    "print(\"Die höchste gemessene Temperatur:\\t{}\".format(features_df.Temperature.max()))\n",
    "print(\"Median der Temperatur:\\t\\t\\t{}\".format(features_df.Temperature.median()))"
   ]
  },
  {
   "cell_type": "markdown",
   "metadata": {},
   "source": [
    "Nachdem Nachrichten über gekochte Amerikaner auch uns in Europa erreicht hätten, gehen wir davon aus, dass die Temperatur in Fahrenheit vorliegt.  \n",
    "In einem ersten Schritt wollen wir diese umrechnen:"
   ]
  },
  {
   "cell_type": "code",
   "execution_count": 11,
   "metadata": {},
   "outputs": [],
   "source": [
    "def fahr_to_celsius(temp_fahr):\n",
    "    return round((temp_fahr - 32) * 5 / 9, 2)\n",
    "\n",
    "features_df['Temperature_F'] = features_df.Temperature\n",
    "features_df['Temperature_C'] = features_df.Temperature.apply(lambda tmp_fahr: fahr_to_celsius(tmp_fahr))\n",
    "features_df.drop(columns=['Temperature'], inplace=True)"
   ]
  },
  {
   "cell_type": "code",
   "execution_count": 12,
   "metadata": {},
   "outputs": [
    {
     "name": "stdout",
     "output_type": "stream",
     "text": [
      "Die niedrigste gemessene Temperatur:\t-21.83\n",
      "Die höchste gemessene Temperatur:\t38.86\n",
      "Median der Temperatur:\t\t\t15.95\n"
     ]
    }
   ],
   "source": [
    "print(\"Die niedrigste gemessene Temperatur:\\t{}\".format(features_df.Temperature_C.min()))\n",
    "print(\"Die höchste gemessene Temperatur:\\t{}\".format(features_df.Temperature_C.max()))\n",
    "print(\"Median der Temperatur:\\t\\t\\t{}\".format(features_df.Temperature_C.median()))"
   ]
  },
  {
   "cell_type": "markdown",
   "metadata": {},
   "source": [
    "Diese Ergebnisse ergeben durchaus mehr Sinn aus der europäischen Perspektive."
   ]
  },
  {
   "cell_type": "code",
   "execution_count": 13,
   "metadata": {},
   "outputs": [
    {
     "data": {
      "image/png": "[encoded data removed]",
      "text/plain": [
       "<matplotlib.figure.Figure at 0x116fcffd0>"
      ]
     },
     "metadata": {},
     "output_type": "display_data"
    }
   ],
   "source": [
    "list_of_stores = features_df[features_df.Temperature_C == features_df.Temperature_C.min()].Store.tolist() + features_df[features_df.Temperature_C == features_df.Temperature_C.max()].Store.tolist()\n",
    "temperature_store_df = pd.DataFrame()\n",
    "\n",
    "for store in list_of_stores:\n",
    "    temperature_store_df[store] = features_df.Temperature_C[features_df.Store == store].tolist()\n",
    "    temperature_store_df.reset_index(drop=True, inplace=True)\n",
    "    \n",
    "temperature_store_df.boxplot(figsize=(20,5), vert=False)\n",
    "plt.xlabel(\"Temperatur\")\n",
    "plt.ylabel(\"Store\")\n",
    "plt.show()"
   ]
  },
  {
   "cell_type": "markdown",
   "metadata": {},
   "source": [
    "__Fuel_Price__"
   ]
  },
  {
   "cell_type": "code",
   "execution_count": 14,
   "metadata": {},
   "outputs": [
    {
     "name": "stdout",
     "output_type": "stream",
     "text": [
      "Der niedrigste Preis pro Gallone Sprit:\t\t2.472\n",
      "Der höchste Preis pro Gallone Sprit:\t\t4.468\n",
      "Median des Spritpreises pro Gallone:\t\t3.513\n"
     ]
    },
    {
     "data": {
      "image/png": "[encoded data removed]",
      "text/plain": [
       "<matplotlib.figure.Figure at 0x116f965f8>"
      ]
     },
     "metadata": {},
     "output_type": "display_data"
    }
   ],
   "source": [
    "print(\"Der niedrigste Preis pro Gallone Sprit:\\t\\t{}\".format(features_df.Fuel_Price.min()))\n",
    "print(\"Der höchste Preis pro Gallone Sprit:\\t\\t{}\".format(features_df.Fuel_Price.max()))\n",
    "print(\"Median des Spritpreises pro Gallone:\\t\\t{}\".format(features_df.Fuel_Price.median()))\n",
    "\n",
    "pd.DataFrame(features_df.Fuel_Price).boxplot(figsize=(20,1), vert=False)\n",
    "plt.show()"
   ]
  },
  {
   "cell_type": "markdown",
   "metadata": {},
   "source": [
    "__MarkDown 1-5__"
   ]
  },
  {
   "cell_type": "markdown",
   "metadata": {},
   "source": [
    "Der Beschreibung auf [Kaggle](https://www.kaggle.com/c/walmart-recruiting-store-sales-forecasting/data) entnehmen wir, dass die Werte für die Marketingaktionen erst ab November 2010 verfügbar sind. Zudem fehlen angeblich Daten für weitere Wochen.  \n",
    "Nachdem wir die Werte ab September 2010 für die Prognose nutzen wollen, könnte es sein, dass die Attribute für uns wertlos sind.\n",
    "\n",
    "Auf jeden Fall soll an dieser Stelle untersucht werden, wie es sich mit fehlenden Werten im Datensatz generell verhält:"
   ]
  },
  {
   "cell_type": "code",
   "execution_count": 15,
   "metadata": {},
   "outputs": [
    {
     "data": {
      "text/html": [
       "<div>\n",
       "<style scoped>\n",
       "    .dataframe tbody tr th:only-of-type {\n",
       "        vertical-align: middle;\n",
       "    }\n",
       "\n",
       "    .dataframe tbody tr th {\n",
       "        vertical-align: top;\n",
       "    }\n",
       "\n",
       "    .dataframe thead th {\n",
       "        text-align: right;\n",
       "    }\n",
       "</style>\n",
       "<table border=\"1\" class=\"dataframe\">\n",
       "  <thead>\n",
       "    <tr style=\"text-align: right;\">\n",
       "      <th></th>\n",
       "      <th>0</th>\n",
       "    </tr>\n",
       "  </thead>\n",
       "  <tbody>\n",
       "    <tr>\n",
       "      <th>Store</th>\n",
       "      <td>0</td>\n",
       "    </tr>\n",
       "    <tr>\n",
       "      <th>Date</th>\n",
       "      <td>0</td>\n",
       "    </tr>\n",
       "    <tr>\n",
       "      <th>Fuel_Price</th>\n",
       "      <td>0</td>\n",
       "    </tr>\n",
       "    <tr>\n",
       "      <th>MarkDown1</th>\n",
       "      <td>4158</td>\n",
       "    </tr>\n",
       "    <tr>\n",
       "      <th>MarkDown2</th>\n",
       "      <td>5269</td>\n",
       "    </tr>\n",
       "    <tr>\n",
       "      <th>MarkDown3</th>\n",
       "      <td>4577</td>\n",
       "    </tr>\n",
       "    <tr>\n",
       "      <th>MarkDown4</th>\n",
       "      <td>4726</td>\n",
       "    </tr>\n",
       "    <tr>\n",
       "      <th>MarkDown5</th>\n",
       "      <td>4140</td>\n",
       "    </tr>\n",
       "    <tr>\n",
       "      <th>CPI</th>\n",
       "      <td>585</td>\n",
       "    </tr>\n",
       "    <tr>\n",
       "      <th>Unemployment</th>\n",
       "      <td>585</td>\n",
       "    </tr>\n",
       "    <tr>\n",
       "      <th>IsHoliday</th>\n",
       "      <td>0</td>\n",
       "    </tr>\n",
       "    <tr>\n",
       "      <th>Temperature_F</th>\n",
       "      <td>0</td>\n",
       "    </tr>\n",
       "    <tr>\n",
       "      <th>Temperature_C</th>\n",
       "      <td>0</td>\n",
       "    </tr>\n",
       "  </tbody>\n",
       "</table>\n",
       "</div>"
      ],
      "text/plain": [
       "                  0\n",
       "Store             0\n",
       "Date              0\n",
       "Fuel_Price        0\n",
       "MarkDown1      4158\n",
       "MarkDown2      5269\n",
       "MarkDown3      4577\n",
       "MarkDown4      4726\n",
       "MarkDown5      4140\n",
       "CPI             585\n",
       "Unemployment    585\n",
       "IsHoliday         0\n",
       "Temperature_F     0\n",
       "Temperature_C     0"
      ]
     },
     "execution_count": 15,
     "metadata": {},
     "output_type": "execute_result"
    }
   ],
   "source": [
    "pd.DataFrame(features_df.isnull().sum())"
   ]
  },
  {
   "cell_type": "markdown",
   "metadata": {},
   "source": [
    "Wir wollen wissen, für welchen Zeitraum tatsächlich Daten der Attribute ```MarkDown 1-5``` vorhanden sind:"
   ]
  },
  {
   "cell_type": "code",
   "execution_count": 16,
   "metadata": {},
   "outputs": [
    {
     "name": "stdout",
     "output_type": "stream",
     "text": [
      "Erstes Datum mit allen Werten für MarkDown:\t2011-11-11\n",
      "Letztes Datum mit allen Werten für MarkDown:\t2013-07-26\n"
     ]
    }
   ],
   "source": [
    "print(\"Erstes Datum mit allen Werten für MarkDown:\\t{}\".format(features_df[['Date', 'MarkDown1', 'MarkDown2', 'MarkDown3', 'MarkDown4', 'MarkDown5']].dropna().Date.min()))\n",
    "print(\"Letztes Datum mit allen Werten für MarkDown:\\t{}\".format(features_df[['Date', 'MarkDown1', 'MarkDown2', 'MarkDown3', 'MarkDown4', 'MarkDown5']].dropna().Date.max()))"
   ]
  },
  {
   "cell_type": "markdown",
   "metadata": {},
   "source": [
    "Nachdem wir aus den Daten von 2010 für das Weihnachtsgeschäft von 2011 lernen wollen, sind die Attribute ```MarkDown 1-5``` für uns wertlos und werden in der Phase der __Data Preparation__ entfernt."
   ]
  },
  {
   "cell_type": "markdown",
   "metadata": {},
   "source": [
    "__CPI__"
   ]
  },
  {
   "cell_type": "markdown",
   "metadata": {},
   "source": [
    "Der Verbrauchspreisindex zeigt die Steigerung (oder Minderung) der Lebenshaltungskosten an.  \n",
    "Dabei existieren verschiedene CPIs - mit welchem genau wir es zu tun haben und welches das Basisjahr ist, konnten wir nicht ermitteln.  "
   ]
  },
  {
   "cell_type": "code",
   "execution_count": 17,
   "metadata": {},
   "outputs": [
    {
     "name": "stdout",
     "output_type": "stream",
     "text": [
      "Der niedrigste Wert des CPI:\t126.064\n",
      "Der höchste Wert des CPI:\t228.9764563\n",
      "Median des CPI:\t\t\t182.7640032\n"
     ]
    },
    {
     "data": {
      "image/png": "[encoded data removed]",
      "text/plain": [
       "<matplotlib.figure.Figure at 0x1a2354a5c0>"
      ]
     },
     "metadata": {},
     "output_type": "display_data"
    }
   ],
   "source": [
    "print(\"Der niedrigste Wert des CPI:\\t{}\".format(features_df.CPI.min()))\n",
    "print(\"Der höchste Wert des CPI:\\t{}\".format(features_df.CPI.max()))\n",
    "print(\"Median des CPI:\\t\\t\\t{}\".format(features_df.CPI.median()))\n",
    "\n",
    "pd.DataFrame(features_df.CPI).boxplot(figsize=(20,1), vert=False)\n",
    "plt.show()"
   ]
  },
  {
   "cell_type": "markdown",
   "metadata": {},
   "source": [
    "Wie soeben in der Auswertung der ```MarkDown```-Attribute gesehen, fehlen auch hier Werte.  \n",
    "Diese fehlenden Werte müssen, falls nötig, in der Phase der __Data Preparation__ nachberechnet werden."
   ]
  },
  {
   "cell_type": "code",
   "execution_count": 18,
   "metadata": {},
   "outputs": [
    {
     "data": {
      "image/png": "[encoded data removed]",
      "text/plain": [
       "<matplotlib.figure.Figure at 0x1a23539828>"
      ]
     },
     "metadata": {},
     "output_type": "display_data"
    }
   ],
   "source": [
    "cpi_df = features_df.set_index(keys=['Store', 'Date'])['CPI'].unstack(level='Store')\n",
    "cpi_df.index = pd.to_datetime(cpi_df.index)\n",
    "cpi_df.plot(figsize=(20,13))\n",
    "plt.xlabel('Datum')\n",
    "plt.ylabel('CPI')\n",
    "plt.show()"
   ]
  },
  {
   "cell_type": "markdown",
   "metadata": {
    "variables": {
     "features_df.CPI.max()": "228.9764563",
     "features_df.CPI.min()": "126.064"
    }
   },
   "source": [
    "__Dieses Finding ist interessant:__  \n",
    "Warum gibt es Regionen, in denen der CPI den minimalen Wert von ```{{features_df.CPI.min()}}``` hat, im Gegensatz zu Regionen, bei denen der maximale Wert ```{{features_df.CPI.max()}}```, also fast das Doppelte, beträgt?  \n",
    "Zumindest in Deutschland ließe sich ein derartiger Unterschied im Einzelhandel nicht regional beurteilen.  \n",
    "Wir werden dieses Thema später eventuell nochmals aufgreifen."
   ]
  },
  {
   "cell_type": "markdown",
   "metadata": {},
   "source": [
    "__Unemployment__"
   ]
  },
  {
   "cell_type": "code",
   "execution_count": 19,
   "metadata": {},
   "outputs": [
    {
     "name": "stdout",
     "output_type": "stream",
     "text": [
      "Der niedrigste Wert des Unemployment:\t3.6839999999999997\n",
      "Der höchste Wert des Unemployment:\t14.312999999999999\n",
      "Median des Unemployment:\t\t7.806\n"
     ]
    },
    {
     "data": {
      "image/png": "[encoded data removed]",
      "text/plain": [
       "<matplotlib.figure.Figure at 0x1a2d7d5748>"
      ]
     },
     "metadata": {},
     "output_type": "display_data"
    }
   ],
   "source": [
    "print(\"Der niedrigste Wert des Unemployment:\\t{}\".format(features_df.Unemployment.min()))\n",
    "print(\"Der höchste Wert des Unemployment:\\t{}\".format(features_df.Unemployment.max()))\n",
    "print(\"Median des Unemployment:\\t\\t{}\".format(features_df.Unemployment.median()))\n",
    "\n",
    "mean_umempl_usa_201011 = (8.9 + 8.1) / 2\n",
    "\n",
    "pd.DataFrame(features_df.Unemployment).boxplot(figsize=(20,1), vert=False)\n",
    "plt.axvline(x=mean_umempl_usa_201011, color='red')\n",
    "plt.show()"
   ]
  },
  {
   "cell_type": "markdown",
   "metadata": {
    "variables": {
     "mean_umempl_usa_201011": "8.5"
    }
   },
   "source": [
    "Wir haben die Daten des Datensatzes mit der durchschnittlichen Arbeitslosenquote der Vereinigten Staaten aus den Jahren 2011 und 2012 (Quelle: [Wikipedia](https://de.wikipedia.org/wiki/Arbeitsmarktstatistik_der_Vereinigten_Staaten#2011_bis_2018)) in Höhe von ```{{mean_umempl_usa_201011}}``` verglichen.\n",
    "\n",
    "Dabei zeigt sich, dass die Daten in Walmarts erhoben wurden, die potentiell eher in Regionen mit niedrigerer Arbeitslosenquote angesiedelt sind.  \n",
    "Dieses zeigt sich auch in den Ausreißern: während in Q1 und Q2 die Daten eher dicht gepackt sind, streut Q3 und vor allem Q4 stark."
   ]
  },
  {
   "cell_type": "markdown",
   "metadata": {},
   "source": [
    "__IsHoliday__"
   ]
  },
  {
   "cell_type": "code",
   "execution_count": 20,
   "metadata": {},
   "outputs": [
    {
     "data": {
      "image/png": "[encoded data removed]",
      "text/plain": [
       "<matplotlib.figure.Figure at 0x1a2d7ecba8>"
      ]
     },
     "metadata": {},
     "output_type": "display_data"
    }
   ],
   "source": [
    "pd.DataFrame(features_df.IsHoliday).apply(pd.value_counts).plot.pie(figsize=(5,5), y='IsHoliday', autopct='%.2f')\n",
    "plt.show()"
   ]
  },
  {
   "cell_type": "markdown",
   "metadata": {},
   "source": [
    "Wie in der Grafik zu sehen, sind in ```7.14%``` der betrachteten Datensätze Feiertage zu verzeichnen.  \n",
    "In diesem Zeitraum liegen unter anderem:\n",
    "+ Super Bowl\n",
    "+ Labor Day\n",
    "+ Thanksgiving\n",
    "+ Black Friday\n",
    "+ Weihnachten"
   ]
  },
  {
   "cell_type": "markdown",
   "metadata": {},
   "source": [
    "#### Stores - Datensatz"
   ]
  },
  {
   "cell_type": "markdown",
   "metadata": {},
   "source": [
    "Der Datensatz ```stores.csv``` enthält die Attribute ```Store```, ```Type``` und ```Size```."
   ]
  },
  {
   "cell_type": "markdown",
   "metadata": {},
   "source": [
    "__Store__"
   ]
  },
  {
   "cell_type": "markdown",
   "metadata": {
    "variables": {
     "stores_df.Store.max()": "45",
     "stores_df.Store.min()": "1"
    }
   },
   "source": [
    "```Store``` stellt für die Datei den Primärschlüssel, dabei sind alle Stores von ID ```{{stores_df.Store.min()}}``` bis ID ```{{stores_df.Store.max()}}``` enthalten."
   ]
  },
  {
   "cell_type": "markdown",
   "metadata": {},
   "source": [
    "__Type__"
   ]
  },
  {
   "cell_type": "markdown",
   "metadata": {
    "variables": {
     "stores_df.Type.unique()[0]": "A",
     "stores_df.Type.unique()[1]": "B",
     "stores_df.Type.unique()[2]": "C"
    }
   },
   "source": [
    "Das Attribut ```Type``` enthält die Werte ```{{stores_df.Type.unique()[0]}}```, ```{{stores_df.Type.unique()[1]}}``` und ```{{stores_df.Type.unique()[2]}}```.  \n",
    "Es gibt folgende unterschiedliche Typen von Märkten (Quelle: [Walmart Store Locator](https://corporate.walmart.com/our-story/our-business)), wobei wir uns nicht sicher sind, inwieweit dies gemapped werden kann:\n",
    "+ Walmart Supercenter\n",
    "+ Walmart Discount Store\n",
    "+ Walmart Neighbourhood Market\n",
    "\n",
    "Die Verteilung der Store-Typen gestaltet sich wie folgt:"
   ]
  },
  {
   "cell_type": "code",
   "execution_count": 21,
   "metadata": {},
   "outputs": [
    {
     "data": {
      "image/png": "[encoded data removed]",
      "text/plain": [
       "<matplotlib.figure.Figure at 0x1a2d754d30>"
      ]
     },
     "metadata": {},
     "output_type": "display_data"
    }
   ],
   "source": [
    "stores_df.groupby('Type')['Type'].count().plot(kind='bar', rot=0)\n",
    "plt.ylabel(\"Anzahl\")\n",
    "plt.show()"
   ]
  },
  {
   "cell_type": "markdown",
   "metadata": {},
   "source": [
    "__Size__"
   ]
  },
  {
   "cell_type": "markdown",
   "metadata": {
    "variables": {
     "stores_df.Size.max()": "219622",
     "stores_df.Size.min()": "34875"
    }
   },
   "source": [
    "Nachdem die Daten anonymisiert sind, kann keine definitive Aussage darüber getroffen werden, in welcher Einheit die gegebenen Werte im Bereich von ```{{stores_df.Size.min()}}``` bis ```{{stores_df.Size.max()}}``` vorliegen.  \n",
    "Allerdings entsprechen die Durchschnittswerte für die einzelnen Typen ziemlich exakt den Typen von Walmarts, die im letzten Punkt angesprochen worden waren:"
   ]
  },
  {
   "cell_type": "markdown",
   "metadata": {},
   "source": [
    "<img src=\"./media/walmart_types.jpg\" width=\"800\"/>"
   ]
  },
  {
   "cell_type": "code",
   "execution_count": 22,
   "metadata": {},
   "outputs": [
    {
     "data": {
      "image/png": "[encoded data removed]",
      "text/plain": [
       "<matplotlib.figure.Figure at 0x1a2d766f28>"
      ]
     },
     "metadata": {},
     "output_type": "display_data"
    }
   ],
   "source": [
    "size_a_type = 182000\n",
    "size_b_type = 106000\n",
    "size_c_type = 38000\n",
    "\n",
    "stores_df.boxplot(column='Size', by='Type', vert=False, figsize=(20,5))\n",
    "plt.axvline(x=size_a_type, color='red')\n",
    "plt.axvline(x=size_b_type, color='red')\n",
    "plt.axvline(x=size_c_type, color='red')\n",
    "\n",
    "plt.suptitle('')\n",
    "plt.title('')\n",
    "plt.xlabel('Size')\n",
    "plt.ylabel('Type')\n",
    "plt.show()"
   ]
  },
  {
   "cell_type": "markdown",
   "metadata": {},
   "source": [
    "#### Erste Hypothesen\n",
    "Um erste Hypothesen aufstellen zu können, die über unsere bisherigen Betrachtungen (beispielsweise zur Arbeitslosenquote) hinausgehen, müssen wir die Datensätze miteinander verbinden. Hierfür verweisen wir auf die Phase der __Data Preparation__."
   ]
  },
  {
   "cell_type": "markdown",
   "metadata": {},
   "source": [
    "### Betrachtung der Datenqualität\n",
    "Die mangelnde Qualität der Features ```MarkDown 1-5``` wurde bereits angesprochen.  \n",
    "Darüber hinausgehende Aussagen können erst in der Phase der __Data Preparation__ getroffen werden.\n",
    "\n",
    "Auf den ersten Blick sieht es so aus, als würden die zur Verfügung stehenden Daten ausreichen, um erste Modelle zu bauen. Sie enthalten vorerst alle wichtigen Informationen. Falls die Qualität der Modelle nicht zufriedenstellend ist, ist die Struktur geeignet, um durch weitere Daten erweitert zu werden. "
   ]
  },
  {
   "cell_type": "markdown",
   "metadata": {},
   "source": [
    "## DATA PREPARATION: Neural Net Approach"
   ]
  },
  {
   "cell_type": "markdown",
   "metadata": {},
   "source": [
    "Im Folgenden bereiten wir die soeben untersuchten Daten für das Modellieren vor.  \n",
    "Dabei wird zuerst ein __zeitlicher Zuschnitt__ erfolgen, an den sich ein __Feature Engineering__ anschließt.  \n",
    "Nach einer __Normalisierung__ sollen die Daten in 3D-Numpy-Arrays aufgebaut werden, um ein Training mit __Moving Window__ in __neuronalen Netzen__ zu ermöglichen."
   ]
  },
  {
   "cell_type": "markdown",
   "metadata": {},
   "source": [
    "### Zeitlicher Zuschnitt der Daten auf das Projektziel"
   ]
  },
  {
   "cell_type": "markdown",
   "metadata": {},
   "source": [
    "Wie bereits erwähnt, ist es unser Ziel, aus den Daten von 2010 und 2011 das Weihnachtsgeschäft des Jahres 2011 zu prognostizieren. Daher fokussieren wir uns auf diesen Zeitraum:"
   ]
  },
  {
   "cell_type": "code",
   "execution_count": 23,
   "metadata": {},
   "outputs": [],
   "source": [
    "data_df.Date = pd.to_datetime(data_df.Date)"
   ]
  },
  {
   "cell_type": "code",
   "execution_count": 24,
   "metadata": {
    "scrolled": true
   },
   "outputs": [],
   "source": [
    "xmas_data_df = data_df[((data_df.Date >= '2010-02-05') & (data_df.Date <= '2011-12-31'))]\n",
    "xmas_data_df.reset_index(inplace=True, drop=True)"
   ]
  },
  {
   "cell_type": "code",
   "execution_count": 25,
   "metadata": {},
   "outputs": [
    {
     "data": {
      "text/html": [
       "<div>\n",
       "<style scoped>\n",
       "    .dataframe tbody tr th:only-of-type {\n",
       "        vertical-align: middle;\n",
       "    }\n",
       "\n",
       "    .dataframe tbody tr th {\n",
       "        vertical-align: top;\n",
       "    }\n",
       "\n",
       "    .dataframe thead th {\n",
       "        text-align: right;\n",
       "    }\n",
       "</style>\n",
       "<table border=\"1\" class=\"dataframe\">\n",
       "  <thead>\n",
       "    <tr style=\"text-align: right;\">\n",
       "      <th></th>\n",
       "      <th>Store</th>\n",
       "      <th>Dept</th>\n",
       "      <th>Date</th>\n",
       "      <th>Weekly_Sales</th>\n",
       "      <th>IsHoliday</th>\n",
       "    </tr>\n",
       "  </thead>\n",
       "  <tbody>\n",
       "    <tr>\n",
       "      <th>0</th>\n",
       "      <td>1</td>\n",
       "      <td>1</td>\n",
       "      <td>2010-02-05</td>\n",
       "      <td>24924.50</td>\n",
       "      <td>False</td>\n",
       "    </tr>\n",
       "    <tr>\n",
       "      <th>1</th>\n",
       "      <td>1</td>\n",
       "      <td>1</td>\n",
       "      <td>2010-02-12</td>\n",
       "      <td>46039.49</td>\n",
       "      <td>True</td>\n",
       "    </tr>\n",
       "  </tbody>\n",
       "</table>\n",
       "</div>"
      ],
      "text/plain": [
       "   Store  Dept       Date  Weekly_Sales  IsHoliday\n",
       "0      1     1 2010-02-05      24924.50      False\n",
       "1      1     1 2010-02-12      46039.49       True"
      ]
     },
     "metadata": {},
     "output_type": "display_data"
    },
    {
     "data": {
      "text/html": [
       "<div>\n",
       "<style scoped>\n",
       "    .dataframe tbody tr th:only-of-type {\n",
       "        vertical-align: middle;\n",
       "    }\n",
       "\n",
       "    .dataframe tbody tr th {\n",
       "        vertical-align: top;\n",
       "    }\n",
       "\n",
       "    .dataframe thead th {\n",
       "        text-align: right;\n",
       "    }\n",
       "</style>\n",
       "<table border=\"1\" class=\"dataframe\">\n",
       "  <thead>\n",
       "    <tr style=\"text-align: right;\">\n",
       "      <th></th>\n",
       "      <th>Store</th>\n",
       "      <th>Dept</th>\n",
       "      <th>Date</th>\n",
       "      <th>Weekly_Sales</th>\n",
       "      <th>IsHoliday</th>\n",
       "    </tr>\n",
       "  </thead>\n",
       "  <tbody>\n",
       "    <tr>\n",
       "      <th>98</th>\n",
       "      <td>1</td>\n",
       "      <td>1</td>\n",
       "      <td>2011-12-23</td>\n",
       "      <td>46788.75</td>\n",
       "      <td>False</td>\n",
       "    </tr>\n",
       "    <tr>\n",
       "      <th>99</th>\n",
       "      <td>1</td>\n",
       "      <td>1</td>\n",
       "      <td>2011-12-30</td>\n",
       "      <td>23350.88</td>\n",
       "      <td>True</td>\n",
       "    </tr>\n",
       "  </tbody>\n",
       "</table>\n",
       "</div>"
      ],
      "text/plain": [
       "    Store  Dept       Date  Weekly_Sales  IsHoliday\n",
       "98      1     1 2011-12-23      46788.75      False\n",
       "99      1     1 2011-12-30      23350.88       True"
      ]
     },
     "metadata": {},
     "output_type": "display_data"
    }
   ],
   "source": [
    "display(xmas_data_df.loc[(xmas_data_df['Store'] == 1) & (xmas_data_df['Dept'] ==1)].head(2))\n",
    "display(xmas_data_df.loc[(xmas_data_df['Store'] == 1) & (xmas_data_df['Dept'] ==1)].tail(2))"
   ]
  },
  {
   "cell_type": "markdown",
   "metadata": {
    "variables": {
     "xmas_data_df.Date.nunique()": "100"
    }
   },
   "source": [
    "Wir betrachten also einen Zeitraum von ```{{xmas_data_df.Date.nunique()}}``` Wochen."
   ]
  },
  {
   "cell_type": "markdown",
   "metadata": {},
   "source": [
    "Fraglich ist, ob die Daten von zwei Jahren hier schon ausreichend einem Muster folgen - speziell, weil wir direkt die Ergebnisse des zweiten Weihnachtsgeschäfts prognostizieren wollen.  \n",
    "Dazu visualisieren wir die beiden Jahre und betrachten vor allem die Wochen vor Weihnachten:"
   ]
  },
  {
   "cell_type": "code",
   "execution_count": 26,
   "metadata": {},
   "outputs": [
    {
     "data": {
      "image/png": "[encoded data removed]",
      "text/plain": [
       "<matplotlib.figure.Figure at 0x116fa2908>"
      ]
     },
     "metadata": {},
     "output_type": "display_data"
    }
   ],
   "source": [
    "xmas_data_df.groupby('Date').agg(['sum']).reset_index().plot(x='Date', y='Weekly_Sales',kind=\"bar\", figsize=(20,7)).set_ylabel(\"Weekly Sales in 10 mio.\")\n",
    "plt.axhline(y=xmas_data_df['Weekly_Sales'][xmas_data_df.Date == '2010-11-26'].agg(['sum'])[0], color='black')\n",
    "plt.axhline(y=xmas_data_df['Weekly_Sales'][xmas_data_df.Date == '2010-12-03'].agg(['sum'])[0], color='grey')\n",
    "plt.axhline(y=xmas_data_df['Weekly_Sales'][xmas_data_df.Date == '2010-12-10'].agg(['sum'])[0], color='green')\n",
    "plt.axhline(y=xmas_data_df['Weekly_Sales'][xmas_data_df.Date == '2010-12-17'].agg(['sum'])[0], color='orange')\n",
    "plt.axhline(y=xmas_data_df['Weekly_Sales'][xmas_data_df.Date == '2010-12-24'].agg(['sum'])[0], color='red')\n",
    "# Anpassung y-Achse über min- und max-Werte mit Faktor 0.1\n",
    "plt.ylim(xmas_data_df.groupby('Date').agg(['sum']).Weekly_Sales.min()[0] * 0.9, xmas_data_df.groupby('Date').agg(['sum']).Weekly_Sales.max()[0] * 1.1)\n",
    "plt.show()"
   ]
  },
  {
   "cell_type": "markdown",
   "metadata": {},
   "source": [
    "In dieser Grafik lässt sich ein Muster des Verlaufs der Verkaufszahlen in der Weihnachstzeit erkennen, weshalb wir erhoffen, gute Prognosen aus den Daten ableiten zu können."
   ]
  },
  {
   "cell_type": "markdown",
   "metadata": {},
   "source": [
    "### Feature Engineering"
   ]
  },
  {
   "cell_type": "code",
   "execution_count": null,
   "metadata": {},
   "outputs": [],
   "source": []
  },
  {
   "cell_type": "markdown",
   "metadata": {},
   "source": [
    "#### Warnung: nächste Woche ist ein wichtiger Feiertag"
   ]
  },
  {
   "cell_type": "markdown",
   "metadata": {},
   "source": [
    "Aufgrund der Bedeutung der Feiertage für die Verkaufszahlen, erweitern wir den Datensatz um da Feature ```next_week```, das folgende Werte annehmen kann:\n",
    "+ ```black_friday```\n",
    "+ ```xmas_1st_week```\n",
    "+ ```xmas_2nd_week```\n",
    "+ ```xmas_3rd_week```\n",
    "+ ```xmas_4th_week```\n",
    "+ ```new_year```\n",
    "\n",
    "Die Hoffnung ist, dass die Algorithmen aus diesem Hinweis für die nächste Woche sinnvolle Schlüsse ziehen können."
   ]
  },
  {
   "cell_type": "code",
   "execution_count": 27,
   "metadata": {},
   "outputs": [],
   "source": [
    "xmas_data_df.loc[xmas_data_df.Date == '2010-11-19', 'next_week'] = 'black_friday'\n",
    "xmas_data_df.loc[xmas_data_df.Date == '2010-11-26', 'next_week'] = 'xmas_1st_week'\n",
    "xmas_data_df.loc[xmas_data_df.Date == '2010-12-03', 'next_week'] = 'xmas_2nd_week'\n",
    "xmas_data_df.loc[xmas_data_df.Date == '2010-12-10', 'next_week'] = 'xmas_3rd_week'\n",
    "xmas_data_df.loc[xmas_data_df.Date == '2010-12-17', 'next_week'] = 'xmas_4th_week'\n",
    "xmas_data_df.loc[xmas_data_df.Date == '2010-12-24', 'next_week'] = 'new_year'\n",
    "\n",
    "xmas_data_df.loc[xmas_data_df.Date == '2011-11-18', 'next_week'] = 'black_friday'\n",
    "xmas_data_df.loc[xmas_data_df.Date == '2011-11-25', 'next_week'] = 'xmas_1st_week'\n",
    "xmas_data_df.loc[xmas_data_df.Date == '2011-12-02', 'next_week'] = 'xmas_2nd_week'\n",
    "xmas_data_df.loc[xmas_data_df.Date == '2011-12-09', 'next_week'] = 'xmas_3rd_week'\n",
    "xmas_data_df.loc[xmas_data_df.Date == '2011-12-16', 'next_week'] = 'xmas_4th_week'\n",
    "xmas_data_df.loc[xmas_data_df.Date == '2011-12-23', 'next_week'] = 'new_year'"
   ]
  },
  {
   "cell_type": "markdown",
   "metadata": {},
   "source": [
    "#### Wie lange dauerts noch bis Weihnachten?"
   ]
  },
  {
   "cell_type": "markdown",
   "metadata": {},
   "source": [
    "Zusätzlich wäre es interessant zu erfahren, wie viele Tage es noch bis Weihnachten sind.  \n",
    "Dazu dient das Feature ```days_2_xmas```:"
   ]
  },
  {
   "cell_type": "code",
   "execution_count": 28,
   "metadata": {
    "scrolled": true
   },
   "outputs": [
    {
     "data": {
      "text/html": [
       "<div>\n",
       "<style scoped>\n",
       "    .dataframe tbody tr th:only-of-type {\n",
       "        vertical-align: middle;\n",
       "    }\n",
       "\n",
       "    .dataframe tbody tr th {\n",
       "        vertical-align: top;\n",
       "    }\n",
       "\n",
       "    .dataframe thead th {\n",
       "        text-align: right;\n",
       "    }\n",
       "</style>\n",
       "<table border=\"1\" class=\"dataframe\">\n",
       "  <thead>\n",
       "    <tr style=\"text-align: right;\">\n",
       "      <th></th>\n",
       "      <th>Date</th>\n",
       "      <th>days_2_xmas</th>\n",
       "    </tr>\n",
       "  </thead>\n",
       "  <tbody>\n",
       "    <tr>\n",
       "      <th>0</th>\n",
       "      <td>2010-02-05</td>\n",
       "      <td>323</td>\n",
       "    </tr>\n",
       "    <tr>\n",
       "      <th>1</th>\n",
       "      <td>2010-02-12</td>\n",
       "      <td>316</td>\n",
       "    </tr>\n",
       "    <tr>\n",
       "      <th>2</th>\n",
       "      <td>2010-02-19</td>\n",
       "      <td>309</td>\n",
       "    </tr>\n",
       "    <tr>\n",
       "      <th>3</th>\n",
       "      <td>2010-02-26</td>\n",
       "      <td>302</td>\n",
       "    </tr>\n",
       "    <tr>\n",
       "      <th>4</th>\n",
       "      <td>2010-03-05</td>\n",
       "      <td>295</td>\n",
       "    </tr>\n",
       "  </tbody>\n",
       "</table>\n",
       "</div>"
      ],
      "text/plain": [
       "        Date  days_2_xmas\n",
       "0 2010-02-05          323\n",
       "1 2010-02-12          316\n",
       "2 2010-02-19          309\n",
       "3 2010-02-26          302\n",
       "4 2010-03-05          295"
      ]
     },
     "execution_count": 28,
     "metadata": {},
     "output_type": "execute_result"
    }
   ],
   "source": [
    "xmas_data_df['days_2_xmas'] = xmas_data_df.Date.apply(lambda x: (date(x.year,12,25) - x.date()).days)\n",
    "xmas_data_df[['Date', 'days_2_xmas']].head()"
   ]
  },
  {
   "cell_type": "markdown",
   "metadata": {},
   "source": [
    "### Umgang mit kategorialen Daten"
   ]
  },
  {
   "cell_type": "markdown",
   "metadata": {},
   "source": [
    "Sowohl das soeben erstellte Attribut ```next_week```, als auch die Attribute ```Store_Type``` und ```IsHoliday``` sollten betrachtet werden, da die von uns eingesetzten neuronalen Netze nicht mit kategorialen Daten umgehen können."
   ]
  },
  {
   "cell_type": "markdown",
   "metadata": {},
   "source": [
    "#### next_week"
   ]
  },
  {
   "cell_type": "markdown",
   "metadata": {},
   "source": [
    "Hier können wir praktischerweise die von ```pandas``` mitgelieferte Funktion ```get_dummies``` nutzen:"
   ]
  },
  {
   "cell_type": "code",
   "execution_count": 29,
   "metadata": {
    "scrolled": false
   },
   "outputs": [],
   "source": [
    "xmas_data_df = pd.get_dummies(data=xmas_data_df, columns=['next_week'], prefix='nw')"
   ]
  },
  {
   "cell_type": "code",
   "execution_count": 30,
   "metadata": {},
   "outputs": [
    {
     "data": {
      "text/html": [
       "<div>\n",
       "<style scoped>\n",
       "    .dataframe tbody tr th:only-of-type {\n",
       "        vertical-align: middle;\n",
       "    }\n",
       "\n",
       "    .dataframe tbody tr th {\n",
       "        vertical-align: top;\n",
       "    }\n",
       "\n",
       "    .dataframe thead th {\n",
       "        text-align: right;\n",
       "    }\n",
       "</style>\n",
       "<table border=\"1\" class=\"dataframe\">\n",
       "  <thead>\n",
       "    <tr style=\"text-align: right;\">\n",
       "      <th></th>\n",
       "      <th>Store</th>\n",
       "      <th>Dept</th>\n",
       "      <th>Date</th>\n",
       "      <th>Weekly_Sales</th>\n",
       "      <th>IsHoliday</th>\n",
       "      <th>days_2_xmas</th>\n",
       "      <th>nw_black_friday</th>\n",
       "      <th>nw_new_year</th>\n",
       "      <th>nw_xmas_1st_week</th>\n",
       "      <th>nw_xmas_2nd_week</th>\n",
       "      <th>nw_xmas_3rd_week</th>\n",
       "      <th>nw_xmas_4th_week</th>\n",
       "    </tr>\n",
       "  </thead>\n",
       "  <tbody>\n",
       "    <tr>\n",
       "      <th>40</th>\n",
       "      <td>1</td>\n",
       "      <td>1</td>\n",
       "      <td>2010-11-12</td>\n",
       "      <td>19549.39</td>\n",
       "      <td>False</td>\n",
       "      <td>43</td>\n",
       "      <td>0</td>\n",
       "      <td>0</td>\n",
       "      <td>0</td>\n",
       "      <td>0</td>\n",
       "      <td>0</td>\n",
       "      <td>0</td>\n",
       "    </tr>\n",
       "    <tr>\n",
       "      <th>41</th>\n",
       "      <td>1</td>\n",
       "      <td>1</td>\n",
       "      <td>2010-11-19</td>\n",
       "      <td>19552.84</td>\n",
       "      <td>False</td>\n",
       "      <td>36</td>\n",
       "      <td>1</td>\n",
       "      <td>0</td>\n",
       "      <td>0</td>\n",
       "      <td>0</td>\n",
       "      <td>0</td>\n",
       "      <td>0</td>\n",
       "    </tr>\n",
       "    <tr>\n",
       "      <th>42</th>\n",
       "      <td>1</td>\n",
       "      <td>1</td>\n",
       "      <td>2010-11-26</td>\n",
       "      <td>18820.29</td>\n",
       "      <td>True</td>\n",
       "      <td>29</td>\n",
       "      <td>0</td>\n",
       "      <td>0</td>\n",
       "      <td>1</td>\n",
       "      <td>0</td>\n",
       "      <td>0</td>\n",
       "      <td>0</td>\n",
       "    </tr>\n",
       "    <tr>\n",
       "      <th>43</th>\n",
       "      <td>1</td>\n",
       "      <td>1</td>\n",
       "      <td>2010-12-03</td>\n",
       "      <td>22517.56</td>\n",
       "      <td>False</td>\n",
       "      <td>22</td>\n",
       "      <td>0</td>\n",
       "      <td>0</td>\n",
       "      <td>0</td>\n",
       "      <td>1</td>\n",
       "      <td>0</td>\n",
       "      <td>0</td>\n",
       "    </tr>\n",
       "    <tr>\n",
       "      <th>44</th>\n",
       "      <td>1</td>\n",
       "      <td>1</td>\n",
       "      <td>2010-12-10</td>\n",
       "      <td>31497.65</td>\n",
       "      <td>False</td>\n",
       "      <td>15</td>\n",
       "      <td>0</td>\n",
       "      <td>0</td>\n",
       "      <td>0</td>\n",
       "      <td>0</td>\n",
       "      <td>1</td>\n",
       "      <td>0</td>\n",
       "    </tr>\n",
       "    <tr>\n",
       "      <th>45</th>\n",
       "      <td>1</td>\n",
       "      <td>1</td>\n",
       "      <td>2010-12-17</td>\n",
       "      <td>44912.86</td>\n",
       "      <td>False</td>\n",
       "      <td>8</td>\n",
       "      <td>0</td>\n",
       "      <td>0</td>\n",
       "      <td>0</td>\n",
       "      <td>0</td>\n",
       "      <td>0</td>\n",
       "      <td>1</td>\n",
       "    </tr>\n",
       "    <tr>\n",
       "      <th>46</th>\n",
       "      <td>1</td>\n",
       "      <td>1</td>\n",
       "      <td>2010-12-24</td>\n",
       "      <td>55931.23</td>\n",
       "      <td>False</td>\n",
       "      <td>1</td>\n",
       "      <td>0</td>\n",
       "      <td>1</td>\n",
       "      <td>0</td>\n",
       "      <td>0</td>\n",
       "      <td>0</td>\n",
       "      <td>0</td>\n",
       "    </tr>\n",
       "  </tbody>\n",
       "</table>\n",
       "</div>"
      ],
      "text/plain": [
       "    Store  Dept       Date  Weekly_Sales  IsHoliday  days_2_xmas  \\\n",
       "40      1     1 2010-11-12      19549.39      False           43   \n",
       "41      1     1 2010-11-19      19552.84      False           36   \n",
       "42      1     1 2010-11-26      18820.29       True           29   \n",
       "43      1     1 2010-12-03      22517.56      False           22   \n",
       "44      1     1 2010-12-10      31497.65      False           15   \n",
       "45      1     1 2010-12-17      44912.86      False            8   \n",
       "46      1     1 2010-12-24      55931.23      False            1   \n",
       "\n",
       "    nw_black_friday  nw_new_year  nw_xmas_1st_week  nw_xmas_2nd_week  \\\n",
       "40                0            0                 0                 0   \n",
       "41                1            0                 0                 0   \n",
       "42                0            0                 1                 0   \n",
       "43                0            0                 0                 1   \n",
       "44                0            0                 0                 0   \n",
       "45                0            0                 0                 0   \n",
       "46                0            1                 0                 0   \n",
       "\n",
       "    nw_xmas_3rd_week  nw_xmas_4th_week  \n",
       "40                 0                 0  \n",
       "41                 0                 0  \n",
       "42                 0                 0  \n",
       "43                 0                 0  \n",
       "44                 1                 0  \n",
       "45                 0                 1  \n",
       "46                 0                 0  "
      ]
     },
     "execution_count": 30,
     "metadata": {},
     "output_type": "execute_result"
    }
   ],
   "source": [
    "xmas_data_df[(xmas_data_df.Store == 1) & (xmas_data_df.Dept == 1) & (xmas_data_df.Date >= '2010-11-12') & (xmas_data_df.Date < '2010-12-31')]"
   ]
  },
  {
   "cell_type": "markdown",
   "metadata": {},
   "source": [
    "#### Store_Type"
   ]
  },
  {
   "cell_type": "code",
   "execution_count": 31,
   "metadata": {},
   "outputs": [
    {
     "data": {
      "text/html": [
       "<div>\n",
       "<style scoped>\n",
       "    .dataframe tbody tr th:only-of-type {\n",
       "        vertical-align: middle;\n",
       "    }\n",
       "\n",
       "    .dataframe tbody tr th {\n",
       "        vertical-align: top;\n",
       "    }\n",
       "\n",
       "    .dataframe thead th {\n",
       "        text-align: right;\n",
       "    }\n",
       "</style>\n",
       "<table border=\"1\" class=\"dataframe\">\n",
       "  <thead>\n",
       "    <tr style=\"text-align: right;\">\n",
       "      <th></th>\n",
       "      <th>Store</th>\n",
       "      <th>Size</th>\n",
       "      <th>type_A</th>\n",
       "      <th>type_B</th>\n",
       "      <th>type_C</th>\n",
       "    </tr>\n",
       "  </thead>\n",
       "  <tbody>\n",
       "    <tr>\n",
       "      <th>0</th>\n",
       "      <td>1</td>\n",
       "      <td>151315</td>\n",
       "      <td>1</td>\n",
       "      <td>0</td>\n",
       "      <td>0</td>\n",
       "    </tr>\n",
       "    <tr>\n",
       "      <th>1</th>\n",
       "      <td>2</td>\n",
       "      <td>202307</td>\n",
       "      <td>1</td>\n",
       "      <td>0</td>\n",
       "      <td>0</td>\n",
       "    </tr>\n",
       "    <tr>\n",
       "      <th>2</th>\n",
       "      <td>3</td>\n",
       "      <td>37392</td>\n",
       "      <td>0</td>\n",
       "      <td>1</td>\n",
       "      <td>0</td>\n",
       "    </tr>\n",
       "    <tr>\n",
       "      <th>3</th>\n",
       "      <td>4</td>\n",
       "      <td>205863</td>\n",
       "      <td>1</td>\n",
       "      <td>0</td>\n",
       "      <td>0</td>\n",
       "    </tr>\n",
       "    <tr>\n",
       "      <th>4</th>\n",
       "      <td>5</td>\n",
       "      <td>34875</td>\n",
       "      <td>0</td>\n",
       "      <td>1</td>\n",
       "      <td>0</td>\n",
       "    </tr>\n",
       "  </tbody>\n",
       "</table>\n",
       "</div>"
      ],
      "text/plain": [
       "   Store    Size  type_A  type_B  type_C\n",
       "0      1  151315       1       0       0\n",
       "1      2  202307       1       0       0\n",
       "2      3   37392       0       1       0\n",
       "3      4  205863       1       0       0\n",
       "4      5   34875       0       1       0"
      ]
     },
     "execution_count": 31,
     "metadata": {},
     "output_type": "execute_result"
    }
   ],
   "source": [
    "if 'Type' in stores_df.columns:\n",
    "    stores_df = pd.get_dummies(data=stores_df, columns=['Type'], prefix='type')\n",
    "stores_df.head()"
   ]
  },
  {
   "cell_type": "markdown",
   "metadata": {},
   "source": [
    "#### IsHoliday"
   ]
  },
  {
   "cell_type": "markdown",
   "metadata": {},
   "source": [
    "Eine gesonderte Behandlung für ```IsHoliday``` nicht eventuell nötig, weil ```boolean```sich in ```int``` casten lässt.  \n",
    "Wir gehen allerdings auf Nummer sicher und nehmen den Netzen diese Arbeit ab:"
   ]
  },
  {
   "cell_type": "code",
   "execution_count": 32,
   "metadata": {},
   "outputs": [
    {
     "data": {
      "text/html": [
       "<div>\n",
       "<style scoped>\n",
       "    .dataframe tbody tr th:only-of-type {\n",
       "        vertical-align: middle;\n",
       "    }\n",
       "\n",
       "    .dataframe tbody tr th {\n",
       "        vertical-align: top;\n",
       "    }\n",
       "\n",
       "    .dataframe thead th {\n",
       "        text-align: right;\n",
       "    }\n",
       "</style>\n",
       "<table border=\"1\" class=\"dataframe\">\n",
       "  <thead>\n",
       "    <tr style=\"text-align: right;\">\n",
       "      <th></th>\n",
       "      <th>Store</th>\n",
       "      <th>Date</th>\n",
       "      <th>Fuel_Price</th>\n",
       "      <th>MarkDown1</th>\n",
       "      <th>MarkDown2</th>\n",
       "      <th>MarkDown3</th>\n",
       "      <th>MarkDown4</th>\n",
       "      <th>MarkDown5</th>\n",
       "      <th>CPI</th>\n",
       "      <th>Unemployment</th>\n",
       "      <th>IsHoliday</th>\n",
       "      <th>Temperature_F</th>\n",
       "      <th>Temperature_C</th>\n",
       "    </tr>\n",
       "  </thead>\n",
       "  <tbody>\n",
       "    <tr>\n",
       "      <th>0</th>\n",
       "      <td>1</td>\n",
       "      <td>2010-02-05</td>\n",
       "      <td>2.572</td>\n",
       "      <td>NaN</td>\n",
       "      <td>NaN</td>\n",
       "      <td>NaN</td>\n",
       "      <td>NaN</td>\n",
       "      <td>NaN</td>\n",
       "      <td>211.096358</td>\n",
       "      <td>8.106</td>\n",
       "      <td>0</td>\n",
       "      <td>42.31</td>\n",
       "      <td>5.73</td>\n",
       "    </tr>\n",
       "    <tr>\n",
       "      <th>1</th>\n",
       "      <td>1</td>\n",
       "      <td>2010-02-12</td>\n",
       "      <td>2.548</td>\n",
       "      <td>NaN</td>\n",
       "      <td>NaN</td>\n",
       "      <td>NaN</td>\n",
       "      <td>NaN</td>\n",
       "      <td>NaN</td>\n",
       "      <td>211.242170</td>\n",
       "      <td>8.106</td>\n",
       "      <td>1</td>\n",
       "      <td>38.51</td>\n",
       "      <td>3.62</td>\n",
       "    </tr>\n",
       "    <tr>\n",
       "      <th>2</th>\n",
       "      <td>1</td>\n",
       "      <td>2010-02-19</td>\n",
       "      <td>2.514</td>\n",
       "      <td>NaN</td>\n",
       "      <td>NaN</td>\n",
       "      <td>NaN</td>\n",
       "      <td>NaN</td>\n",
       "      <td>NaN</td>\n",
       "      <td>211.289143</td>\n",
       "      <td>8.106</td>\n",
       "      <td>0</td>\n",
       "      <td>39.93</td>\n",
       "      <td>4.41</td>\n",
       "    </tr>\n",
       "    <tr>\n",
       "      <th>3</th>\n",
       "      <td>1</td>\n",
       "      <td>2010-02-26</td>\n",
       "      <td>2.561</td>\n",
       "      <td>NaN</td>\n",
       "      <td>NaN</td>\n",
       "      <td>NaN</td>\n",
       "      <td>NaN</td>\n",
       "      <td>NaN</td>\n",
       "      <td>211.319643</td>\n",
       "      <td>8.106</td>\n",
       "      <td>0</td>\n",
       "      <td>46.63</td>\n",
       "      <td>8.13</td>\n",
       "    </tr>\n",
       "    <tr>\n",
       "      <th>4</th>\n",
       "      <td>1</td>\n",
       "      <td>2010-03-05</td>\n",
       "      <td>2.625</td>\n",
       "      <td>NaN</td>\n",
       "      <td>NaN</td>\n",
       "      <td>NaN</td>\n",
       "      <td>NaN</td>\n",
       "      <td>NaN</td>\n",
       "      <td>211.350143</td>\n",
       "      <td>8.106</td>\n",
       "      <td>0</td>\n",
       "      <td>46.50</td>\n",
       "      <td>8.06</td>\n",
       "    </tr>\n",
       "  </tbody>\n",
       "</table>\n",
       "</div>"
      ],
      "text/plain": [
       "   Store        Date  Fuel_Price  MarkDown1  MarkDown2  MarkDown3  MarkDown4  \\\n",
       "0      1  2010-02-05       2.572        NaN        NaN        NaN        NaN   \n",
       "1      1  2010-02-12       2.548        NaN        NaN        NaN        NaN   \n",
       "2      1  2010-02-19       2.514        NaN        NaN        NaN        NaN   \n",
       "3      1  2010-02-26       2.561        NaN        NaN        NaN        NaN   \n",
       "4      1  2010-03-05       2.625        NaN        NaN        NaN        NaN   \n",
       "\n",
       "   MarkDown5         CPI  Unemployment  IsHoliday  Temperature_F  \\\n",
       "0        NaN  211.096358         8.106          0          42.31   \n",
       "1        NaN  211.242170         8.106          1          38.51   \n",
       "2        NaN  211.289143         8.106          0          39.93   \n",
       "3        NaN  211.319643         8.106          0          46.63   \n",
       "4        NaN  211.350143         8.106          0          46.50   \n",
       "\n",
       "   Temperature_C  \n",
       "0           5.73  \n",
       "1           3.62  \n",
       "2           4.41  \n",
       "3           8.13  \n",
       "4           8.06  "
      ]
     },
     "execution_count": 32,
     "metadata": {},
     "output_type": "execute_result"
    }
   ],
   "source": [
    "features_df.IsHoliday = features_df.IsHoliday.astype(int)\n",
    "features_df.head()"
   ]
  },
  {
   "cell_type": "markdown",
   "metadata": {},
   "source": [
    "### Merge Datasets"
   ]
  },
  {
   "cell_type": "markdown",
   "metadata": {},
   "source": [
    "Da das Feature ```IsHoliday``` neben dem soeben umgewandelten ```IsHoliday``` noch redundant im File ```train.csv``` vorhanden ist, wird dieses hier gedroppt:"
   ]
  },
  {
   "cell_type": "code",
   "execution_count": 33,
   "metadata": {},
   "outputs": [],
   "source": [
    "features_df.Date = pd.to_datetime(features_df.Date)\n",
    "if 'IsHoliday' in xmas_data_df.columns:\n",
    "    xmas_data_df.drop(columns=['IsHoliday'],inplace=True)"
   ]
  },
  {
   "cell_type": "markdown",
   "metadata": {},
   "source": [
    "Nachdem wir die Daten so erstellt haben, wie wir sie für den ersten Versuch nutzen wollen, können die Datensets ```features_df```, ```stores_df``` und ```xmas_data_df``` gemerged werden."
   ]
  },
  {
   "cell_type": "code",
   "execution_count": 34,
   "metadata": {},
   "outputs": [
    {
     "data": {
      "text/html": [
       "<div>\n",
       "<style scoped>\n",
       "    .dataframe tbody tr th:only-of-type {\n",
       "        vertical-align: middle;\n",
       "    }\n",
       "\n",
       "    .dataframe tbody tr th {\n",
       "        vertical-align: top;\n",
       "    }\n",
       "\n",
       "    .dataframe thead th {\n",
       "        text-align: right;\n",
       "    }\n",
       "</style>\n",
       "<table border=\"1\" class=\"dataframe\">\n",
       "  <thead>\n",
       "    <tr style=\"text-align: right;\">\n",
       "      <th></th>\n",
       "      <th>Store</th>\n",
       "      <th>Dept</th>\n",
       "      <th>Date</th>\n",
       "      <th>Weekly_Sales</th>\n",
       "      <th>days_2_xmas</th>\n",
       "      <th>nw_black_friday</th>\n",
       "      <th>nw_new_year</th>\n",
       "      <th>nw_xmas_1st_week</th>\n",
       "      <th>nw_xmas_2nd_week</th>\n",
       "      <th>nw_xmas_3rd_week</th>\n",
       "      <th>...</th>\n",
       "      <th>MarkDown5</th>\n",
       "      <th>CPI</th>\n",
       "      <th>Unemployment</th>\n",
       "      <th>IsHoliday</th>\n",
       "      <th>Temperature_F</th>\n",
       "      <th>Temperature_C</th>\n",
       "      <th>Size</th>\n",
       "      <th>type_A</th>\n",
       "      <th>type_B</th>\n",
       "      <th>type_C</th>\n",
       "    </tr>\n",
       "  </thead>\n",
       "  <tbody>\n",
       "    <tr>\n",
       "      <th>0</th>\n",
       "      <td>1</td>\n",
       "      <td>1</td>\n",
       "      <td>2010-02-05</td>\n",
       "      <td>24924.50</td>\n",
       "      <td>323</td>\n",
       "      <td>0</td>\n",
       "      <td>0</td>\n",
       "      <td>0</td>\n",
       "      <td>0</td>\n",
       "      <td>0</td>\n",
       "      <td>...</td>\n",
       "      <td>NaN</td>\n",
       "      <td>211.096358</td>\n",
       "      <td>8.106</td>\n",
       "      <td>0</td>\n",
       "      <td>42.31</td>\n",
       "      <td>5.73</td>\n",
       "      <td>151315</td>\n",
       "      <td>1</td>\n",
       "      <td>0</td>\n",
       "      <td>0</td>\n",
       "    </tr>\n",
       "    <tr>\n",
       "      <th>1</th>\n",
       "      <td>1</td>\n",
       "      <td>2</td>\n",
       "      <td>2010-02-05</td>\n",
       "      <td>50605.27</td>\n",
       "      <td>323</td>\n",
       "      <td>0</td>\n",
       "      <td>0</td>\n",
       "      <td>0</td>\n",
       "      <td>0</td>\n",
       "      <td>0</td>\n",
       "      <td>...</td>\n",
       "      <td>NaN</td>\n",
       "      <td>211.096358</td>\n",
       "      <td>8.106</td>\n",
       "      <td>0</td>\n",
       "      <td>42.31</td>\n",
       "      <td>5.73</td>\n",
       "      <td>151315</td>\n",
       "      <td>1</td>\n",
       "      <td>0</td>\n",
       "      <td>0</td>\n",
       "    </tr>\n",
       "    <tr>\n",
       "      <th>2</th>\n",
       "      <td>1</td>\n",
       "      <td>3</td>\n",
       "      <td>2010-02-05</td>\n",
       "      <td>13740.12</td>\n",
       "      <td>323</td>\n",
       "      <td>0</td>\n",
       "      <td>0</td>\n",
       "      <td>0</td>\n",
       "      <td>0</td>\n",
       "      <td>0</td>\n",
       "      <td>...</td>\n",
       "      <td>NaN</td>\n",
       "      <td>211.096358</td>\n",
       "      <td>8.106</td>\n",
       "      <td>0</td>\n",
       "      <td>42.31</td>\n",
       "      <td>5.73</td>\n",
       "      <td>151315</td>\n",
       "      <td>1</td>\n",
       "      <td>0</td>\n",
       "      <td>0</td>\n",
       "    </tr>\n",
       "    <tr>\n",
       "      <th>3</th>\n",
       "      <td>1</td>\n",
       "      <td>4</td>\n",
       "      <td>2010-02-05</td>\n",
       "      <td>39954.04</td>\n",
       "      <td>323</td>\n",
       "      <td>0</td>\n",
       "      <td>0</td>\n",
       "      <td>0</td>\n",
       "      <td>0</td>\n",
       "      <td>0</td>\n",
       "      <td>...</td>\n",
       "      <td>NaN</td>\n",
       "      <td>211.096358</td>\n",
       "      <td>8.106</td>\n",
       "      <td>0</td>\n",
       "      <td>42.31</td>\n",
       "      <td>5.73</td>\n",
       "      <td>151315</td>\n",
       "      <td>1</td>\n",
       "      <td>0</td>\n",
       "      <td>0</td>\n",
       "    </tr>\n",
       "    <tr>\n",
       "      <th>4</th>\n",
       "      <td>1</td>\n",
       "      <td>5</td>\n",
       "      <td>2010-02-05</td>\n",
       "      <td>32229.38</td>\n",
       "      <td>323</td>\n",
       "      <td>0</td>\n",
       "      <td>0</td>\n",
       "      <td>0</td>\n",
       "      <td>0</td>\n",
       "      <td>0</td>\n",
       "      <td>...</td>\n",
       "      <td>NaN</td>\n",
       "      <td>211.096358</td>\n",
       "      <td>8.106</td>\n",
       "      <td>0</td>\n",
       "      <td>42.31</td>\n",
       "      <td>5.73</td>\n",
       "      <td>151315</td>\n",
       "      <td>1</td>\n",
       "      <td>0</td>\n",
       "      <td>0</td>\n",
       "    </tr>\n",
       "  </tbody>\n",
       "</table>\n",
       "<p>5 rows × 26 columns</p>\n",
       "</div>"
      ],
      "text/plain": [
       "   Store  Dept       Date  Weekly_Sales  days_2_xmas  nw_black_friday  \\\n",
       "0      1     1 2010-02-05      24924.50          323                0   \n",
       "1      1     2 2010-02-05      50605.27          323                0   \n",
       "2      1     3 2010-02-05      13740.12          323                0   \n",
       "3      1     4 2010-02-05      39954.04          323                0   \n",
       "4      1     5 2010-02-05      32229.38          323                0   \n",
       "\n",
       "   nw_new_year  nw_xmas_1st_week  nw_xmas_2nd_week  nw_xmas_3rd_week   ...    \\\n",
       "0            0                 0                 0                 0   ...     \n",
       "1            0                 0                 0                 0   ...     \n",
       "2            0                 0                 0                 0   ...     \n",
       "3            0                 0                 0                 0   ...     \n",
       "4            0                 0                 0                 0   ...     \n",
       "\n",
       "   MarkDown5         CPI  Unemployment  IsHoliday  Temperature_F  \\\n",
       "0        NaN  211.096358         8.106          0          42.31   \n",
       "1        NaN  211.096358         8.106          0          42.31   \n",
       "2        NaN  211.096358         8.106          0          42.31   \n",
       "3        NaN  211.096358         8.106          0          42.31   \n",
       "4        NaN  211.096358         8.106          0          42.31   \n",
       "\n",
       "   Temperature_C    Size  type_A  type_B  type_C  \n",
       "0           5.73  151315       1       0       0  \n",
       "1           5.73  151315       1       0       0  \n",
       "2           5.73  151315       1       0       0  \n",
       "3           5.73  151315       1       0       0  \n",
       "4           5.73  151315       1       0       0  \n",
       "\n",
       "[5 rows x 26 columns]"
      ]
     },
     "execution_count": 34,
     "metadata": {},
     "output_type": "execute_result"
    }
   ],
   "source": [
    "merged_df = pd.merge(xmas_data_df,features_df,on=['Store','Date'])\n",
    "merged_all_df = pd.merge(merged_df,stores_df,on='Store')\n",
    "merged_all_df.head()"
   ]
  },
  {
   "cell_type": "markdown",
   "metadata": {},
   "source": [
    "### Clean Data"
   ]
  },
  {
   "cell_type": "markdown",
   "metadata": {},
   "source": [
    "Wie man in der Ausgabe oben sehen kann, enthält der Datenbestand noch __```NaN```-Werte__. Nachdem ein geeigneter Umgang mit diesen gefunden wurde, sollen noch die __Korrelationen__ betrachtet werden, um eventuell vorhandene und quasi redundante Features zu entfernen."
   ]
  },
  {
   "cell_type": "markdown",
   "metadata": {},
   "source": [
    "#### Umgang mit NaN"
   ]
  },
  {
   "cell_type": "markdown",
   "metadata": {},
   "source": [
    "Zuerst können direkt wie bereits erwähnt die Attribute ```MarkDown 1-5 ``` entfernt werden:"
   ]
  },
  {
   "cell_type": "code",
   "execution_count": 35,
   "metadata": {},
   "outputs": [
    {
     "data": {
      "text/html": [
       "<div>\n",
       "<style scoped>\n",
       "    .dataframe tbody tr th:only-of-type {\n",
       "        vertical-align: middle;\n",
       "    }\n",
       "\n",
       "    .dataframe tbody tr th {\n",
       "        vertical-align: top;\n",
       "    }\n",
       "\n",
       "    .dataframe thead th {\n",
       "        text-align: right;\n",
       "    }\n",
       "</style>\n",
       "<table border=\"1\" class=\"dataframe\">\n",
       "  <thead>\n",
       "    <tr style=\"text-align: right;\">\n",
       "      <th></th>\n",
       "      <th>Store</th>\n",
       "      <th>Dept</th>\n",
       "      <th>Date</th>\n",
       "      <th>Weekly_Sales</th>\n",
       "      <th>days_2_xmas</th>\n",
       "      <th>nw_black_friday</th>\n",
       "      <th>nw_new_year</th>\n",
       "      <th>nw_xmas_1st_week</th>\n",
       "      <th>nw_xmas_2nd_week</th>\n",
       "      <th>nw_xmas_3rd_week</th>\n",
       "      <th>...</th>\n",
       "      <th>Fuel_Price</th>\n",
       "      <th>CPI</th>\n",
       "      <th>Unemployment</th>\n",
       "      <th>IsHoliday</th>\n",
       "      <th>Temperature_F</th>\n",
       "      <th>Temperature_C</th>\n",
       "      <th>Size</th>\n",
       "      <th>type_A</th>\n",
       "      <th>type_B</th>\n",
       "      <th>type_C</th>\n",
       "    </tr>\n",
       "  </thead>\n",
       "  <tbody>\n",
       "    <tr>\n",
       "      <th>0</th>\n",
       "      <td>1</td>\n",
       "      <td>1</td>\n",
       "      <td>2010-02-05</td>\n",
       "      <td>24924.50</td>\n",
       "      <td>323</td>\n",
       "      <td>0</td>\n",
       "      <td>0</td>\n",
       "      <td>0</td>\n",
       "      <td>0</td>\n",
       "      <td>0</td>\n",
       "      <td>...</td>\n",
       "      <td>2.572</td>\n",
       "      <td>211.096358</td>\n",
       "      <td>8.106</td>\n",
       "      <td>0</td>\n",
       "      <td>42.31</td>\n",
       "      <td>5.73</td>\n",
       "      <td>151315</td>\n",
       "      <td>1</td>\n",
       "      <td>0</td>\n",
       "      <td>0</td>\n",
       "    </tr>\n",
       "    <tr>\n",
       "      <th>1</th>\n",
       "      <td>1</td>\n",
       "      <td>2</td>\n",
       "      <td>2010-02-05</td>\n",
       "      <td>50605.27</td>\n",
       "      <td>323</td>\n",
       "      <td>0</td>\n",
       "      <td>0</td>\n",
       "      <td>0</td>\n",
       "      <td>0</td>\n",
       "      <td>0</td>\n",
       "      <td>...</td>\n",
       "      <td>2.572</td>\n",
       "      <td>211.096358</td>\n",
       "      <td>8.106</td>\n",
       "      <td>0</td>\n",
       "      <td>42.31</td>\n",
       "      <td>5.73</td>\n",
       "      <td>151315</td>\n",
       "      <td>1</td>\n",
       "      <td>0</td>\n",
       "      <td>0</td>\n",
       "    </tr>\n",
       "    <tr>\n",
       "      <th>2</th>\n",
       "      <td>1</td>\n",
       "      <td>3</td>\n",
       "      <td>2010-02-05</td>\n",
       "      <td>13740.12</td>\n",
       "      <td>323</td>\n",
       "      <td>0</td>\n",
       "      <td>0</td>\n",
       "      <td>0</td>\n",
       "      <td>0</td>\n",
       "      <td>0</td>\n",
       "      <td>...</td>\n",
       "      <td>2.572</td>\n",
       "      <td>211.096358</td>\n",
       "      <td>8.106</td>\n",
       "      <td>0</td>\n",
       "      <td>42.31</td>\n",
       "      <td>5.73</td>\n",
       "      <td>151315</td>\n",
       "      <td>1</td>\n",
       "      <td>0</td>\n",
       "      <td>0</td>\n",
       "    </tr>\n",
       "    <tr>\n",
       "      <th>3</th>\n",
       "      <td>1</td>\n",
       "      <td>4</td>\n",
       "      <td>2010-02-05</td>\n",
       "      <td>39954.04</td>\n",
       "      <td>323</td>\n",
       "      <td>0</td>\n",
       "      <td>0</td>\n",
       "      <td>0</td>\n",
       "      <td>0</td>\n",
       "      <td>0</td>\n",
       "      <td>...</td>\n",
       "      <td>2.572</td>\n",
       "      <td>211.096358</td>\n",
       "      <td>8.106</td>\n",
       "      <td>0</td>\n",
       "      <td>42.31</td>\n",
       "      <td>5.73</td>\n",
       "      <td>151315</td>\n",
       "      <td>1</td>\n",
       "      <td>0</td>\n",
       "      <td>0</td>\n",
       "    </tr>\n",
       "    <tr>\n",
       "      <th>4</th>\n",
       "      <td>1</td>\n",
       "      <td>5</td>\n",
       "      <td>2010-02-05</td>\n",
       "      <td>32229.38</td>\n",
       "      <td>323</td>\n",
       "      <td>0</td>\n",
       "      <td>0</td>\n",
       "      <td>0</td>\n",
       "      <td>0</td>\n",
       "      <td>0</td>\n",
       "      <td>...</td>\n",
       "      <td>2.572</td>\n",
       "      <td>211.096358</td>\n",
       "      <td>8.106</td>\n",
       "      <td>0</td>\n",
       "      <td>42.31</td>\n",
       "      <td>5.73</td>\n",
       "      <td>151315</td>\n",
       "      <td>1</td>\n",
       "      <td>0</td>\n",
       "      <td>0</td>\n",
       "    </tr>\n",
       "  </tbody>\n",
       "</table>\n",
       "<p>5 rows × 21 columns</p>\n",
       "</div>"
      ],
      "text/plain": [
       "   Store  Dept       Date  Weekly_Sales  days_2_xmas  nw_black_friday  \\\n",
       "0      1     1 2010-02-05      24924.50          323                0   \n",
       "1      1     2 2010-02-05      50605.27          323                0   \n",
       "2      1     3 2010-02-05      13740.12          323                0   \n",
       "3      1     4 2010-02-05      39954.04          323                0   \n",
       "4      1     5 2010-02-05      32229.38          323                0   \n",
       "\n",
       "   nw_new_year  nw_xmas_1st_week  nw_xmas_2nd_week  nw_xmas_3rd_week   ...    \\\n",
       "0            0                 0                 0                 0   ...     \n",
       "1            0                 0                 0                 0   ...     \n",
       "2            0                 0                 0                 0   ...     \n",
       "3            0                 0                 0                 0   ...     \n",
       "4            0                 0                 0                 0   ...     \n",
       "\n",
       "   Fuel_Price         CPI  Unemployment  IsHoliday  Temperature_F  \\\n",
       "0       2.572  211.096358         8.106          0          42.31   \n",
       "1       2.572  211.096358         8.106          0          42.31   \n",
       "2       2.572  211.096358         8.106          0          42.31   \n",
       "3       2.572  211.096358         8.106          0          42.31   \n",
       "4       2.572  211.096358         8.106          0          42.31   \n",
       "\n",
       "   Temperature_C    Size  type_A  type_B  type_C  \n",
       "0           5.73  151315       1       0       0  \n",
       "1           5.73  151315       1       0       0  \n",
       "2           5.73  151315       1       0       0  \n",
       "3           5.73  151315       1       0       0  \n",
       "4           5.73  151315       1       0       0  \n",
       "\n",
       "[5 rows x 21 columns]"
      ]
     },
     "execution_count": 35,
     "metadata": {},
     "output_type": "execute_result"
    }
   ],
   "source": [
    "if 'MarkDown1' in merged_all_df.columns:\n",
    "    merged_all_df.drop(columns=['MarkDown1','MarkDown2','MarkDown3','MarkDown4','MarkDown5'],inplace=True)\n",
    "merged_all_df.head()"
   ]
  },
  {
   "cell_type": "markdown",
   "metadata": {},
   "source": [
    "Anschließend wird noch geklärt, inwieweit weitere ```NaN```-Werte vorhanden sind:"
   ]
  },
  {
   "cell_type": "code",
   "execution_count": 36,
   "metadata": {},
   "outputs": [
    {
     "data": {
      "text/plain": [
       "Store               0\n",
       "Dept                0\n",
       "Date                0\n",
       "Weekly_Sales        0\n",
       "days_2_xmas         0\n",
       "nw_black_friday     0\n",
       "nw_new_year         0\n",
       "nw_xmas_1st_week    0\n",
       "nw_xmas_2nd_week    0\n",
       "nw_xmas_3rd_week    0\n",
       "nw_xmas_4th_week    0\n",
       "Fuel_Price          0\n",
       "CPI                 0\n",
       "Unemployment        0\n",
       "IsHoliday           0\n",
       "Temperature_F       0\n",
       "Temperature_C       0\n",
       "Size                0\n",
       "type_A              0\n",
       "type_B              0\n",
       "type_C              0\n",
       "dtype: int64"
      ]
     },
     "execution_count": 36,
     "metadata": {},
     "output_type": "execute_result"
    }
   ],
   "source": [
    "merged_all_df.isnull().sum()"
   ]
  },
  {
   "cell_type": "markdown",
   "metadata": {},
   "source": [
    "Hier scheinen wir Glück gehabt zu haben, weitere Aktionen wie Mitteln ect von Werten sind nicht nötig."
   ]
  },
  {
   "cell_type": "markdown",
   "metadata": {},
   "source": [
    "#### Korrelationen"
   ]
  },
  {
   "cell_type": "markdown",
   "metadata": {},
   "source": [
    "Im Folgenden plotten wir uns die Korrelationsmatrix für unsere Features.  \n",
    "Der Code ist der [Seaborn Doku](https://seaborn.pydata.org/examples/many_pairwise_correlations.html) entnommen und leicht angepasst."
   ]
  },
  {
   "cell_type": "code",
   "execution_count": 37,
   "metadata": {},
   "outputs": [
    {
     "data": {
      "image/png": "[encoded data removed]",
      "text/plain": [
       "<matplotlib.figure.Figure at 0x115b80d30>"
      ]
     },
     "metadata": {},
     "output_type": "display_data"
    }
   ],
   "source": [
    "corr = merged_all_df.iloc[:,3:].corr()\n",
    "mask = np.zeros_like(corr, dtype=np.bool)\n",
    "mask[np.triu_indices_from(mask)] = True\n",
    "f, ax = plt.subplots(figsize=(20, 9))\n",
    "cmap = sns.diverging_palette(220, 10, as_cmap=True)\n",
    "sns.heatmap(corr, mask=mask, cmap=cmap, center=0, square=False, linewidths=.5, cbar_kws={\"shrink\": .5})\n",
    "plt.show()"
   ]
  },
  {
   "cell_type": "markdown",
   "metadata": {},
   "source": [
    "Man kann direkt erkennen, dass es eine hohe Korrelation der Features ```Temperature_F``` und ```Temperature_C``` gibt - was verständlich ist, da wir ```Temperature_F``` selbst umgerechnet haben. Wir löschen ```Temperature_F```."
   ]
  },
  {
   "cell_type": "code",
   "execution_count": 38,
   "metadata": {},
   "outputs": [],
   "source": [
    "if 'Temperature_F' in merged_all_df.columns:\n",
    "    merged_all_df.drop(columns='Temperature_F',inplace=True)"
   ]
  },
  {
   "cell_type": "markdown",
   "metadata": {},
   "source": [
    "Es freut uns natürlich, dass es eine Korrelation zwischen ```nw_new_year``` und ```Weekly_Sales``` gibt - diese Feature könnte also genutzt werden, um dieses einmalige Ereignis wiederzuerkennen.  "
   ]
  },
  {
   "cell_type": "markdown",
   "metadata": {},
   "source": [
    "Zwischen ```nw_xmas_1st_week``` und ```IsHoliday``` besteht ein Zusammenhang, da in dieser Woche immer der _Black Friday_ liegt."
   ]
  },
  {
   "cell_type": "markdown",
   "metadata": {},
   "source": [
    "Spannend ist auch, dass es anscheinend einen Zusammenhang zwischen der ```Temperatur_C``` und ```Fuel_Price```, ```Unemployment``` und ```CPI``` gibt - während ```CPI```und ```Fuel_Price``` tatsächlich eine negative Korrelation aufweisen und ```Unemployment``` und ```Fuel_Price``` neutral zueinander stehen.  \n",
    "Dass ```CPI``` und ```Unemployment``` wiederum negativ korrelieren ergibt Sinn."
   ]
  },
  {
   "cell_type": "markdown",
   "metadata": {},
   "source": [
    "Auch, dass es anscheinend an den interessanten Feiertagen eher kälter ist, überrascht nicht."
   ]
  },
  {
   "cell_type": "markdown",
   "metadata": {},
   "source": [
    "Auch die Zusammenhänge zwischen (Store-)```Size```, (Store-)```Type``` und absoluten ```Weekly_Sales``` überrascht nicht."
   ]
  },
  {
   "cell_type": "markdown",
   "metadata": {
    "variables": {
     "merged_all_df.shape[0]": "294132",
     "merged_all_df.shape[1]": "20"
    }
   },
   "source": [
    "__Fazit:__\n",
    "Wir sind am Ende der Datenbereinigung angekommen und haben damit einen Datensatz mit ```{{merged_all_df.shape[0]}}``` Messpunkten und aktuell ```{{merged_all_df.shape[1]}}``` Attibuten."
   ]
  },
  {
   "cell_type": "markdown",
   "metadata": {},
   "source": [
    "### Normalize Data"
   ]
  },
  {
   "cell_type": "markdown",
   "metadata": {},
   "source": [
    "An dieser Stelle würde im Normalfall eine Normalisierung der Daten anstehen, da die Skalen wie bereits gesehen sehr unterschiedlich ausfallen, nicht nur zwischen den ehemals kategorialen und den stetigen Attributen.  \n",
    "Um zu ermöglichen, dass die Daten in Trainings- und Testdaten gesplittet werden können und die Normalisierung nur anhand der Trainingsdaten stattfinden kann, findet die Normalisierung in der Splitting-Funktion statt."
   ]
  },
  {
   "cell_type": "markdown",
   "metadata": {},
   "source": [
    "### Dictionary bauen: Neural Network Approach"
   ]
  },
  {
   "cell_type": "markdown",
   "metadata": {},
   "source": [
    "Um die einzelnen im Folgenden erzeugten Dataframes, Arrays, Modelle ect sinnvoll im Speicher vorhalten zu können, arbeiten wir mit einem Dictionary, das in drei Ebenen angelegt ist:  \n",
    "__dict [ Store-Department-Identifier ] [ einzelne Dateframes, Arrays, ect und Modeltyp [ Modell, Auswertung ect ] ]__\n",
    "\n",
    "Die Idee haben wir von [Kevin Palmer](https://github.com/kevinpalm/walmart_sales_forecast/blob/master/final_model.py) geklaut, die Umsetzung erfolgte allerdings auf sehr unterschiedliche Weise."
   ]
  },
  {
   "cell_type": "code",
   "execution_count": 39,
   "metadata": {},
   "outputs": [],
   "source": [
    "multi_dict = {}"
   ]
  },
  {
   "cell_type": "markdown",
   "metadata": {},
   "source": [
    "Die weiteren Arbeiten sollen immer auf Basis einer Store-Department-Kombination erfolgen (zb für ```Store 1``` und ```Department 1```).  \n",
    "Dies bedeutet, dass pro solcher Kombination Modelle gebaut und bewertet werden sollen.  \n",
    "Dazu generieren wir Identifier:"
   ]
  },
  {
   "cell_type": "code",
   "execution_count": 40,
   "metadata": {},
   "outputs": [],
   "source": [
    "merged_all_df['Store_Dept'] = merged_all_df.Store.astype(str) + '_' + merged_all_df.Dept.astype(str)"
   ]
  },
  {
   "cell_type": "markdown",
   "metadata": {
    "variables": {
     "merged_all_df.Store_Dept.nunique()": "3302"
    }
   },
   "source": [
    "Wir haben es insgesamt mit ```{{merged_all_df.Store_Dept.nunique()}}``` Kombinationen zu tun."
   ]
  },
  {
   "cell_type": "markdown",
   "metadata": {},
   "source": [
    "Im Folgenden werden diese Identifier genutzt, um die erste Ebene des Dictionaries anzulegen.  \n",
    "Dabei ist zu beachten, dass der folgende Code nicht standardmäßig ausgeführt wird, um die weitere Ausführung des Notebooks nicht unverhältnismäßig zu verlangsamen.  \n",
    "Im Bedarfsfall sollte die nächste Zelle aktiviert und die übernächste Zelle (\"Abgespeckte Version\") deaktiviert werden:"
   ]
  },
  {
   "cell_type": "raw",
   "metadata": {},
   "source": [
    "for store_dept in set(merged_all_df.Store_Dept.tolist()):\n",
    "    multi_dict[store_dept] = {}\n",
    "print(len(multi_dict))"
   ]
  },
  {
   "cell_type": "markdown",
   "metadata": {},
   "source": [
    "Damit die Prüfungen im weitern Verlauf alle funktionieren, __MUSS__ die Store-Department-Kombination ```1_1``` __IMMER__ enthalten sein!"
   ]
  },
  {
   "cell_type": "code",
   "execution_count": 41,
   "metadata": {},
   "outputs": [],
   "source": [
    "store_dept_subgroup = ['1_1', '2_1']\n",
    "\n",
    "for store_dept in store_dept_subgroup:\n",
    "    multi_dict[store_dept] = {}"
   ]
  },
  {
   "cell_type": "markdown",
   "metadata": {},
   "source": [
    "### Split Datasets"
   ]
  },
  {
   "cell_type": "markdown",
   "metadata": {},
   "source": [
    "In diesem Unterkapitel nehmen wir die Aufspaltung nach __Trainings-, Test- und Validationsdaten__ vor."
   ]
  },
  {
   "cell_type": "markdown",
   "metadata": {},
   "source": [
    "#### Validation je Store und Depatment"
   ]
  },
  {
   "cell_type": "markdown",
   "metadata": {},
   "source": [
    "<img src=\"./media/calendar.jpg\" width=\"500\"/>"
   ]
  },
  {
   "cell_type": "markdown",
   "metadata": {},
   "source": [
    "Das Ziel ist es, aus den Daten der schwarz markierten Wochen die Verkaufszahlen der grün markierten Woche zu ermitteln. Die Daten sind dabei jeweils am Freitag für die vergangene Woche erfasst.  \n",
    "Die rot markierte Woche ist überflüssig und kann gelöscht werden:"
   ]
  },
  {
   "cell_type": "code",
   "execution_count": 42,
   "metadata": {},
   "outputs": [],
   "source": [
    "date_cutoff = date(2011,12,30)\n",
    "merged_all_df.drop(merged_all_df[(merged_all_df.Date >= date_cutoff)].index, inplace=True)"
   ]
  },
  {
   "cell_type": "markdown",
   "metadata": {
    "variables": {
     "merged_all_df.Date.max()": "Timestamp(&#39;2011-12-23 00:00:00&#39;)"
    }
   },
   "source": [
    "Damit ist das jüngste Datum im Datenbestand der ```{{merged_all_df.Date.max()}}```."
   ]
  },
  {
   "cell_type": "markdown",
   "metadata": {},
   "source": [
    "__Anmerkung:__  \n",
    "Da Bäume einen anderen Aufbau der Daten benötigen, kopieren wir den aktuellen Stand des Dataframes, da wir weitere Änderungen direkt auf dem Dataframe machen werden:"
   ]
  },
  {
   "cell_type": "code",
   "execution_count": 43,
   "metadata": {},
   "outputs": [],
   "source": [
    "merged_all_for_tree_df = merged_all_df.copy()"
   ]
  },
  {
   "cell_type": "markdown",
   "metadata": {},
   "source": [
    "Nun können die oben markierten Validierungsdaten für alle Store-Department-Kombinationen ermittelt und in das Dictionary gespeichert werden:"
   ]
  },
  {
   "cell_type": "code",
   "execution_count": 44,
   "metadata": {
    "scrolled": true
   },
   "outputs": [],
   "source": [
    "date_start_windowing = date(2011,11,25)\n",
    "date_validation_week = date(2011,12,23)\n",
    "\n",
    "if date_validation_week in merged_all_df.Date.dt.date.values:\n",
    "    for store_dept in multi_dict.keys():\n",
    "        multi_dict[store_dept]['val_data_df'] = merged_all_df[(merged_all_df.Date >= date_start_windowing)&(merged_all_df.Store_Dept == store_dept)].reset_index(drop=True)"
   ]
  },
  {
   "cell_type": "markdown",
   "metadata": {},
   "source": [
    "Damit hat das Dictionary folgenden Inhalt:"
   ]
  },
  {
   "cell_type": "code",
   "execution_count": 45,
   "metadata": {},
   "outputs": [
    {
     "data": {
      "text/plain": [
       "dict_keys(['val_data_df'])"
      ]
     },
     "execution_count": 45,
     "metadata": {},
     "output_type": "execute_result"
    }
   ],
   "source": [
    "multi_dict['1_1'].keys()"
   ]
  },
  {
   "cell_type": "code",
   "execution_count": 46,
   "metadata": {},
   "outputs": [
    {
     "data": {
      "text/html": [
       "<div>\n",
       "<style scoped>\n",
       "    .dataframe tbody tr th:only-of-type {\n",
       "        vertical-align: middle;\n",
       "    }\n",
       "\n",
       "    .dataframe tbody tr th {\n",
       "        vertical-align: top;\n",
       "    }\n",
       "\n",
       "    .dataframe thead th {\n",
       "        text-align: right;\n",
       "    }\n",
       "</style>\n",
       "<table border=\"1\" class=\"dataframe\">\n",
       "  <thead>\n",
       "    <tr style=\"text-align: right;\">\n",
       "      <th></th>\n",
       "      <th>Store</th>\n",
       "      <th>Dept</th>\n",
       "      <th>Date</th>\n",
       "      <th>Weekly_Sales</th>\n",
       "    </tr>\n",
       "  </thead>\n",
       "  <tbody>\n",
       "    <tr>\n",
       "      <th>0</th>\n",
       "      <td>1</td>\n",
       "      <td>1</td>\n",
       "      <td>2011-11-25</td>\n",
       "      <td>20911.25</td>\n",
       "    </tr>\n",
       "    <tr>\n",
       "      <th>1</th>\n",
       "      <td>1</td>\n",
       "      <td>1</td>\n",
       "      <td>2011-12-02</td>\n",
       "      <td>25293.49</td>\n",
       "    </tr>\n",
       "    <tr>\n",
       "      <th>2</th>\n",
       "      <td>1</td>\n",
       "      <td>1</td>\n",
       "      <td>2011-12-09</td>\n",
       "      <td>33305.92</td>\n",
       "    </tr>\n",
       "    <tr>\n",
       "      <th>3</th>\n",
       "      <td>1</td>\n",
       "      <td>1</td>\n",
       "      <td>2011-12-16</td>\n",
       "      <td>45773.03</td>\n",
       "    </tr>\n",
       "    <tr>\n",
       "      <th>4</th>\n",
       "      <td>1</td>\n",
       "      <td>1</td>\n",
       "      <td>2011-12-23</td>\n",
       "      <td>46788.75</td>\n",
       "    </tr>\n",
       "  </tbody>\n",
       "</table>\n",
       "</div>"
      ],
      "text/plain": [
       "   Store  Dept       Date  Weekly_Sales\n",
       "0      1     1 2011-11-25      20911.25\n",
       "1      1     1 2011-12-02      25293.49\n",
       "2      1     1 2011-12-09      33305.92\n",
       "3      1     1 2011-12-16      45773.03\n",
       "4      1     1 2011-12-23      46788.75"
      ]
     },
     "execution_count": 46,
     "metadata": {},
     "output_type": "execute_result"
    }
   ],
   "source": [
    "multi_dict['1_1']['val_data_df'][['Store', 'Dept', 'Date', 'Weekly_Sales']]"
   ]
  },
  {
   "cell_type": "markdown",
   "metadata": {},
   "source": [
    "Um ein Leaken der Validierungsdaten ins Trainig zu verhindern, wird die entscheidende Woche aus dem Dataframe getilgt:"
   ]
  },
  {
   "cell_type": "code",
   "execution_count": 47,
   "metadata": {},
   "outputs": [],
   "source": [
    "merged_all_df.drop(merged_all_df[(merged_all_df.Date == date_validation_week)].index, inplace=True)"
   ]
  },
  {
   "cell_type": "markdown",
   "metadata": {
    "variables": {
     "merged_all_df.Date.max()": "Timestamp(&#39;2011-12-16 00:00:00&#39;)"
    }
   },
   "source": [
    "Das jüngste Datum ist damit der ```{{merged_all_df.Date.max()}}``` und die Validierungs-Woche ist nicht mehr enthalten:"
   ]
  },
  {
   "cell_type": "code",
   "execution_count": 48,
   "metadata": {},
   "outputs": [
    {
     "data": {
      "text/html": [
       "<div>\n",
       "<style scoped>\n",
       "    .dataframe tbody tr th:only-of-type {\n",
       "        vertical-align: middle;\n",
       "    }\n",
       "\n",
       "    .dataframe tbody tr th {\n",
       "        vertical-align: top;\n",
       "    }\n",
       "\n",
       "    .dataframe thead th {\n",
       "        text-align: right;\n",
       "    }\n",
       "</style>\n",
       "<table border=\"1\" class=\"dataframe\">\n",
       "  <thead>\n",
       "    <tr style=\"text-align: right;\">\n",
       "      <th></th>\n",
       "      <th>Store</th>\n",
       "      <th>Dept</th>\n",
       "      <th>Date</th>\n",
       "      <th>Weekly_Sales</th>\n",
       "    </tr>\n",
       "  </thead>\n",
       "  <tbody>\n",
       "    <tr>\n",
       "      <th>0</th>\n",
       "      <td>1</td>\n",
       "      <td>1</td>\n",
       "      <td>2011-11-25</td>\n",
       "      <td>20911.25</td>\n",
       "    </tr>\n",
       "    <tr>\n",
       "      <th>1</th>\n",
       "      <td>1</td>\n",
       "      <td>1</td>\n",
       "      <td>2011-12-02</td>\n",
       "      <td>25293.49</td>\n",
       "    </tr>\n",
       "    <tr>\n",
       "      <th>2</th>\n",
       "      <td>1</td>\n",
       "      <td>1</td>\n",
       "      <td>2011-12-09</td>\n",
       "      <td>33305.92</td>\n",
       "    </tr>\n",
       "    <tr>\n",
       "      <th>3</th>\n",
       "      <td>1</td>\n",
       "      <td>1</td>\n",
       "      <td>2011-12-16</td>\n",
       "      <td>45773.03</td>\n",
       "    </tr>\n",
       "  </tbody>\n",
       "</table>\n",
       "</div>"
      ],
      "text/plain": [
       "   Store  Dept       Date  Weekly_Sales\n",
       "0      1     1 2011-11-25      20911.25\n",
       "1      1     1 2011-12-02      25293.49\n",
       "2      1     1 2011-12-09      33305.92\n",
       "3      1     1 2011-12-16      45773.03"
      ]
     },
     "execution_count": 48,
     "metadata": {},
     "output_type": "execute_result"
    }
   ],
   "source": [
    "merged_all_df[(merged_all_df.Date >= date_start_windowing)&(merged_all_df.Store_Dept == '1_1')][['Store', 'Dept', 'Date', 'Weekly_Sales']].reset_index(drop=True)"
   ]
  },
  {
   "cell_type": "markdown",
   "metadata": {},
   "source": [
    "#### Train-Test-Daten je Store und Department"
   ]
  },
  {
   "cell_type": "markdown",
   "metadata": {},
   "source": [
    "Nachdem die Validierungsdaten sauber abgespeichert sind, kümmern wir uns um die Trainings- und Testdaten.  \n",
    "Dabei nehmen wir auch eine Restrukturierung vor, wobei vor allem das Attribut ```Weekly_Sales``` an den Schluss geschoben wird:"
   ]
  },
  {
   "cell_type": "code",
   "execution_count": 49,
   "metadata": {},
   "outputs": [],
   "source": [
    "def restructure_df_for_target_variable(df):\n",
    "    return df[['Date',\n",
    "       'nw_black_friday', 'nw_new_year', 'nw_xmas_1st_week', 'nw_xmas_2nd_week',\n",
    "       'nw_xmas_3rd_week', 'nw_xmas_4th_week', 'days_2_xmas', 'Fuel_Price',\n",
    "       'CPI', 'Unemployment', 'IsHoliday', 'Temperature_C', 'Size', 'type_A',\n",
    "       'type_B', 'type_C', 'Weekly_Sales']].reset_index(drop=True)"
   ]
  },
  {
   "cell_type": "code",
   "execution_count": 50,
   "metadata": {},
   "outputs": [],
   "source": [
    "for store_dept in multi_dict.keys():\n",
    "    multi_dict[store_dept]['train_test_df'] = restructure_df_for_target_variable(merged_all_df[(merged_all_df.Store_Dept == store_dept)])"
   ]
  },
  {
   "cell_type": "markdown",
   "metadata": {},
   "source": [
    "Damit hat das Dictionary die folgende Form:"
   ]
  },
  {
   "cell_type": "code",
   "execution_count": 51,
   "metadata": {},
   "outputs": [
    {
     "data": {
      "text/plain": [
       "dict_keys(['val_data_df', 'train_test_df'])"
      ]
     },
     "execution_count": 51,
     "metadata": {},
     "output_type": "execute_result"
    }
   ],
   "source": [
    "multi_dict['1_1'].keys()"
   ]
  },
  {
   "cell_type": "markdown",
   "metadata": {},
   "source": [
    "Und der Dataframe sieht wie folgt aus:"
   ]
  },
  {
   "cell_type": "code",
   "execution_count": 52,
   "metadata": {},
   "outputs": [
    {
     "data": {
      "text/html": [
       "<div>\n",
       "<style scoped>\n",
       "    .dataframe tbody tr th:only-of-type {\n",
       "        vertical-align: middle;\n",
       "    }\n",
       "\n",
       "    .dataframe tbody tr th {\n",
       "        vertical-align: top;\n",
       "    }\n",
       "\n",
       "    .dataframe thead th {\n",
       "        text-align: right;\n",
       "    }\n",
       "</style>\n",
       "<table border=\"1\" class=\"dataframe\">\n",
       "  <thead>\n",
       "    <tr style=\"text-align: right;\">\n",
       "      <th></th>\n",
       "      <th>Date</th>\n",
       "      <th>nw_black_friday</th>\n",
       "      <th>nw_new_year</th>\n",
       "      <th>nw_xmas_1st_week</th>\n",
       "      <th>nw_xmas_2nd_week</th>\n",
       "      <th>nw_xmas_3rd_week</th>\n",
       "      <th>nw_xmas_4th_week</th>\n",
       "      <th>days_2_xmas</th>\n",
       "      <th>Fuel_Price</th>\n",
       "      <th>CPI</th>\n",
       "      <th>Unemployment</th>\n",
       "      <th>IsHoliday</th>\n",
       "      <th>Temperature_C</th>\n",
       "      <th>Size</th>\n",
       "      <th>type_A</th>\n",
       "      <th>type_B</th>\n",
       "      <th>type_C</th>\n",
       "      <th>Weekly_Sales</th>\n",
       "    </tr>\n",
       "  </thead>\n",
       "  <tbody>\n",
       "    <tr>\n",
       "      <th>0</th>\n",
       "      <td>2010-02-05</td>\n",
       "      <td>0</td>\n",
       "      <td>0</td>\n",
       "      <td>0</td>\n",
       "      <td>0</td>\n",
       "      <td>0</td>\n",
       "      <td>0</td>\n",
       "      <td>323</td>\n",
       "      <td>2.572</td>\n",
       "      <td>211.096358</td>\n",
       "      <td>8.106</td>\n",
       "      <td>0</td>\n",
       "      <td>5.73</td>\n",
       "      <td>151315</td>\n",
       "      <td>1</td>\n",
       "      <td>0</td>\n",
       "      <td>0</td>\n",
       "      <td>24924.50</td>\n",
       "    </tr>\n",
       "    <tr>\n",
       "      <th>1</th>\n",
       "      <td>2010-02-12</td>\n",
       "      <td>0</td>\n",
       "      <td>0</td>\n",
       "      <td>0</td>\n",
       "      <td>0</td>\n",
       "      <td>0</td>\n",
       "      <td>0</td>\n",
       "      <td>316</td>\n",
       "      <td>2.548</td>\n",
       "      <td>211.242170</td>\n",
       "      <td>8.106</td>\n",
       "      <td>1</td>\n",
       "      <td>3.62</td>\n",
       "      <td>151315</td>\n",
       "      <td>1</td>\n",
       "      <td>0</td>\n",
       "      <td>0</td>\n",
       "      <td>46039.49</td>\n",
       "    </tr>\n",
       "    <tr>\n",
       "      <th>2</th>\n",
       "      <td>2010-02-19</td>\n",
       "      <td>0</td>\n",
       "      <td>0</td>\n",
       "      <td>0</td>\n",
       "      <td>0</td>\n",
       "      <td>0</td>\n",
       "      <td>0</td>\n",
       "      <td>309</td>\n",
       "      <td>2.514</td>\n",
       "      <td>211.289143</td>\n",
       "      <td>8.106</td>\n",
       "      <td>0</td>\n",
       "      <td>4.41</td>\n",
       "      <td>151315</td>\n",
       "      <td>1</td>\n",
       "      <td>0</td>\n",
       "      <td>0</td>\n",
       "      <td>41595.55</td>\n",
       "    </tr>\n",
       "    <tr>\n",
       "      <th>3</th>\n",
       "      <td>2010-02-26</td>\n",
       "      <td>0</td>\n",
       "      <td>0</td>\n",
       "      <td>0</td>\n",
       "      <td>0</td>\n",
       "      <td>0</td>\n",
       "      <td>0</td>\n",
       "      <td>302</td>\n",
       "      <td>2.561</td>\n",
       "      <td>211.319643</td>\n",
       "      <td>8.106</td>\n",
       "      <td>0</td>\n",
       "      <td>8.13</td>\n",
       "      <td>151315</td>\n",
       "      <td>1</td>\n",
       "      <td>0</td>\n",
       "      <td>0</td>\n",
       "      <td>19403.54</td>\n",
       "    </tr>\n",
       "    <tr>\n",
       "      <th>4</th>\n",
       "      <td>2010-03-05</td>\n",
       "      <td>0</td>\n",
       "      <td>0</td>\n",
       "      <td>0</td>\n",
       "      <td>0</td>\n",
       "      <td>0</td>\n",
       "      <td>0</td>\n",
       "      <td>295</td>\n",
       "      <td>2.625</td>\n",
       "      <td>211.350143</td>\n",
       "      <td>8.106</td>\n",
       "      <td>0</td>\n",
       "      <td>8.06</td>\n",
       "      <td>151315</td>\n",
       "      <td>1</td>\n",
       "      <td>0</td>\n",
       "      <td>0</td>\n",
       "      <td>21827.90</td>\n",
       "    </tr>\n",
       "  </tbody>\n",
       "</table>\n",
       "</div>"
      ],
      "text/plain": [
       "        Date  nw_black_friday  nw_new_year  nw_xmas_1st_week  \\\n",
       "0 2010-02-05                0            0                 0   \n",
       "1 2010-02-12                0            0                 0   \n",
       "2 2010-02-19                0            0                 0   \n",
       "3 2010-02-26                0            0                 0   \n",
       "4 2010-03-05                0            0                 0   \n",
       "\n",
       "   nw_xmas_2nd_week  nw_xmas_3rd_week  nw_xmas_4th_week  days_2_xmas  \\\n",
       "0                 0                 0                 0          323   \n",
       "1                 0                 0                 0          316   \n",
       "2                 0                 0                 0          309   \n",
       "3                 0                 0                 0          302   \n",
       "4                 0                 0                 0          295   \n",
       "\n",
       "   Fuel_Price         CPI  Unemployment  IsHoliday  Temperature_C    Size  \\\n",
       "0       2.572  211.096358         8.106          0           5.73  151315   \n",
       "1       2.548  211.242170         8.106          1           3.62  151315   \n",
       "2       2.514  211.289143         8.106          0           4.41  151315   \n",
       "3       2.561  211.319643         8.106          0           8.13  151315   \n",
       "4       2.625  211.350143         8.106          0           8.06  151315   \n",
       "\n",
       "   type_A  type_B  type_C  Weekly_Sales  \n",
       "0       1       0       0      24924.50  \n",
       "1       1       0       0      46039.49  \n",
       "2       1       0       0      41595.55  \n",
       "3       1       0       0      19403.54  \n",
       "4       1       0       0      21827.90  "
      ]
     },
     "execution_count": 52,
     "metadata": {},
     "output_type": "execute_result"
    }
   ],
   "source": [
    "multi_dict['1_1']['train_test_df'].head()"
   ]
  },
  {
   "cell_type": "markdown",
   "metadata": {},
   "source": [
    "#### Train-Test-Split"
   ]
  },
  {
   "cell_type": "markdown",
   "metadata": {},
   "source": [
    "Nachdem die Trainigs- und Testdaten isoliert wurden, kann jetzt der Split erfolgen.  \n",
    "Im Rahmen des Splittes findet wie gesagt auch die __Normalisierung__ statt.  \n",
    "Am besten man beginnt beim Studium folgender Funktionen mit der Funktion ```split_data()```:"
   ]
  },
  {
   "cell_type": "code",
   "execution_count": 53,
   "metadata": {},
   "outputs": [],
   "source": [
    "def scale_data(data_np, scaler=None):\n",
    "    if not scaler:\n",
    "        scaler = StandardScaler().fit(data_np)\n",
    "    return scaler.transform(data_np), scaler"
   ]
  },
  {
   "cell_type": "code",
   "execution_count": 54,
   "metadata": {},
   "outputs": [],
   "source": [
    "def get_X_y_scalers(data_df):\n",
    "    data_np = data_df.drop(columns='Date').values\n",
    "    X_scaler = StandardScaler().fit(data_np[:,:-1])\n",
    "    y_scaler = StandardScaler().fit(data_np[:,-1].reshape(-1, 1))\n",
    "    return X_scaler, y_scaler"
   ]
  },
  {
   "cell_type": "code",
   "execution_count": 55,
   "metadata": {},
   "outputs": [],
   "source": [
    "def X_y_split(data_df, lookback, delay, X_y_scaler=None):\n",
    "    data_np = data_df.drop(columns='Date').values\n",
    "    data_rows = np.arange(lookback, data_np.shape[0] - delay)\n",
    "    \n",
    "    scaled_data_np, X_y_scaler = scale_data(data_np, X_y_scaler)\n",
    "\n",
    "    X_np = np.zeros((len(data_rows), lookback, scaled_data_np.shape[1]-1))\n",
    "    y_np = np.zeros((len(data_rows),))\n",
    "    \n",
    "    for i, row in enumerate(data_rows):\n",
    "        indices = range(row - lookback, row)\n",
    "        X_np[i] = scaled_data_np[indices,:-1]\n",
    "        y_np[i] = scaled_data_np[row + delay][-1]\n",
    "    \n",
    "    return X_np, y_np, X_y_scaler"
   ]
  },
  {
   "cell_type": "code",
   "execution_count": 56,
   "metadata": {},
   "outputs": [],
   "source": [
    "def split_data(data, lookback, delay, cutoff_date):\n",
    "    train_samples, train_targets, X_y_scaler = X_y_split(data[data.Date <= cutoff_date], lookback, delay)\n",
    "    test_samples, test_targets, X_y_scaler = X_y_split(data[data.Date > cutoff_date], lookback, delay, X_y_scaler)\n",
    "    return train_samples, train_targets, test_samples, test_targets, X_y_scaler"
   ]
  },
  {
   "cell_type": "markdown",
   "metadata": {},
   "source": [
    "Nachdem die Funktionenn definiert wurden, werden die Parameter für den Split gesetzt.  \n",
    "Wir wollen vier Wochen aus der Vergangenheit betrachten, um die aktuelle Woche zu prognostizieren, die Daten ab dem ```2011-05-01``` nutzen wir zum Testen:"
   ]
  },
  {
   "cell_type": "code",
   "execution_count": 57,
   "metadata": {},
   "outputs": [],
   "source": [
    "lookback = 4\n",
    "delay = 0\n",
    "cutoff_date = '2011-05-01'"
   ]
  },
  {
   "cell_type": "markdown",
   "metadata": {},
   "source": [
    "Im ersten Schritt speichern wir die beiden Scaler für ```X_scaler``` und ```y_scaler```, die wir später für den Sanity Check benötigen:"
   ]
  },
  {
   "cell_type": "code",
   "execution_count": 58,
   "metadata": {},
   "outputs": [],
   "source": [
    "for store_dept in multi_dict.keys():\n",
    "    df = multi_dict[store_dept]['train_test_df']\n",
    "    X_scaler, y_scaler = get_X_y_scalers(df[df.Date <= cutoff_date])\n",
    "    multi_dict[store_dept]['X_scaler'] = X_scaler\n",
    "    multi_dict[store_dept]['y_scaler'] = y_scaler"
   ]
  },
  {
   "cell_type": "code",
   "execution_count": 59,
   "metadata": {},
   "outputs": [
    {
     "data": {
      "text/plain": [
       "dict_keys(['val_data_df', 'train_test_df', 'X_scaler', 'y_scaler'])"
      ]
     },
     "execution_count": 59,
     "metadata": {},
     "output_type": "execute_result"
    }
   ],
   "source": [
    "multi_dict['1_1'].keys()"
   ]
  },
  {
   "cell_type": "markdown",
   "metadata": {},
   "source": [
    "Im zweiten Schritt nehmen wir den Train-Test-X-y-Split vor.  \n",
    "Dabei speichern wir zusätzlich den ```X-y-Scaler``` ab, den wir später für den Validierungsdatensatz benötigen:"
   ]
  },
  {
   "cell_type": "code",
   "execution_count": 60,
   "metadata": {},
   "outputs": [],
   "source": [
    "for store_dept in multi_dict.keys():\n",
    "    X_train, y_train, X_test, y_test, X_y_scaler = split_data(multi_dict[store_dept]['train_test_df'], lookback, delay, cutoff_date)\n",
    "    multi_dict[store_dept]['X_train'] = X_train\n",
    "    multi_dict[store_dept]['y_train'] = y_train\n",
    "    multi_dict[store_dept]['X_test'] = X_test\n",
    "    multi_dict[store_dept]['y_test'] = y_test\n",
    "    multi_dict[store_dept]['X_y_scaler'] = X_y_scaler"
   ]
  },
  {
   "cell_type": "code",
   "execution_count": 61,
   "metadata": {},
   "outputs": [
    {
     "data": {
      "text/plain": [
       "dict_keys(['val_data_df', 'train_test_df', 'X_scaler', 'y_scaler', 'X_train', 'y_train', 'X_test', 'y_test', 'X_y_scaler'])"
      ]
     },
     "execution_count": 61,
     "metadata": {},
     "output_type": "execute_result"
    }
   ],
   "source": [
    "multi_dict['1_1'].keys()"
   ]
  },
  {
   "cell_type": "markdown",
   "metadata": {},
   "source": [
    "__Sanity Check:__\n",
    "Nach den nicht ganz unkomplexen Vorgängen wollen wir wissen, ob das Ergebnis unseren Erwartungen entspricht:"
   ]
  },
  {
   "cell_type": "markdown",
   "metadata": {},
   "source": [
    "Der ```X_train```-Datensatz sollte ein 3D-Numpy-Array sein, das ```61 Iterationen``` von ```4-Wochen-Vorschauen``` mit ```je 16 Attributen``` enthält:"
   ]
  },
  {
   "cell_type": "code",
   "execution_count": 62,
   "metadata": {},
   "outputs": [
    {
     "data": {
      "text/plain": [
       "(61, 4, 16)"
      ]
     },
     "execution_count": 62,
     "metadata": {},
     "output_type": "execute_result"
    }
   ],
   "source": [
    "multi_dict['1_1']['X_train'].shape"
   ]
  },
  {
   "cell_type": "markdown",
   "metadata": {},
   "source": [
    "Das passt.  \n",
    "Jetzt lesen wir die erste Woche der Iteration aus:"
   ]
  },
  {
   "cell_type": "code",
   "execution_count": 63,
   "metadata": {},
   "outputs": [
    {
     "data": {
      "text/plain": [
       "array([-0.125     , -0.125     , -0.125     , -0.125     , -0.125     ,\n",
       "       -0.125     ,  1.23097872, -0.88158673, -0.63212245,  2.46911839,\n",
       "       -0.28867513, -1.50046034,  0.        ,  0.        ,  0.        ,\n",
       "        0.        ])"
      ]
     },
     "execution_count": 63,
     "metadata": {},
     "output_type": "execute_result"
    }
   ],
   "source": [
    "multi_dict['1_1']['X_train'][0][0]"
   ]
  },
  {
   "cell_type": "markdown",
   "metadata": {},
   "source": [
    "Nachdem uns die normalisierten Werte nicht viel sagen, rechnen wir diese mit dem ```X_scaler``` zurück:"
   ]
  },
  {
   "cell_type": "code",
   "execution_count": 64,
   "metadata": {},
   "outputs": [
    {
     "data": {
      "text/plain": [
       "array([0.00000000e+00, 0.00000000e+00, 0.00000000e+00, 0.00000000e+00,\n",
       "       0.00000000e+00, 0.00000000e+00, 3.23000000e+02, 2.57200000e+00,\n",
       "       2.11096358e+02, 8.10600000e+00, 0.00000000e+00, 5.73000000e+00,\n",
       "       1.51315000e+05, 1.00000000e+00, 0.00000000e+00, 0.00000000e+00])"
      ]
     },
     "execution_count": 64,
     "metadata": {},
     "output_type": "execute_result"
    }
   ],
   "source": [
    "multi_dict['1_1']['X_scaler'].inverse_transform(multi_dict['1_1']['X_train'][0][0])"
   ]
  },
  {
   "cell_type": "markdown",
   "metadata": {},
   "source": [
    "Und vergleichen diese mit der ersten Woche im unbehandelten Dataframe:"
   ]
  },
  {
   "cell_type": "code",
   "execution_count": 65,
   "metadata": {},
   "outputs": [
    {
     "data": {
      "text/plain": [
       "Date                2010-02-05 00:00:00\n",
       "nw_black_friday                       0\n",
       "nw_new_year                           0\n",
       "nw_xmas_1st_week                      0\n",
       "nw_xmas_2nd_week                      0\n",
       "nw_xmas_3rd_week                      0\n",
       "nw_xmas_4th_week                      0\n",
       "days_2_xmas                         323\n",
       "Fuel_Price                        2.572\n",
       "CPI                             211.096\n",
       "Unemployment                      8.106\n",
       "IsHoliday                             0\n",
       "Temperature_C                      5.73\n",
       "Size                             151315\n",
       "type_A                                1\n",
       "type_B                                0\n",
       "type_C                                0\n",
       "Weekly_Sales                    24924.5\n",
       "Name: 0, dtype: object"
      ]
     },
     "execution_count": 65,
     "metadata": {},
     "output_type": "execute_result"
    }
   ],
   "source": [
    "multi_dict['1_1']['train_test_df'].iloc[0]"
   ]
  },
  {
   "cell_type": "markdown",
   "metadata": {},
   "source": [
    "> __Fazit:__ Das sieht soweit ganz gut aus!"
   ]
  },
  {
   "cell_type": "markdown",
   "metadata": {},
   "source": [
    "Jetzt bleibt noch, ```y_train``` für die erste Woche auf die selbe Art zu prüfen:"
   ]
  },
  {
   "cell_type": "code",
   "execution_count": 66,
   "metadata": {},
   "outputs": [
    {
     "data": {
      "text/plain": [
       "-0.21441960395189766"
      ]
     },
     "execution_count": 66,
     "metadata": {},
     "output_type": "execute_result"
    }
   ],
   "source": [
    "multi_dict['1_1']['y_train'][0]"
   ]
  },
  {
   "cell_type": "code",
   "execution_count": 67,
   "metadata": {},
   "outputs": [
    {
     "data": {
      "text/plain": [
       "array([[21827.9]])"
      ]
     },
     "execution_count": 67,
     "metadata": {},
     "output_type": "execute_result"
    }
   ],
   "source": [
    "multi_dict['1_1']['y_scaler'].inverse_transform(multi_dict['1_1']['y_train'][0].reshape(-1, 1))"
   ]
  },
  {
   "cell_type": "code",
   "execution_count": 68,
   "metadata": {},
   "outputs": [
    {
     "data": {
      "text/plain": [
       "21827.9"
      ]
     },
     "execution_count": 68,
     "metadata": {},
     "output_type": "execute_result"
    }
   ],
   "source": [
    "multi_dict['1_1']['train_test_df'].Weekly_Sales.iloc[lookback + delay]"
   ]
  },
  {
   "cell_type": "code",
   "execution_count": 69,
   "metadata": {},
   "outputs": [
    {
     "data": {
      "text/plain": [
       "21827.9"
      ]
     },
     "execution_count": 69,
     "metadata": {},
     "output_type": "execute_result"
    }
   ],
   "source": [
    "multi_dict['1_1']['train_test_df'].iloc[4].Weekly_Sales"
   ]
  },
  {
   "cell_type": "markdown",
   "metadata": {},
   "source": [
    "> __Fazit:__ Auch das passt."
   ]
  },
  {
   "cell_type": "markdown",
   "metadata": {},
   "source": [
    "#### Validation to np"
   ]
  },
  {
   "cell_type": "markdown",
   "metadata": {},
   "source": [
    "Auch die Validations-Daten sollten als np-Array vorliegen, um später Auswertungen machen zu können:"
   ]
  },
  {
   "cell_type": "code",
   "execution_count": 70,
   "metadata": {},
   "outputs": [],
   "source": [
    "for store_dept in multi_dict.keys():\n",
    "    multi_dict[store_dept]['val_data_df'] = restructure_df_for_target_variable(multi_dict[store_dept]['val_data_df'])"
   ]
  },
  {
   "cell_type": "code",
   "execution_count": 71,
   "metadata": {},
   "outputs": [
    {
     "data": {
      "text/plain": [
       "dict_keys(['val_data_df', 'train_test_df', 'X_scaler', 'y_scaler', 'X_train', 'y_train', 'X_test', 'y_test', 'X_y_scaler', 'X_val', 'y_val'])"
      ]
     },
     "execution_count": 71,
     "metadata": {},
     "output_type": "execute_result"
    }
   ],
   "source": [
    "for store_dept in multi_dict.keys():\n",
    "    X_np, y_np, foo = X_y_split(multi_dict[store_dept]['val_data_df'], lookback, delay, multi_dict[store_dept]['X_y_scaler'])\n",
    "    multi_dict[store_dept]['X_val'] = X_np\n",
    "    multi_dict[store_dept]['y_val'] = y_np\n",
    "multi_dict['1_1'].keys()"
   ]
  },
  {
   "cell_type": "markdown",
   "metadata": {},
   "source": [
    "#### Set prediction goal"
   ]
  },
  {
   "cell_type": "markdown",
   "metadata": {},
   "source": [
    "Um zuverlässig auf das Ziel der Validations-Daten zugreifen zu können, wir auch dieses abgespeichert:"
   ]
  },
  {
   "cell_type": "code",
   "execution_count": 72,
   "metadata": {},
   "outputs": [],
   "source": [
    "for store_dept in multi_dict.keys():\n",
    "    multi_dict[store_dept]['prediction_goal'] = multi_dict[store_dept]['val_data_df'].iloc[-1].Weekly_Sales"
   ]
  },
  {
   "cell_type": "code",
   "execution_count": 73,
   "metadata": {},
   "outputs": [
    {
     "data": {
      "text/plain": [
       "dict_keys(['val_data_df', 'train_test_df', 'X_scaler', 'y_scaler', 'X_train', 'y_train', 'X_test', 'y_test', 'X_y_scaler', 'X_val', 'y_val', 'prediction_goal'])"
      ]
     },
     "execution_count": 73,
     "metadata": {},
     "output_type": "execute_result"
    }
   ],
   "source": [
    "multi_dict['1_1'].keys()"
   ]
  },
  {
   "cell_type": "code",
   "execution_count": 74,
   "metadata": {},
   "outputs": [
    {
     "data": {
      "text/plain": [
       "46788.75"
      ]
     },
     "execution_count": 74,
     "metadata": {},
     "output_type": "execute_result"
    }
   ],
   "source": [
    "multi_dict['1_1']['prediction_goal']"
   ]
  },
  {
   "cell_type": "markdown",
   "metadata": {},
   "source": [
    "## MODELING: Neural Network Approach"
   ]
  },
  {
   "cell_type": "markdown",
   "metadata": {},
   "source": [
    "Nach den raumgreifenden Erläuterungen zur Data Preparation erscheint das folgende Kapitel fast karg.  \n",
    "Zuerst betrachten wir eine einfache __Baseline__.  \n",
    "Dann __trainieren__ wir verschiedene Algorithmen mit den erstellten Daten.  \n",
    "Im Anschluss wagen wir eine __kurze Evaluation__ der ersten Ergebnisse."
   ]
  },
  {
   "cell_type": "markdown",
   "metadata": {},
   "source": [
    "### Baseline"
   ]
  },
  {
   "cell_type": "markdown",
   "metadata": {},
   "source": [
    "Die Baseline folgt dem einfachen Prinzip, dass die ```Weekly_Sales``` der aktuellen Woche als Prognose für die kommende Woche angenommen werden. Dies mag unter dem Jahr eine gar nicht so schlechte Methode sein (im Vergleich zum Input), für das Weihnachtsgeschäft kann sie allerdings nur versagen.\n",
    "Der Einfachheit halber erfolgt die Erstellung nur für Store-Department-Kombination ```1_1```."
   ]
  },
  {
   "cell_type": "code",
   "execution_count": 75,
   "metadata": {},
   "outputs": [],
   "source": [
    "def get_baseline_prediction_values(df):\n",
    "    prognose_sales = df.iloc[-2].Weekly_Sales\n",
    "    actual_sales = df.iloc[-1].Weekly_Sales\n",
    "    return [prognose_sales, actual_sales, actual_sales - prognose_sales]"
   ]
  },
  {
   "cell_type": "markdown",
   "metadata": {},
   "source": [
    "```Store 1``` mit ```Department 1```:"
   ]
  },
  {
   "cell_type": "code",
   "execution_count": 76,
   "metadata": {},
   "outputs": [
    {
     "name": "stdout",
     "output_type": "stream",
     "text": [
      "Baseline Prognose:\t45773.03\n",
      "Tatsächliche Sales:\t46788.75\n",
      "Absoluter Fehler:\t1015.7200000000012\n"
     ]
    }
   ],
   "source": [
    "baseline_prediction_values = get_baseline_prediction_values(multi_dict['1_1']['val_data_df'])\n",
    "print(\"Baseline Prognose:\\t{}\".format(baseline_prediction_values[0]))\n",
    "print(\"Tatsächliche Sales:\\t{}\".format(multi_dict['1_1']['prediction_goal']))\n",
    "print(\"Absoluter Fehler:\\t{}\".format(baseline_prediction_values[2]))"
   ]
  },
  {
   "cell_type": "markdown",
   "metadata": {},
   "source": [
    "So schlecht ist die Baseline-Prognose für ```1_1``` nicht. Können wir es besser?"
   ]
  },
  {
   "cell_type": "markdown",
   "metadata": {},
   "source": [
    "Prognose für ```Store 2``` mit ```Department 1```:"
   ]
  },
  {
   "cell_type": "code",
   "execution_count": 77,
   "metadata": {},
   "outputs": [
    {
     "name": "stdout",
     "output_type": "stream",
     "text": [
      "Baseline Prognose:\t63109.72\n",
      "Tatsächliche Sales:\t75779.45\n",
      "Absoluter Fehler:\t12669.729999999996\n"
     ]
    }
   ],
   "source": [
    "baseline_prediction_values = get_baseline_prediction_values(multi_dict['2_1']['val_data_df'])\n",
    "print(\"Baseline Prognose:\\t{}\".format(baseline_prediction_values[0]))\n",
    "print(\"Tatsächliche Sales:\\t{}\".format(multi_dict['2_1']['prediction_goal']))\n",
    "print(\"Absoluter Fehler:\\t{}\".format(baseline_prediction_values[2]))"
   ]
  },
  {
   "cell_type": "markdown",
   "metadata": {},
   "source": [
    "Hier ist der Fehler schon bedeutend heftiger."
   ]
  },
  {
   "cell_type": "markdown",
   "metadata": {},
   "source": [
    "### Training der neuronale Netze"
   ]
  },
  {
   "cell_type": "markdown",
   "metadata": {},
   "source": [
    "Im Folgenden wird mit verschiedenen Typen von neuronalen Netzen trainiert.  \n",
    "Die Ergebnisse werden jeweils als neues Dictionary in das bekannte Dictionary integriert, um für die spätere Auswertung zur Verfügung zu stehen."
   ]
  },
  {
   "cell_type": "markdown",
   "metadata": {},
   "source": [
    "#### 2 Layer Perceptron"
   ]
  },
  {
   "cell_type": "markdown",
   "metadata": {},
   "source": [
    "Auch wenn ein MLP kein RNN ist, soll es hier als Vergleichswert dienen."
   ]
  },
  {
   "cell_type": "code",
   "execution_count": 78,
   "metadata": {},
   "outputs": [
    {
     "name": "stdout",
     "output_type": "stream",
     "text": [
      "_________________________________________________________________\n",
      "Layer (type)                 Output Shape              Param #   \n",
      "=================================================================\n",
      "flatten_1 (Flatten)          (None, 64)                0         \n",
      "_________________________________________________________________\n",
      "dense_1 (Dense)              (None, 32)                2080      \n",
      "_________________________________________________________________\n",
      "dense_2 (Dense)              (None, 1)                 33        \n",
      "=================================================================\n",
      "Total params: 2,113\n",
      "Trainable params: 2,113\n",
      "Non-trainable params: 0\n",
      "_________________________________________________________________\n",
      "None\n",
      "Train on 61 samples, validate on 29 samples\n",
      "Epoch 1/20\n",
      "61/61 [==============================] - 0s 3ms/step - loss: 0.9041 - val_loss: 0.6166\n",
      "Epoch 2/20\n",
      "61/61 [==============================] - 0s 93us/step - loss: 0.7649 - val_loss: 0.6497\n",
      "Epoch 3/20\n",
      "61/61 [==============================] - 0s 92us/step - loss: 0.6688 - val_loss: 0.6706\n",
      "Epoch 4/20\n",
      "61/61 [==============================] - 0s 101us/step - loss: 0.6078 - val_loss: 0.7132\n",
      "Epoch 5/20\n",
      "61/61 [==============================] - 0s 98us/step - loss: 0.5679 - val_loss: 0.7296\n",
      "Epoch 6/20\n",
      "61/61 [==============================] - 0s 115us/step - loss: 0.5415 - val_loss: 0.7539\n",
      "Epoch 7/20\n",
      "61/61 [==============================] - 0s 92us/step - loss: 0.5291 - val_loss: 0.7445\n",
      "Epoch 8/20\n",
      "61/61 [==============================] - 0s 123us/step - loss: 0.5053 - val_loss: 0.7746\n",
      "Epoch 9/20\n",
      "61/61 [==============================] - 0s 85us/step - loss: 0.4968 - val_loss: 0.7912\n",
      "Epoch 10/20\n",
      "61/61 [==============================] - 0s 105us/step - loss: 0.4834 - val_loss: 0.8135\n",
      "Epoch 11/20\n",
      "61/61 [==============================] - 0s 97us/step - loss: 0.4670 - val_loss: 0.8383\n",
      "Epoch 12/20\n",
      "61/61 [==============================] - 0s 87us/step - loss: 0.4599 - val_loss: 0.8426\n",
      "Epoch 13/20\n",
      "61/61 [==============================] - 0s 88us/step - loss: 0.4487 - val_loss: 0.8327\n",
      "Epoch 14/20\n",
      "61/61 [==============================] - 0s 91us/step - loss: 0.4337 - val_loss: 0.8620\n",
      "Epoch 15/20\n",
      "61/61 [==============================] - 0s 93us/step - loss: 0.4196 - val_loss: 0.8894\n",
      "Epoch 16/20\n",
      "61/61 [==============================] - 0s 78us/step - loss: 0.4087 - val_loss: 0.9192\n",
      "Epoch 17/20\n",
      "61/61 [==============================] - 0s 82us/step - loss: 0.4005 - val_loss: 0.9291\n",
      "Epoch 18/20\n",
      "61/61 [==============================] - 0s 89us/step - loss: 0.3912 - val_loss: 0.9576\n",
      "Epoch 19/20\n",
      "61/61 [==============================] - 0s 102us/step - loss: 0.3781 - val_loss: 0.9935\n",
      "Epoch 20/20\n",
      "61/61 [==============================] - 0s 112us/step - loss: 0.3651 - val_loss: 1.0241\n",
      "1/1 [==============================] - 0s 541us/step\n",
      "_________________________________________________________________\n",
      "Layer (type)                 Output Shape              Param #   \n",
      "=================================================================\n",
      "flatten_2 (Flatten)          (None, 64)                0         \n",
      "_________________________________________________________________\n",
      "dense_3 (Dense)              (None, 32)                2080      \n",
      "_________________________________________________________________\n",
      "dense_4 (Dense)              (None, 1)                 33        \n",
      "=================================================================\n",
      "Total params: 2,113\n",
      "Trainable params: 2,113\n",
      "Non-trainable params: 0\n",
      "_________________________________________________________________\n",
      "None\n",
      "Train on 61 samples, validate on 29 samples\n",
      "Epoch 1/20\n",
      "61/61 [==============================] - 0s 3ms/step - loss: 0.9122 - val_loss: 1.0345\n",
      "Epoch 2/20\n",
      "61/61 [==============================] - 0s 112us/step - loss: 0.7754 - val_loss: 1.0081\n",
      "Epoch 3/20\n",
      "61/61 [==============================] - 0s 114us/step - loss: 0.6702 - val_loss: 0.9939\n",
      "Epoch 4/20\n",
      "61/61 [==============================] - 0s 95us/step - loss: 0.6077 - val_loss: 0.9821\n",
      "Epoch 5/20\n",
      "61/61 [==============================] - 0s 107us/step - loss: 0.5742 - val_loss: 0.9844\n",
      "Epoch 6/20\n",
      "61/61 [==============================] - 0s 93us/step - loss: 0.5490 - val_loss: 0.9481\n",
      "Epoch 7/20\n",
      "61/61 [==============================] - 0s 111us/step - loss: 0.5404 - val_loss: 0.9455\n",
      "Epoch 8/20\n",
      "61/61 [==============================] - 0s 92us/step - loss: 0.5163 - val_loss: 0.9442\n",
      "Epoch 9/20\n",
      "61/61 [==============================] - 0s 91us/step - loss: 0.5085 - val_loss: 0.9413\n",
      "Epoch 10/20\n",
      "61/61 [==============================] - 0s 91us/step - loss: 0.4860 - val_loss: 0.9507\n",
      "Epoch 11/20\n",
      "61/61 [==============================] - 0s 102us/step - loss: 0.4758 - val_loss: 0.9701\n",
      "Epoch 12/20\n",
      "61/61 [==============================] - 0s 110us/step - loss: 0.4651 - val_loss: 0.9729\n",
      "Epoch 13/20\n",
      "61/61 [==============================] - 0s 94us/step - loss: 0.4598 - val_loss: 0.9870\n",
      "Epoch 14/20\n",
      "61/61 [==============================] - 0s 83us/step - loss: 0.4474 - val_loss: 1.0136\n",
      "Epoch 15/20\n",
      "61/61 [==============================] - 0s 99us/step - loss: 0.4353 - val_loss: 1.0171\n",
      "Epoch 16/20\n",
      "61/61 [==============================] - 0s 85us/step - loss: 0.4266 - val_loss: 1.0502\n",
      "Epoch 17/20\n",
      "61/61 [==============================] - 0s 97us/step - loss: 0.4253 - val_loss: 1.0200\n",
      "Epoch 18/20\n",
      "61/61 [==============================] - 0s 87us/step - loss: 0.4105 - val_loss: 1.0367\n",
      "Epoch 19/20\n",
      "61/61 [==============================] - 0s 87us/step - loss: 0.4010 - val_loss: 1.0711\n",
      "Epoch 20/20\n",
      "61/61 [==============================] - 0s 104us/step - loss: 0.3936 - val_loss: 1.1010\n",
      "1/1 [==============================] - 0s 588us/step\n"
     ]
    }
   ],
   "source": [
    "for store_dept in multi_dict.keys():\n",
    "    model = Sequential()\n",
    "    model.add(layers.Flatten(input_shape=(lookback, multi_dict[store_dept]['X_train'].shape[-1])))\n",
    "    model.add(layers.Dense(32, activation='relu'))\n",
    "    model.add(layers.Dense(1))\n",
    "    print(model.summary())\n",
    "    model.compile(optimizer=RMSprop(), loss='mae')\n",
    "    history = model.fit(multi_dict[store_dept]['X_train'],\n",
    "                        multi_dict[store_dept]['y_train'],\n",
    "                        epochs=20,\n",
    "                        validation_data=(multi_dict[store_dept]['X_test'], multi_dict[store_dept]['y_test']))\n",
    "    multi_dict[store_dept]['2MLP'] = {}\n",
    "    multi_dict[store_dept]['2MLP']['model'] = model\n",
    "    multi_dict[store_dept]['2MLP']['history'] = history\n",
    "    multi_dict[store_dept]['2MLP']['score'] = model.evaluate(multi_dict[store_dept]['X_val'], multi_dict[store_dept]['y_val'])\n",
    "    multi_dict[store_dept]['2MLP']['prediction'] = multi_dict[store_dept]['y_scaler'].inverse_transform(model.predict(multi_dict[store_dept]['X_val']).reshape(-1, 1))[0][0]"
   ]
  },
  {
   "cell_type": "markdown",
   "metadata": {},
   "source": [
    "#### Simple GRU Model"
   ]
  },
  {
   "cell_type": "code",
   "execution_count": 79,
   "metadata": {},
   "outputs": [
    {
     "name": "stdout",
     "output_type": "stream",
     "text": [
      "_________________________________________________________________\n",
      "Layer (type)                 Output Shape              Param #   \n",
      "=================================================================\n",
      "gru_1 (GRU)                  (None, 32)                4704      \n",
      "_________________________________________________________________\n",
      "dense_5 (Dense)              (None, 1)                 33        \n",
      "=================================================================\n",
      "Total params: 4,737\n",
      "Trainable params: 4,737\n",
      "Non-trainable params: 0\n",
      "_________________________________________________________________\n",
      "None\n",
      "Train on 61 samples, validate on 29 samples\n",
      "Epoch 1/20\n",
      "61/61 [==============================] - 1s 14ms/step - loss: 1.1245 - val_loss: 0.6096\n",
      "Epoch 2/20\n",
      "61/61 [==============================] - 0s 249us/step - loss: 1.0000 - val_loss: 0.6532\n",
      "Epoch 3/20\n",
      "61/61 [==============================] - 0s 250us/step - loss: 0.9189 - val_loss: 0.6925\n",
      "Epoch 4/20\n",
      "61/61 [==============================] - 0s 245us/step - loss: 0.8574 - val_loss: 0.7274\n",
      "Epoch 5/20\n",
      "61/61 [==============================] - 0s 246us/step - loss: 0.8088 - val_loss: 0.7662\n",
      "Epoch 6/20\n",
      "61/61 [==============================] - 0s 234us/step - loss: 0.7702 - val_loss: 0.7893\n",
      "Epoch 7/20\n",
      "61/61 [==============================] - 0s 247us/step - loss: 0.7296 - val_loss: 0.8200\n",
      "Epoch 8/20\n",
      "61/61 [==============================] - 0s 254us/step - loss: 0.6969 - val_loss: 0.8443\n",
      "Epoch 9/20\n",
      "61/61 [==============================] - 0s 253us/step - loss: 0.6642 - val_loss: 0.8581\n",
      "Epoch 10/20\n",
      "61/61 [==============================] - 0s 234us/step - loss: 0.6314 - val_loss: 0.8727\n",
      "Epoch 11/20\n",
      "61/61 [==============================] - 0s 230us/step - loss: 0.6051 - val_loss: 0.8920\n",
      "Epoch 12/20\n",
      "61/61 [==============================] - 0s 251us/step - loss: 0.5820 - val_loss: 0.9117\n",
      "Epoch 13/20\n",
      "61/61 [==============================] - 0s 233us/step - loss: 0.5546 - val_loss: 0.9239\n",
      "Epoch 14/20\n",
      "61/61 [==============================] - 0s 217us/step - loss: 0.5321 - val_loss: 0.9410\n",
      "Epoch 15/20\n",
      "61/61 [==============================] - 0s 228us/step - loss: 0.5126 - val_loss: 0.9638\n",
      "Epoch 16/20\n",
      "61/61 [==============================] - 0s 221us/step - loss: 0.4965 - val_loss: 0.9712\n",
      "Epoch 17/20\n",
      "61/61 [==============================] - 0s 215us/step - loss: 0.4814 - val_loss: 0.9620\n",
      "Epoch 18/20\n",
      "61/61 [==============================] - 0s 221us/step - loss: 0.4706 - val_loss: 0.9498\n",
      "Epoch 19/20\n",
      "61/61 [==============================] - 0s 253us/step - loss: 0.4695 - val_loss: 0.9540\n",
      "Epoch 20/20\n",
      "61/61 [==============================] - 0s 247us/step - loss: 0.4645 - val_loss: 0.9360\n",
      "1/1 [==============================] - 0s 2ms/step\n",
      "_________________________________________________________________\n",
      "Layer (type)                 Output Shape              Param #   \n",
      "=================================================================\n",
      "gru_2 (GRU)                  (None, 32)                4704      \n",
      "_________________________________________________________________\n",
      "dense_6 (Dense)              (None, 1)                 33        \n",
      "=================================================================\n",
      "Total params: 4,737\n",
      "Trainable params: 4,737\n",
      "Non-trainable params: 0\n",
      "_________________________________________________________________\n",
      "None\n",
      "Train on 61 samples, validate on 29 samples\n",
      "Epoch 1/20\n",
      "61/61 [==============================] - 1s 15ms/step - loss: 0.6784 - val_loss: 1.2626\n",
      "Epoch 2/20\n",
      "61/61 [==============================] - 0s 260us/step - loss: 0.6201 - val_loss: 1.1753\n",
      "Epoch 3/20\n",
      "61/61 [==============================] - 0s 416us/step - loss: 0.5780 - val_loss: 1.1149\n",
      "Epoch 4/20\n",
      "61/61 [==============================] - 0s 226us/step - loss: 0.5484 - val_loss: 1.1091\n",
      "Epoch 5/20\n",
      "61/61 [==============================] - 0s 239us/step - loss: 0.5307 - val_loss: 1.0208\n",
      "Epoch 6/20\n",
      "61/61 [==============================] - 0s 242us/step - loss: 0.5161 - val_loss: 1.0138\n",
      "Epoch 7/20\n",
      "61/61 [==============================] - 0s 225us/step - loss: 0.4989 - val_loss: 0.9487\n",
      "Epoch 8/20\n",
      "61/61 [==============================] - 0s 228us/step - loss: 0.4866 - val_loss: 0.9271\n",
      "Epoch 9/20\n",
      "61/61 [==============================] - 0s 227us/step - loss: 0.4724 - val_loss: 0.8619\n",
      "Epoch 10/20\n",
      "61/61 [==============================] - 0s 227us/step - loss: 0.4592 - val_loss: 0.8171\n",
      "Epoch 11/20\n",
      "61/61 [==============================] - 0s 228us/step - loss: 0.4527 - val_loss: 0.7560\n",
      "Epoch 12/20\n",
      "61/61 [==============================] - 0s 262us/step - loss: 0.4466 - val_loss: 0.7659\n",
      "Epoch 13/20\n",
      "61/61 [==============================] - 0s 222us/step - loss: 0.4452 - val_loss: 0.7522\n",
      "Epoch 14/20\n",
      "61/61 [==============================] - 0s 236us/step - loss: 0.4373 - val_loss: 0.7498\n",
      "Epoch 15/20\n",
      "61/61 [==============================] - 0s 245us/step - loss: 0.4412 - val_loss: 0.7403\n",
      "Epoch 16/20\n",
      "61/61 [==============================] - 0s 228us/step - loss: 0.4352 - val_loss: 0.7357\n",
      "Epoch 17/20\n",
      "61/61 [==============================] - 0s 224us/step - loss: 0.4289 - val_loss: 0.7161\n",
      "Epoch 18/20\n",
      "61/61 [==============================] - 0s 232us/step - loss: 0.4257 - val_loss: 0.6988\n",
      "Epoch 19/20\n",
      "61/61 [==============================] - 0s 216us/step - loss: 0.4221 - val_loss: 0.6660\n",
      "Epoch 20/20\n",
      "61/61 [==============================] - 0s 245us/step - loss: 0.4173 - val_loss: 0.6889\n",
      "1/1 [==============================] - 0s 2ms/step\n"
     ]
    }
   ],
   "source": [
    "for store_dept in multi_dict.keys():\n",
    "    model = Sequential()\n",
    "    model.add(layers.GRU(32, input_shape=(None, multi_dict[store_dept]['X_train'].shape[-1])))\n",
    "    model.add(layers.Dense(1))\n",
    "    print(model.summary())\n",
    "    model.compile(optimizer=RMSprop(), loss='mae')\n",
    "    history = model.fit(multi_dict[store_dept]['X_train'],\n",
    "                        multi_dict[store_dept]['y_train'],\n",
    "                        epochs=20,\n",
    "                        validation_data=(multi_dict[store_dept]['X_test'], multi_dict[store_dept]['y_test']))\n",
    "    multi_dict[store_dept]['GRU'] = {}\n",
    "    multi_dict[store_dept]['GRU']['model'] = model\n",
    "    multi_dict[store_dept]['GRU']['history'] = history\n",
    "    multi_dict[store_dept]['GRU']['score'] = model.evaluate(multi_dict[store_dept]['X_val'], multi_dict[store_dept]['y_val'])\n",
    "    multi_dict[store_dept]['GRU']['prediction'] = multi_dict[store_dept]['y_scaler'].inverse_transform(model.predict(multi_dict[store_dept]['X_val']).reshape(-1, 1))[0][0]"
   ]
  },
  {
   "cell_type": "markdown",
   "metadata": {},
   "source": [
    "#### GRU with Dropout"
   ]
  },
  {
   "cell_type": "markdown",
   "metadata": {},
   "source": [
    "Einen Dropout einzuführen sieht auf den ersten Blick sinnlos aus, wenn man bedenkt, dass uns nur 100 Datensätze zur Verfügung stehen. Inwieweit diese Befürchtungen gerechtfertigt sind, wird man in der Evaluation sehen."
   ]
  },
  {
   "cell_type": "code",
   "execution_count": 86,
   "metadata": {},
   "outputs": [
    {
     "name": "stdout",
     "output_type": "stream",
     "text": [
      "_________________________________________________________________\n",
      "Layer (type)                 Output Shape              Param #   \n",
      "=================================================================\n",
      "gru_3 (GRU)                  (None, 32)                4704      \n",
      "_________________________________________________________________\n",
      "dense_7 (Dense)              (None, 1)                 33        \n",
      "=================================================================\n",
      "Total params: 4,737\n",
      "Trainable params: 4,737\n",
      "Non-trainable params: 0\n",
      "_________________________________________________________________\n",
      "None\n",
      "Train on 61 samples, validate on 29 samples\n",
      "Epoch 1/20\n",
      "61/61 [==============================] - 1s 18ms/step - loss: 0.7515 - val_loss: 0.5137\n",
      "Epoch 2/20\n",
      "61/61 [==============================] - 0s 252us/step - loss: 0.6735 - val_loss: 0.5232\n",
      "Epoch 3/20\n",
      "61/61 [==============================] - 0s 238us/step - loss: 0.6412 - val_loss: 0.5611\n",
      "Epoch 4/20\n",
      "61/61 [==============================] - 0s 237us/step - loss: 0.5952 - val_loss: 0.5792\n",
      "Epoch 5/20\n",
      "61/61 [==============================] - 0s 224us/step - loss: 0.5771 - val_loss: 0.6059\n",
      "Epoch 6/20\n",
      "61/61 [==============================] - 0s 227us/step - loss: 0.5647 - val_loss: 0.6462\n",
      "Epoch 7/20\n",
      "61/61 [==============================] - 0s 243us/step - loss: 0.5288 - val_loss: 0.6728\n",
      "Epoch 8/20\n",
      "61/61 [==============================] - 0s 228us/step - loss: 0.5247 - val_loss: 0.7046\n",
      "Epoch 9/20\n",
      "61/61 [==============================] - 0s 233us/step - loss: 0.5211 - val_loss: 0.7500\n",
      "Epoch 10/20\n",
      "61/61 [==============================] - 0s 219us/step - loss: 0.5090 - val_loss: 0.7374\n",
      "Epoch 11/20\n",
      "61/61 [==============================] - 0s 318us/step - loss: 0.4949 - val_loss: 0.7404\n",
      "Epoch 12/20\n",
      "61/61 [==============================] - 0s 323us/step - loss: 0.4814 - val_loss: 0.7504\n",
      "Epoch 13/20\n",
      "61/61 [==============================] - 0s 294us/step - loss: 0.5175 - val_loss: 0.7924\n",
      "Epoch 14/20\n",
      "61/61 [==============================] - 0s 291us/step - loss: 0.4983 - val_loss: 0.8085\n",
      "Epoch 15/20\n",
      "61/61 [==============================] - 0s 268us/step - loss: 0.4938 - val_loss: 0.8156\n",
      "Epoch 16/20\n",
      "61/61 [==============================] - 0s 254us/step - loss: 0.5003 - val_loss: 0.8005\n",
      "Epoch 17/20\n",
      "61/61 [==============================] - 0s 252us/step - loss: 0.4628 - val_loss: 0.8059\n",
      "Epoch 18/20\n",
      "61/61 [==============================] - 0s 244us/step - loss: 0.4645 - val_loss: 0.8093\n",
      "Epoch 19/20\n",
      "61/61 [==============================] - 0s 249us/step - loss: 0.4718 - val_loss: 0.8197\n",
      "Epoch 20/20\n",
      "61/61 [==============================] - 0s 230us/step - loss: 0.4824 - val_loss: 0.8309\n",
      "1/1 [==============================] - 0s 2ms/step\n",
      "_________________________________________________________________\n",
      "Layer (type)                 Output Shape              Param #   \n",
      "=================================================================\n",
      "gru_4 (GRU)                  (None, 32)                4704      \n",
      "_________________________________________________________________\n",
      "dense_8 (Dense)              (None, 1)                 33        \n",
      "=================================================================\n",
      "Total params: 4,737\n",
      "Trainable params: 4,737\n",
      "Non-trainable params: 0\n",
      "_________________________________________________________________\n",
      "None\n",
      "Train on 61 samples, validate on 29 samples\n",
      "Epoch 1/20\n",
      "61/61 [==============================] - 1s 18ms/step - loss: 0.8569 - val_loss: 1.2519\n",
      "Epoch 2/20\n",
      "61/61 [==============================] - 0s 261us/step - loss: 0.7680 - val_loss: 1.1455\n",
      "Epoch 3/20\n",
      "61/61 [==============================] - 0s 278us/step - loss: 0.7100 - val_loss: 1.1800\n",
      "Epoch 4/20\n",
      "61/61 [==============================] - 0s 261us/step - loss: 0.6813 - val_loss: 1.1320\n",
      "Epoch 5/20\n",
      "61/61 [==============================] - 0s 249us/step - loss: 0.6734 - val_loss: 1.1730\n",
      "Epoch 6/20\n",
      "61/61 [==============================] - 0s 232us/step - loss: 0.6256 - val_loss: 1.0559\n",
      "Epoch 7/20\n",
      "61/61 [==============================] - 0s 294us/step - loss: 0.6259 - val_loss: 1.0352\n",
      "Epoch 8/20\n",
      "61/61 [==============================] - 0s 312us/step - loss: 0.6070 - val_loss: 0.9357\n",
      "Epoch 9/20\n",
      "61/61 [==============================] - 0s 350us/step - loss: 0.6205 - val_loss: 0.9260\n",
      "Epoch 10/20\n",
      "61/61 [==============================] - 0s 252us/step - loss: 0.5867 - val_loss: 0.9011\n",
      "Epoch 11/20\n",
      "61/61 [==============================] - 0s 248us/step - loss: 0.5929 - val_loss: 0.8817\n",
      "Epoch 12/20\n",
      "61/61 [==============================] - 0s 251us/step - loss: 0.5988 - val_loss: 0.8594\n",
      "Epoch 13/20\n",
      "61/61 [==============================] - 0s 232us/step - loss: 0.5714 - val_loss: 0.8663\n",
      "Epoch 14/20\n",
      "61/61 [==============================] - 0s 233us/step - loss: 0.5209 - val_loss: 0.7871\n",
      "Epoch 15/20\n",
      "61/61 [==============================] - 0s 268us/step - loss: 0.5390 - val_loss: 0.7627\n",
      "Epoch 16/20\n",
      "61/61 [==============================] - 0s 238us/step - loss: 0.5356 - val_loss: 0.7390\n",
      "Epoch 17/20\n",
      "61/61 [==============================] - 0s 247us/step - loss: 0.5429 - val_loss: 0.7471\n",
      "Epoch 18/20\n",
      "61/61 [==============================] - 0s 361us/step - loss: 0.5376 - val_loss: 0.7100\n",
      "Epoch 19/20\n",
      "61/61 [==============================] - 0s 619us/step - loss: 0.5344 - val_loss: 0.6828\n",
      "Epoch 20/20\n",
      "61/61 [==============================] - 0s 219us/step - loss: 0.5263 - val_loss: 0.7255\n",
      "1/1 [==============================] - 0s 2ms/step\n"
     ]
    }
   ],
   "source": [
    "for store_dept in multi_dict.keys():\n",
    "    model = Sequential()\n",
    "    model.add(layers.GRU(32, dropout=0.2, recurrent_dropout=0.2, input_shape=(None, multi_dict[store_dept]['X_train'].shape[-1])))\n",
    "    model.add(layers.Dense(1))\n",
    "    print(model.summary())\n",
    "    model.compile(optimizer=RMSprop(), loss='mae')\n",
    "    history = model.fit(multi_dict[store_dept]['X_train'],\n",
    "                        multi_dict[store_dept]['y_train'],\n",
    "                        epochs=20,\n",
    "                        validation_data=(multi_dict[store_dept]['X_test'], multi_dict[store_dept]['y_test']))\n",
    "    multi_dict[store_dept]['GRU_drop'] = {}\n",
    "    multi_dict[store_dept]['GRU_drop']['model'] = model\n",
    "    multi_dict[store_dept]['GRU_drop']['history'] = history\n",
    "    multi_dict[store_dept]['GRU_drop']['score'] = model.evaluate(multi_dict[store_dept]['X_val'], multi_dict[store_dept]['y_val'])\n",
    "    multi_dict[store_dept]['GRU_drop']['prediction'] = multi_dict[store_dept]['y_scaler'].inverse_transform(model.predict(multi_dict[store_dept]['X_val']).reshape(-1, 1))[0][0]"
   ]
  },
  {
   "cell_type": "markdown",
   "metadata": {},
   "source": [
    "#### Stacked GRU"
   ]
  },
  {
   "cell_type": "code",
   "execution_count": 89,
   "metadata": {},
   "outputs": [
    {
     "name": "stdout",
     "output_type": "stream",
     "text": [
      "_________________________________________________________________\n",
      "Layer (type)                 Output Shape              Param #   \n",
      "=================================================================\n",
      "gru_5 (GRU)                  (None, None, 32)          4704      \n",
      "_________________________________________________________________\n",
      "gru_6 (GRU)                  (None, 64)                18624     \n",
      "_________________________________________________________________\n",
      "dense_9 (Dense)              (None, 1)                 65        \n",
      "=================================================================\n",
      "Total params: 23,393\n",
      "Trainable params: 23,393\n",
      "Non-trainable params: 0\n",
      "_________________________________________________________________\n",
      "None\n",
      "Train on 61 samples, validate on 29 samples\n",
      "Epoch 1/20\n",
      "61/61 [==============================] - 2s 35ms/step - loss: 0.7393 - val_loss: 0.8580\n",
      "Epoch 2/20\n",
      "61/61 [==============================] - 0s 403us/step - loss: 0.6502 - val_loss: 0.8450\n",
      "Epoch 3/20\n",
      "61/61 [==============================] - 0s 398us/step - loss: 0.6141 - val_loss: 0.8622\n",
      "Epoch 4/20\n",
      "61/61 [==============================] - 0s 394us/step - loss: 0.5558 - val_loss: 0.8253\n",
      "Epoch 5/20\n",
      "61/61 [==============================] - 0s 401us/step - loss: 0.5364 - val_loss: 0.8396\n",
      "Epoch 6/20\n",
      "61/61 [==============================] - 0s 388us/step - loss: 0.5500 - val_loss: 0.8514\n",
      "Epoch 7/20\n",
      "61/61 [==============================] - 0s 390us/step - loss: 0.5071 - val_loss: 0.8395\n",
      "Epoch 8/20\n",
      "61/61 [==============================] - 0s 391us/step - loss: 0.5112 - val_loss: 0.8338\n",
      "Epoch 9/20\n",
      "61/61 [==============================] - 0s 449us/step - loss: 0.4903 - val_loss: 0.8475\n",
      "Epoch 10/20\n",
      "61/61 [==============================] - 0s 614us/step - loss: 0.4851 - val_loss: 0.8425\n",
      "Epoch 11/20\n",
      "61/61 [==============================] - 0s 430us/step - loss: 0.5064 - val_loss: 0.8324\n",
      "Epoch 12/20\n",
      "61/61 [==============================] - 0s 436us/step - loss: 0.5055 - val_loss: 0.8186\n",
      "Epoch 13/20\n",
      "61/61 [==============================] - 0s 413us/step - loss: 0.4910 - val_loss: 0.8348\n",
      "Epoch 14/20\n",
      "61/61 [==============================] - 0s 414us/step - loss: 0.4832 - val_loss: 0.8295\n",
      "Epoch 15/20\n",
      "61/61 [==============================] - 0s 433us/step - loss: 0.4861 - val_loss: 0.8330\n",
      "Epoch 16/20\n",
      "61/61 [==============================] - 0s 406us/step - loss: 0.4598 - val_loss: 0.8237\n",
      "Epoch 17/20\n",
      "61/61 [==============================] - 0s 440us/step - loss: 0.4520 - val_loss: 0.8244\n",
      "Epoch 18/20\n",
      "61/61 [==============================] - 0s 391us/step - loss: 0.4591 - val_loss: 0.8291\n",
      "Epoch 19/20\n",
      "61/61 [==============================] - 0s 697us/step - loss: 0.4575 - val_loss: 0.8365\n",
      "Epoch 20/20\n",
      "61/61 [==============================] - 0s 594us/step - loss: 0.4495 - val_loss: 0.8317\n",
      "1/1 [==============================] - 0s 5ms/step\n",
      "_________________________________________________________________\n",
      "Layer (type)                 Output Shape              Param #   \n",
      "=================================================================\n",
      "gru_7 (GRU)                  (None, None, 32)          4704      \n",
      "_________________________________________________________________\n",
      "gru_8 (GRU)                  (None, 64)                18624     \n",
      "_________________________________________________________________\n",
      "dense_10 (Dense)             (None, 1)                 65        \n",
      "=================================================================\n",
      "Total params: 23,393\n",
      "Trainable params: 23,393\n",
      "Non-trainable params: 0\n",
      "_________________________________________________________________\n",
      "None\n",
      "Train on 61 samples, validate on 29 samples\n",
      "Epoch 1/20\n",
      "61/61 [==============================] - 3s 42ms/step - loss: 0.7671 - val_loss: 0.6393\n",
      "Epoch 2/20\n",
      "61/61 [==============================] - 0s 488us/step - loss: 0.6938 - val_loss: 0.6024\n",
      "Epoch 3/20\n",
      "61/61 [==============================] - 0s 454us/step - loss: 0.6228 - val_loss: 0.5875\n",
      "Epoch 4/20\n",
      "61/61 [==============================] - 0s 460us/step - loss: 0.5902 - val_loss: 0.5354\n",
      "Epoch 5/20\n",
      "61/61 [==============================] - 0s 541us/step - loss: 0.5569 - val_loss: 0.5381\n",
      "Epoch 6/20\n",
      "61/61 [==============================] - 0s 584us/step - loss: 0.5226 - val_loss: 0.5121\n",
      "Epoch 7/20\n",
      "61/61 [==============================] - 0s 463us/step - loss: 0.5109 - val_loss: 0.5119\n",
      "Epoch 8/20\n",
      "61/61 [==============================] - 0s 454us/step - loss: 0.5315 - val_loss: 0.5355\n",
      "Epoch 9/20\n",
      "61/61 [==============================] - 0s 455us/step - loss: 0.5239 - val_loss: 0.5072\n",
      "Epoch 10/20\n",
      "61/61 [==============================] - 0s 435us/step - loss: 0.5027 - val_loss: 0.5161\n",
      "Epoch 11/20\n",
      "61/61 [==============================] - 0s 485us/step - loss: 0.5130 - val_loss: 0.5374\n",
      "Epoch 12/20\n",
      "61/61 [==============================] - 0s 677us/step - loss: 0.4960 - val_loss: 0.5368\n",
      "Epoch 13/20\n",
      "61/61 [==============================] - 0s 647us/step - loss: 0.5010 - val_loss: 0.5105\n",
      "Epoch 14/20\n",
      "61/61 [==============================] - 0s 473us/step - loss: 0.4979 - val_loss: 0.5586\n",
      "Epoch 15/20\n",
      "61/61 [==============================] - 0s 410us/step - loss: 0.4783 - val_loss: 0.5796\n",
      "Epoch 16/20\n",
      "61/61 [==============================] - 0s 428us/step - loss: 0.4960 - val_loss: 0.5675\n",
      "Epoch 17/20\n",
      "61/61 [==============================] - 0s 419us/step - loss: 0.4966 - val_loss: 0.6337\n",
      "Epoch 18/20\n",
      "61/61 [==============================] - 0s 504us/step - loss: 0.4833 - val_loss: 0.6170\n",
      "Epoch 19/20\n",
      "61/61 [==============================] - 0s 585us/step - loss: 0.4804 - val_loss: 0.6276\n",
      "Epoch 20/20\n",
      "61/61 [==============================] - 0s 628us/step - loss: 0.4624 - val_loss: 0.6493\n",
      "1/1 [==============================] - 0s 3ms/step\n"
     ]
    }
   ],
   "source": [
    "for store_dept in multi_dict.keys():\n",
    "    model = Sequential()\n",
    "    model.add(layers.GRU(32, dropout=0.1, recurrent_dropout=0.5, return_sequences=True, input_shape=(None, multi_dict[store_dept]['X_train'].shape[-1])))\n",
    "    model.add(layers.GRU(64, activation='relu', dropout=0.1, recurrent_dropout=0.5))\n",
    "    model.add(layers.Dense(1))\n",
    "    print(model.summary())\n",
    "    model.compile(optimizer=RMSprop(), loss='mae')\n",
    "    history = model.fit(multi_dict[store_dept]['X_train'],\n",
    "                        multi_dict[store_dept]['y_train'],\n",
    "                        epochs=20,\n",
    "                        validation_data=(multi_dict[store_dept]['X_test'], multi_dict[store_dept]['y_test']))\n",
    "    multi_dict[store_dept]['GRU_stack'] = {}\n",
    "    multi_dict[store_dept]['GRU_stack']['model'] = model\n",
    "    multi_dict[store_dept]['GRU_stack']['history'] = history\n",
    "    multi_dict[store_dept]['GRU_stack']['score'] = model.evaluate(multi_dict[store_dept]['X_val'], multi_dict[store_dept]['y_val'])\n",
    "    multi_dict[store_dept]['GRU_stack']['prediction'] = multi_dict[store_dept]['y_scaler'].inverse_transform(model.predict(multi_dict[store_dept]['X_val']).reshape(-1, 1))[0][0]"
   ]
  },
  {
   "cell_type": "markdown",
   "metadata": {},
   "source": [
    "### Evaluation der Modelle"
   ]
  },
  {
   "cell_type": "markdown",
   "metadata": {},
   "source": [
    "Im Folgenden sollen die Ergebnisse der Modelle geplottet werden."
   ]
  },
  {
   "cell_type": "code",
   "execution_count": 80,
   "metadata": {},
   "outputs": [],
   "source": [
    "def plot_model_results(model_results, prediction_goal):  \n",
    "    loss = model_results['history'].history['loss']\n",
    "    val_loss = model_results['history'].history['val_loss']\n",
    "    min_val_loss=np.min(val_loss)\n",
    "    epochs = range(1, len(loss) + 1)\n",
    "    plt.figure()\n",
    "    plt.plot(epochs[1:], loss[1:], 'bo', label='Training loss')\n",
    "    plt.plot(epochs[1:], val_loss[1:], 'b', label='Validation loss')\n",
    "    plt.title('Training and validation loss')\n",
    "    plt.legend()\n",
    "    plt.show()\n",
    "    print('Minimun loss on validation data:\\t{}'.format(min_val_loss))\n",
    "    print('Model score:\\t\\t\\t\\t{}'.format(model_results['score']))\n",
    "    print('Prediction Goal:\\t\\t\\t{}'.format(prediction_goal))\n",
    "    print('Prediction result:\\t\\t\\t{}'.format(model_results['prediction']))\n",
    "    print('Absolute error:\\t\\t\\t\\t{}'.format(model_results['prediction'] - prediction_goal))"
   ]
  },
  {
   "cell_type": "markdown",
   "metadata": {},
   "source": [
    "#### 2 Layer Perceptron"
   ]
  },
  {
   "cell_type": "code",
   "execution_count": 81,
   "metadata": {},
   "outputs": [
    {
     "data": {
      "image/png": "[encoded data removed]",
      "text/plain": [
       "<matplotlib.figure.Figure at 0x1a3553a780>"
      ]
     },
     "metadata": {},
     "output_type": "display_data"
    },
    {
     "name": "stdout",
     "output_type": "stream",
     "text": [
      "Minimun loss on validation data:\t0.6165973544120789\n",
      "Model score:\t\t\t\t1.535421371459961\n",
      "Prediction Goal:\t\t\t46788.75\n",
      "Prediction result:\t\t\t63349.5078125\n",
      "Absolute error:\t\t\t\t16560.7578125\n"
     ]
    }
   ],
   "source": [
    "plot_model_results(multi_dict['1_1']['2MLP'], multi_dict['1_1']['prediction_goal'])"
   ]
  },
  {
   "cell_type": "code",
   "execution_count": 82,
   "metadata": {},
   "outputs": [
    {
     "data": {
      "image/png": "[encoded data removed]",
      "text/plain": [
       "<matplotlib.figure.Figure at 0x1a33f12f98>"
      ]
     },
     "metadata": {},
     "output_type": "display_data"
    },
    {
     "name": "stdout",
     "output_type": "stream",
     "text": [
      "Minimun loss on validation data:\t0.9412902593612671\n",
      "Model score:\t\t\t\t0.6049635410308838\n",
      "Prediction Goal:\t\t\t75779.45\n",
      "Prediction result:\t\t\t66202.6171875\n",
      "Absolute error:\t\t\t\t-9576.832812499997\n"
     ]
    }
   ],
   "source": [
    "plot_model_results(multi_dict['2_1']['2MLP'], multi_dict['2_1']['prediction_goal'])"
   ]
  },
  {
   "cell_type": "markdown",
   "metadata": {},
   "source": [
    "#### Simple GRU"
   ]
  },
  {
   "cell_type": "code",
   "execution_count": 83,
   "metadata": {},
   "outputs": [
    {
     "data": {
      "image/png": "[encoded data removed]",
      "text/plain": [
       "<matplotlib.figure.Figure at 0x1a357bacf8>"
      ]
     },
     "metadata": {},
     "output_type": "display_data"
    },
    {
     "name": "stdout",
     "output_type": "stream",
     "text": [
      "Minimun loss on validation data:\t0.6096208691596985\n",
      "Model score:\t\t\t\t1.234957218170166\n",
      "Prediction Goal:\t\t\t46788.75\n",
      "Prediction result:\t\t\t33468.73828125\n",
      "Absolute error:\t\t\t\t-13320.01171875\n"
     ]
    }
   ],
   "source": [
    "plot_model_results(multi_dict['1_1']['GRU'], multi_dict['1_1']['prediction_goal'])"
   ]
  },
  {
   "cell_type": "code",
   "execution_count": 84,
   "metadata": {},
   "outputs": [
    {
     "data": {
      "image/png": "[encoded data removed]",
      "text/plain": [
       "<matplotlib.figure.Figure at 0x1a35878828>"
      ]
     },
     "metadata": {},
     "output_type": "display_data"
    },
    {
     "name": "stdout",
     "output_type": "stream",
     "text": [
      "Minimun loss on validation data:\t0.6659737825393677\n",
      "Model score:\t\t\t\t1.6744093894958496\n",
      "Prediction Goal:\t\t\t75779.45\n",
      "Prediction result:\t\t\t49272.82421875\n",
      "Absolute error:\t\t\t\t-26506.625781249997\n"
     ]
    }
   ],
   "source": [
    "plot_model_results(multi_dict['2_1']['GRU'], multi_dict['2_1']['prediction_goal'])"
   ]
  },
  {
   "cell_type": "markdown",
   "metadata": {},
   "source": [
    "#### GRU with Dropout"
   ]
  },
  {
   "cell_type": "code",
   "execution_count": 87,
   "metadata": {},
   "outputs": [
    {
     "data": {
      "image/png": "[encoded data removed]",
      "text/plain": [
       "<matplotlib.figure.Figure at 0x1a341fec88>"
      ]
     },
     "metadata": {},
     "output_type": "display_data"
    },
    {
     "name": "stdout",
     "output_type": "stream",
     "text": [
      "Minimun loss on validation data:\t0.5137072801589966\n",
      "Model score:\t\t\t\t0.49395644664764404\n",
      "Prediction Goal:\t\t\t46788.75\n",
      "Prediction result:\t\t\t41461.03125\n",
      "Absolute error:\t\t\t\t-5327.71875\n"
     ]
    }
   ],
   "source": [
    "plot_model_results(multi_dict['1_1']['GRU_drop'], multi_dict['1_1']['prediction_goal'])"
   ]
  },
  {
   "cell_type": "code",
   "execution_count": 88,
   "metadata": {},
   "outputs": [
    {
     "data": {
      "image/png": "[encoded data removed]",
      "text/plain": [
       "<matplotlib.figure.Figure at 0x1a3bdcfba8>"
      ]
     },
     "metadata": {},
     "output_type": "display_data"
    },
    {
     "name": "stdout",
     "output_type": "stream",
     "text": [
      "Minimun loss on validation data:\t0.6827981472015381\n",
      "Model score:\t\t\t\t2.5194270610809326\n",
      "Prediction Goal:\t\t\t75779.45\n",
      "Prediction result:\t\t\t35895.828125\n",
      "Absolute error:\t\t\t\t-39883.621875\n"
     ]
    }
   ],
   "source": [
    "plot_model_results(multi_dict['2_1']['GRU_drop'], multi_dict['2_1']['prediction_goal'])"
   ]
  },
  {
   "cell_type": "markdown",
   "metadata": {},
   "source": [
    "#### Stacked GRU"
   ]
  },
  {
   "cell_type": "code",
   "execution_count": 90,
   "metadata": {},
   "outputs": [
    {
     "data": {
      "image/png": "[encoded data removed]",
      "text/plain": [
       "<matplotlib.figure.Figure at 0x1a3be1d2e8>"
      ]
     },
     "metadata": {},
     "output_type": "display_data"
    },
    {
     "name": "stdout",
     "output_type": "stream",
     "text": [
      "Minimun loss on validation data:\t0.8186075091362\n",
      "Model score:\t\t\t\t1.258687973022461\n",
      "Prediction Goal:\t\t\t46788.75\n",
      "Prediction result:\t\t\t33212.78515625\n",
      "Absolute error:\t\t\t\t-13575.96484375\n"
     ]
    }
   ],
   "source": [
    "plot_model_results(multi_dict['1_1']['GRU_stack'], multi_dict['1_1']['prediction_goal'])"
   ]
  },
  {
   "cell_type": "code",
   "execution_count": 91,
   "metadata": {},
   "outputs": [
    {
     "data": {
      "image/png": "[encoded data removed]",
      "text/plain": [
       "<matplotlib.figure.Figure at 0x1a40601048>"
      ]
     },
     "metadata": {},
     "output_type": "display_data"
    },
    {
     "name": "stdout",
     "output_type": "stream",
     "text": [
      "Minimun loss on validation data:\t0.5071901679039001\n",
      "Model score:\t\t\t\t1.6131937503814697\n",
      "Prediction Goal:\t\t\t75779.45\n",
      "Prediction result:\t\t\t50241.89453125\n",
      "Absolute error:\t\t\t\t-25537.555468749997\n"
     ]
    }
   ],
   "source": [
    "plot_model_results(multi_dict['2_1']['GRU_stack'], multi_dict['2_1']['prediction_goal'])"
   ]
  },
  {
   "cell_type": "markdown",
   "metadata": {},
   "source": [
    "#### Beurteilung und Schlussfolgerungen"
   ]
  },
  {
   "cell_type": "markdown",
   "metadata": {},
   "source": [
    "+ Die Modelle sehen leider bei jedem Durchlauf mit identischen Einstellungen komplett unterschiedlich aus.\n",
    "    + Wenn ein Modell einmal ein gutes Ergebnis liefert, dann nur durch Zufall.\n",
    "+ Eine Änderung der Epochen hat keinerlei sinnvolle Auswirkungen.\n",
    "+ Verschiedene Modelle lassen sich nicht miteinander vergleichen.\n",
    "+ Wir gehen davon aus, dass wir mit genau 100 Samples für Training und Test zu wenig Daten für ein sinnvolles Training zur Verfügung haben.\n",
    "\n",
    "Ein Rückschritt zur Data Preparation scheint angebracht zu sein, um eventuell mithilfe von Regression mit Bäumen bessere Ergebnisse zu erzielen."
   ]
  },
  {
   "cell_type": "markdown",
   "metadata": {},
   "source": [
    "## DATA PREPARATION: Tree Approach"
   ]
  },
  {
   "cell_type": "markdown",
   "metadata": {},
   "source": [
    "### Dictionary bauen"
   ]
  },
  {
   "cell_type": "code",
   "execution_count": 92,
   "metadata": {},
   "outputs": [],
   "source": [
    "tree_dict = {}"
   ]
  },
  {
   "cell_type": "markdown",
   "metadata": {},
   "source": [
    "Die Schlüssel für die erste Ebene anlegen  \n",
    "__HIER IST DIE WEICHE FÜR STORE_DEPT-Kombos__"
   ]
  },
  {
   "cell_type": "raw",
   "metadata": {},
   "source": [
    "for store_dept in set(merged_all_df.Store_Dept.tolist()):\n",
    "    tree_dict[store_dept] = {}\n",
    "print(len(tree_dict))"
   ]
  },
  {
   "cell_type": "markdown",
   "metadata": {},
   "source": [
    "Damit die Prüfungen im weiteren Verlauf alle funktionieren, __MUSS__ die Store-Department-Kombination ```1_1``` __IMMER__ enthalten sein!"
   ]
  },
  {
   "cell_type": "code",
   "execution_count": 93,
   "metadata": {},
   "outputs": [
    {
     "name": "stdout",
     "output_type": "stream",
     "text": [
      "1\n"
     ]
    }
   ],
   "source": [
    "store_dept_subgroup = ['1_1']\n",
    "\n",
    "for store_dept in store_dept_subgroup:\n",
    "    tree_dict[store_dept] = {}\n",
    "print(len(tree_dict))"
   ]
  },
  {
   "cell_type": "markdown",
   "metadata": {},
   "source": [
    "### Split Datasets"
   ]
  },
  {
   "cell_type": "markdown",
   "metadata": {},
   "source": [
    "#### Validation je Store und Department"
   ]
  },
  {
   "cell_type": "markdown",
   "metadata": {},
   "source": [
    "<img src=\"./media/calendar_tree.jpg\" width=\"500\"/>"
   ]
  },
  {
   "cell_type": "code",
   "execution_count": 94,
   "metadata": {},
   "outputs": [
    {
     "data": {
      "text/plain": [
       "Timestamp('2011-12-23 00:00:00')"
      ]
     },
     "execution_count": 94,
     "metadata": {},
     "output_type": "execute_result"
    }
   ],
   "source": [
    "merged_all_for_tree_df.Date.max()"
   ]
  },
  {
   "cell_type": "code",
   "execution_count": 95,
   "metadata": {},
   "outputs": [
    {
     "data": {
      "text/plain": [
       "Store                                 1\n",
       "Dept                                  1\n",
       "Date                2011-12-16 00:00:00\n",
       "Weekly_Sales                    46788.8\n",
       "days_2_xmas                           9\n",
       "nw_black_friday                       0\n",
       "nw_new_year                           0\n",
       "nw_xmas_1st_week                      0\n",
       "nw_xmas_2nd_week                      0\n",
       "nw_xmas_3rd_week                      0\n",
       "nw_xmas_4th_week                      1\n",
       "Fuel_Price                        3.159\n",
       "CPI                             219.179\n",
       "Unemployment                      7.866\n",
       "IsHoliday                             0\n",
       "Temperature_C                     10.91\n",
       "Size                             151315\n",
       "type_A                                1\n",
       "type_B                                0\n",
       "type_C                                0\n",
       "Store_Dept                          1_1\n",
       "Name: 6950, dtype: object"
      ]
     },
     "execution_count": 95,
     "metadata": {},
     "output_type": "execute_result"
    }
   ],
   "source": [
    "for store_dept in tree_dict.keys():\n",
    "    tmp = merged_all_for_tree_df[merged_all_for_tree_df.Store_Dept == store_dept].iloc[-2:]\n",
    "    tmp.Weekly_Sales = tmp.Weekly_Sales.shift(periods=-1)\n",
    "    tree_dict[store_dept]['val_data_df'] = tmp.iloc[0]\n",
    "    \n",
    "tree_dict['1_1']['val_data_df']"
   ]
  },
  {
   "cell_type": "markdown",
   "metadata": {},
   "source": [
    "#### Train-Test-Daten je Store und Department"
   ]
  },
  {
   "cell_type": "code",
   "execution_count": 96,
   "metadata": {},
   "outputs": [],
   "source": [
    "for store_dept in tree_dict.keys():\n",
    "    tmp = restructure_df_for_target_variable(merged_all_for_tree_df[(merged_all_for_tree_df.Store_Dept == store_dept)])\n",
    "    tmp.Weekly_Sales = tmp.Weekly_Sales.shift(periods=-1)\n",
    "    tree_dict[store_dept]['train_test_df'] = tmp.iloc[:-2]"
   ]
  },
  {
   "cell_type": "code",
   "execution_count": 97,
   "metadata": {},
   "outputs": [
    {
     "data": {
      "text/plain": [
       "dict_keys(['val_data_df', 'train_test_df'])"
      ]
     },
     "execution_count": 97,
     "metadata": {},
     "output_type": "execute_result"
    }
   ],
   "source": [
    "tree_dict['1_1'].keys()"
   ]
  },
  {
   "cell_type": "code",
   "execution_count": 98,
   "metadata": {},
   "outputs": [
    {
     "data": {
      "text/html": [
       "<div>\n",
       "<style scoped>\n",
       "    .dataframe tbody tr th:only-of-type {\n",
       "        vertical-align: middle;\n",
       "    }\n",
       "\n",
       "    .dataframe tbody tr th {\n",
       "        vertical-align: top;\n",
       "    }\n",
       "\n",
       "    .dataframe thead th {\n",
       "        text-align: right;\n",
       "    }\n",
       "</style>\n",
       "<table border=\"1\" class=\"dataframe\">\n",
       "  <thead>\n",
       "    <tr style=\"text-align: right;\">\n",
       "      <th></th>\n",
       "      <th>Date</th>\n",
       "      <th>nw_black_friday</th>\n",
       "      <th>nw_new_year</th>\n",
       "      <th>nw_xmas_1st_week</th>\n",
       "      <th>nw_xmas_2nd_week</th>\n",
       "      <th>nw_xmas_3rd_week</th>\n",
       "      <th>nw_xmas_4th_week</th>\n",
       "      <th>days_2_xmas</th>\n",
       "      <th>Fuel_Price</th>\n",
       "      <th>CPI</th>\n",
       "      <th>Unemployment</th>\n",
       "      <th>IsHoliday</th>\n",
       "      <th>Temperature_C</th>\n",
       "      <th>Size</th>\n",
       "      <th>type_A</th>\n",
       "      <th>type_B</th>\n",
       "      <th>type_C</th>\n",
       "      <th>Weekly_Sales</th>\n",
       "    </tr>\n",
       "  </thead>\n",
       "  <tbody>\n",
       "    <tr>\n",
       "      <th>92</th>\n",
       "      <td>2011-11-11</td>\n",
       "      <td>0</td>\n",
       "      <td>0</td>\n",
       "      <td>0</td>\n",
       "      <td>0</td>\n",
       "      <td>0</td>\n",
       "      <td>0</td>\n",
       "      <td>44</td>\n",
       "      <td>3.297</td>\n",
       "      <td>217.998085</td>\n",
       "      <td>7.866</td>\n",
       "      <td>0</td>\n",
       "      <td>15.06</td>\n",
       "      <td>151315</td>\n",
       "      <td>1</td>\n",
       "      <td>0</td>\n",
       "      <td>0</td>\n",
       "      <td>19050.66</td>\n",
       "    </tr>\n",
       "    <tr>\n",
       "      <th>93</th>\n",
       "      <td>2011-11-18</td>\n",
       "      <td>1</td>\n",
       "      <td>0</td>\n",
       "      <td>0</td>\n",
       "      <td>0</td>\n",
       "      <td>0</td>\n",
       "      <td>0</td>\n",
       "      <td>37</td>\n",
       "      <td>3.308</td>\n",
       "      <td>218.220509</td>\n",
       "      <td>7.866</td>\n",
       "      <td>0</td>\n",
       "      <td>16.81</td>\n",
       "      <td>151315</td>\n",
       "      <td>1</td>\n",
       "      <td>0</td>\n",
       "      <td>0</td>\n",
       "      <td>20911.25</td>\n",
       "    </tr>\n",
       "    <tr>\n",
       "      <th>94</th>\n",
       "      <td>2011-11-25</td>\n",
       "      <td>0</td>\n",
       "      <td>0</td>\n",
       "      <td>1</td>\n",
       "      <td>0</td>\n",
       "      <td>0</td>\n",
       "      <td>0</td>\n",
       "      <td>30</td>\n",
       "      <td>3.236</td>\n",
       "      <td>218.467621</td>\n",
       "      <td>7.866</td>\n",
       "      <td>1</td>\n",
       "      <td>15.63</td>\n",
       "      <td>151315</td>\n",
       "      <td>1</td>\n",
       "      <td>0</td>\n",
       "      <td>0</td>\n",
       "      <td>25293.49</td>\n",
       "    </tr>\n",
       "    <tr>\n",
       "      <th>95</th>\n",
       "      <td>2011-12-02</td>\n",
       "      <td>0</td>\n",
       "      <td>0</td>\n",
       "      <td>0</td>\n",
       "      <td>1</td>\n",
       "      <td>0</td>\n",
       "      <td>0</td>\n",
       "      <td>23</td>\n",
       "      <td>3.172</td>\n",
       "      <td>218.714733</td>\n",
       "      <td>7.866</td>\n",
       "      <td>0</td>\n",
       "      <td>9.39</td>\n",
       "      <td>151315</td>\n",
       "      <td>1</td>\n",
       "      <td>0</td>\n",
       "      <td>0</td>\n",
       "      <td>33305.92</td>\n",
       "    </tr>\n",
       "    <tr>\n",
       "      <th>96</th>\n",
       "      <td>2011-12-09</td>\n",
       "      <td>0</td>\n",
       "      <td>0</td>\n",
       "      <td>0</td>\n",
       "      <td>0</td>\n",
       "      <td>1</td>\n",
       "      <td>0</td>\n",
       "      <td>16</td>\n",
       "      <td>3.158</td>\n",
       "      <td>218.961846</td>\n",
       "      <td>7.866</td>\n",
       "      <td>0</td>\n",
       "      <td>6.63</td>\n",
       "      <td>151315</td>\n",
       "      <td>1</td>\n",
       "      <td>0</td>\n",
       "      <td>0</td>\n",
       "      <td>45773.03</td>\n",
       "    </tr>\n",
       "  </tbody>\n",
       "</table>\n",
       "</div>"
      ],
      "text/plain": [
       "         Date  nw_black_friday  nw_new_year  nw_xmas_1st_week  \\\n",
       "92 2011-11-11                0            0                 0   \n",
       "93 2011-11-18                1            0                 0   \n",
       "94 2011-11-25                0            0                 1   \n",
       "95 2011-12-02                0            0                 0   \n",
       "96 2011-12-09                0            0                 0   \n",
       "\n",
       "    nw_xmas_2nd_week  nw_xmas_3rd_week  nw_xmas_4th_week  days_2_xmas  \\\n",
       "92                 0                 0                 0           44   \n",
       "93                 0                 0                 0           37   \n",
       "94                 0                 0                 0           30   \n",
       "95                 1                 0                 0           23   \n",
       "96                 0                 1                 0           16   \n",
       "\n",
       "    Fuel_Price         CPI  Unemployment  IsHoliday  Temperature_C    Size  \\\n",
       "92       3.297  217.998085         7.866          0          15.06  151315   \n",
       "93       3.308  218.220509         7.866          0          16.81  151315   \n",
       "94       3.236  218.467621         7.866          1          15.63  151315   \n",
       "95       3.172  218.714733         7.866          0           9.39  151315   \n",
       "96       3.158  218.961846         7.866          0           6.63  151315   \n",
       "\n",
       "    type_A  type_B  type_C  Weekly_Sales  \n",
       "92       1       0       0      19050.66  \n",
       "93       1       0       0      20911.25  \n",
       "94       1       0       0      25293.49  \n",
       "95       1       0       0      33305.92  \n",
       "96       1       0       0      45773.03  "
      ]
     },
     "execution_count": 98,
     "metadata": {},
     "output_type": "execute_result"
    }
   ],
   "source": [
    "tree_dict['1_1']['train_test_df'].tail()"
   ]
  },
  {
   "cell_type": "markdown",
   "metadata": {},
   "source": [
    "#### Train-Test-Split"
   ]
  },
  {
   "cell_type": "code",
   "execution_count": 99,
   "metadata": {},
   "outputs": [],
   "source": [
    "for store_dept in tree_dict.keys():\n",
    "    X = tree_dict[store_dept]['train_test_df'].iloc[:,:-1]\n",
    "    y = tree_dict[store_dept]['train_test_df'].iloc[:,-1]\n",
    "    X_train, X_test, y_train, y_test = train_test_split(X, y, train_size=0.7, test_size=0.3, random_state=1,shuffle=False)\n",
    "    X_scaler, y_scaler = get_X_y_scalers(tree_dict[store_dept]['train_test_df'])\n",
    "    X_train_np, foo = scale_data(X_train.drop(columns='Date').values, X_scaler)\n",
    "    y_train_np, foo = scale_data(y_train.values.reshape(-1, 1), y_scaler)\n",
    "    X_test_np, foo = scale_data(X_test.drop(columns='Date').values, X_scaler)\n",
    "    y_test_np, foo = scale_data(y_test.values.reshape(-1, 1), y_scaler)\n",
    "    foo, X_y_scaler = scale_data(tree_dict[store_dept]['train_test_df'].drop(columns='Date').values)\n",
    "    tree_dict[store_dept]['X_train'] = X_train_np\n",
    "    tree_dict[store_dept]['y_train'] = y_train_np\n",
    "    tree_dict[store_dept]['X_test'] = X_test_np\n",
    "    tree_dict[store_dept]['X_test_with_dates'] = X_test\n",
    "    tree_dict[store_dept]['y_test'] = y_test_np\n",
    "    tree_dict[store_dept]['X_scaler'] = X_scaler\n",
    "    tree_dict[store_dept]['y_scaler'] = y_scaler\n",
    "    tree_dict[store_dept]['X_y_scaler'] = X_y_scaler"
   ]
  },
  {
   "cell_type": "code",
   "execution_count": 100,
   "metadata": {},
   "outputs": [
    {
     "data": {
      "text/plain": [
       "dict_keys(['val_data_df', 'train_test_df', 'X_train', 'y_train', 'X_test', 'X_test_with_dates', 'y_test', 'X_scaler', 'y_scaler', 'X_y_scaler'])"
      ]
     },
     "execution_count": 100,
     "metadata": {},
     "output_type": "execute_result"
    }
   ],
   "source": [
    "tree_dict['1_1'].keys()"
   ]
  },
  {
   "cell_type": "markdown",
   "metadata": {},
   "source": [
    "#### Validation to np"
   ]
  },
  {
   "cell_type": "code",
   "execution_count": 101,
   "metadata": {},
   "outputs": [],
   "source": [
    "for store_dept in tree_dict.keys():\n",
    "    tmp = restructure_df_for_target_variable(pd.DataFrame(tree_dict[store_dept]['val_data_df']).transpose()).drop(columns='Date')\n",
    "    tmp_np, foo = scale_data(tmp.values, X_y_scaler)\n",
    "    tree_dict[store_dept]['X_val'] = tmp_np[:,:-1]\n",
    "    tree_dict[store_dept]['y_val'] = tmp_np[:,-1]"
   ]
  },
  {
   "cell_type": "code",
   "execution_count": 102,
   "metadata": {},
   "outputs": [
    {
     "data": {
      "text/plain": [
       "dict_keys(['val_data_df', 'train_test_df', 'X_train', 'y_train', 'X_test', 'X_test_with_dates', 'y_test', 'X_scaler', 'y_scaler', 'X_y_scaler', 'X_val', 'y_val'])"
      ]
     },
     "execution_count": 102,
     "metadata": {},
     "output_type": "execute_result"
    }
   ],
   "source": [
    "tree_dict['1_1'].keys()"
   ]
  },
  {
   "cell_type": "markdown",
   "metadata": {},
   "source": [
    "#### Set prediction goal"
   ]
  },
  {
   "cell_type": "code",
   "execution_count": 103,
   "metadata": {},
   "outputs": [],
   "source": [
    "for store_dept in tree_dict.keys():\n",
    "    tree_dict[store_dept]['prediction_goal'] = tree_dict[store_dept]['val_data_df'].Weekly_Sales"
   ]
  },
  {
   "cell_type": "code",
   "execution_count": 104,
   "metadata": {},
   "outputs": [
    {
     "data": {
      "text/plain": [
       "dict_keys(['val_data_df', 'train_test_df', 'X_train', 'y_train', 'X_test', 'X_test_with_dates', 'y_test', 'X_scaler', 'y_scaler', 'X_y_scaler', 'X_val', 'y_val', 'prediction_goal'])"
      ]
     },
     "execution_count": 104,
     "metadata": {},
     "output_type": "execute_result"
    }
   ],
   "source": [
    "tree_dict['1_1'].keys()"
   ]
  },
  {
   "cell_type": "code",
   "execution_count": 105,
   "metadata": {},
   "outputs": [
    {
     "data": {
      "text/plain": [
       "46788.75"
      ]
     },
     "execution_count": 105,
     "metadata": {},
     "output_type": "execute_result"
    }
   ],
   "source": [
    "tree_dict['1_1']['prediction_goal']"
   ]
  },
  {
   "cell_type": "code",
   "execution_count": 106,
   "metadata": {
    "scrolled": true
   },
   "outputs": [
    {
     "data": {
      "text/plain": [
       "array([46788.75])"
      ]
     },
     "execution_count": 106,
     "metadata": {},
     "output_type": "execute_result"
    }
   ],
   "source": [
    "tree_dict['1_1']['y_scaler'].inverse_transform(tree_dict['1_1']['y_val'])"
   ]
  },
  {
   "cell_type": "markdown",
   "metadata": {},
   "source": [
    "## MODELING: Tree Approach"
   ]
  },
  {
   "cell_type": "markdown",
   "metadata": {},
   "source": [
    "Im diesem Abschnitt wird GradientBoosting Regression verwendet, um ein Modell zu trainieren."
   ]
  },
  {
   "cell_type": "markdown",
   "metadata": {},
   "source": [
    "### Gradient Boosting Regression"
   ]
  },
  {
   "cell_type": "code",
   "execution_count": null,
   "metadata": {
    "scrolled": true
   },
   "outputs": [],
   "source": [
    "## .ravel() -> transforming column-vector in 1D-Array\n",
    "gb_regressor = GradientBoostingRegressor(n_estimators=400, random_state=1)\n",
    "gb_regressor.fit(tree_dict['1_1']['X_train'], tree_dict['1_1']['y_train'].ravel())\n",
    "print(gb_regressor)"
   ]
  },
  {
   "cell_type": "code",
   "execution_count": null,
   "metadata": {},
   "outputs": [],
   "source": [
    "tree_dict['1_1']['y_pred'] = gb_regressor.predict(tree_dict['1_1']['X_test'])"
   ]
  },
  {
   "cell_type": "markdown",
   "metadata": {},
   "source": [
    "### Evaluation der Modelle"
   ]
  },
  {
   "cell_type": "markdown",
   "metadata": {},
   "source": [
    "#### MAE"
   ]
  },
  {
   "cell_type": "code",
   "execution_count": null,
   "metadata": {},
   "outputs": [],
   "source": [
    "gb_mae = mean_absolute_error(tree_dict['1_1']['y_test'],tree_dict['1_1']['y_pred'])\n",
    "tree_dict['1_1']['y_scaler'].inverse_transform(np.array([gb_mae]))"
   ]
  },
  {
   "cell_type": "markdown",
   "metadata": {},
   "source": [
    "#### Feature Importance"
   ]
  },
  {
   "cell_type": "code",
   "execution_count": null,
   "metadata": {
    "scrolled": false
   },
   "outputs": [],
   "source": [
    "df_feat_imp = pd.DataFrame(gb_regressor.feature_importances_).transpose()\n",
    "df_feat_imp.columns = tree_dict['1_1']['train_test_df'].columns[1:-1]\n",
    "df_feat_imp.transpose()\n",
    "df_feat_imp.transpose().sort_values(0,ascending=False).plot(kind='bar',figsize=(15,5),rot=45,legend=False)\n",
    "plt.show()"
   ]
  },
  {
   "cell_type": "markdown",
   "metadata": {},
   "source": [
    "#### Gegenüberstellung der Vorhersage und der Testdaten"
   ]
  },
  {
   "cell_type": "code",
   "execution_count": null,
   "metadata": {},
   "outputs": [],
   "source": [
    "test_dates = tree_dict['1_1']['X_test_with_dates']['Date'].values\n",
    "plot_y_pred = tree_dict['1_1']['y_scaler'].inverse_transform(tree_dict['1_1']['y_pred'])\n",
    "plot_y_test = tree_dict['1_1']['y_scaler'].inverse_transform(tree_dict['1_1']['y_test'].ravel())\n",
    "\n",
    "plot_df = pd.DataFrame([test_dates,plot_y_pred,plot_y_test]).transpose().rename(columns={0:'Date',1:'pred_nw',2:'test_nw'})\n",
    "plot_df.Date = pd.to_datetime(plot_df.Date)\n",
    "plot_df.sort_values('Date').plot(x='Date',kind='bar',figsize=(15,6))\n",
    "plt.show()"
   ]
  },
  {
   "cell_type": "markdown",
   "metadata": {},
   "source": [
    "**Achtung!:** Die Sales Werte bezeichnen den Sales für die kommende Woche, ausgehend von dem angezeigten Datum!"
   ]
  },
  {
   "cell_type": "markdown",
   "metadata": {},
   "source": [
    "An dieser Grafik lässt sich ablesen, dass unsere prediction die Steigungen und Gefälle zwar berücksichtigt, aber leider der Wert nicht mit den Testdaten übereinstimmt.  \n",
    "Um die Weihnachtszeit nähert sich dies allerdings ziemlich nah an, weshalb es eventuell möglich ist unser Ziel, die Weihnachtsverkäufe 2011, mit einem guten Ergebnis vorherzusagen."
   ]
  },
  {
   "cell_type": "markdown",
   "metadata": {},
   "source": [
    "#### Prediction with Validation Data"
   ]
  },
  {
   "cell_type": "code",
   "execution_count": null,
   "metadata": {},
   "outputs": [],
   "source": [
    "tree_dict['1_1']['y_val_pred'] = gb_regressor.predict(tree_dict['1_1']['X_val'])"
   ]
  },
  {
   "cell_type": "code",
   "execution_count": null,
   "metadata": {
    "scrolled": true
   },
   "outputs": [],
   "source": [
    "gb_val_pred = tree_dict['1_1']['y_scaler'].inverse_transform(tree_dict['1_1']['y_val_pred'])\n",
    "print(gb_val_pred)"
   ]
  },
  {
   "cell_type": "markdown",
   "metadata": {},
   "source": [
    "Die prediction für die Weihnachstzeit 2011 liefert ```{{gb_val_pred[0]}}``` als Ergebnis. Gegenüber unseres prediction goals in Höhe von ```{{tree_dict['1_1']['y_scaler'].inverse_transform(tree_dict['1_1']['y_val'])[0]}}``` ist dies leider kein gutes Ergebnis.  \n",
    "Ebenfalls getestet haben wir diese Vorhersage mit einem ```DecisionTreeRegressor``` und einem ```RandomForestRegressor```, welche jedoch beide schelchtere Ergebnisse lieferten."
   ]
  },
  {
   "cell_type": "markdown",
   "metadata": {},
   "source": [
    "## EVALUATION: Gegenüberstellung NN und Tree"
   ]
  },
  {
   "cell_type": "code",
   "execution_count": null,
   "metadata": {},
   "outputs": [],
   "source": [
    "mlp_pred = multi_dict['1_1']['2MLP']['prediction']\n",
    "gru_pred = multi_dict['1_1']['GRU']['prediction']\n",
    "y_val = tree_dict['1_1']['y_scaler'].inverse_transform(tree_dict['1_1']['y_val'])\n",
    "mpl_mae = multi_dict['1_1']['y_scaler'].inverse_transform(np.array([np.min(multi_dict['1_1']['2MLP']['history'].history['val_loss'])]))\n",
    "gru_mae = multi_dict['1_1']['y_scaler'].inverse_transform(np.array([np.min(multi_dict['1_1']['GRU']['history'].history['val_loss'])]))\n",
    "gb_tree_mae = tree_dict['1_1']['y_scaler'].inverse_transform(np.array([gb_mae]))"
   ]
  },
  {
   "cell_type": "code",
   "execution_count": null,
   "metadata": {},
   "outputs": [],
   "source": [
    "eval_df = pd.DataFrame([[mlp_pred,gru_pred,gb_val_pred[0],y_val[0]]])\n",
    "eval_df = eval_df.append([[mpl_mae[0],gru_mae[0],gb_tree_mae[0]]]).reset_index(drop=True)\n",
    "eval_df = eval_df.rename(index={0:'prediction',1:'MAE'},columns={0:'mlp_pred',1:'gru_pred',2:'gb_tree_pred',3:'prediction_goal'})"
   ]
  },
  {
   "cell_type": "code",
   "execution_count": null,
   "metadata": {},
   "outputs": [],
   "source": [
    "eval_df.plot(kind='bar',rot=0, figsize=(15,5))\n",
    "plt.show()"
   ]
  },
  {
   "cell_type": "markdown",
   "metadata": {},
   "source": [
    "## DEPLOYMENT / Lessons Learned"
   ]
  },
  {
   "cell_type": "markdown",
   "metadata": {},
   "source": [
    "Im Folgenden haben wir uns Gedanken gemacht, welche Schritte wir sinnvoll fanden, und was wir beim nächsten Mal anders machen würden."
   ]
  },
  {
   "cell_type": "markdown",
   "metadata": {},
   "source": [
    "### Positiv"
   ]
  },
  {
   "cell_type": "markdown",
   "metadata": {},
   "source": [
    "+ Durch den hohen Fokus auf die Phasen Data Understanding und Data Preparation haben wir gefühlt einen sehr guten Überblick über die Attribute des Datenbestandes und die inneren Zusammenhänge bekommen.\n",
    "+ Das standardisierte Vorgehen mit dem Vorhalten aller In- und Outputs über ein geschachteltes Dictionary hat uns sehr gut geholfen, den Überblick zu wahren."
   ]
  },
  {
   "cell_type": "markdown",
   "metadata": {},
   "source": [
    "### Negativ"
   ]
  },
  {
   "cell_type": "markdown",
   "metadata": {},
   "source": [
    "+ Die schlechten Ergebnisse bei der Modellierung der neuronalen Netze und unsere Erkenntnis, dass dies wohl an der Datenmenge und den wenigen vergangenen Weihnachten liegt, hat eine fatalistische Grundstimmung befördert.\n",
    "    + Dies könnte vor allem daran liegen, dass das erste Modell durch reinen Zufall in excellentes Ergebnis lieferte.\n",
    "+ Zusätzlich verursachte der Fokus auf Data Preparation, dass wir sehr wenig Zeit hatten, um uns nochmals mit frischem Kopf auf die Modellierung über Regressoren zu stürzen.\n",
    "+ Beide Umstände führten dazu, dass wir wenig besonnen manuelle Vergleiche von Ergebnissen mit verschiedenen Parametern anstellten, anstatt ein strukturiertes Vorgehen mit ```Pipelines``` und ```Grid-/Randomsearch``` zu wählen.\n",
    "\n",
    "Um diese __Probleme in der Zukunft zu vermeiden__, schlagen wir folgendes Vorgehen vor:\n",
    "+ Schnelle Exploration zu Beginn des Projekts\n",
    "    + Die \"tatsächliche\" Größe des Datensatzes wäre uns so bewusst geworden und wir hätten die kommenden Probleme erwarten können.\n",
    "    + iteratives Vorgehen statt alles brav nach Lehrbuch / CRISP-VGM\n",
    "+ Dabei bereits automatisierte Evaluation\n",
    "    + Die Nutzug von Pipelines und automatisierten Hyperparameter-Tuning-Verfahren hätte uns schnell die Wechselhaftigkeit der Ergebnisse gezeigt.\n",
    "    + Dabei sollten neben den Ergebnissen auch Visualisierungen beispielsweise der ```learning_curve()``` genutzt werden.\n",
    "+ Im Anschluss feste Meilensteine mit Deadlines für die CRISP-Phasen\n",
    "    + Dies würde helfen, begeisterte Optimierungen in den ersten Phasen zu Lasten der späteren Phasen durchzuführen."
   ]
  },
  {
   "cell_type": "markdown",
   "metadata": {},
   "source": [
    "### Nächste Schritte"
   ]
  },
  {
   "cell_type": "markdown",
   "metadata": {},
   "source": [
    "+ Dinge, die wir noch spannend gefunden hätten und gerne ermittelt hätten:\n",
    "    + Ist eine \"Deanonymisierung\" der einzelnen Stores (beispielsweise über ihre Wetterdaten) im Bezug auf die ca 3000 Counties in den USA möglich? Ein erstes Herangehen wäre die \"manuelle\" Berechnung der euklidischen Distanz zwischen jedem Store und jedem County. Ein zweiter Schritt wäre die Nutzung von Clustering der Stores in durch die Counties vorgegebenen Cluster.\n",
    "    + Vergleich über die Store-Department-Kombinationen hinweg un zu prüfen, ob es Kombinationen gibt, die signifikant bessere Ergebnisse liefern"
   ]
  }
 ],
 "metadata": {
  "kernelspec": {
   "display_name": "Python 3",
   "language": "python",
   "name": "python3"
  },
  "language_info": {
   "codemirror_mode": {
    "name": "ipython",
    "version": 3
   },
   "file_extension": ".py",
   "mimetype": "text/x-python",
   "name": "python",
   "nbconvert_exporter": "python",
   "pygments_lexer": "ipython3",
   "version": "3.6.4"
  },
  "toc": {
   "base_numbering": 1,
   "nav_menu": {},
   "number_sections": true,
   "sideBar": true,
   "skip_h1_title": true,
   "title_cell": "",
   "title_sidebar": "Contents",
   "toc_cell": false,
   "toc_position": {
    "height": "calc(100% - 180px)",
    "left": "10px",
    "top": "150px",
    "width": "348px"
   },
   "toc_section_display": true,
   "toc_window_display": true
  }
 },
 "nbformat": 4,
 "nbformat_minor": 2
}
